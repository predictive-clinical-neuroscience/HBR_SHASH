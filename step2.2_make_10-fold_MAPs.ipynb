{
 "cells": [
  {
   "cell_type": "code",
   "execution_count": 3,
   "metadata": {},
   "outputs": [],
   "source": [
    "import os\n",
    "import pickle\n",
    "import numpy as np\n",
    "import pandas as pd\n",
    "from matplotlib import pyplot as plt\n",
    "from sklearn.model_selection import train_test_split\n",
    "import pcntoolkit as ptk\n",
    "from itertools import product\n",
    "from functools import reduce\n",
    "from pcntoolkit.model.SHASH import SHASHb, SHASH, SHASHo\n",
    "from pcntoolkit.util.utils import scaler\n",
    "from scipy.stats import gaussian_kde\n",
    "import pymc3 as pm\n",
    "import scipy.special as spp\n",
    "import arviz as av\n",
    "from scipy.stats import skew, kurtosis\n",
    "import seaborn as sns\n",
    "import time\n",
    "sns.set(style='darkgrid')"
   ]
  },
  {
   "cell_type": "code",
   "execution_count": 4,
   "metadata": {},
   "outputs": [],
   "source": [
    "projdir = '/project_cephfs/3022017.02/projects/stijdboe/make_results/10_folds_results/'\n",
    "data_dir = '/project_cephfs/3022017.02/projects/stijdboe/Data'\n",
    "folds_dir = os.path.join(data_dir,'10_folds_sexcov')"
   ]
  },
  {
   "cell_type": "code",
   "execution_count": 5,
   "metadata": {},
   "outputs": [
    {
     "name": "stdout",
     "output_type": "stream",
     "text": [
      "slope_mu <class 'pcntoolkit.model.hbr.FixedParameterization'>\n",
      "slope_mu\n",
      "dist='normal'\n",
      "params=(0.0, 3.0)\n",
      "intercept_mu <class 'pcntoolkit.model.hbr.NonCentralRandomFixedParameterization'>\n",
      "mu_intercept_mu\n",
      "dist='normal'\n",
      "params=(0.0, 1.0)\n",
      "sigma_intercept_mu\n",
      "dist='hcauchy'\n",
      "params=(1.0,)\n",
      "offset_intercept_mu\n",
      "dist='normal'\n",
      "params=(0.0, 1.0)\n",
      "mu <class 'pcntoolkit.model.hbr.LinearParameterization'>\n",
      "slope_sigma <class 'pcntoolkit.model.hbr.FixedParameterization'>\n",
      "slope_sigma\n",
      "dist='normal'\n",
      "params=(0.0, 1.0)\n",
      "intercept_sigma <class 'pcntoolkit.model.hbr.FixedParameterization'>\n",
      "intercept_sigma\n",
      "dist='normal'\n",
      "params=(1.0, 1.0)\n",
      "sigma <class 'pcntoolkit.model.hbr.LinearParameterization'>\n",
      "epsilon <class 'pcntoolkit.model.hbr.FixedParameterization'>\n",
      "epsilon\n",
      "dist='normal'\n",
      "params=(0.0, 1.0)\n",
      "delta <class 'pcntoolkit.model.hbr.FixedParameterization'>\n",
      "delta\n",
      "dist='normal'\n",
      "params=(1.5, 2.0)\n"
     ]
    },
    {
     "data": {
      "text/html": [
       "\n",
       "<style>\n",
       "    /* Turns off some styling */\n",
       "    progress {\n",
       "        /* gets rid of default border in Firefox and Opera. */\n",
       "        border: none;\n",
       "        /* Needs to be in here for Safari polyfill so background images work as expected. */\n",
       "        background-size: auto;\n",
       "    }\n",
       "    .progress-bar-interrupted, .progress-bar-interrupted::-webkit-progress-bar {\n",
       "        background: #F44336;\n",
       "    }\n",
       "</style>\n"
      ],
      "text/plain": [
       "<IPython.core.display.HTML object>"
      ]
     },
     "metadata": {},
     "output_type": "display_data"
    },
    {
     "data": {
      "text/html": [
       "\n",
       "    <div>\n",
       "      <progress value='805' class='' max='805' style='width:300px; height:20px; vertical-align: middle;'></progress>\n",
       "      100.00% [805/805 01:26<00:00 logp = -60,750, ||grad|| = 22.704]\n",
       "    </div>\n",
       "    "
      ],
      "text/plain": [
       "<IPython.core.display.HTML object>"
      ]
     },
     "metadata": {},
     "output_type": "display_data"
    },
    {
     "name": "stdout",
     "output_type": "stream",
     "text": [
      "\n",
      "Found MAP in  194.81219029426575\n",
      "slope_mu <class 'pcntoolkit.model.hbr.FixedParameterization'>\n",
      "slope_mu\n",
      "dist='normal'\n",
      "params=(0.0, 3.0)\n",
      "intercept_mu <class 'pcntoolkit.model.hbr.NonCentralRandomFixedParameterization'>\n",
      "mu_intercept_mu\n",
      "dist='normal'\n",
      "params=(0.0, 1.0)\n",
      "sigma_intercept_mu\n",
      "dist='hcauchy'\n",
      "params=(1.0,)\n",
      "offset_intercept_mu\n",
      "dist='normal'\n",
      "params=(0.0, 1.0)\n",
      "mu <class 'pcntoolkit.model.hbr.LinearParameterization'>\n",
      "slope_sigma <class 'pcntoolkit.model.hbr.FixedParameterization'>\n",
      "slope_sigma\n",
      "dist='normal'\n",
      "params=(0.0, 1.0)\n",
      "intercept_sigma <class 'pcntoolkit.model.hbr.FixedParameterization'>\n",
      "intercept_sigma\n",
      "dist='normal'\n",
      "params=(1.0, 1.0)\n",
      "sigma <class 'pcntoolkit.model.hbr.LinearParameterization'>\n",
      "slope_epsilon <class 'pcntoolkit.model.hbr.FixedParameterization'>\n",
      "slope_epsilon\n",
      "dist='normal'\n",
      "params=(0.0, 1.0)\n",
      "intercept_epsilon <class 'pcntoolkit.model.hbr.FixedParameterization'>\n",
      "intercept_epsilon\n",
      "dist='normal'\n",
      "params=(0.0, 1)\n",
      "epsilon <class 'pcntoolkit.model.hbr.LinearParameterization'>\n",
      "slope_delta <class 'pcntoolkit.model.hbr.FixedParameterization'>\n",
      "slope_delta\n",
      "dist='normal'\n",
      "params=(0.0, 1)\n",
      "intercept_delta <class 'pcntoolkit.model.hbr.FixedParameterization'>\n",
      "intercept_delta\n",
      "dist='normal'\n",
      "params=(2.0, 1)\n",
      "delta <class 'pcntoolkit.model.hbr.LinearParameterization'>\n"
     ]
    },
    {
     "data": {
      "text/html": [
       "\n",
       "<style>\n",
       "    /* Turns off some styling */\n",
       "    progress {\n",
       "        /* gets rid of default border in Firefox and Opera. */\n",
       "        border: none;\n",
       "        /* Needs to be in here for Safari polyfill so background images work as expected. */\n",
       "        background-size: auto;\n",
       "    }\n",
       "    .progress-bar-interrupted, .progress-bar-interrupted::-webkit-progress-bar {\n",
       "        background: #F44336;\n",
       "    }\n",
       "</style>\n"
      ],
      "text/plain": [
       "<IPython.core.display.HTML object>"
      ]
     },
     "metadata": {},
     "output_type": "display_data"
    },
    {
     "data": {
      "text/html": [
       "\n",
       "    <div>\n",
       "      <progress value='740' class='' max='740' style='width:300px; height:20px; vertical-align: middle;'></progress>\n",
       "      100.00% [740/740 02:15<00:00 logp = -60,706, ||grad|| = 6.8314]\n",
       "    </div>\n",
       "    "
      ],
      "text/plain": [
       "<IPython.core.display.HTML object>"
      ]
     },
     "metadata": {},
     "output_type": "display_data"
    },
    {
     "name": "stdout",
     "output_type": "stream",
     "text": [
      "\n",
      "Found MAP in  304.20377683639526\n",
      "slope_mu <class 'pcntoolkit.model.hbr.FixedParameterization'>\n",
      "slope_mu\n",
      "dist='normal'\n",
      "params=(0.0, 1.0)\n",
      "intercept_mu <class 'pcntoolkit.model.hbr.NonCentralRandomFixedParameterization'>\n",
      "mu_intercept_mu\n",
      "dist='normal'\n",
      "params=(0.0, 1.0)\n",
      "sigma_intercept_mu\n",
      "dist='hcauchy'\n",
      "params=(1.0,)\n",
      "offset_intercept_mu\n",
      "dist='normal'\n",
      "params=(0.0, 1.0)\n",
      "mu <class 'pcntoolkit.model.hbr.LinearParameterization'>\n",
      "slope_sigma <class 'pcntoolkit.model.hbr.FixedParameterization'>\n",
      "slope_sigma\n",
      "dist='normal'\n",
      "params=(0.0, 1.0)\n",
      "intercept_sigma <class 'pcntoolkit.model.hbr.FixedParameterization'>\n",
      "intercept_sigma\n",
      "dist='normal'\n",
      "params=(0.0, 1.0)\n",
      "sigma <class 'pcntoolkit.model.hbr.LinearParameterization'>\n"
     ]
    },
    {
     "data": {
      "text/html": [
       "\n",
       "<style>\n",
       "    /* Turns off some styling */\n",
       "    progress {\n",
       "        /* gets rid of default border in Firefox and Opera. */\n",
       "        border: none;\n",
       "        /* Needs to be in here for Safari polyfill so background images work as expected. */\n",
       "        background-size: auto;\n",
       "    }\n",
       "    .progress-bar-interrupted, .progress-bar-interrupted::-webkit-progress-bar {\n",
       "        background: #F44336;\n",
       "    }\n",
       "</style>\n"
      ],
      "text/plain": [
       "<IPython.core.display.HTML object>"
      ]
     },
     "metadata": {},
     "output_type": "display_data"
    },
    {
     "data": {
      "text/html": [
       "\n",
       "    <div>\n",
       "      <progress value='653' class='' max='653' style='width:300px; height:20px; vertical-align: middle;'></progress>\n",
       "      100.00% [653/653 00:38<00:00 logp = -64,594, ||grad|| = 4.5255]\n",
       "    </div>\n",
       "    "
      ],
      "text/plain": [
       "<IPython.core.display.HTML object>"
      ]
     },
     "metadata": {},
     "output_type": "display_data"
    },
    {
     "name": "stdout",
     "output_type": "stream",
     "text": [
      "\n",
      "Found MAP in  107.1949450969696\n",
      "slope_mu <class 'pcntoolkit.model.hbr.FixedParameterization'>\n",
      "slope_mu\n",
      "dist='normal'\n",
      "params=(0.0, 3.0)\n",
      "intercept_mu <class 'pcntoolkit.model.hbr.NonCentralRandomFixedParameterization'>\n",
      "mu_intercept_mu\n",
      "dist='normal'\n",
      "params=(0.0, 1.0)\n",
      "sigma_intercept_mu\n",
      "dist='hcauchy'\n",
      "params=(1.0,)\n",
      "offset_intercept_mu\n",
      "dist='normal'\n",
      "params=(0.0, 1.0)\n",
      "mu <class 'pcntoolkit.model.hbr.LinearParameterization'>\n",
      "slope_sigma <class 'pcntoolkit.model.hbr.FixedParameterization'>\n",
      "slope_sigma\n",
      "dist='normal'\n",
      "params=(0.0, 1.0)\n",
      "intercept_sigma <class 'pcntoolkit.model.hbr.FixedParameterization'>\n",
      "intercept_sigma\n",
      "dist='normal'\n",
      "params=(1.0, 1.0)\n",
      "sigma <class 'pcntoolkit.model.hbr.LinearParameterization'>\n",
      "epsilon <class 'pcntoolkit.model.hbr.FixedParameterization'>\n",
      "epsilon\n",
      "dist='normal'\n",
      "params=(0.0, 1.0)\n",
      "delta <class 'pcntoolkit.model.hbr.FixedParameterization'>\n",
      "delta\n",
      "dist='normal'\n",
      "params=(1.5, 2.0)\n"
     ]
    },
    {
     "data": {
      "text/html": [
       "\n",
       "<style>\n",
       "    /* Turns off some styling */\n",
       "    progress {\n",
       "        /* gets rid of default border in Firefox and Opera. */\n",
       "        border: none;\n",
       "        /* Needs to be in here for Safari polyfill so background images work as expected. */\n",
       "        background-size: auto;\n",
       "    }\n",
       "    .progress-bar-interrupted, .progress-bar-interrupted::-webkit-progress-bar {\n",
       "        background: #F44336;\n",
       "    }\n",
       "</style>\n"
      ],
      "text/plain": [
       "<IPython.core.display.HTML object>"
      ]
     },
     "metadata": {},
     "output_type": "display_data"
    },
    {
     "data": {
      "text/html": [
       "\n",
       "    <div>\n",
       "      <progress value='654' class='' max='654' style='width:300px; height:20px; vertical-align: middle;'></progress>\n",
       "      100.00% [654/654 01:13<00:00 logp = -62,899, ||grad|| = 8.0065]\n",
       "    </div>\n",
       "    "
      ],
      "text/plain": [
       "<IPython.core.display.HTML object>"
      ]
     },
     "metadata": {},
     "output_type": "display_data"
    },
    {
     "name": "stdout",
     "output_type": "stream",
     "text": [
      "\n",
      "Found MAP in  161.78498148918152\n",
      "slope_mu <class 'pcntoolkit.model.hbr.FixedParameterization'>\n",
      "slope_mu\n",
      "dist='normal'\n",
      "params=(0.0, 3.0)\n",
      "intercept_mu <class 'pcntoolkit.model.hbr.NonCentralRandomFixedParameterization'>\n",
      "mu_intercept_mu\n",
      "dist='normal'\n",
      "params=(0.0, 1.0)\n",
      "sigma_intercept_mu\n",
      "dist='hcauchy'\n",
      "params=(1.0,)\n",
      "offset_intercept_mu\n",
      "dist='normal'\n",
      "params=(0.0, 1.0)\n",
      "mu <class 'pcntoolkit.model.hbr.LinearParameterization'>\n",
      "slope_sigma <class 'pcntoolkit.model.hbr.FixedParameterization'>\n",
      "slope_sigma\n",
      "dist='normal'\n",
      "params=(0.0, 1.0)\n",
      "intercept_sigma <class 'pcntoolkit.model.hbr.FixedParameterization'>\n",
      "intercept_sigma\n",
      "dist='normal'\n",
      "params=(1.0, 1.0)\n",
      "sigma <class 'pcntoolkit.model.hbr.LinearParameterization'>\n",
      "slope_epsilon <class 'pcntoolkit.model.hbr.FixedParameterization'>\n",
      "slope_epsilon\n",
      "dist='normal'\n",
      "params=(0.0, 1.0)\n",
      "intercept_epsilon <class 'pcntoolkit.model.hbr.FixedParameterization'>\n",
      "intercept_epsilon\n",
      "dist='normal'\n",
      "params=(0.0, 1)\n",
      "epsilon <class 'pcntoolkit.model.hbr.LinearParameterization'>\n",
      "slope_delta <class 'pcntoolkit.model.hbr.FixedParameterization'>\n",
      "slope_delta\n",
      "dist='normal'\n",
      "params=(0.0, 1)\n",
      "intercept_delta <class 'pcntoolkit.model.hbr.FixedParameterization'>\n",
      "intercept_delta\n",
      "dist='normal'\n",
      "params=(2.0, 1)\n",
      "delta <class 'pcntoolkit.model.hbr.LinearParameterization'>\n"
     ]
    },
    {
     "data": {
      "text/html": [
       "\n",
       "<style>\n",
       "    /* Turns off some styling */\n",
       "    progress {\n",
       "        /* gets rid of default border in Firefox and Opera. */\n",
       "        border: none;\n",
       "        /* Needs to be in here for Safari polyfill so background images work as expected. */\n",
       "        background-size: auto;\n",
       "    }\n",
       "    .progress-bar-interrupted, .progress-bar-interrupted::-webkit-progress-bar {\n",
       "        background: #F44336;\n",
       "    }\n",
       "</style>\n"
      ],
      "text/plain": [
       "<IPython.core.display.HTML object>"
      ]
     },
     "metadata": {},
     "output_type": "display_data"
    },
    {
     "data": {
      "text/html": [
       "\n",
       "    <div>\n",
       "      <progress value='1003' class='' max='1003' style='width:300px; height:20px; vertical-align: middle;'></progress>\n",
       "      100.00% [1003/1003 03:00<00:00 logp = -62,718, ||grad|| = 4.2376]\n",
       "    </div>\n",
       "    "
      ],
      "text/plain": [
       "<IPython.core.display.HTML object>"
      ]
     },
     "metadata": {},
     "output_type": "display_data"
    },
    {
     "name": "stdout",
     "output_type": "stream",
     "text": [
      "\n",
      "Found MAP in  338.5041301250458\n",
      "slope_mu <class 'pcntoolkit.model.hbr.FixedParameterization'>\n",
      "slope_mu\n",
      "dist='normal'\n",
      "params=(0.0, 1.0)\n",
      "intercept_mu <class 'pcntoolkit.model.hbr.NonCentralRandomFixedParameterization'>\n",
      "mu_intercept_mu\n",
      "dist='normal'\n",
      "params=(0.0, 1.0)\n",
      "sigma_intercept_mu\n",
      "dist='hcauchy'\n",
      "params=(1.0,)\n",
      "offset_intercept_mu\n",
      "dist='normal'\n",
      "params=(0.0, 1.0)\n",
      "mu <class 'pcntoolkit.model.hbr.LinearParameterization'>\n",
      "slope_sigma <class 'pcntoolkit.model.hbr.FixedParameterization'>\n",
      "slope_sigma\n",
      "dist='normal'\n",
      "params=(0.0, 1.0)\n",
      "intercept_sigma <class 'pcntoolkit.model.hbr.FixedParameterization'>\n",
      "intercept_sigma\n",
      "dist='normal'\n",
      "params=(0.0, 1.0)\n",
      "sigma <class 'pcntoolkit.model.hbr.LinearParameterization'>\n"
     ]
    },
    {
     "data": {
      "text/html": [
       "\n",
       "<style>\n",
       "    /* Turns off some styling */\n",
       "    progress {\n",
       "        /* gets rid of default border in Firefox and Opera. */\n",
       "        border: none;\n",
       "        /* Needs to be in here for Safari polyfill so background images work as expected. */\n",
       "        background-size: auto;\n",
       "    }\n",
       "    .progress-bar-interrupted, .progress-bar-interrupted::-webkit-progress-bar {\n",
       "        background: #F44336;\n",
       "    }\n",
       "</style>\n"
      ],
      "text/plain": [
       "<IPython.core.display.HTML object>"
      ]
     },
     "metadata": {},
     "output_type": "display_data"
    },
    {
     "data": {
      "text/html": [
       "\n",
       "    <div>\n",
       "      <progress value='509' class='' max='509' style='width:300px; height:20px; vertical-align: middle;'></progress>\n",
       "      100.00% [509/509 00:28<00:00 logp = -63,233, ||grad|| = 5.5428]\n",
       "    </div>\n",
       "    "
      ],
      "text/plain": [
       "<IPython.core.display.HTML object>"
      ]
     },
     "metadata": {},
     "output_type": "display_data"
    },
    {
     "name": "stdout",
     "output_type": "stream",
     "text": [
      "\n",
      "Found MAP in  94.38936591148376\n",
      "slope_mu <class 'pcntoolkit.model.hbr.FixedParameterization'>\n",
      "slope_mu\n",
      "dist='normal'\n",
      "params=(0.0, 3.0)\n",
      "intercept_mu <class 'pcntoolkit.model.hbr.NonCentralRandomFixedParameterization'>\n",
      "mu_intercept_mu\n",
      "dist='normal'\n",
      "params=(0.0, 1.0)\n",
      "sigma_intercept_mu\n",
      "dist='hcauchy'\n",
      "params=(1.0,)\n",
      "offset_intercept_mu\n",
      "dist='normal'\n",
      "params=(0.0, 1.0)\n",
      "mu <class 'pcntoolkit.model.hbr.LinearParameterization'>\n",
      "slope_sigma <class 'pcntoolkit.model.hbr.FixedParameterization'>\n",
      "slope_sigma\n",
      "dist='normal'\n",
      "params=(0.0, 1.0)\n",
      "intercept_sigma <class 'pcntoolkit.model.hbr.FixedParameterization'>\n",
      "intercept_sigma\n",
      "dist='normal'\n",
      "params=(1.0, 1.0)\n",
      "sigma <class 'pcntoolkit.model.hbr.LinearParameterization'>\n",
      "epsilon <class 'pcntoolkit.model.hbr.FixedParameterization'>\n",
      "epsilon\n",
      "dist='normal'\n",
      "params=(0.0, 1.0)\n",
      "delta <class 'pcntoolkit.model.hbr.FixedParameterization'>\n",
      "delta\n",
      "dist='normal'\n",
      "params=(1.5, 2.0)\n"
     ]
    },
    {
     "data": {
      "text/html": [
       "\n",
       "<style>\n",
       "    /* Turns off some styling */\n",
       "    progress {\n",
       "        /* gets rid of default border in Firefox and Opera. */\n",
       "        border: none;\n",
       "        /* Needs to be in here for Safari polyfill so background images work as expected. */\n",
       "        background-size: auto;\n",
       "    }\n",
       "    .progress-bar-interrupted, .progress-bar-interrupted::-webkit-progress-bar {\n",
       "        background: #F44336;\n",
       "    }\n",
       "</style>\n"
      ],
      "text/plain": [
       "<IPython.core.display.HTML object>"
      ]
     },
     "metadata": {},
     "output_type": "display_data"
    },
    {
     "data": {
      "text/html": [
       "\n",
       "    <div>\n",
       "      <progress value='1032' class='' max='1032' style='width:300px; height:20px; vertical-align: middle;'></progress>\n",
       "      100.00% [1032/1032 02:19<00:00 logp = -42,073, ||grad|| = 12.317]\n",
       "    </div>\n",
       "    "
      ],
      "text/plain": [
       "<IPython.core.display.HTML object>"
      ]
     },
     "metadata": {},
     "output_type": "display_data"
    },
    {
     "name": "stdout",
     "output_type": "stream",
     "text": [
      "\n",
      "Found MAP in  229.67215967178345\n",
      "slope_mu <class 'pcntoolkit.model.hbr.FixedParameterization'>\n",
      "slope_mu\n",
      "dist='normal'\n",
      "params=(0.0, 3.0)\n",
      "intercept_mu <class 'pcntoolkit.model.hbr.NonCentralRandomFixedParameterization'>\n",
      "mu_intercept_mu\n",
      "dist='normal'\n",
      "params=(0.0, 1.0)\n",
      "sigma_intercept_mu\n",
      "dist='hcauchy'\n",
      "params=(1.0,)\n",
      "offset_intercept_mu\n",
      "dist='normal'\n",
      "params=(0.0, 1.0)\n",
      "mu <class 'pcntoolkit.model.hbr.LinearParameterization'>\n",
      "slope_sigma <class 'pcntoolkit.model.hbr.FixedParameterization'>\n",
      "slope_sigma\n",
      "dist='normal'\n",
      "params=(0.0, 1.0)\n",
      "intercept_sigma <class 'pcntoolkit.model.hbr.FixedParameterization'>\n",
      "intercept_sigma\n",
      "dist='normal'\n",
      "params=(1.0, 1.0)\n",
      "sigma <class 'pcntoolkit.model.hbr.LinearParameterization'>\n",
      "slope_epsilon <class 'pcntoolkit.model.hbr.FixedParameterization'>\n",
      "slope_epsilon\n",
      "dist='normal'\n",
      "params=(0.0, 1.0)\n",
      "intercept_epsilon <class 'pcntoolkit.model.hbr.FixedParameterization'>\n",
      "intercept_epsilon\n",
      "dist='normal'\n",
      "params=(0.0, 1)\n",
      "epsilon <class 'pcntoolkit.model.hbr.LinearParameterization'>\n",
      "slope_delta <class 'pcntoolkit.model.hbr.FixedParameterization'>\n",
      "slope_delta\n",
      "dist='normal'\n",
      "params=(0.0, 1)\n",
      "intercept_delta <class 'pcntoolkit.model.hbr.FixedParameterization'>\n",
      "intercept_delta\n",
      "dist='normal'\n",
      "params=(2.0, 1)\n",
      "delta <class 'pcntoolkit.model.hbr.LinearParameterization'>\n"
     ]
    },
    {
     "data": {
      "text/html": [
       "\n",
       "<style>\n",
       "    /* Turns off some styling */\n",
       "    progress {\n",
       "        /* gets rid of default border in Firefox and Opera. */\n",
       "        border: none;\n",
       "        /* Needs to be in here for Safari polyfill so background images work as expected. */\n",
       "        background-size: auto;\n",
       "    }\n",
       "    .progress-bar-interrupted, .progress-bar-interrupted::-webkit-progress-bar {\n",
       "        background: #F44336;\n",
       "    }\n",
       "</style>\n"
      ],
      "text/plain": [
       "<IPython.core.display.HTML object>"
      ]
     },
     "metadata": {},
     "output_type": "display_data"
    },
    {
     "data": {
      "text/html": [
       "\n",
       "    <div>\n",
       "      <progress value='2310' class='' max='2310' style='width:300px; height:20px; vertical-align: middle;'></progress>\n",
       "      100.00% [2310/2310 08:08<00:00 logp = -41,730, ||grad|| = 12.097]\n",
       "    </div>\n",
       "    "
      ],
      "text/plain": [
       "<IPython.core.display.HTML object>"
      ]
     },
     "metadata": {},
     "output_type": "display_data"
    },
    {
     "name": "stdout",
     "output_type": "stream",
     "text": [
      "\n",
      "Found MAP in  643.165406703949\n",
      "slope_mu <class 'pcntoolkit.model.hbr.FixedParameterization'>\n",
      "slope_mu\n",
      "dist='normal'\n",
      "params=(0.0, 1.0)\n",
      "intercept_mu <class 'pcntoolkit.model.hbr.NonCentralRandomFixedParameterization'>\n",
      "mu_intercept_mu\n",
      "dist='normal'\n",
      "params=(0.0, 1.0)\n",
      "sigma_intercept_mu\n",
      "dist='hcauchy'\n",
      "params=(1.0,)\n",
      "offset_intercept_mu\n",
      "dist='normal'\n",
      "params=(0.0, 1.0)\n",
      "mu <class 'pcntoolkit.model.hbr.LinearParameterization'>\n",
      "slope_sigma <class 'pcntoolkit.model.hbr.FixedParameterization'>\n",
      "slope_sigma\n",
      "dist='normal'\n",
      "params=(0.0, 1.0)\n",
      "intercept_sigma <class 'pcntoolkit.model.hbr.FixedParameterization'>\n",
      "intercept_sigma\n",
      "dist='normal'\n",
      "params=(0.0, 1.0)\n",
      "sigma <class 'pcntoolkit.model.hbr.LinearParameterization'>\n"
     ]
    },
    {
     "data": {
      "text/html": [
       "\n",
       "<style>\n",
       "    /* Turns off some styling */\n",
       "    progress {\n",
       "        /* gets rid of default border in Firefox and Opera. */\n",
       "        border: none;\n",
       "        /* Needs to be in here for Safari polyfill so background images work as expected. */\n",
       "        background-size: auto;\n",
       "    }\n",
       "    .progress-bar-interrupted, .progress-bar-interrupted::-webkit-progress-bar {\n",
       "        background: #F44336;\n",
       "    }\n",
       "</style>\n"
      ],
      "text/plain": [
       "<IPython.core.display.HTML object>"
      ]
     },
     "metadata": {},
     "output_type": "display_data"
    },
    {
     "data": {
      "text/html": [
       "\n",
       "    <div>\n",
       "      <progress value='629' class='' max='629' style='width:300px; height:20px; vertical-align: middle;'></progress>\n",
       "      100.00% [629/629 00:43<00:00 logp = -53,948, ||grad|| = 3.2211]\n",
       "    </div>\n",
       "    "
      ],
      "text/plain": [
       "<IPython.core.display.HTML object>"
      ]
     },
     "metadata": {},
     "output_type": "display_data"
    },
    {
     "name": "stdout",
     "output_type": "stream",
     "text": [
      "\n",
      "Found MAP in  108.1515121459961\n",
      "slope_mu <class 'pcntoolkit.model.hbr.FixedParameterization'>\n",
      "slope_mu\n",
      "dist='normal'\n",
      "params=(0.0, 3.0)\n",
      "intercept_mu <class 'pcntoolkit.model.hbr.NonCentralRandomFixedParameterization'>\n",
      "mu_intercept_mu\n",
      "dist='normal'\n",
      "params=(0.0, 1.0)\n",
      "sigma_intercept_mu\n",
      "dist='hcauchy'\n",
      "params=(1.0,)\n",
      "offset_intercept_mu\n",
      "dist='normal'\n",
      "params=(0.0, 1.0)\n",
      "mu <class 'pcntoolkit.model.hbr.LinearParameterization'>\n",
      "slope_sigma <class 'pcntoolkit.model.hbr.FixedParameterization'>\n",
      "slope_sigma\n",
      "dist='normal'\n",
      "params=(0.0, 1.0)\n",
      "intercept_sigma <class 'pcntoolkit.model.hbr.FixedParameterization'>\n",
      "intercept_sigma\n",
      "dist='normal'\n",
      "params=(1.0, 1.0)\n",
      "sigma <class 'pcntoolkit.model.hbr.LinearParameterization'>\n",
      "epsilon <class 'pcntoolkit.model.hbr.FixedParameterization'>\n",
      "epsilon\n",
      "dist='normal'\n",
      "params=(0.0, 1.0)\n",
      "delta <class 'pcntoolkit.model.hbr.FixedParameterization'>\n",
      "delta\n",
      "dist='normal'\n",
      "params=(1.5, 2.0)\n"
     ]
    },
    {
     "data": {
      "text/html": [
       "\n",
       "<style>\n",
       "    /* Turns off some styling */\n",
       "    progress {\n",
       "        /* gets rid of default border in Firefox and Opera. */\n",
       "        border: none;\n",
       "        /* Needs to be in here for Safari polyfill so background images work as expected. */\n",
       "        background-size: auto;\n",
       "    }\n",
       "    .progress-bar-interrupted, .progress-bar-interrupted::-webkit-progress-bar {\n",
       "        background: #F44336;\n",
       "    }\n",
       "</style>\n"
      ],
      "text/plain": [
       "<IPython.core.display.HTML object>"
      ]
     },
     "metadata": {},
     "output_type": "display_data"
    },
    {
     "data": {
      "text/html": [
       "\n",
       "    <div>\n",
       "      <progress value='2409' class='' max='2409' style='width:300px; height:20px; vertical-align: middle;'></progress>\n",
       "      100.00% [2409/2409 05:23<00:00 logp = -7,917.6, ||grad|| = 15.094]\n",
       "    </div>\n",
       "    "
      ],
      "text/plain": [
       "<IPython.core.display.HTML object>"
      ]
     },
     "metadata": {},
     "output_type": "display_data"
    },
    {
     "name": "stdout",
     "output_type": "stream",
     "text": [
      "\n",
      "Found MAP in  409.461576461792\n",
      "slope_mu <class 'pcntoolkit.model.hbr.FixedParameterization'>\n",
      "slope_mu\n",
      "dist='normal'\n",
      "params=(0.0, 3.0)\n",
      "intercept_mu <class 'pcntoolkit.model.hbr.NonCentralRandomFixedParameterization'>\n",
      "mu_intercept_mu\n",
      "dist='normal'\n",
      "params=(0.0, 1.0)\n",
      "sigma_intercept_mu\n",
      "dist='hcauchy'\n",
      "params=(1.0,)\n",
      "offset_intercept_mu\n",
      "dist='normal'\n",
      "params=(0.0, 1.0)\n",
      "mu <class 'pcntoolkit.model.hbr.LinearParameterization'>\n",
      "slope_sigma <class 'pcntoolkit.model.hbr.FixedParameterization'>\n",
      "slope_sigma\n",
      "dist='normal'\n",
      "params=(0.0, 1.0)\n",
      "intercept_sigma <class 'pcntoolkit.model.hbr.FixedParameterization'>\n",
      "intercept_sigma\n",
      "dist='normal'\n",
      "params=(1.0, 1.0)\n",
      "sigma <class 'pcntoolkit.model.hbr.LinearParameterization'>\n",
      "slope_epsilon <class 'pcntoolkit.model.hbr.FixedParameterization'>\n",
      "slope_epsilon\n",
      "dist='normal'\n",
      "params=(0.0, 1.0)\n",
      "intercept_epsilon <class 'pcntoolkit.model.hbr.FixedParameterization'>\n",
      "intercept_epsilon\n",
      "dist='normal'\n",
      "params=(0.0, 1)\n",
      "epsilon <class 'pcntoolkit.model.hbr.LinearParameterization'>\n",
      "slope_delta <class 'pcntoolkit.model.hbr.FixedParameterization'>\n",
      "slope_delta\n",
      "dist='normal'\n",
      "params=(0.0, 1)\n",
      "intercept_delta <class 'pcntoolkit.model.hbr.FixedParameterization'>\n",
      "intercept_delta\n",
      "dist='normal'\n",
      "params=(2.0, 1)\n",
      "delta <class 'pcntoolkit.model.hbr.LinearParameterization'>\n"
     ]
    },
    {
     "data": {
      "text/html": [
       "\n",
       "<style>\n",
       "    /* Turns off some styling */\n",
       "    progress {\n",
       "        /* gets rid of default border in Firefox and Opera. */\n",
       "        border: none;\n",
       "        /* Needs to be in here for Safari polyfill so background images work as expected. */\n",
       "        background-size: auto;\n",
       "    }\n",
       "    .progress-bar-interrupted, .progress-bar-interrupted::-webkit-progress-bar {\n",
       "        background: #F44336;\n",
       "    }\n",
       "</style>\n"
      ],
      "text/plain": [
       "<IPython.core.display.HTML object>"
      ]
     },
     "metadata": {},
     "output_type": "display_data"
    },
    {
     "data": {
      "text/html": [
       "\n",
       "    <div>\n",
       "      <progress value='3585' class='' max='3585' style='width:300px; height:20px; vertical-align: middle;'></progress>\n",
       "      100.00% [3585/3585 11:34<00:00 logp = -7,273.9, ||grad|| = 11.725]\n",
       "    </div>\n",
       "    "
      ],
      "text/plain": [
       "<IPython.core.display.HTML object>"
      ]
     },
     "metadata": {},
     "output_type": "display_data"
    },
    {
     "name": "stdout",
     "output_type": "stream",
     "text": [
      "\n",
      "Found MAP in  842.8747022151947\n",
      "slope_mu <class 'pcntoolkit.model.hbr.FixedParameterization'>\n",
      "slope_mu\n",
      "dist='normal'\n",
      "params=(0.0, 1.0)\n",
      "intercept_mu <class 'pcntoolkit.model.hbr.NonCentralRandomFixedParameterization'>\n",
      "mu_intercept_mu\n",
      "dist='normal'\n",
      "params=(0.0, 1.0)\n",
      "sigma_intercept_mu\n",
      "dist='hcauchy'\n",
      "params=(1.0,)\n",
      "offset_intercept_mu\n",
      "dist='normal'\n",
      "params=(0.0, 1.0)\n",
      "mu <class 'pcntoolkit.model.hbr.LinearParameterization'>\n",
      "slope_sigma <class 'pcntoolkit.model.hbr.FixedParameterization'>\n",
      "slope_sigma\n",
      "dist='normal'\n",
      "params=(0.0, 1.0)\n",
      "intercept_sigma <class 'pcntoolkit.model.hbr.FixedParameterization'>\n",
      "intercept_sigma\n",
      "dist='normal'\n",
      "params=(0.0, 1.0)\n",
      "sigma <class 'pcntoolkit.model.hbr.LinearParameterization'>\n"
     ]
    },
    {
     "data": {
      "text/html": [
       "\n",
       "<style>\n",
       "    /* Turns off some styling */\n",
       "    progress {\n",
       "        /* gets rid of default border in Firefox and Opera. */\n",
       "        border: none;\n",
       "        /* Needs to be in here for Safari polyfill so background images work as expected. */\n",
       "        background-size: auto;\n",
       "    }\n",
       "    .progress-bar-interrupted, .progress-bar-interrupted::-webkit-progress-bar {\n",
       "        background: #F44336;\n",
       "    }\n",
       "</style>\n"
      ],
      "text/plain": [
       "<IPython.core.display.HTML object>"
      ]
     },
     "metadata": {},
     "output_type": "display_data"
    },
    {
     "data": {
      "text/html": [
       "\n",
       "    <div>\n",
       "      <progress value='1230' class='' max='1230' style='width:300px; height:20px; vertical-align: middle;'></progress>\n",
       "      100.00% [1230/1230 01:18<00:00 logp = -46,444, ||grad|| = 5.6959]\n",
       "    </div>\n",
       "    "
      ],
      "text/plain": [
       "<IPython.core.display.HTML object>"
      ]
     },
     "metadata": {},
     "output_type": "display_data"
    },
    {
     "name": "stdout",
     "output_type": "stream",
     "text": [
      "\n",
      "Found MAP in  140.58651518821716\n",
      "slope_mu <class 'pcntoolkit.model.hbr.FixedParameterization'>\n",
      "slope_mu\n",
      "dist='normal'\n",
      "params=(0.0, 3.0)\n",
      "intercept_mu <class 'pcntoolkit.model.hbr.NonCentralRandomFixedParameterization'>\n",
      "mu_intercept_mu\n",
      "dist='normal'\n",
      "params=(0.0, 1.0)\n",
      "sigma_intercept_mu\n",
      "dist='hcauchy'\n",
      "params=(1.0,)\n",
      "offset_intercept_mu\n",
      "dist='normal'\n",
      "params=(0.0, 1.0)\n",
      "mu <class 'pcntoolkit.model.hbr.LinearParameterization'>\n",
      "slope_sigma <class 'pcntoolkit.model.hbr.FixedParameterization'>\n",
      "slope_sigma\n",
      "dist='normal'\n",
      "params=(0.0, 1.0)\n",
      "intercept_sigma <class 'pcntoolkit.model.hbr.FixedParameterization'>\n",
      "intercept_sigma\n",
      "dist='normal'\n",
      "params=(1.0, 1.0)\n",
      "sigma <class 'pcntoolkit.model.hbr.LinearParameterization'>\n",
      "epsilon <class 'pcntoolkit.model.hbr.FixedParameterization'>\n",
      "epsilon\n",
      "dist='normal'\n",
      "params=(0.0, 1.0)\n",
      "delta <class 'pcntoolkit.model.hbr.FixedParameterization'>\n",
      "delta\n",
      "dist='normal'\n",
      "params=(1.5, 2.0)\n"
     ]
    },
    {
     "data": {
      "text/html": [
       "\n",
       "<style>\n",
       "    /* Turns off some styling */\n",
       "    progress {\n",
       "        /* gets rid of default border in Firefox and Opera. */\n",
       "        border: none;\n",
       "        /* Needs to be in here for Safari polyfill so background images work as expected. */\n",
       "        background-size: auto;\n",
       "    }\n",
       "    .progress-bar-interrupted, .progress-bar-interrupted::-webkit-progress-bar {\n",
       "        background: #F44336;\n",
       "    }\n",
       "</style>\n"
      ],
      "text/plain": [
       "<IPython.core.display.HTML object>"
      ]
     },
     "metadata": {},
     "output_type": "display_data"
    },
    {
     "data": {
      "text/html": [
       "\n",
       "    <div>\n",
       "      <progress value='581' class='' max='581' style='width:300px; height:20px; vertical-align: middle;'></progress>\n",
       "      100.00% [581/581 01:26<00:00 logp = -65,137, ||grad|| = 2.9826]\n",
       "    </div>\n",
       "    "
      ],
      "text/plain": [
       "<IPython.core.display.HTML object>"
      ]
     },
     "metadata": {},
     "output_type": "display_data"
    },
    {
     "name": "stdout",
     "output_type": "stream",
     "text": [
      "\n",
      "Found MAP in  177.03907823562622\n",
      "slope_mu <class 'pcntoolkit.model.hbr.FixedParameterization'>\n",
      "slope_mu\n",
      "dist='normal'\n",
      "params=(0.0, 3.0)\n",
      "intercept_mu <class 'pcntoolkit.model.hbr.NonCentralRandomFixedParameterization'>\n",
      "mu_intercept_mu\n",
      "dist='normal'\n",
      "params=(0.0, 1.0)\n",
      "sigma_intercept_mu\n",
      "dist='hcauchy'\n",
      "params=(1.0,)\n",
      "offset_intercept_mu\n",
      "dist='normal'\n",
      "params=(0.0, 1.0)\n",
      "mu <class 'pcntoolkit.model.hbr.LinearParameterization'>\n",
      "slope_sigma <class 'pcntoolkit.model.hbr.FixedParameterization'>\n",
      "slope_sigma\n",
      "dist='normal'\n",
      "params=(0.0, 1.0)\n",
      "intercept_sigma <class 'pcntoolkit.model.hbr.FixedParameterization'>\n",
      "intercept_sigma\n",
      "dist='normal'\n",
      "params=(1.0, 1.0)\n",
      "sigma <class 'pcntoolkit.model.hbr.LinearParameterization'>\n",
      "slope_epsilon <class 'pcntoolkit.model.hbr.FixedParameterization'>\n",
      "slope_epsilon\n",
      "dist='normal'\n",
      "params=(0.0, 1.0)\n",
      "intercept_epsilon <class 'pcntoolkit.model.hbr.FixedParameterization'>\n",
      "intercept_epsilon\n",
      "dist='normal'\n",
      "params=(0.0, 1)\n",
      "epsilon <class 'pcntoolkit.model.hbr.LinearParameterization'>\n",
      "slope_delta <class 'pcntoolkit.model.hbr.FixedParameterization'>\n",
      "slope_delta\n",
      "dist='normal'\n",
      "params=(0.0, 1)\n",
      "intercept_delta <class 'pcntoolkit.model.hbr.FixedParameterization'>\n",
      "intercept_delta\n",
      "dist='normal'\n",
      "params=(2.0, 1)\n",
      "delta <class 'pcntoolkit.model.hbr.LinearParameterization'>\n"
     ]
    },
    {
     "data": {
      "text/html": [
       "\n",
       "<style>\n",
       "    /* Turns off some styling */\n",
       "    progress {\n",
       "        /* gets rid of default border in Firefox and Opera. */\n",
       "        border: none;\n",
       "        /* Needs to be in here for Safari polyfill so background images work as expected. */\n",
       "        background-size: auto;\n",
       "    }\n",
       "    .progress-bar-interrupted, .progress-bar-interrupted::-webkit-progress-bar {\n",
       "        background: #F44336;\n",
       "    }\n",
       "</style>\n"
      ],
      "text/plain": [
       "<IPython.core.display.HTML object>"
      ]
     },
     "metadata": {},
     "output_type": "display_data"
    },
    {
     "data": {
      "text/html": [
       "\n",
       "    <div>\n",
       "      <progress value='552' class='' max='552' style='width:300px; height:20px; vertical-align: middle;'></progress>\n",
       "      100.00% [552/552 01:52<00:00 logp = -65,115, ||grad|| = 7.3127]\n",
       "    </div>\n",
       "    "
      ],
      "text/plain": [
       "<IPython.core.display.HTML object>"
      ]
     },
     "metadata": {},
     "output_type": "display_data"
    },
    {
     "name": "stdout",
     "output_type": "stream",
     "text": [
      "\n",
      "Found MAP in  267.0921268463135\n",
      "slope_mu <class 'pcntoolkit.model.hbr.FixedParameterization'>\n",
      "slope_mu\n",
      "dist='normal'\n",
      "params=(0.0, 1.0)\n",
      "intercept_mu <class 'pcntoolkit.model.hbr.NonCentralRandomFixedParameterization'>\n",
      "mu_intercept_mu\n",
      "dist='normal'\n",
      "params=(0.0, 1.0)\n",
      "sigma_intercept_mu\n",
      "dist='hcauchy'\n",
      "params=(1.0,)\n",
      "offset_intercept_mu\n",
      "dist='normal'\n",
      "params=(0.0, 1.0)\n",
      "mu <class 'pcntoolkit.model.hbr.LinearParameterization'>\n",
      "slope_sigma <class 'pcntoolkit.model.hbr.FixedParameterization'>\n",
      "slope_sigma\n",
      "dist='normal'\n",
      "params=(0.0, 1.0)\n",
      "intercept_sigma <class 'pcntoolkit.model.hbr.FixedParameterization'>\n",
      "intercept_sigma\n",
      "dist='normal'\n",
      "params=(0.0, 1.0)\n",
      "sigma <class 'pcntoolkit.model.hbr.LinearParameterization'>\n"
     ]
    },
    {
     "data": {
      "text/html": [
       "\n",
       "<style>\n",
       "    /* Turns off some styling */\n",
       "    progress {\n",
       "        /* gets rid of default border in Firefox and Opera. */\n",
       "        border: none;\n",
       "        /* Needs to be in here for Safari polyfill so background images work as expected. */\n",
       "        background-size: auto;\n",
       "    }\n",
       "    .progress-bar-interrupted, .progress-bar-interrupted::-webkit-progress-bar {\n",
       "        background: #F44336;\n",
       "    }\n",
       "</style>\n"
      ],
      "text/plain": [
       "<IPython.core.display.HTML object>"
      ]
     },
     "metadata": {},
     "output_type": "display_data"
    },
    {
     "data": {
      "text/html": [
       "\n",
       "    <div>\n",
       "      <progress value='522' class='' max='522' style='width:300px; height:20px; vertical-align: middle;'></progress>\n",
       "      100.00% [522/522 00:28<00:00 logp = -65,862, ||grad|| = 5.1751]\n",
       "    </div>\n",
       "    "
      ],
      "text/plain": [
       "<IPython.core.display.HTML object>"
      ]
     },
     "metadata": {},
     "output_type": "display_data"
    },
    {
     "name": "stdout",
     "output_type": "stream",
     "text": [
      "\n",
      "Found MAP in  92.26812219619751\n",
      "slope_mu <class 'pcntoolkit.model.hbr.FixedParameterization'>\n",
      "slope_mu\n",
      "dist='normal'\n",
      "params=(0.0, 3.0)\n",
      "intercept_mu <class 'pcntoolkit.model.hbr.NonCentralRandomFixedParameterization'>\n",
      "mu_intercept_mu\n",
      "dist='normal'\n",
      "params=(0.0, 1.0)\n",
      "sigma_intercept_mu\n",
      "dist='hcauchy'\n",
      "params=(1.0,)\n",
      "offset_intercept_mu\n",
      "dist='normal'\n",
      "params=(0.0, 1.0)\n",
      "mu <class 'pcntoolkit.model.hbr.LinearParameterization'>\n",
      "slope_sigma <class 'pcntoolkit.model.hbr.FixedParameterization'>\n",
      "slope_sigma\n",
      "dist='normal'\n",
      "params=(0.0, 1.0)\n",
      "intercept_sigma <class 'pcntoolkit.model.hbr.FixedParameterization'>\n",
      "intercept_sigma\n",
      "dist='normal'\n",
      "params=(1.0, 1.0)\n",
      "sigma <class 'pcntoolkit.model.hbr.LinearParameterization'>\n",
      "epsilon <class 'pcntoolkit.model.hbr.FixedParameterization'>\n",
      "epsilon\n",
      "dist='normal'\n",
      "params=(0.0, 1.0)\n",
      "delta <class 'pcntoolkit.model.hbr.FixedParameterization'>\n",
      "delta\n",
      "dist='normal'\n",
      "params=(1.5, 2.0)\n"
     ]
    },
    {
     "data": {
      "text/html": [
       "\n",
       "<style>\n",
       "    /* Turns off some styling */\n",
       "    progress {\n",
       "        /* gets rid of default border in Firefox and Opera. */\n",
       "        border: none;\n",
       "        /* Needs to be in here for Safari polyfill so background images work as expected. */\n",
       "        background-size: auto;\n",
       "    }\n",
       "    .progress-bar-interrupted, .progress-bar-interrupted::-webkit-progress-bar {\n",
       "        background: #F44336;\n",
       "    }\n",
       "</style>\n"
      ],
      "text/plain": [
       "<IPython.core.display.HTML object>"
      ]
     },
     "metadata": {},
     "output_type": "display_data"
    },
    {
     "data": {
      "text/html": [
       "\n",
       "    <div>\n",
       "      <progress value='777' class='' max='777' style='width:300px; height:20px; vertical-align: middle;'></progress>\n",
       "      100.00% [777/777 01:44<00:00 logp = -61,292, ||grad|| = 3.2911]\n",
       "    </div>\n",
       "    "
      ],
      "text/plain": [
       "<IPython.core.display.HTML object>"
      ]
     },
     "metadata": {},
     "output_type": "display_data"
    },
    {
     "name": "stdout",
     "output_type": "stream",
     "text": [
      "\n",
      "Found MAP in  193.72454833984375\n",
      "slope_mu <class 'pcntoolkit.model.hbr.FixedParameterization'>\n",
      "slope_mu\n",
      "dist='normal'\n",
      "params=(0.0, 3.0)\n",
      "intercept_mu <class 'pcntoolkit.model.hbr.NonCentralRandomFixedParameterization'>\n",
      "mu_intercept_mu\n",
      "dist='normal'\n",
      "params=(0.0, 1.0)\n",
      "sigma_intercept_mu\n",
      "dist='hcauchy'\n",
      "params=(1.0,)\n",
      "offset_intercept_mu\n",
      "dist='normal'\n",
      "params=(0.0, 1.0)\n",
      "mu <class 'pcntoolkit.model.hbr.LinearParameterization'>\n",
      "slope_sigma <class 'pcntoolkit.model.hbr.FixedParameterization'>\n",
      "slope_sigma\n",
      "dist='normal'\n",
      "params=(0.0, 1.0)\n",
      "intercept_sigma <class 'pcntoolkit.model.hbr.FixedParameterization'>\n",
      "intercept_sigma\n",
      "dist='normal'\n",
      "params=(1.0, 1.0)\n",
      "sigma <class 'pcntoolkit.model.hbr.LinearParameterization'>\n",
      "slope_epsilon <class 'pcntoolkit.model.hbr.FixedParameterization'>\n",
      "slope_epsilon\n",
      "dist='normal'\n",
      "params=(0.0, 1.0)\n",
      "intercept_epsilon <class 'pcntoolkit.model.hbr.FixedParameterization'>\n",
      "intercept_epsilon\n",
      "dist='normal'\n",
      "params=(0.0, 1)\n",
      "epsilon <class 'pcntoolkit.model.hbr.LinearParameterization'>\n",
      "slope_delta <class 'pcntoolkit.model.hbr.FixedParameterization'>\n",
      "slope_delta\n",
      "dist='normal'\n",
      "params=(0.0, 1)\n",
      "intercept_delta <class 'pcntoolkit.model.hbr.FixedParameterization'>\n",
      "intercept_delta\n",
      "dist='normal'\n",
      "params=(2.0, 1)\n",
      "delta <class 'pcntoolkit.model.hbr.LinearParameterization'>\n"
     ]
    },
    {
     "data": {
      "text/html": [
       "\n",
       "<style>\n",
       "    /* Turns off some styling */\n",
       "    progress {\n",
       "        /* gets rid of default border in Firefox and Opera. */\n",
       "        border: none;\n",
       "        /* Needs to be in here for Safari polyfill so background images work as expected. */\n",
       "        background-size: auto;\n",
       "    }\n",
       "    .progress-bar-interrupted, .progress-bar-interrupted::-webkit-progress-bar {\n",
       "        background: #F44336;\n",
       "    }\n",
       "</style>\n"
      ],
      "text/plain": [
       "<IPython.core.display.HTML object>"
      ]
     },
     "metadata": {},
     "output_type": "display_data"
    },
    {
     "data": {
      "text/html": [
       "\n",
       "    <div>\n",
       "      <progress value='879' class='' max='879' style='width:300px; height:20px; vertical-align: middle;'></progress>\n",
       "      100.00% [879/879 02:50<00:00 logp = -61,290, ||grad|| = 6.6727]\n",
       "    </div>\n",
       "    "
      ],
      "text/plain": [
       "<IPython.core.display.HTML object>"
      ]
     },
     "metadata": {},
     "output_type": "display_data"
    },
    {
     "name": "stdout",
     "output_type": "stream",
     "text": [
      "\n",
      "Found MAP in  320.2121298313141\n",
      "slope_mu <class 'pcntoolkit.model.hbr.FixedParameterization'>\n",
      "slope_mu\n",
      "dist='normal'\n",
      "params=(0.0, 1.0)\n",
      "intercept_mu <class 'pcntoolkit.model.hbr.NonCentralRandomFixedParameterization'>\n",
      "mu_intercept_mu\n",
      "dist='normal'\n",
      "params=(0.0, 1.0)\n",
      "sigma_intercept_mu\n",
      "dist='hcauchy'\n",
      "params=(1.0,)\n",
      "offset_intercept_mu\n",
      "dist='normal'\n",
      "params=(0.0, 1.0)\n",
      "mu <class 'pcntoolkit.model.hbr.LinearParameterization'>\n",
      "slope_sigma <class 'pcntoolkit.model.hbr.FixedParameterization'>\n",
      "slope_sigma\n",
      "dist='normal'\n",
      "params=(0.0, 1.0)\n",
      "intercept_sigma <class 'pcntoolkit.model.hbr.FixedParameterization'>\n",
      "intercept_sigma\n",
      "dist='normal'\n",
      "params=(0.0, 1.0)\n",
      "sigma <class 'pcntoolkit.model.hbr.LinearParameterization'>\n"
     ]
    },
    {
     "data": {
      "text/html": [
       "\n",
       "<style>\n",
       "    /* Turns off some styling */\n",
       "    progress {\n",
       "        /* gets rid of default border in Firefox and Opera. */\n",
       "        border: none;\n",
       "        /* Needs to be in here for Safari polyfill so background images work as expected. */\n",
       "        background-size: auto;\n",
       "    }\n",
       "    .progress-bar-interrupted, .progress-bar-interrupted::-webkit-progress-bar {\n",
       "        background: #F44336;\n",
       "    }\n",
       "</style>\n"
      ],
      "text/plain": [
       "<IPython.core.display.HTML object>"
      ]
     },
     "metadata": {},
     "output_type": "display_data"
    },
    {
     "data": {
      "text/html": [
       "\n",
       "    <div>\n",
       "      <progress value='672' class='' max='672' style='width:300px; height:20px; vertical-align: middle;'></progress>\n",
       "      100.00% [672/672 00:44<00:00 logp = -61,680, ||grad|| = 2.9047]\n",
       "    </div>\n",
       "    "
      ],
      "text/plain": [
       "<IPython.core.display.HTML object>"
      ]
     },
     "metadata": {},
     "output_type": "display_data"
    },
    {
     "name": "stdout",
     "output_type": "stream",
     "text": [
      "\n",
      "Found MAP in  119.47642278671265\n",
      "slope_mu <class 'pcntoolkit.model.hbr.FixedParameterization'>\n",
      "slope_mu\n",
      "dist='normal'\n",
      "params=(0.0, 3.0)\n",
      "intercept_mu <class 'pcntoolkit.model.hbr.NonCentralRandomFixedParameterization'>\n",
      "mu_intercept_mu\n",
      "dist='normal'\n",
      "params=(0.0, 1.0)\n",
      "sigma_intercept_mu\n",
      "dist='hcauchy'\n",
      "params=(1.0,)\n",
      "offset_intercept_mu\n",
      "dist='normal'\n",
      "params=(0.0, 1.0)\n",
      "mu <class 'pcntoolkit.model.hbr.LinearParameterization'>\n",
      "slope_sigma <class 'pcntoolkit.model.hbr.FixedParameterization'>\n",
      "slope_sigma\n",
      "dist='normal'\n",
      "params=(0.0, 1.0)\n",
      "intercept_sigma <class 'pcntoolkit.model.hbr.FixedParameterization'>\n",
      "intercept_sigma\n",
      "dist='normal'\n",
      "params=(1.0, 1.0)\n",
      "sigma <class 'pcntoolkit.model.hbr.LinearParameterization'>\n",
      "epsilon <class 'pcntoolkit.model.hbr.FixedParameterization'>\n",
      "epsilon\n",
      "dist='normal'\n",
      "params=(0.0, 1.0)\n",
      "delta <class 'pcntoolkit.model.hbr.FixedParameterization'>\n",
      "delta\n",
      "dist='normal'\n",
      "params=(1.5, 2.0)\n"
     ]
    },
    {
     "data": {
      "text/html": [
       "\n",
       "<style>\n",
       "    /* Turns off some styling */\n",
       "    progress {\n",
       "        /* gets rid of default border in Firefox and Opera. */\n",
       "        border: none;\n",
       "        /* Needs to be in here for Safari polyfill so background images work as expected. */\n",
       "        background-size: auto;\n",
       "    }\n",
       "    .progress-bar-interrupted, .progress-bar-interrupted::-webkit-progress-bar {\n",
       "        background: #F44336;\n",
       "    }\n",
       "</style>\n"
      ],
      "text/plain": [
       "<IPython.core.display.HTML object>"
      ]
     },
     "metadata": {},
     "output_type": "display_data"
    },
    {
     "data": {
      "text/html": [
       "\n",
       "    <div>\n",
       "      <progress value='979' class='' max='979' style='width:300px; height:20px; vertical-align: middle;'></progress>\n",
       "      100.00% [979/979 01:54<00:00 logp = -60,677, ||grad|| = 9.3206]\n",
       "    </div>\n",
       "    "
      ],
      "text/plain": [
       "<IPython.core.display.HTML object>"
      ]
     },
     "metadata": {},
     "output_type": "display_data"
    },
    {
     "name": "stdout",
     "output_type": "stream",
     "text": [
      "\n",
      "Found MAP in  226.6546266078949\n",
      "slope_mu <class 'pcntoolkit.model.hbr.FixedParameterization'>\n",
      "slope_mu\n",
      "dist='normal'\n",
      "params=(0.0, 3.0)\n",
      "intercept_mu <class 'pcntoolkit.model.hbr.NonCentralRandomFixedParameterization'>\n",
      "mu_intercept_mu\n",
      "dist='normal'\n",
      "params=(0.0, 1.0)\n",
      "sigma_intercept_mu\n",
      "dist='hcauchy'\n",
      "params=(1.0,)\n",
      "offset_intercept_mu\n",
      "dist='normal'\n",
      "params=(0.0, 1.0)\n",
      "mu <class 'pcntoolkit.model.hbr.LinearParameterization'>\n",
      "slope_sigma <class 'pcntoolkit.model.hbr.FixedParameterization'>\n",
      "slope_sigma\n",
      "dist='normal'\n",
      "params=(0.0, 1.0)\n",
      "intercept_sigma <class 'pcntoolkit.model.hbr.FixedParameterization'>\n",
      "intercept_sigma\n",
      "dist='normal'\n",
      "params=(1.0, 1.0)\n",
      "sigma <class 'pcntoolkit.model.hbr.LinearParameterization'>\n",
      "slope_epsilon <class 'pcntoolkit.model.hbr.FixedParameterization'>\n",
      "slope_epsilon\n",
      "dist='normal'\n",
      "params=(0.0, 1.0)\n",
      "intercept_epsilon <class 'pcntoolkit.model.hbr.FixedParameterization'>\n",
      "intercept_epsilon\n",
      "dist='normal'\n",
      "params=(0.0, 1)\n",
      "epsilon <class 'pcntoolkit.model.hbr.LinearParameterization'>\n",
      "slope_delta <class 'pcntoolkit.model.hbr.FixedParameterization'>\n",
      "slope_delta\n",
      "dist='normal'\n",
      "params=(0.0, 1)\n",
      "intercept_delta <class 'pcntoolkit.model.hbr.FixedParameterization'>\n",
      "intercept_delta\n",
      "dist='normal'\n",
      "params=(2.0, 1)\n",
      "delta <class 'pcntoolkit.model.hbr.LinearParameterization'>\n"
     ]
    },
    {
     "data": {
      "text/html": [
       "\n",
       "<style>\n",
       "    /* Turns off some styling */\n",
       "    progress {\n",
       "        /* gets rid of default border in Firefox and Opera. */\n",
       "        border: none;\n",
       "        /* Needs to be in here for Safari polyfill so background images work as expected. */\n",
       "        background-size: auto;\n",
       "    }\n",
       "    .progress-bar-interrupted, .progress-bar-interrupted::-webkit-progress-bar {\n",
       "        background: #F44336;\n",
       "    }\n",
       "</style>\n"
      ],
      "text/plain": [
       "<IPython.core.display.HTML object>"
      ]
     },
     "metadata": {},
     "output_type": "display_data"
    },
    {
     "data": {
      "text/html": [
       "\n",
       "    <div>\n",
       "      <progress value='980' class='' max='980' style='width:300px; height:20px; vertical-align: middle;'></progress>\n",
       "      100.00% [980/980 03:29<00:00 logp = -60,627, ||grad|| = 7.7071]\n",
       "    </div>\n",
       "    "
      ],
      "text/plain": [
       "<IPython.core.display.HTML object>"
      ]
     },
     "metadata": {},
     "output_type": "display_data"
    },
    {
     "name": "stdout",
     "output_type": "stream",
     "text": [
      "\n",
      "Found MAP in  394.8332664966583\n",
      "slope_mu <class 'pcntoolkit.model.hbr.FixedParameterization'>\n",
      "slope_mu\n",
      "dist='normal'\n",
      "params=(0.0, 1.0)\n",
      "intercept_mu <class 'pcntoolkit.model.hbr.NonCentralRandomFixedParameterization'>\n",
      "mu_intercept_mu\n",
      "dist='normal'\n",
      "params=(0.0, 1.0)\n",
      "sigma_intercept_mu\n",
      "dist='hcauchy'\n",
      "params=(1.0,)\n",
      "offset_intercept_mu\n",
      "dist='normal'\n",
      "params=(0.0, 1.0)\n",
      "mu <class 'pcntoolkit.model.hbr.LinearParameterization'>\n",
      "slope_sigma <class 'pcntoolkit.model.hbr.FixedParameterization'>\n",
      "slope_sigma\n",
      "dist='normal'\n",
      "params=(0.0, 1.0)\n",
      "intercept_sigma <class 'pcntoolkit.model.hbr.FixedParameterization'>\n",
      "intercept_sigma\n",
      "dist='normal'\n",
      "params=(0.0, 1.0)\n",
      "sigma <class 'pcntoolkit.model.hbr.LinearParameterization'>\n"
     ]
    },
    {
     "data": {
      "text/html": [
       "\n",
       "<style>\n",
       "    /* Turns off some styling */\n",
       "    progress {\n",
       "        /* gets rid of default border in Firefox and Opera. */\n",
       "        border: none;\n",
       "        /* Needs to be in here for Safari polyfill so background images work as expected. */\n",
       "        background-size: auto;\n",
       "    }\n",
       "    .progress-bar-interrupted, .progress-bar-interrupted::-webkit-progress-bar {\n",
       "        background: #F44336;\n",
       "    }\n",
       "</style>\n"
      ],
      "text/plain": [
       "<IPython.core.display.HTML object>"
      ]
     },
     "metadata": {},
     "output_type": "display_data"
    },
    {
     "data": {
      "text/html": [
       "\n",
       "    <div>\n",
       "      <progress value='661' class='' max='661' style='width:300px; height:20px; vertical-align: middle;'></progress>\n",
       "      100.00% [661/661 00:42<00:00 logp = -64,474, ||grad|| = 2.8737]\n",
       "    </div>\n",
       "    "
      ],
      "text/plain": [
       "<IPython.core.display.HTML object>"
      ]
     },
     "metadata": {},
     "output_type": "display_data"
    },
    {
     "name": "stdout",
     "output_type": "stream",
     "text": [
      "\n",
      "Found MAP in  117.05040216445923\n",
      "slope_mu <class 'pcntoolkit.model.hbr.FixedParameterization'>\n",
      "slope_mu\n",
      "dist='normal'\n",
      "params=(0.0, 3.0)\n",
      "intercept_mu <class 'pcntoolkit.model.hbr.NonCentralRandomFixedParameterization'>\n",
      "mu_intercept_mu\n",
      "dist='normal'\n",
      "params=(0.0, 1.0)\n",
      "sigma_intercept_mu\n",
      "dist='hcauchy'\n",
      "params=(1.0,)\n",
      "offset_intercept_mu\n",
      "dist='normal'\n",
      "params=(0.0, 1.0)\n",
      "mu <class 'pcntoolkit.model.hbr.LinearParameterization'>\n",
      "slope_sigma <class 'pcntoolkit.model.hbr.FixedParameterization'>\n",
      "slope_sigma\n",
      "dist='normal'\n",
      "params=(0.0, 1.0)\n",
      "intercept_sigma <class 'pcntoolkit.model.hbr.FixedParameterization'>\n",
      "intercept_sigma\n",
      "dist='normal'\n",
      "params=(1.0, 1.0)\n",
      "sigma <class 'pcntoolkit.model.hbr.LinearParameterization'>\n",
      "epsilon <class 'pcntoolkit.model.hbr.FixedParameterization'>\n",
      "epsilon\n",
      "dist='normal'\n",
      "params=(0.0, 1.0)\n",
      "delta <class 'pcntoolkit.model.hbr.FixedParameterization'>\n",
      "delta\n",
      "dist='normal'\n",
      "params=(1.5, 2.0)\n"
     ]
    },
    {
     "data": {
      "text/html": [
       "\n",
       "<style>\n",
       "    /* Turns off some styling */\n",
       "    progress {\n",
       "        /* gets rid of default border in Firefox and Opera. */\n",
       "        border: none;\n",
       "        /* Needs to be in here for Safari polyfill so background images work as expected. */\n",
       "        background-size: auto;\n",
       "    }\n",
       "    .progress-bar-interrupted, .progress-bar-interrupted::-webkit-progress-bar {\n",
       "        background: #F44336;\n",
       "    }\n",
       "</style>\n"
      ],
      "text/plain": [
       "<IPython.core.display.HTML object>"
      ]
     },
     "metadata": {},
     "output_type": "display_data"
    },
    {
     "data": {
      "text/html": [
       "\n",
       "    <div>\n",
       "      <progress value='709' class='' max='709' style='width:300px; height:20px; vertical-align: middle;'></progress>\n",
       "      100.00% [709/709 01:26<00:00 logp = -62,912, ||grad|| = 12.182]\n",
       "    </div>\n",
       "    "
      ],
      "text/plain": [
       "<IPython.core.display.HTML object>"
      ]
     },
     "metadata": {},
     "output_type": "display_data"
    },
    {
     "name": "stdout",
     "output_type": "stream",
     "text": [
      "\n",
      "Found MAP in  190.4844093322754\n",
      "slope_mu <class 'pcntoolkit.model.hbr.FixedParameterization'>\n",
      "slope_mu\n",
      "dist='normal'\n",
      "params=(0.0, 3.0)\n",
      "intercept_mu <class 'pcntoolkit.model.hbr.NonCentralRandomFixedParameterization'>\n",
      "mu_intercept_mu\n",
      "dist='normal'\n",
      "params=(0.0, 1.0)\n",
      "sigma_intercept_mu\n",
      "dist='hcauchy'\n",
      "params=(1.0,)\n",
      "offset_intercept_mu\n",
      "dist='normal'\n",
      "params=(0.0, 1.0)\n",
      "mu <class 'pcntoolkit.model.hbr.LinearParameterization'>\n",
      "slope_sigma <class 'pcntoolkit.model.hbr.FixedParameterization'>\n",
      "slope_sigma\n",
      "dist='normal'\n",
      "params=(0.0, 1.0)\n",
      "intercept_sigma <class 'pcntoolkit.model.hbr.FixedParameterization'>\n",
      "intercept_sigma\n",
      "dist='normal'\n",
      "params=(1.0, 1.0)\n",
      "sigma <class 'pcntoolkit.model.hbr.LinearParameterization'>\n",
      "slope_epsilon <class 'pcntoolkit.model.hbr.FixedParameterization'>\n",
      "slope_epsilon\n",
      "dist='normal'\n",
      "params=(0.0, 1.0)\n",
      "intercept_epsilon <class 'pcntoolkit.model.hbr.FixedParameterization'>\n",
      "intercept_epsilon\n",
      "dist='normal'\n",
      "params=(0.0, 1)\n",
      "epsilon <class 'pcntoolkit.model.hbr.LinearParameterization'>\n",
      "slope_delta <class 'pcntoolkit.model.hbr.FixedParameterization'>\n",
      "slope_delta\n",
      "dist='normal'\n",
      "params=(0.0, 1)\n",
      "intercept_delta <class 'pcntoolkit.model.hbr.FixedParameterization'>\n",
      "intercept_delta\n",
      "dist='normal'\n",
      "params=(2.0, 1)\n",
      "delta <class 'pcntoolkit.model.hbr.LinearParameterization'>\n"
     ]
    },
    {
     "data": {
      "text/html": [
       "\n",
       "<style>\n",
       "    /* Turns off some styling */\n",
       "    progress {\n",
       "        /* gets rid of default border in Firefox and Opera. */\n",
       "        border: none;\n",
       "        /* Needs to be in here for Safari polyfill so background images work as expected. */\n",
       "        background-size: auto;\n",
       "    }\n",
       "    .progress-bar-interrupted, .progress-bar-interrupted::-webkit-progress-bar {\n",
       "        background: #F44336;\n",
       "    }\n",
       "</style>\n"
      ],
      "text/plain": [
       "<IPython.core.display.HTML object>"
      ]
     },
     "metadata": {},
     "output_type": "display_data"
    },
    {
     "data": {
      "text/html": [
       "\n",
       "    <div>\n",
       "      <progress value='983' class='' max='983' style='width:300px; height:20px; vertical-align: middle;'></progress>\n",
       "      100.00% [983/983 03:26<00:00 logp = -62,742, ||grad|| = 6.9698]\n",
       "    </div>\n",
       "    "
      ],
      "text/plain": [
       "<IPython.core.display.HTML object>"
      ]
     },
     "metadata": {},
     "output_type": "display_data"
    },
    {
     "name": "stdout",
     "output_type": "stream",
     "text": [
      "\n",
      "Found MAP in  390.7232463359833\n",
      "slope_mu <class 'pcntoolkit.model.hbr.FixedParameterization'>\n",
      "slope_mu\n",
      "dist='normal'\n",
      "params=(0.0, 1.0)\n",
      "intercept_mu <class 'pcntoolkit.model.hbr.NonCentralRandomFixedParameterization'>\n",
      "mu_intercept_mu\n",
      "dist='normal'\n",
      "params=(0.0, 1.0)\n",
      "sigma_intercept_mu\n",
      "dist='hcauchy'\n",
      "params=(1.0,)\n",
      "offset_intercept_mu\n",
      "dist='normal'\n",
      "params=(0.0, 1.0)\n",
      "mu <class 'pcntoolkit.model.hbr.LinearParameterization'>\n",
      "slope_sigma <class 'pcntoolkit.model.hbr.FixedParameterization'>\n",
      "slope_sigma\n",
      "dist='normal'\n",
      "params=(0.0, 1.0)\n",
      "intercept_sigma <class 'pcntoolkit.model.hbr.FixedParameterization'>\n",
      "intercept_sigma\n",
      "dist='normal'\n",
      "params=(0.0, 1.0)\n",
      "sigma <class 'pcntoolkit.model.hbr.LinearParameterization'>\n"
     ]
    },
    {
     "data": {
      "text/html": [
       "\n",
       "<style>\n",
       "    /* Turns off some styling */\n",
       "    progress {\n",
       "        /* gets rid of default border in Firefox and Opera. */\n",
       "        border: none;\n",
       "        /* Needs to be in here for Safari polyfill so background images work as expected. */\n",
       "        background-size: auto;\n",
       "    }\n",
       "    .progress-bar-interrupted, .progress-bar-interrupted::-webkit-progress-bar {\n",
       "        background: #F44336;\n",
       "    }\n",
       "</style>\n"
      ],
      "text/plain": [
       "<IPython.core.display.HTML object>"
      ]
     },
     "metadata": {},
     "output_type": "display_data"
    },
    {
     "data": {
      "text/html": [
       "\n",
       "    <div>\n",
       "      <progress value='611' class='' max='611' style='width:300px; height:20px; vertical-align: middle;'></progress>\n",
       "      100.00% [611/611 00:41<00:00 logp = -63,241, ||grad|| = 3.6704]\n",
       "    </div>\n",
       "    "
      ],
      "text/plain": [
       "<IPython.core.display.HTML object>"
      ]
     },
     "metadata": {},
     "output_type": "display_data"
    },
    {
     "name": "stdout",
     "output_type": "stream",
     "text": [
      "\n",
      "Found MAP in  116.09761691093445\n",
      "slope_mu <class 'pcntoolkit.model.hbr.FixedParameterization'>\n",
      "slope_mu\n",
      "dist='normal'\n",
      "params=(0.0, 3.0)\n",
      "intercept_mu <class 'pcntoolkit.model.hbr.NonCentralRandomFixedParameterization'>\n",
      "mu_intercept_mu\n",
      "dist='normal'\n",
      "params=(0.0, 1.0)\n",
      "sigma_intercept_mu\n",
      "dist='hcauchy'\n",
      "params=(1.0,)\n",
      "offset_intercept_mu\n",
      "dist='normal'\n",
      "params=(0.0, 1.0)\n",
      "mu <class 'pcntoolkit.model.hbr.LinearParameterization'>\n",
      "slope_sigma <class 'pcntoolkit.model.hbr.FixedParameterization'>\n",
      "slope_sigma\n",
      "dist='normal'\n",
      "params=(0.0, 1.0)\n",
      "intercept_sigma <class 'pcntoolkit.model.hbr.FixedParameterization'>\n",
      "intercept_sigma\n",
      "dist='normal'\n",
      "params=(1.0, 1.0)\n",
      "sigma <class 'pcntoolkit.model.hbr.LinearParameterization'>\n",
      "epsilon <class 'pcntoolkit.model.hbr.FixedParameterization'>\n",
      "epsilon\n",
      "dist='normal'\n",
      "params=(0.0, 1.0)\n",
      "delta <class 'pcntoolkit.model.hbr.FixedParameterization'>\n",
      "delta\n",
      "dist='normal'\n",
      "params=(1.5, 2.0)\n"
     ]
    },
    {
     "data": {
      "text/html": [
       "\n",
       "<style>\n",
       "    /* Turns off some styling */\n",
       "    progress {\n",
       "        /* gets rid of default border in Firefox and Opera. */\n",
       "        border: none;\n",
       "        /* Needs to be in here for Safari polyfill so background images work as expected. */\n",
       "        background-size: auto;\n",
       "    }\n",
       "    .progress-bar-interrupted, .progress-bar-interrupted::-webkit-progress-bar {\n",
       "        background: #F44336;\n",
       "    }\n",
       "</style>\n"
      ],
      "text/plain": [
       "<IPython.core.display.HTML object>"
      ]
     },
     "metadata": {},
     "output_type": "display_data"
    },
    {
     "data": {
      "text/html": [
       "\n",
       "    <div>\n",
       "      <progress value='1135' class='' max='1135' style='width:300px; height:20px; vertical-align: middle;'></progress>\n",
       "      100.00% [1135/1135 02:25<00:00 logp = -42,158, ||grad|| = 33.78]\n",
       "    </div>\n",
       "    "
      ],
      "text/plain": [
       "<IPython.core.display.HTML object>"
      ]
     },
     "metadata": {},
     "output_type": "display_data"
    },
    {
     "name": "stdout",
     "output_type": "stream",
     "text": [
      "\n",
      "Found MAP in  251.5081765651703\n",
      "slope_mu <class 'pcntoolkit.model.hbr.FixedParameterization'>\n",
      "slope_mu\n",
      "dist='normal'\n",
      "params=(0.0, 3.0)\n",
      "intercept_mu <class 'pcntoolkit.model.hbr.NonCentralRandomFixedParameterization'>\n",
      "mu_intercept_mu\n",
      "dist='normal'\n",
      "params=(0.0, 1.0)\n",
      "sigma_intercept_mu\n",
      "dist='hcauchy'\n",
      "params=(1.0,)\n",
      "offset_intercept_mu\n",
      "dist='normal'\n",
      "params=(0.0, 1.0)\n",
      "mu <class 'pcntoolkit.model.hbr.LinearParameterization'>\n",
      "slope_sigma <class 'pcntoolkit.model.hbr.FixedParameterization'>\n",
      "slope_sigma\n",
      "dist='normal'\n",
      "params=(0.0, 1.0)\n",
      "intercept_sigma <class 'pcntoolkit.model.hbr.FixedParameterization'>\n",
      "intercept_sigma\n",
      "dist='normal'\n",
      "params=(1.0, 1.0)\n",
      "sigma <class 'pcntoolkit.model.hbr.LinearParameterization'>\n",
      "slope_epsilon <class 'pcntoolkit.model.hbr.FixedParameterization'>\n",
      "slope_epsilon\n",
      "dist='normal'\n",
      "params=(0.0, 1.0)\n",
      "intercept_epsilon <class 'pcntoolkit.model.hbr.FixedParameterization'>\n",
      "intercept_epsilon\n",
      "dist='normal'\n",
      "params=(0.0, 1)\n",
      "epsilon <class 'pcntoolkit.model.hbr.LinearParameterization'>\n",
      "slope_delta <class 'pcntoolkit.model.hbr.FixedParameterization'>\n",
      "slope_delta\n",
      "dist='normal'\n",
      "params=(0.0, 1)\n",
      "intercept_delta <class 'pcntoolkit.model.hbr.FixedParameterization'>\n",
      "intercept_delta\n",
      "dist='normal'\n",
      "params=(2.0, 1)\n",
      "delta <class 'pcntoolkit.model.hbr.LinearParameterization'>\n"
     ]
    },
    {
     "data": {
      "text/html": [
       "\n",
       "<style>\n",
       "    /* Turns off some styling */\n",
       "    progress {\n",
       "        /* gets rid of default border in Firefox and Opera. */\n",
       "        border: none;\n",
       "        /* Needs to be in here for Safari polyfill so background images work as expected. */\n",
       "        background-size: auto;\n",
       "    }\n",
       "    .progress-bar-interrupted, .progress-bar-interrupted::-webkit-progress-bar {\n",
       "        background: #F44336;\n",
       "    }\n",
       "</style>\n"
      ],
      "text/plain": [
       "<IPython.core.display.HTML object>"
      ]
     },
     "metadata": {},
     "output_type": "display_data"
    },
    {
     "data": {
      "text/html": [
       "\n",
       "    <div>\n",
       "      <progress value='2084' class='' max='2084' style='width:300px; height:20px; vertical-align: middle;'></progress>\n",
       "      100.00% [2084/2084 07:12<00:00 logp = -41,806, ||grad|| = 14.547]\n",
       "    </div>\n",
       "    "
      ],
      "text/plain": [
       "<IPython.core.display.HTML object>"
      ]
     },
     "metadata": {},
     "output_type": "display_data"
    },
    {
     "name": "stdout",
     "output_type": "stream",
     "text": [
      "\n",
      "Found MAP in  613.5392789840698\n",
      "slope_mu <class 'pcntoolkit.model.hbr.FixedParameterization'>\n",
      "slope_mu\n",
      "dist='normal'\n",
      "params=(0.0, 1.0)\n",
      "intercept_mu <class 'pcntoolkit.model.hbr.NonCentralRandomFixedParameterization'>\n",
      "mu_intercept_mu\n",
      "dist='normal'\n",
      "params=(0.0, 1.0)\n",
      "sigma_intercept_mu\n",
      "dist='hcauchy'\n",
      "params=(1.0,)\n",
      "offset_intercept_mu\n",
      "dist='normal'\n",
      "params=(0.0, 1.0)\n",
      "mu <class 'pcntoolkit.model.hbr.LinearParameterization'>\n",
      "slope_sigma <class 'pcntoolkit.model.hbr.FixedParameterization'>\n",
      "slope_sigma\n",
      "dist='normal'\n",
      "params=(0.0, 1.0)\n",
      "intercept_sigma <class 'pcntoolkit.model.hbr.FixedParameterization'>\n",
      "intercept_sigma\n",
      "dist='normal'\n",
      "params=(0.0, 1.0)\n",
      "sigma <class 'pcntoolkit.model.hbr.LinearParameterization'>\n"
     ]
    },
    {
     "data": {
      "text/html": [
       "\n",
       "<style>\n",
       "    /* Turns off some styling */\n",
       "    progress {\n",
       "        /* gets rid of default border in Firefox and Opera. */\n",
       "        border: none;\n",
       "        /* Needs to be in here for Safari polyfill so background images work as expected. */\n",
       "        background-size: auto;\n",
       "    }\n",
       "    .progress-bar-interrupted, .progress-bar-interrupted::-webkit-progress-bar {\n",
       "        background: #F44336;\n",
       "    }\n",
       "</style>\n"
      ],
      "text/plain": [
       "<IPython.core.display.HTML object>"
      ]
     },
     "metadata": {},
     "output_type": "display_data"
    },
    {
     "data": {
      "text/html": [
       "\n",
       "    <div>\n",
       "      <progress value='575' class='' max='575' style='width:300px; height:20px; vertical-align: middle;'></progress>\n",
       "      100.00% [575/575 00:35<00:00 logp = -54,069, ||grad|| = 13.198]\n",
       "    </div>\n",
       "    "
      ],
      "text/plain": [
       "<IPython.core.display.HTML object>"
      ]
     },
     "metadata": {},
     "output_type": "display_data"
    },
    {
     "name": "stdout",
     "output_type": "stream",
     "text": [
      "\n",
      "Found MAP in  110.6165087223053\n",
      "slope_mu <class 'pcntoolkit.model.hbr.FixedParameterization'>\n",
      "slope_mu\n",
      "dist='normal'\n",
      "params=(0.0, 3.0)\n",
      "intercept_mu <class 'pcntoolkit.model.hbr.NonCentralRandomFixedParameterization'>\n",
      "mu_intercept_mu\n",
      "dist='normal'\n",
      "params=(0.0, 1.0)\n",
      "sigma_intercept_mu\n",
      "dist='hcauchy'\n",
      "params=(1.0,)\n",
      "offset_intercept_mu\n",
      "dist='normal'\n",
      "params=(0.0, 1.0)\n",
      "mu <class 'pcntoolkit.model.hbr.LinearParameterization'>\n",
      "slope_sigma <class 'pcntoolkit.model.hbr.FixedParameterization'>\n",
      "slope_sigma\n",
      "dist='normal'\n",
      "params=(0.0, 1.0)\n",
      "intercept_sigma <class 'pcntoolkit.model.hbr.FixedParameterization'>\n",
      "intercept_sigma\n",
      "dist='normal'\n",
      "params=(1.0, 1.0)\n",
      "sigma <class 'pcntoolkit.model.hbr.LinearParameterization'>\n",
      "epsilon <class 'pcntoolkit.model.hbr.FixedParameterization'>\n",
      "epsilon\n",
      "dist='normal'\n",
      "params=(0.0, 1.0)\n",
      "delta <class 'pcntoolkit.model.hbr.FixedParameterization'>\n",
      "delta\n",
      "dist='normal'\n",
      "params=(1.5, 2.0)\n"
     ]
    },
    {
     "data": {
      "text/html": [
       "\n",
       "<style>\n",
       "    /* Turns off some styling */\n",
       "    progress {\n",
       "        /* gets rid of default border in Firefox and Opera. */\n",
       "        border: none;\n",
       "        /* Needs to be in here for Safari polyfill so background images work as expected. */\n",
       "        background-size: auto;\n",
       "    }\n",
       "    .progress-bar-interrupted, .progress-bar-interrupted::-webkit-progress-bar {\n",
       "        background: #F44336;\n",
       "    }\n",
       "</style>\n"
      ],
      "text/plain": [
       "<IPython.core.display.HTML object>"
      ]
     },
     "metadata": {},
     "output_type": "display_data"
    },
    {
     "data": {
      "text/html": [
       "\n",
       "    <div>\n",
       "      <progress value='2251' class='' max='2251' style='width:300px; height:20px; vertical-align: middle;'></progress>\n",
       "      100.00% [2251/2251 04:36<00:00 logp = -8,045.7, ||grad|| = 16.699]\n",
       "    </div>\n",
       "    "
      ],
      "text/plain": [
       "<IPython.core.display.HTML object>"
      ]
     },
     "metadata": {},
     "output_type": "display_data"
    },
    {
     "name": "stdout",
     "output_type": "stream",
     "text": [
      "\n",
      "Found MAP in  381.21270513534546\n",
      "slope_mu <class 'pcntoolkit.model.hbr.FixedParameterization'>\n",
      "slope_mu\n",
      "dist='normal'\n",
      "params=(0.0, 3.0)\n",
      "intercept_mu <class 'pcntoolkit.model.hbr.NonCentralRandomFixedParameterization'>\n",
      "mu_intercept_mu\n",
      "dist='normal'\n",
      "params=(0.0, 1.0)\n",
      "sigma_intercept_mu\n",
      "dist='hcauchy'\n",
      "params=(1.0,)\n",
      "offset_intercept_mu\n",
      "dist='normal'\n",
      "params=(0.0, 1.0)\n",
      "mu <class 'pcntoolkit.model.hbr.LinearParameterization'>\n",
      "slope_sigma <class 'pcntoolkit.model.hbr.FixedParameterization'>\n",
      "slope_sigma\n",
      "dist='normal'\n",
      "params=(0.0, 1.0)\n",
      "intercept_sigma <class 'pcntoolkit.model.hbr.FixedParameterization'>\n",
      "intercept_sigma\n",
      "dist='normal'\n",
      "params=(1.0, 1.0)\n",
      "sigma <class 'pcntoolkit.model.hbr.LinearParameterization'>\n",
      "slope_epsilon <class 'pcntoolkit.model.hbr.FixedParameterization'>\n",
      "slope_epsilon\n",
      "dist='normal'\n",
      "params=(0.0, 1.0)\n",
      "intercept_epsilon <class 'pcntoolkit.model.hbr.FixedParameterization'>\n",
      "intercept_epsilon\n",
      "dist='normal'\n",
      "params=(0.0, 1)\n",
      "epsilon <class 'pcntoolkit.model.hbr.LinearParameterization'>\n",
      "slope_delta <class 'pcntoolkit.model.hbr.FixedParameterization'>\n",
      "slope_delta\n",
      "dist='normal'\n",
      "params=(0.0, 1)\n",
      "intercept_delta <class 'pcntoolkit.model.hbr.FixedParameterization'>\n",
      "intercept_delta\n",
      "dist='normal'\n",
      "params=(2.0, 1)\n",
      "delta <class 'pcntoolkit.model.hbr.LinearParameterization'>\n"
     ]
    },
    {
     "data": {
      "text/html": [
       "\n",
       "<style>\n",
       "    /* Turns off some styling */\n",
       "    progress {\n",
       "        /* gets rid of default border in Firefox and Opera. */\n",
       "        border: none;\n",
       "        /* Needs to be in here for Safari polyfill so background images work as expected. */\n",
       "        background-size: auto;\n",
       "    }\n",
       "    .progress-bar-interrupted, .progress-bar-interrupted::-webkit-progress-bar {\n",
       "        background: #F44336;\n",
       "    }\n",
       "</style>\n"
      ],
      "text/plain": [
       "<IPython.core.display.HTML object>"
      ]
     },
     "metadata": {},
     "output_type": "display_data"
    },
    {
     "data": {
      "text/html": [
       "\n",
       "    <div>\n",
       "      <progress value='3890' class='' max='3890' style='width:300px; height:20px; vertical-align: middle;'></progress>\n",
       "      100.00% [3890/3890 13:37<00:00 logp = -7,399, ||grad|| = 16.861]\n",
       "    </div>\n",
       "    "
      ],
      "text/plain": [
       "<IPython.core.display.HTML object>"
      ]
     },
     "metadata": {},
     "output_type": "display_data"
    },
    {
     "name": "stdout",
     "output_type": "stream",
     "text": [
      "\n",
      "Found MAP in  1001.3150587081909\n",
      "slope_mu <class 'pcntoolkit.model.hbr.FixedParameterization'>\n",
      "slope_mu\n",
      "dist='normal'\n",
      "params=(0.0, 1.0)\n",
      "intercept_mu <class 'pcntoolkit.model.hbr.NonCentralRandomFixedParameterization'>\n",
      "mu_intercept_mu\n",
      "dist='normal'\n",
      "params=(0.0, 1.0)\n",
      "sigma_intercept_mu\n",
      "dist='hcauchy'\n",
      "params=(1.0,)\n",
      "offset_intercept_mu\n",
      "dist='normal'\n",
      "params=(0.0, 1.0)\n",
      "mu <class 'pcntoolkit.model.hbr.LinearParameterization'>\n",
      "slope_sigma <class 'pcntoolkit.model.hbr.FixedParameterization'>\n",
      "slope_sigma\n",
      "dist='normal'\n",
      "params=(0.0, 1.0)\n",
      "intercept_sigma <class 'pcntoolkit.model.hbr.FixedParameterization'>\n",
      "intercept_sigma\n",
      "dist='normal'\n",
      "params=(0.0, 1.0)\n",
      "sigma <class 'pcntoolkit.model.hbr.LinearParameterization'>\n"
     ]
    },
    {
     "data": {
      "text/html": [
       "\n",
       "<style>\n",
       "    /* Turns off some styling */\n",
       "    progress {\n",
       "        /* gets rid of default border in Firefox and Opera. */\n",
       "        border: none;\n",
       "        /* Needs to be in here for Safari polyfill so background images work as expected. */\n",
       "        background-size: auto;\n",
       "    }\n",
       "    .progress-bar-interrupted, .progress-bar-interrupted::-webkit-progress-bar {\n",
       "        background: #F44336;\n",
       "    }\n",
       "</style>\n"
      ],
      "text/plain": [
       "<IPython.core.display.HTML object>"
      ]
     },
     "metadata": {},
     "output_type": "display_data"
    },
    {
     "data": {
      "text/html": [
       "\n",
       "    <div>\n",
       "      <progress value='1340' class='' max='1340' style='width:300px; height:20px; vertical-align: middle;'></progress>\n",
       "      100.00% [1340/1340 01:27<00:00 logp = -46,976, ||grad|| = 8.6724]\n",
       "    </div>\n",
       "    "
      ],
      "text/plain": [
       "<IPython.core.display.HTML object>"
      ]
     },
     "metadata": {},
     "output_type": "display_data"
    },
    {
     "name": "stdout",
     "output_type": "stream",
     "text": [
      "\n",
      "Found MAP in  163.3497507572174\n",
      "slope_mu <class 'pcntoolkit.model.hbr.FixedParameterization'>\n",
      "slope_mu\n",
      "dist='normal'\n",
      "params=(0.0, 3.0)\n",
      "intercept_mu <class 'pcntoolkit.model.hbr.NonCentralRandomFixedParameterization'>\n",
      "mu_intercept_mu\n",
      "dist='normal'\n",
      "params=(0.0, 1.0)\n",
      "sigma_intercept_mu\n",
      "dist='hcauchy'\n",
      "params=(1.0,)\n",
      "offset_intercept_mu\n",
      "dist='normal'\n",
      "params=(0.0, 1.0)\n",
      "mu <class 'pcntoolkit.model.hbr.LinearParameterization'>\n",
      "slope_sigma <class 'pcntoolkit.model.hbr.FixedParameterization'>\n",
      "slope_sigma\n",
      "dist='normal'\n",
      "params=(0.0, 1.0)\n",
      "intercept_sigma <class 'pcntoolkit.model.hbr.FixedParameterization'>\n",
      "intercept_sigma\n",
      "dist='normal'\n",
      "params=(1.0, 1.0)\n",
      "sigma <class 'pcntoolkit.model.hbr.LinearParameterization'>\n",
      "epsilon <class 'pcntoolkit.model.hbr.FixedParameterization'>\n",
      "epsilon\n",
      "dist='normal'\n",
      "params=(0.0, 1.0)\n",
      "delta <class 'pcntoolkit.model.hbr.FixedParameterization'>\n",
      "delta\n",
      "dist='normal'\n",
      "params=(1.5, 2.0)\n"
     ]
    },
    {
     "data": {
      "text/html": [
       "\n",
       "<style>\n",
       "    /* Turns off some styling */\n",
       "    progress {\n",
       "        /* gets rid of default border in Firefox and Opera. */\n",
       "        border: none;\n",
       "        /* Needs to be in here for Safari polyfill so background images work as expected. */\n",
       "        background-size: auto;\n",
       "    }\n",
       "    .progress-bar-interrupted, .progress-bar-interrupted::-webkit-progress-bar {\n",
       "        background: #F44336;\n",
       "    }\n",
       "</style>\n"
      ],
      "text/plain": [
       "<IPython.core.display.HTML object>"
      ]
     },
     "metadata": {},
     "output_type": "display_data"
    },
    {
     "data": {
      "text/html": [
       "\n",
       "    <div>\n",
       "      <progress value='652' class='' max='652' style='width:300px; height:20px; vertical-align: middle;'></progress>\n",
       "      100.00% [652/652 01:23<00:00 logp = -65,190, ||grad|| = 4.979]\n",
       "    </div>\n",
       "    "
      ],
      "text/plain": [
       "<IPython.core.display.HTML object>"
      ]
     },
     "metadata": {},
     "output_type": "display_data"
    },
    {
     "name": "stdout",
     "output_type": "stream",
     "text": [
      "\n",
      "Found MAP in  189.6850140094757\n",
      "slope_mu <class 'pcntoolkit.model.hbr.FixedParameterization'>\n",
      "slope_mu\n",
      "dist='normal'\n",
      "params=(0.0, 3.0)\n",
      "intercept_mu <class 'pcntoolkit.model.hbr.NonCentralRandomFixedParameterization'>\n",
      "mu_intercept_mu\n",
      "dist='normal'\n",
      "params=(0.0, 1.0)\n",
      "sigma_intercept_mu\n",
      "dist='hcauchy'\n",
      "params=(1.0,)\n",
      "offset_intercept_mu\n",
      "dist='normal'\n",
      "params=(0.0, 1.0)\n",
      "mu <class 'pcntoolkit.model.hbr.LinearParameterization'>\n",
      "slope_sigma <class 'pcntoolkit.model.hbr.FixedParameterization'>\n",
      "slope_sigma\n",
      "dist='normal'\n",
      "params=(0.0, 1.0)\n",
      "intercept_sigma <class 'pcntoolkit.model.hbr.FixedParameterization'>\n",
      "intercept_sigma\n",
      "dist='normal'\n",
      "params=(1.0, 1.0)\n",
      "sigma <class 'pcntoolkit.model.hbr.LinearParameterization'>\n",
      "slope_epsilon <class 'pcntoolkit.model.hbr.FixedParameterization'>\n",
      "slope_epsilon\n",
      "dist='normal'\n",
      "params=(0.0, 1.0)\n",
      "intercept_epsilon <class 'pcntoolkit.model.hbr.FixedParameterization'>\n",
      "intercept_epsilon\n",
      "dist='normal'\n",
      "params=(0.0, 1)\n",
      "epsilon <class 'pcntoolkit.model.hbr.LinearParameterization'>\n",
      "slope_delta <class 'pcntoolkit.model.hbr.FixedParameterization'>\n",
      "slope_delta\n",
      "dist='normal'\n",
      "params=(0.0, 1)\n",
      "intercept_delta <class 'pcntoolkit.model.hbr.FixedParameterization'>\n",
      "intercept_delta\n",
      "dist='normal'\n",
      "params=(2.0, 1)\n",
      "delta <class 'pcntoolkit.model.hbr.LinearParameterization'>\n"
     ]
    },
    {
     "data": {
      "text/html": [
       "\n",
       "<style>\n",
       "    /* Turns off some styling */\n",
       "    progress {\n",
       "        /* gets rid of default border in Firefox and Opera. */\n",
       "        border: none;\n",
       "        /* Needs to be in here for Safari polyfill so background images work as expected. */\n",
       "        background-size: auto;\n",
       "    }\n",
       "    .progress-bar-interrupted, .progress-bar-interrupted::-webkit-progress-bar {\n",
       "        background: #F44336;\n",
       "    }\n",
       "</style>\n"
      ],
      "text/plain": [
       "<IPython.core.display.HTML object>"
      ]
     },
     "metadata": {},
     "output_type": "display_data"
    },
    {
     "data": {
      "text/html": [
       "\n",
       "    <div>\n",
       "      <progress value='609' class='' max='609' style='width:300px; height:20px; vertical-align: middle;'></progress>\n",
       "      100.00% [609/609 01:59<00:00 logp = -65,173, ||grad|| = 8.1362]\n",
       "    </div>\n",
       "    "
      ],
      "text/plain": [
       "<IPython.core.display.HTML object>"
      ]
     },
     "metadata": {},
     "output_type": "display_data"
    },
    {
     "name": "stdout",
     "output_type": "stream",
     "text": [
      "\n",
      "Found MAP in  305.0962414741516\n",
      "slope_mu <class 'pcntoolkit.model.hbr.FixedParameterization'>\n",
      "slope_mu\n",
      "dist='normal'\n",
      "params=(0.0, 1.0)\n",
      "intercept_mu <class 'pcntoolkit.model.hbr.NonCentralRandomFixedParameterization'>\n",
      "mu_intercept_mu\n",
      "dist='normal'\n",
      "params=(0.0, 1.0)\n",
      "sigma_intercept_mu\n",
      "dist='hcauchy'\n",
      "params=(1.0,)\n",
      "offset_intercept_mu\n",
      "dist='normal'\n",
      "params=(0.0, 1.0)\n",
      "mu <class 'pcntoolkit.model.hbr.LinearParameterization'>\n",
      "slope_sigma <class 'pcntoolkit.model.hbr.FixedParameterization'>\n",
      "slope_sigma\n",
      "dist='normal'\n",
      "params=(0.0, 1.0)\n",
      "intercept_sigma <class 'pcntoolkit.model.hbr.FixedParameterization'>\n",
      "intercept_sigma\n",
      "dist='normal'\n",
      "params=(0.0, 1.0)\n",
      "sigma <class 'pcntoolkit.model.hbr.LinearParameterization'>\n"
     ]
    },
    {
     "data": {
      "text/html": [
       "\n",
       "<style>\n",
       "    /* Turns off some styling */\n",
       "    progress {\n",
       "        /* gets rid of default border in Firefox and Opera. */\n",
       "        border: none;\n",
       "        /* Needs to be in here for Safari polyfill so background images work as expected. */\n",
       "        background-size: auto;\n",
       "    }\n",
       "    .progress-bar-interrupted, .progress-bar-interrupted::-webkit-progress-bar {\n",
       "        background: #F44336;\n",
       "    }\n",
       "</style>\n"
      ],
      "text/plain": [
       "<IPython.core.display.HTML object>"
      ]
     },
     "metadata": {},
     "output_type": "display_data"
    },
    {
     "data": {
      "text/html": [
       "\n",
       "    <div>\n",
       "      <progress value='587' class='' max='587' style='width:300px; height:20px; vertical-align: middle;'></progress>\n",
       "      100.00% [587/587 00:38<00:00 logp = -65,931, ||grad|| = 3.9209]\n",
       "    </div>\n",
       "    "
      ],
      "text/plain": [
       "<IPython.core.display.HTML object>"
      ]
     },
     "metadata": {},
     "output_type": "display_data"
    },
    {
     "name": "stdout",
     "output_type": "stream",
     "text": [
      "\n",
      "Found MAP in  114.89420342445374\n",
      "slope_mu <class 'pcntoolkit.model.hbr.FixedParameterization'>\n",
      "slope_mu\n",
      "dist='normal'\n",
      "params=(0.0, 3.0)\n",
      "intercept_mu <class 'pcntoolkit.model.hbr.NonCentralRandomFixedParameterization'>\n",
      "mu_intercept_mu\n",
      "dist='normal'\n",
      "params=(0.0, 1.0)\n",
      "sigma_intercept_mu\n",
      "dist='hcauchy'\n",
      "params=(1.0,)\n",
      "offset_intercept_mu\n",
      "dist='normal'\n",
      "params=(0.0, 1.0)\n",
      "mu <class 'pcntoolkit.model.hbr.LinearParameterization'>\n",
      "slope_sigma <class 'pcntoolkit.model.hbr.FixedParameterization'>\n",
      "slope_sigma\n",
      "dist='normal'\n",
      "params=(0.0, 1.0)\n",
      "intercept_sigma <class 'pcntoolkit.model.hbr.FixedParameterization'>\n",
      "intercept_sigma\n",
      "dist='normal'\n",
      "params=(1.0, 1.0)\n",
      "sigma <class 'pcntoolkit.model.hbr.LinearParameterization'>\n",
      "epsilon <class 'pcntoolkit.model.hbr.FixedParameterization'>\n",
      "epsilon\n",
      "dist='normal'\n",
      "params=(0.0, 1.0)\n",
      "delta <class 'pcntoolkit.model.hbr.FixedParameterization'>\n",
      "delta\n",
      "dist='normal'\n",
      "params=(1.5, 2.0)\n"
     ]
    },
    {
     "data": {
      "text/html": [
       "\n",
       "<style>\n",
       "    /* Turns off some styling */\n",
       "    progress {\n",
       "        /* gets rid of default border in Firefox and Opera. */\n",
       "        border: none;\n",
       "        /* Needs to be in here for Safari polyfill so background images work as expected. */\n",
       "        background-size: auto;\n",
       "    }\n",
       "    .progress-bar-interrupted, .progress-bar-interrupted::-webkit-progress-bar {\n",
       "        background: #F44336;\n",
       "    }\n",
       "</style>\n"
      ],
      "text/plain": [
       "<IPython.core.display.HTML object>"
      ]
     },
     "metadata": {},
     "output_type": "display_data"
    },
    {
     "data": {
      "text/html": [
       "\n",
       "    <div>\n",
       "      <progress value='786' class='' max='786' style='width:300px; height:20px; vertical-align: middle;'></progress>\n",
       "      100.00% [786/786 01:36<00:00 logp = -61,166, ||grad|| = 18.112]\n",
       "    </div>\n",
       "    "
      ],
      "text/plain": [
       "<IPython.core.display.HTML object>"
      ]
     },
     "metadata": {},
     "output_type": "display_data"
    },
    {
     "name": "stdout",
     "output_type": "stream",
     "text": [
      "\n",
      "Found MAP in  201.52750205993652\n",
      "slope_mu <class 'pcntoolkit.model.hbr.FixedParameterization'>\n",
      "slope_mu\n",
      "dist='normal'\n",
      "params=(0.0, 3.0)\n",
      "intercept_mu <class 'pcntoolkit.model.hbr.NonCentralRandomFixedParameterization'>\n",
      "mu_intercept_mu\n",
      "dist='normal'\n",
      "params=(0.0, 1.0)\n",
      "sigma_intercept_mu\n",
      "dist='hcauchy'\n",
      "params=(1.0,)\n",
      "offset_intercept_mu\n",
      "dist='normal'\n",
      "params=(0.0, 1.0)\n",
      "mu <class 'pcntoolkit.model.hbr.LinearParameterization'>\n",
      "slope_sigma <class 'pcntoolkit.model.hbr.FixedParameterization'>\n",
      "slope_sigma\n",
      "dist='normal'\n",
      "params=(0.0, 1.0)\n",
      "intercept_sigma <class 'pcntoolkit.model.hbr.FixedParameterization'>\n",
      "intercept_sigma\n",
      "dist='normal'\n",
      "params=(1.0, 1.0)\n",
      "sigma <class 'pcntoolkit.model.hbr.LinearParameterization'>\n",
      "slope_epsilon <class 'pcntoolkit.model.hbr.FixedParameterization'>\n",
      "slope_epsilon\n",
      "dist='normal'\n",
      "params=(0.0, 1.0)\n",
      "intercept_epsilon <class 'pcntoolkit.model.hbr.FixedParameterization'>\n",
      "intercept_epsilon\n",
      "dist='normal'\n",
      "params=(0.0, 1)\n",
      "epsilon <class 'pcntoolkit.model.hbr.LinearParameterization'>\n",
      "slope_delta <class 'pcntoolkit.model.hbr.FixedParameterization'>\n",
      "slope_delta\n",
      "dist='normal'\n",
      "params=(0.0, 1)\n",
      "intercept_delta <class 'pcntoolkit.model.hbr.FixedParameterization'>\n",
      "intercept_delta\n",
      "dist='normal'\n",
      "params=(2.0, 1)\n",
      "delta <class 'pcntoolkit.model.hbr.LinearParameterization'>\n"
     ]
    },
    {
     "data": {
      "text/html": [
       "\n",
       "<style>\n",
       "    /* Turns off some styling */\n",
       "    progress {\n",
       "        /* gets rid of default border in Firefox and Opera. */\n",
       "        border: none;\n",
       "        /* Needs to be in here for Safari polyfill so background images work as expected. */\n",
       "        background-size: auto;\n",
       "    }\n",
       "    .progress-bar-interrupted, .progress-bar-interrupted::-webkit-progress-bar {\n",
       "        background: #F44336;\n",
       "    }\n",
       "</style>\n"
      ],
      "text/plain": [
       "<IPython.core.display.HTML object>"
      ]
     },
     "metadata": {},
     "output_type": "display_data"
    },
    {
     "data": {
      "text/html": [
       "\n",
       "    <div>\n",
       "      <progress value='849' class='' max='849' style='width:300px; height:20px; vertical-align: middle;'></progress>\n",
       "      100.00% [849/849 02:48<00:00 logp = -61,161, ||grad|| = 9.6467]\n",
       "    </div>\n",
       "    "
      ],
      "text/plain": [
       "<IPython.core.display.HTML object>"
      ]
     },
     "metadata": {},
     "output_type": "display_data"
    },
    {
     "name": "stdout",
     "output_type": "stream",
     "text": [
      "\n",
      "Found MAP in  348.2657959461212\n",
      "slope_mu <class 'pcntoolkit.model.hbr.FixedParameterization'>\n",
      "slope_mu\n",
      "dist='normal'\n",
      "params=(0.0, 1.0)\n",
      "intercept_mu <class 'pcntoolkit.model.hbr.NonCentralRandomFixedParameterization'>\n",
      "mu_intercept_mu\n",
      "dist='normal'\n",
      "params=(0.0, 1.0)\n",
      "sigma_intercept_mu\n",
      "dist='hcauchy'\n",
      "params=(1.0,)\n",
      "offset_intercept_mu\n",
      "dist='normal'\n",
      "params=(0.0, 1.0)\n",
      "mu <class 'pcntoolkit.model.hbr.LinearParameterization'>\n",
      "slope_sigma <class 'pcntoolkit.model.hbr.FixedParameterization'>\n",
      "slope_sigma\n",
      "dist='normal'\n",
      "params=(0.0, 1.0)\n",
      "intercept_sigma <class 'pcntoolkit.model.hbr.FixedParameterization'>\n",
      "intercept_sigma\n",
      "dist='normal'\n",
      "params=(0.0, 1.0)\n",
      "sigma <class 'pcntoolkit.model.hbr.LinearParameterization'>\n"
     ]
    },
    {
     "data": {
      "text/html": [
       "\n",
       "<style>\n",
       "    /* Turns off some styling */\n",
       "    progress {\n",
       "        /* gets rid of default border in Firefox and Opera. */\n",
       "        border: none;\n",
       "        /* Needs to be in here for Safari polyfill so background images work as expected. */\n",
       "        background-size: auto;\n",
       "    }\n",
       "    .progress-bar-interrupted, .progress-bar-interrupted::-webkit-progress-bar {\n",
       "        background: #F44336;\n",
       "    }\n",
       "</style>\n"
      ],
      "text/plain": [
       "<IPython.core.display.HTML object>"
      ]
     },
     "metadata": {},
     "output_type": "display_data"
    },
    {
     "data": {
      "text/html": [
       "\n",
       "    <div>\n",
       "      <progress value='672' class='' max='672' style='width:300px; height:20px; vertical-align: middle;'></progress>\n",
       "      100.00% [672/672 00:42<00:00 logp = -61,539, ||grad|| = 2.4969]\n",
       "    </div>\n",
       "    "
      ],
      "text/plain": [
       "<IPython.core.display.HTML object>"
      ]
     },
     "metadata": {},
     "output_type": "display_data"
    },
    {
     "name": "stdout",
     "output_type": "stream",
     "text": [
      "\n",
      "Found MAP in  117.47343468666077\n",
      "slope_mu <class 'pcntoolkit.model.hbr.FixedParameterization'>\n",
      "slope_mu\n",
      "dist='normal'\n",
      "params=(0.0, 3.0)\n",
      "intercept_mu <class 'pcntoolkit.model.hbr.NonCentralRandomFixedParameterization'>\n",
      "mu_intercept_mu\n",
      "dist='normal'\n",
      "params=(0.0, 1.0)\n",
      "sigma_intercept_mu\n",
      "dist='hcauchy'\n",
      "params=(1.0,)\n",
      "offset_intercept_mu\n",
      "dist='normal'\n",
      "params=(0.0, 1.0)\n",
      "mu <class 'pcntoolkit.model.hbr.LinearParameterization'>\n",
      "slope_sigma <class 'pcntoolkit.model.hbr.FixedParameterization'>\n",
      "slope_sigma\n",
      "dist='normal'\n",
      "params=(0.0, 1.0)\n",
      "intercept_sigma <class 'pcntoolkit.model.hbr.FixedParameterization'>\n",
      "intercept_sigma\n",
      "dist='normal'\n",
      "params=(1.0, 1.0)\n",
      "sigma <class 'pcntoolkit.model.hbr.LinearParameterization'>\n",
      "epsilon <class 'pcntoolkit.model.hbr.FixedParameterization'>\n",
      "epsilon\n",
      "dist='normal'\n",
      "params=(0.0, 1.0)\n",
      "delta <class 'pcntoolkit.model.hbr.FixedParameterization'>\n",
      "delta\n",
      "dist='normal'\n",
      "params=(1.5, 2.0)\n"
     ]
    },
    {
     "data": {
      "text/html": [
       "\n",
       "<style>\n",
       "    /* Turns off some styling */\n",
       "    progress {\n",
       "        /* gets rid of default border in Firefox and Opera. */\n",
       "        border: none;\n",
       "        /* Needs to be in here for Safari polyfill so background images work as expected. */\n",
       "        background-size: auto;\n",
       "    }\n",
       "    .progress-bar-interrupted, .progress-bar-interrupted::-webkit-progress-bar {\n",
       "        background: #F44336;\n",
       "    }\n",
       "</style>\n"
      ],
      "text/plain": [
       "<IPython.core.display.HTML object>"
      ]
     },
     "metadata": {},
     "output_type": "display_data"
    },
    {
     "data": {
      "text/html": [
       "\n",
       "    <div>\n",
       "      <progress value='760' class='' max='760' style='width:300px; height:20px; vertical-align: middle;'></progress>\n",
       "      100.00% [760/760 01:36<00:00 logp = -60,815, ||grad|| = 4.4071]\n",
       "    </div>\n",
       "    "
      ],
      "text/plain": [
       "<IPython.core.display.HTML object>"
      ]
     },
     "metadata": {},
     "output_type": "display_data"
    },
    {
     "name": "stdout",
     "output_type": "stream",
     "text": [
      "\n",
      "Found MAP in  210.28551840782166\n",
      "slope_mu <class 'pcntoolkit.model.hbr.FixedParameterization'>\n",
      "slope_mu\n",
      "dist='normal'\n",
      "params=(0.0, 3.0)\n",
      "intercept_mu <class 'pcntoolkit.model.hbr.NonCentralRandomFixedParameterization'>\n",
      "mu_intercept_mu\n",
      "dist='normal'\n",
      "params=(0.0, 1.0)\n",
      "sigma_intercept_mu\n",
      "dist='hcauchy'\n",
      "params=(1.0,)\n",
      "offset_intercept_mu\n",
      "dist='normal'\n",
      "params=(0.0, 1.0)\n",
      "mu <class 'pcntoolkit.model.hbr.LinearParameterization'>\n",
      "slope_sigma <class 'pcntoolkit.model.hbr.FixedParameterization'>\n",
      "slope_sigma\n",
      "dist='normal'\n",
      "params=(0.0, 1.0)\n",
      "intercept_sigma <class 'pcntoolkit.model.hbr.FixedParameterization'>\n",
      "intercept_sigma\n",
      "dist='normal'\n",
      "params=(1.0, 1.0)\n",
      "sigma <class 'pcntoolkit.model.hbr.LinearParameterization'>\n",
      "slope_epsilon <class 'pcntoolkit.model.hbr.FixedParameterization'>\n",
      "slope_epsilon\n",
      "dist='normal'\n",
      "params=(0.0, 1.0)\n",
      "intercept_epsilon <class 'pcntoolkit.model.hbr.FixedParameterization'>\n",
      "intercept_epsilon\n",
      "dist='normal'\n",
      "params=(0.0, 1)\n",
      "epsilon <class 'pcntoolkit.model.hbr.LinearParameterization'>\n",
      "slope_delta <class 'pcntoolkit.model.hbr.FixedParameterization'>\n",
      "slope_delta\n",
      "dist='normal'\n",
      "params=(0.0, 1)\n",
      "intercept_delta <class 'pcntoolkit.model.hbr.FixedParameterization'>\n",
      "intercept_delta\n",
      "dist='normal'\n",
      "params=(2.0, 1)\n",
      "delta <class 'pcntoolkit.model.hbr.LinearParameterization'>\n"
     ]
    },
    {
     "data": {
      "text/html": [
       "\n",
       "<style>\n",
       "    /* Turns off some styling */\n",
       "    progress {\n",
       "        /* gets rid of default border in Firefox and Opera. */\n",
       "        border: none;\n",
       "        /* Needs to be in here for Safari polyfill so background images work as expected. */\n",
       "        background-size: auto;\n",
       "    }\n",
       "    .progress-bar-interrupted, .progress-bar-interrupted::-webkit-progress-bar {\n",
       "        background: #F44336;\n",
       "    }\n",
       "</style>\n"
      ],
      "text/plain": [
       "<IPython.core.display.HTML object>"
      ]
     },
     "metadata": {},
     "output_type": "display_data"
    },
    {
     "data": {
      "text/html": [
       "\n",
       "    <div>\n",
       "      <progress value='909' class='' max='909' style='width:300px; height:20px; vertical-align: middle;'></progress>\n",
       "      100.00% [909/909 02:59<00:00 logp = -60,758, ||grad|| = 24.581]\n",
       "    </div>\n",
       "    "
      ],
      "text/plain": [
       "<IPython.core.display.HTML object>"
      ]
     },
     "metadata": {},
     "output_type": "display_data"
    },
    {
     "name": "stdout",
     "output_type": "stream",
     "text": [
      "\n",
      "Found MAP in  358.5431184768677\n",
      "slope_mu <class 'pcntoolkit.model.hbr.FixedParameterization'>\n",
      "slope_mu\n",
      "dist='normal'\n",
      "params=(0.0, 1.0)\n",
      "intercept_mu <class 'pcntoolkit.model.hbr.NonCentralRandomFixedParameterization'>\n",
      "mu_intercept_mu\n",
      "dist='normal'\n",
      "params=(0.0, 1.0)\n",
      "sigma_intercept_mu\n",
      "dist='hcauchy'\n",
      "params=(1.0,)\n",
      "offset_intercept_mu\n",
      "dist='normal'\n",
      "params=(0.0, 1.0)\n",
      "mu <class 'pcntoolkit.model.hbr.LinearParameterization'>\n",
      "slope_sigma <class 'pcntoolkit.model.hbr.FixedParameterization'>\n",
      "slope_sigma\n",
      "dist='normal'\n",
      "params=(0.0, 1.0)\n",
      "intercept_sigma <class 'pcntoolkit.model.hbr.FixedParameterization'>\n",
      "intercept_sigma\n",
      "dist='normal'\n",
      "params=(0.0, 1.0)\n",
      "sigma <class 'pcntoolkit.model.hbr.LinearParameterization'>\n"
     ]
    },
    {
     "data": {
      "text/html": [
       "\n",
       "<style>\n",
       "    /* Turns off some styling */\n",
       "    progress {\n",
       "        /* gets rid of default border in Firefox and Opera. */\n",
       "        border: none;\n",
       "        /* Needs to be in here for Safari polyfill so background images work as expected. */\n",
       "        background-size: auto;\n",
       "    }\n",
       "    .progress-bar-interrupted, .progress-bar-interrupted::-webkit-progress-bar {\n",
       "        background: #F44336;\n",
       "    }\n",
       "</style>\n"
      ],
      "text/plain": [
       "<IPython.core.display.HTML object>"
      ]
     },
     "metadata": {},
     "output_type": "display_data"
    },
    {
     "data": {
      "text/html": [
       "\n",
       "    <div>\n",
       "      <progress value='694' class='' max='694' style='width:300px; height:20px; vertical-align: middle;'></progress>\n",
       "      100.00% [694/694 00:42<00:00 logp = -64,628, ||grad|| = 3.5489]\n",
       "    </div>\n",
       "    "
      ],
      "text/plain": [
       "<IPython.core.display.HTML object>"
      ]
     },
     "metadata": {},
     "output_type": "display_data"
    },
    {
     "name": "stdout",
     "output_type": "stream",
     "text": [
      "\n",
      "Found MAP in  113.46803951263428\n",
      "slope_mu <class 'pcntoolkit.model.hbr.FixedParameterization'>\n",
      "slope_mu\n",
      "dist='normal'\n",
      "params=(0.0, 3.0)\n",
      "intercept_mu <class 'pcntoolkit.model.hbr.NonCentralRandomFixedParameterization'>\n",
      "mu_intercept_mu\n",
      "dist='normal'\n",
      "params=(0.0, 1.0)\n",
      "sigma_intercept_mu\n",
      "dist='hcauchy'\n",
      "params=(1.0,)\n",
      "offset_intercept_mu\n",
      "dist='normal'\n",
      "params=(0.0, 1.0)\n",
      "mu <class 'pcntoolkit.model.hbr.LinearParameterization'>\n",
      "slope_sigma <class 'pcntoolkit.model.hbr.FixedParameterization'>\n",
      "slope_sigma\n",
      "dist='normal'\n",
      "params=(0.0, 1.0)\n",
      "intercept_sigma <class 'pcntoolkit.model.hbr.FixedParameterization'>\n",
      "intercept_sigma\n",
      "dist='normal'\n",
      "params=(1.0, 1.0)\n",
      "sigma <class 'pcntoolkit.model.hbr.LinearParameterization'>\n",
      "epsilon <class 'pcntoolkit.model.hbr.FixedParameterization'>\n",
      "epsilon\n",
      "dist='normal'\n",
      "params=(0.0, 1.0)\n",
      "delta <class 'pcntoolkit.model.hbr.FixedParameterization'>\n",
      "delta\n",
      "dist='normal'\n",
      "params=(1.5, 2.0)\n"
     ]
    },
    {
     "data": {
      "text/html": [
       "\n",
       "<style>\n",
       "    /* Turns off some styling */\n",
       "    progress {\n",
       "        /* gets rid of default border in Firefox and Opera. */\n",
       "        border: none;\n",
       "        /* Needs to be in here for Safari polyfill so background images work as expected. */\n",
       "        background-size: auto;\n",
       "    }\n",
       "    .progress-bar-interrupted, .progress-bar-interrupted::-webkit-progress-bar {\n",
       "        background: #F44336;\n",
       "    }\n",
       "</style>\n"
      ],
      "text/plain": [
       "<IPython.core.display.HTML object>"
      ]
     },
     "metadata": {},
     "output_type": "display_data"
    },
    {
     "data": {
      "text/html": [
       "\n",
       "    <div>\n",
       "      <progress value='768' class='' max='768' style='width:300px; height:20px; vertical-align: middle;'></progress>\n",
       "      100.00% [768/768 01:37<00:00 logp = -62,919, ||grad|| = 7.5318]\n",
       "    </div>\n",
       "    "
      ],
      "text/plain": [
       "<IPython.core.display.HTML object>"
      ]
     },
     "metadata": {},
     "output_type": "display_data"
    },
    {
     "name": "stdout",
     "output_type": "stream",
     "text": [
      "\n",
      "Found MAP in  204.50506591796875\n",
      "slope_mu <class 'pcntoolkit.model.hbr.FixedParameterization'>\n",
      "slope_mu\n",
      "dist='normal'\n",
      "params=(0.0, 3.0)\n",
      "intercept_mu <class 'pcntoolkit.model.hbr.NonCentralRandomFixedParameterization'>\n",
      "mu_intercept_mu\n",
      "dist='normal'\n",
      "params=(0.0, 1.0)\n",
      "sigma_intercept_mu\n",
      "dist='hcauchy'\n",
      "params=(1.0,)\n",
      "offset_intercept_mu\n",
      "dist='normal'\n",
      "params=(0.0, 1.0)\n",
      "mu <class 'pcntoolkit.model.hbr.LinearParameterization'>\n",
      "slope_sigma <class 'pcntoolkit.model.hbr.FixedParameterization'>\n",
      "slope_sigma\n",
      "dist='normal'\n",
      "params=(0.0, 1.0)\n",
      "intercept_sigma <class 'pcntoolkit.model.hbr.FixedParameterization'>\n",
      "intercept_sigma\n",
      "dist='normal'\n",
      "params=(1.0, 1.0)\n",
      "sigma <class 'pcntoolkit.model.hbr.LinearParameterization'>\n",
      "slope_epsilon <class 'pcntoolkit.model.hbr.FixedParameterization'>\n",
      "slope_epsilon\n",
      "dist='normal'\n",
      "params=(0.0, 1.0)\n",
      "intercept_epsilon <class 'pcntoolkit.model.hbr.FixedParameterization'>\n",
      "intercept_epsilon\n",
      "dist='normal'\n",
      "params=(0.0, 1)\n",
      "epsilon <class 'pcntoolkit.model.hbr.LinearParameterization'>\n",
      "slope_delta <class 'pcntoolkit.model.hbr.FixedParameterization'>\n",
      "slope_delta\n",
      "dist='normal'\n",
      "params=(0.0, 1)\n",
      "intercept_delta <class 'pcntoolkit.model.hbr.FixedParameterization'>\n",
      "intercept_delta\n",
      "dist='normal'\n",
      "params=(2.0, 1)\n",
      "delta <class 'pcntoolkit.model.hbr.LinearParameterization'>\n"
     ]
    },
    {
     "data": {
      "text/html": [
       "\n",
       "<style>\n",
       "    /* Turns off some styling */\n",
       "    progress {\n",
       "        /* gets rid of default border in Firefox and Opera. */\n",
       "        border: none;\n",
       "        /* Needs to be in here for Safari polyfill so background images work as expected. */\n",
       "        background-size: auto;\n",
       "    }\n",
       "    .progress-bar-interrupted, .progress-bar-interrupted::-webkit-progress-bar {\n",
       "        background: #F44336;\n",
       "    }\n",
       "</style>\n"
      ],
      "text/plain": [
       "<IPython.core.display.HTML object>"
      ]
     },
     "metadata": {},
     "output_type": "display_data"
    },
    {
     "data": {
      "text/html": [
       "\n",
       "    <div>\n",
       "      <progress value='822' class='' max='822' style='width:300px; height:20px; vertical-align: middle;'></progress>\n",
       "      100.00% [822/822 02:56<00:00 logp = -62,754, ||grad|| = 5.6232]\n",
       "    </div>\n",
       "    "
      ],
      "text/plain": [
       "<IPython.core.display.HTML object>"
      ]
     },
     "metadata": {},
     "output_type": "display_data"
    },
    {
     "name": "stdout",
     "output_type": "stream",
     "text": [
      "\n",
      "Found MAP in  352.9847288131714\n",
      "slope_mu <class 'pcntoolkit.model.hbr.FixedParameterization'>\n",
      "slope_mu\n",
      "dist='normal'\n",
      "params=(0.0, 1.0)\n",
      "intercept_mu <class 'pcntoolkit.model.hbr.NonCentralRandomFixedParameterization'>\n",
      "mu_intercept_mu\n",
      "dist='normal'\n",
      "params=(0.0, 1.0)\n",
      "sigma_intercept_mu\n",
      "dist='hcauchy'\n",
      "params=(1.0,)\n",
      "offset_intercept_mu\n",
      "dist='normal'\n",
      "params=(0.0, 1.0)\n",
      "mu <class 'pcntoolkit.model.hbr.LinearParameterization'>\n",
      "slope_sigma <class 'pcntoolkit.model.hbr.FixedParameterization'>\n",
      "slope_sigma\n",
      "dist='normal'\n",
      "params=(0.0, 1.0)\n",
      "intercept_sigma <class 'pcntoolkit.model.hbr.FixedParameterization'>\n",
      "intercept_sigma\n",
      "dist='normal'\n",
      "params=(0.0, 1.0)\n",
      "sigma <class 'pcntoolkit.model.hbr.LinearParameterization'>\n"
     ]
    },
    {
     "data": {
      "text/html": [
       "\n",
       "<style>\n",
       "    /* Turns off some styling */\n",
       "    progress {\n",
       "        /* gets rid of default border in Firefox and Opera. */\n",
       "        border: none;\n",
       "        /* Needs to be in here for Safari polyfill so background images work as expected. */\n",
       "        background-size: auto;\n",
       "    }\n",
       "    .progress-bar-interrupted, .progress-bar-interrupted::-webkit-progress-bar {\n",
       "        background: #F44336;\n",
       "    }\n",
       "</style>\n"
      ],
      "text/plain": [
       "<IPython.core.display.HTML object>"
      ]
     },
     "metadata": {},
     "output_type": "display_data"
    },
    {
     "data": {
      "text/html": [
       "\n",
       "    <div>\n",
       "      <progress value='533' class='' max='533' style='width:300px; height:20px; vertical-align: middle;'></progress>\n",
       "      100.00% [533/533 00:31<00:00 logp = -63,256, ||grad|| = 6.6483]\n",
       "    </div>\n",
       "    "
      ],
      "text/plain": [
       "<IPython.core.display.HTML object>"
      ]
     },
     "metadata": {},
     "output_type": "display_data"
    },
    {
     "name": "stdout",
     "output_type": "stream",
     "text": [
      "\n",
      "Found MAP in  99.24500679969788\n",
      "slope_mu <class 'pcntoolkit.model.hbr.FixedParameterization'>\n",
      "slope_mu\n",
      "dist='normal'\n",
      "params=(0.0, 3.0)\n",
      "intercept_mu <class 'pcntoolkit.model.hbr.NonCentralRandomFixedParameterization'>\n",
      "mu_intercept_mu\n",
      "dist='normal'\n",
      "params=(0.0, 1.0)\n",
      "sigma_intercept_mu\n",
      "dist='hcauchy'\n",
      "params=(1.0,)\n",
      "offset_intercept_mu\n",
      "dist='normal'\n",
      "params=(0.0, 1.0)\n",
      "mu <class 'pcntoolkit.model.hbr.LinearParameterization'>\n",
      "slope_sigma <class 'pcntoolkit.model.hbr.FixedParameterization'>\n",
      "slope_sigma\n",
      "dist='normal'\n",
      "params=(0.0, 1.0)\n",
      "intercept_sigma <class 'pcntoolkit.model.hbr.FixedParameterization'>\n",
      "intercept_sigma\n",
      "dist='normal'\n",
      "params=(1.0, 1.0)\n",
      "sigma <class 'pcntoolkit.model.hbr.LinearParameterization'>\n",
      "epsilon <class 'pcntoolkit.model.hbr.FixedParameterization'>\n",
      "epsilon\n",
      "dist='normal'\n",
      "params=(0.0, 1.0)\n",
      "delta <class 'pcntoolkit.model.hbr.FixedParameterization'>\n",
      "delta\n",
      "dist='normal'\n",
      "params=(1.5, 2.0)\n"
     ]
    },
    {
     "data": {
      "text/html": [
       "\n",
       "<style>\n",
       "    /* Turns off some styling */\n",
       "    progress {\n",
       "        /* gets rid of default border in Firefox and Opera. */\n",
       "        border: none;\n",
       "        /* Needs to be in here for Safari polyfill so background images work as expected. */\n",
       "        background-size: auto;\n",
       "    }\n",
       "    .progress-bar-interrupted, .progress-bar-interrupted::-webkit-progress-bar {\n",
       "        background: #F44336;\n",
       "    }\n",
       "</style>\n"
      ],
      "text/plain": [
       "<IPython.core.display.HTML object>"
      ]
     },
     "metadata": {},
     "output_type": "display_data"
    },
    {
     "data": {
      "text/html": [
       "\n",
       "    <div>\n",
       "      <progress value='1612' class='' max='1612' style='width:300px; height:20px; vertical-align: middle;'></progress>\n",
       "      100.00% [1612/1612 03:55<00:00 logp = -42,006, ||grad|| = 11.646]\n",
       "    </div>\n",
       "    "
      ],
      "text/plain": [
       "<IPython.core.display.HTML object>"
      ]
     },
     "metadata": {},
     "output_type": "display_data"
    },
    {
     "name": "stdout",
     "output_type": "stream",
     "text": [
      "\n",
      "Found MAP in  327.3057246208191\n",
      "slope_mu <class 'pcntoolkit.model.hbr.FixedParameterization'>\n",
      "slope_mu\n",
      "dist='normal'\n",
      "params=(0.0, 3.0)\n",
      "intercept_mu <class 'pcntoolkit.model.hbr.NonCentralRandomFixedParameterization'>\n",
      "mu_intercept_mu\n",
      "dist='normal'\n",
      "params=(0.0, 1.0)\n",
      "sigma_intercept_mu\n",
      "dist='hcauchy'\n",
      "params=(1.0,)\n",
      "offset_intercept_mu\n",
      "dist='normal'\n",
      "params=(0.0, 1.0)\n",
      "mu <class 'pcntoolkit.model.hbr.LinearParameterization'>\n",
      "slope_sigma <class 'pcntoolkit.model.hbr.FixedParameterization'>\n",
      "slope_sigma\n",
      "dist='normal'\n",
      "params=(0.0, 1.0)\n",
      "intercept_sigma <class 'pcntoolkit.model.hbr.FixedParameterization'>\n",
      "intercept_sigma\n",
      "dist='normal'\n",
      "params=(1.0, 1.0)\n",
      "sigma <class 'pcntoolkit.model.hbr.LinearParameterization'>\n",
      "slope_epsilon <class 'pcntoolkit.model.hbr.FixedParameterization'>\n",
      "slope_epsilon\n",
      "dist='normal'\n",
      "params=(0.0, 1.0)\n",
      "intercept_epsilon <class 'pcntoolkit.model.hbr.FixedParameterization'>\n",
      "intercept_epsilon\n",
      "dist='normal'\n",
      "params=(0.0, 1)\n",
      "epsilon <class 'pcntoolkit.model.hbr.LinearParameterization'>\n",
      "slope_delta <class 'pcntoolkit.model.hbr.FixedParameterization'>\n",
      "slope_delta\n",
      "dist='normal'\n",
      "params=(0.0, 1)\n",
      "intercept_delta <class 'pcntoolkit.model.hbr.FixedParameterization'>\n",
      "intercept_delta\n",
      "dist='normal'\n",
      "params=(2.0, 1)\n",
      "delta <class 'pcntoolkit.model.hbr.LinearParameterization'>\n"
     ]
    },
    {
     "data": {
      "text/html": [
       "\n",
       "<style>\n",
       "    /* Turns off some styling */\n",
       "    progress {\n",
       "        /* gets rid of default border in Firefox and Opera. */\n",
       "        border: none;\n",
       "        /* Needs to be in here for Safari polyfill so background images work as expected. */\n",
       "        background-size: auto;\n",
       "    }\n",
       "    .progress-bar-interrupted, .progress-bar-interrupted::-webkit-progress-bar {\n",
       "        background: #F44336;\n",
       "    }\n",
       "</style>\n"
      ],
      "text/plain": [
       "<IPython.core.display.HTML object>"
      ]
     },
     "metadata": {},
     "output_type": "display_data"
    },
    {
     "data": {
      "text/html": [
       "\n",
       "    <div>\n",
       "      <progress value='2156' class='' max='2156' style='width:300px; height:20px; vertical-align: middle;'></progress>\n",
       "      100.00% [2156/2156 08:12<00:00 logp = -41,650, ||grad|| = 32.592]\n",
       "    </div>\n",
       "    "
      ],
      "text/plain": [
       "<IPython.core.display.HTML object>"
      ]
     },
     "metadata": {},
     "output_type": "display_data"
    },
    {
     "name": "stdout",
     "output_type": "stream",
     "text": [
      "\n",
      "Found MAP in  644.7145364284515\n",
      "slope_mu <class 'pcntoolkit.model.hbr.FixedParameterization'>\n",
      "slope_mu\n",
      "dist='normal'\n",
      "params=(0.0, 1.0)\n",
      "intercept_mu <class 'pcntoolkit.model.hbr.NonCentralRandomFixedParameterization'>\n",
      "mu_intercept_mu\n",
      "dist='normal'\n",
      "params=(0.0, 1.0)\n",
      "sigma_intercept_mu\n",
      "dist='hcauchy'\n",
      "params=(1.0,)\n",
      "offset_intercept_mu\n",
      "dist='normal'\n",
      "params=(0.0, 1.0)\n",
      "mu <class 'pcntoolkit.model.hbr.LinearParameterization'>\n",
      "slope_sigma <class 'pcntoolkit.model.hbr.FixedParameterization'>\n",
      "slope_sigma\n",
      "dist='normal'\n",
      "params=(0.0, 1.0)\n",
      "intercept_sigma <class 'pcntoolkit.model.hbr.FixedParameterization'>\n",
      "intercept_sigma\n",
      "dist='normal'\n",
      "params=(0.0, 1.0)\n",
      "sigma <class 'pcntoolkit.model.hbr.LinearParameterization'>\n"
     ]
    },
    {
     "data": {
      "text/html": [
       "\n",
       "<style>\n",
       "    /* Turns off some styling */\n",
       "    progress {\n",
       "        /* gets rid of default border in Firefox and Opera. */\n",
       "        border: none;\n",
       "        /* Needs to be in here for Safari polyfill so background images work as expected. */\n",
       "        background-size: auto;\n",
       "    }\n",
       "    .progress-bar-interrupted, .progress-bar-interrupted::-webkit-progress-bar {\n",
       "        background: #F44336;\n",
       "    }\n",
       "</style>\n"
      ],
      "text/plain": [
       "<IPython.core.display.HTML object>"
      ]
     },
     "metadata": {},
     "output_type": "display_data"
    },
    {
     "data": {
      "text/html": [
       "\n",
       "    <div>\n",
       "      <progress value='640' class='' max='640' style='width:300px; height:20px; vertical-align: middle;'></progress>\n",
       "      100.00% [640/640 00:43<00:00 logp = -54,062, ||grad|| = 17.415]\n",
       "    </div>\n",
       "    "
      ],
      "text/plain": [
       "<IPython.core.display.HTML object>"
      ]
     },
     "metadata": {},
     "output_type": "display_data"
    },
    {
     "name": "stdout",
     "output_type": "stream",
     "text": [
      "\n",
      "Found MAP in  108.97928309440613\n",
      "slope_mu <class 'pcntoolkit.model.hbr.FixedParameterization'>\n",
      "slope_mu\n",
      "dist='normal'\n",
      "params=(0.0, 3.0)\n",
      "intercept_mu <class 'pcntoolkit.model.hbr.NonCentralRandomFixedParameterization'>\n",
      "mu_intercept_mu\n",
      "dist='normal'\n",
      "params=(0.0, 1.0)\n",
      "sigma_intercept_mu\n",
      "dist='hcauchy'\n",
      "params=(1.0,)\n",
      "offset_intercept_mu\n",
      "dist='normal'\n",
      "params=(0.0, 1.0)\n",
      "mu <class 'pcntoolkit.model.hbr.LinearParameterization'>\n",
      "slope_sigma <class 'pcntoolkit.model.hbr.FixedParameterization'>\n",
      "slope_sigma\n",
      "dist='normal'\n",
      "params=(0.0, 1.0)\n",
      "intercept_sigma <class 'pcntoolkit.model.hbr.FixedParameterization'>\n",
      "intercept_sigma\n",
      "dist='normal'\n",
      "params=(1.0, 1.0)\n",
      "sigma <class 'pcntoolkit.model.hbr.LinearParameterization'>\n",
      "epsilon <class 'pcntoolkit.model.hbr.FixedParameterization'>\n",
      "epsilon\n",
      "dist='normal'\n",
      "params=(0.0, 1.0)\n",
      "delta <class 'pcntoolkit.model.hbr.FixedParameterization'>\n",
      "delta\n",
      "dist='normal'\n",
      "params=(1.5, 2.0)\n"
     ]
    },
    {
     "data": {
      "text/html": [
       "\n",
       "<style>\n",
       "    /* Turns off some styling */\n",
       "    progress {\n",
       "        /* gets rid of default border in Firefox and Opera. */\n",
       "        border: none;\n",
       "        /* Needs to be in here for Safari polyfill so background images work as expected. */\n",
       "        background-size: auto;\n",
       "    }\n",
       "    .progress-bar-interrupted, .progress-bar-interrupted::-webkit-progress-bar {\n",
       "        background: #F44336;\n",
       "    }\n",
       "</style>\n"
      ],
      "text/plain": [
       "<IPython.core.display.HTML object>"
      ]
     },
     "metadata": {},
     "output_type": "display_data"
    },
    {
     "data": {
      "text/html": [
       "\n",
       "    <div>\n",
       "      <progress value='2896' class='' max='2896' style='width:300px; height:20px; vertical-align: middle;'></progress>\n",
       "      100.00% [2896/2896 06:06<00:00 logp = -8,452.9, ||grad|| = 5.9772]\n",
       "    </div>\n",
       "    "
      ],
      "text/plain": [
       "<IPython.core.display.HTML object>"
      ]
     },
     "metadata": {},
     "output_type": "display_data"
    },
    {
     "name": "stdout",
     "output_type": "stream",
     "text": [
      "\n",
      "Found MAP in  454.7860760688782\n",
      "slope_mu <class 'pcntoolkit.model.hbr.FixedParameterization'>\n",
      "slope_mu\n",
      "dist='normal'\n",
      "params=(0.0, 3.0)\n",
      "intercept_mu <class 'pcntoolkit.model.hbr.NonCentralRandomFixedParameterization'>\n",
      "mu_intercept_mu\n",
      "dist='normal'\n",
      "params=(0.0, 1.0)\n",
      "sigma_intercept_mu\n",
      "dist='hcauchy'\n",
      "params=(1.0,)\n",
      "offset_intercept_mu\n",
      "dist='normal'\n",
      "params=(0.0, 1.0)\n",
      "mu <class 'pcntoolkit.model.hbr.LinearParameterization'>\n",
      "slope_sigma <class 'pcntoolkit.model.hbr.FixedParameterization'>\n",
      "slope_sigma\n",
      "dist='normal'\n",
      "params=(0.0, 1.0)\n",
      "intercept_sigma <class 'pcntoolkit.model.hbr.FixedParameterization'>\n",
      "intercept_sigma\n",
      "dist='normal'\n",
      "params=(1.0, 1.0)\n",
      "sigma <class 'pcntoolkit.model.hbr.LinearParameterization'>\n",
      "slope_epsilon <class 'pcntoolkit.model.hbr.FixedParameterization'>\n",
      "slope_epsilon\n",
      "dist='normal'\n",
      "params=(0.0, 1.0)\n",
      "intercept_epsilon <class 'pcntoolkit.model.hbr.FixedParameterization'>\n",
      "intercept_epsilon\n",
      "dist='normal'\n",
      "params=(0.0, 1)\n",
      "epsilon <class 'pcntoolkit.model.hbr.LinearParameterization'>\n",
      "slope_delta <class 'pcntoolkit.model.hbr.FixedParameterization'>\n",
      "slope_delta\n",
      "dist='normal'\n",
      "params=(0.0, 1)\n",
      "intercept_delta <class 'pcntoolkit.model.hbr.FixedParameterization'>\n",
      "intercept_delta\n",
      "dist='normal'\n",
      "params=(2.0, 1)\n",
      "delta <class 'pcntoolkit.model.hbr.LinearParameterization'>\n"
     ]
    },
    {
     "data": {
      "text/html": [
       "\n",
       "<style>\n",
       "    /* Turns off some styling */\n",
       "    progress {\n",
       "        /* gets rid of default border in Firefox and Opera. */\n",
       "        border: none;\n",
       "        /* Needs to be in here for Safari polyfill so background images work as expected. */\n",
       "        background-size: auto;\n",
       "    }\n",
       "    .progress-bar-interrupted, .progress-bar-interrupted::-webkit-progress-bar {\n",
       "        background: #F44336;\n",
       "    }\n",
       "</style>\n"
      ],
      "text/plain": [
       "<IPython.core.display.HTML object>"
      ]
     },
     "metadata": {},
     "output_type": "display_data"
    },
    {
     "data": {
      "text/html": [
       "\n",
       "    <div>\n",
       "      <progress value='4536' class='' max='4536' style='width:300px; height:20px; vertical-align: middle;'></progress>\n",
       "      100.00% [4536/4536 14:09<00:00 logp = -7,859.4, ||grad|| = 7.1349]\n",
       "    </div>\n",
       "    "
      ],
      "text/plain": [
       "<IPython.core.display.HTML object>"
      ]
     },
     "metadata": {},
     "output_type": "display_data"
    },
    {
     "name": "stdout",
     "output_type": "stream",
     "text": [
      "\n",
      "Found MAP in  1005.050532579422\n",
      "slope_mu <class 'pcntoolkit.model.hbr.FixedParameterization'>\n",
      "slope_mu\n",
      "dist='normal'\n",
      "params=(0.0, 1.0)\n",
      "intercept_mu <class 'pcntoolkit.model.hbr.NonCentralRandomFixedParameterization'>\n",
      "mu_intercept_mu\n",
      "dist='normal'\n",
      "params=(0.0, 1.0)\n",
      "sigma_intercept_mu\n",
      "dist='hcauchy'\n",
      "params=(1.0,)\n",
      "offset_intercept_mu\n",
      "dist='normal'\n",
      "params=(0.0, 1.0)\n",
      "mu <class 'pcntoolkit.model.hbr.LinearParameterization'>\n",
      "slope_sigma <class 'pcntoolkit.model.hbr.FixedParameterization'>\n",
      "slope_sigma\n",
      "dist='normal'\n",
      "params=(0.0, 1.0)\n",
      "intercept_sigma <class 'pcntoolkit.model.hbr.FixedParameterization'>\n",
      "intercept_sigma\n",
      "dist='normal'\n",
      "params=(0.0, 1.0)\n",
      "sigma <class 'pcntoolkit.model.hbr.LinearParameterization'>\n"
     ]
    },
    {
     "data": {
      "text/html": [
       "\n",
       "<style>\n",
       "    /* Turns off some styling */\n",
       "    progress {\n",
       "        /* gets rid of default border in Firefox and Opera. */\n",
       "        border: none;\n",
       "        /* Needs to be in here for Safari polyfill so background images work as expected. */\n",
       "        background-size: auto;\n",
       "    }\n",
       "    .progress-bar-interrupted, .progress-bar-interrupted::-webkit-progress-bar {\n",
       "        background: #F44336;\n",
       "    }\n",
       "</style>\n"
      ],
      "text/plain": [
       "<IPython.core.display.HTML object>"
      ]
     },
     "metadata": {},
     "output_type": "display_data"
    },
    {
     "data": {
      "text/html": [
       "\n",
       "    <div>\n",
       "      <progress value='1080' class='' max='1080' style='width:300px; height:20px; vertical-align: middle;'></progress>\n",
       "      100.00% [1080/1080 00:54<00:00 logp = -46,953, ||grad|| = 7.5911]\n",
       "    </div>\n",
       "    "
      ],
      "text/plain": [
       "<IPython.core.display.HTML object>"
      ]
     },
     "metadata": {},
     "output_type": "display_data"
    },
    {
     "name": "stdout",
     "output_type": "stream",
     "text": [
      "\n",
      "Found MAP in  120.87874102592468\n",
      "slope_mu <class 'pcntoolkit.model.hbr.FixedParameterization'>\n",
      "slope_mu\n",
      "dist='normal'\n",
      "params=(0.0, 3.0)\n",
      "intercept_mu <class 'pcntoolkit.model.hbr.NonCentralRandomFixedParameterization'>\n",
      "mu_intercept_mu\n",
      "dist='normal'\n",
      "params=(0.0, 1.0)\n",
      "sigma_intercept_mu\n",
      "dist='hcauchy'\n",
      "params=(1.0,)\n",
      "offset_intercept_mu\n",
      "dist='normal'\n",
      "params=(0.0, 1.0)\n",
      "mu <class 'pcntoolkit.model.hbr.LinearParameterization'>\n",
      "slope_sigma <class 'pcntoolkit.model.hbr.FixedParameterization'>\n",
      "slope_sigma\n",
      "dist='normal'\n",
      "params=(0.0, 1.0)\n",
      "intercept_sigma <class 'pcntoolkit.model.hbr.FixedParameterization'>\n",
      "intercept_sigma\n",
      "dist='normal'\n",
      "params=(1.0, 1.0)\n",
      "sigma <class 'pcntoolkit.model.hbr.LinearParameterization'>\n",
      "epsilon <class 'pcntoolkit.model.hbr.FixedParameterization'>\n",
      "epsilon\n",
      "dist='normal'\n",
      "params=(0.0, 1.0)\n",
      "delta <class 'pcntoolkit.model.hbr.FixedParameterization'>\n",
      "delta\n",
      "dist='normal'\n",
      "params=(1.5, 2.0)\n"
     ]
    },
    {
     "data": {
      "text/html": [
       "\n",
       "<style>\n",
       "    /* Turns off some styling */\n",
       "    progress {\n",
       "        /* gets rid of default border in Firefox and Opera. */\n",
       "        border: none;\n",
       "        /* Needs to be in here for Safari polyfill so background images work as expected. */\n",
       "        background-size: auto;\n",
       "    }\n",
       "    .progress-bar-interrupted, .progress-bar-interrupted::-webkit-progress-bar {\n",
       "        background: #F44336;\n",
       "    }\n",
       "</style>\n"
      ],
      "text/plain": [
       "<IPython.core.display.HTML object>"
      ]
     },
     "metadata": {},
     "output_type": "display_data"
    },
    {
     "data": {
      "text/html": [
       "\n",
       "    <div>\n",
       "      <progress value='554' class='' max='554' style='width:300px; height:20px; vertical-align: middle;'></progress>\n",
       "      100.00% [554/554 00:57<00:00 logp = -65,158, ||grad|| = 4.8373]\n",
       "    </div>\n",
       "    "
      ],
      "text/plain": [
       "<IPython.core.display.HTML object>"
      ]
     },
     "metadata": {},
     "output_type": "display_data"
    },
    {
     "name": "stdout",
     "output_type": "stream",
     "text": [
      "\n",
      "Found MAP in  151.31977820396423\n",
      "slope_mu <class 'pcntoolkit.model.hbr.FixedParameterization'>\n",
      "slope_mu\n",
      "dist='normal'\n",
      "params=(0.0, 3.0)\n",
      "intercept_mu <class 'pcntoolkit.model.hbr.NonCentralRandomFixedParameterization'>\n",
      "mu_intercept_mu\n",
      "dist='normal'\n",
      "params=(0.0, 1.0)\n",
      "sigma_intercept_mu\n",
      "dist='hcauchy'\n",
      "params=(1.0,)\n",
      "offset_intercept_mu\n",
      "dist='normal'\n",
      "params=(0.0, 1.0)\n",
      "mu <class 'pcntoolkit.model.hbr.LinearParameterization'>\n",
      "slope_sigma <class 'pcntoolkit.model.hbr.FixedParameterization'>\n",
      "slope_sigma\n",
      "dist='normal'\n",
      "params=(0.0, 1.0)\n",
      "intercept_sigma <class 'pcntoolkit.model.hbr.FixedParameterization'>\n",
      "intercept_sigma\n",
      "dist='normal'\n",
      "params=(1.0, 1.0)\n",
      "sigma <class 'pcntoolkit.model.hbr.LinearParameterization'>\n",
      "slope_epsilon <class 'pcntoolkit.model.hbr.FixedParameterization'>\n",
      "slope_epsilon\n",
      "dist='normal'\n",
      "params=(0.0, 1.0)\n",
      "intercept_epsilon <class 'pcntoolkit.model.hbr.FixedParameterization'>\n",
      "intercept_epsilon\n",
      "dist='normal'\n",
      "params=(0.0, 1)\n",
      "epsilon <class 'pcntoolkit.model.hbr.LinearParameterization'>\n",
      "slope_delta <class 'pcntoolkit.model.hbr.FixedParameterization'>\n",
      "slope_delta\n",
      "dist='normal'\n",
      "params=(0.0, 1)\n",
      "intercept_delta <class 'pcntoolkit.model.hbr.FixedParameterization'>\n",
      "intercept_delta\n",
      "dist='normal'\n",
      "params=(2.0, 1)\n",
      "delta <class 'pcntoolkit.model.hbr.LinearParameterization'>\n"
     ]
    },
    {
     "data": {
      "text/html": [
       "\n",
       "<style>\n",
       "    /* Turns off some styling */\n",
       "    progress {\n",
       "        /* gets rid of default border in Firefox and Opera. */\n",
       "        border: none;\n",
       "        /* Needs to be in here for Safari polyfill so background images work as expected. */\n",
       "        background-size: auto;\n",
       "    }\n",
       "    .progress-bar-interrupted, .progress-bar-interrupted::-webkit-progress-bar {\n",
       "        background: #F44336;\n",
       "    }\n",
       "</style>\n"
      ],
      "text/plain": [
       "<IPython.core.display.HTML object>"
      ]
     },
     "metadata": {},
     "output_type": "display_data"
    },
    {
     "data": {
      "text/html": [
       "\n",
       "    <div>\n",
       "      <progress value='596' class='' max='596' style='width:300px; height:20px; vertical-align: middle;'></progress>\n",
       "      100.00% [596/596 01:39<00:00 logp = -65,137, ||grad|| = 7.8238]\n",
       "    </div>\n",
       "    "
      ],
      "text/plain": [
       "<IPython.core.display.HTML object>"
      ]
     },
     "metadata": {},
     "output_type": "display_data"
    },
    {
     "name": "stdout",
     "output_type": "stream",
     "text": [
      "\n",
      "Found MAP in  255.37242007255554\n",
      "slope_mu <class 'pcntoolkit.model.hbr.FixedParameterization'>\n",
      "slope_mu\n",
      "dist='normal'\n",
      "params=(0.0, 1.0)\n",
      "intercept_mu <class 'pcntoolkit.model.hbr.NonCentralRandomFixedParameterization'>\n",
      "mu_intercept_mu\n",
      "dist='normal'\n",
      "params=(0.0, 1.0)\n",
      "sigma_intercept_mu\n",
      "dist='hcauchy'\n",
      "params=(1.0,)\n",
      "offset_intercept_mu\n",
      "dist='normal'\n",
      "params=(0.0, 1.0)\n",
      "mu <class 'pcntoolkit.model.hbr.LinearParameterization'>\n",
      "slope_sigma <class 'pcntoolkit.model.hbr.FixedParameterization'>\n",
      "slope_sigma\n",
      "dist='normal'\n",
      "params=(0.0, 1.0)\n",
      "intercept_sigma <class 'pcntoolkit.model.hbr.FixedParameterization'>\n",
      "intercept_sigma\n",
      "dist='normal'\n",
      "params=(0.0, 1.0)\n",
      "sigma <class 'pcntoolkit.model.hbr.LinearParameterization'>\n"
     ]
    },
    {
     "data": {
      "text/html": [
       "\n",
       "<style>\n",
       "    /* Turns off some styling */\n",
       "    progress {\n",
       "        /* gets rid of default border in Firefox and Opera. */\n",
       "        border: none;\n",
       "        /* Needs to be in here for Safari polyfill so background images work as expected. */\n",
       "        background-size: auto;\n",
       "    }\n",
       "    .progress-bar-interrupted, .progress-bar-interrupted::-webkit-progress-bar {\n",
       "        background: #F44336;\n",
       "    }\n",
       "</style>\n"
      ],
      "text/plain": [
       "<IPython.core.display.HTML object>"
      ]
     },
     "metadata": {},
     "output_type": "display_data"
    },
    {
     "data": {
      "text/html": [
       "\n",
       "    <div>\n",
       "      <progress value='575' class='' max='575' style='width:300px; height:20px; vertical-align: middle;'></progress>\n",
       "      100.00% [575/575 00:28<00:00 logp = -65,889, ||grad|| = 5.6951]\n",
       "    </div>\n",
       "    "
      ],
      "text/plain": [
       "<IPython.core.display.HTML object>"
      ]
     },
     "metadata": {},
     "output_type": "display_data"
    },
    {
     "name": "stdout",
     "output_type": "stream",
     "text": [
      "\n",
      "Found MAP in  94.28030776977539\n",
      "slope_mu <class 'pcntoolkit.model.hbr.FixedParameterization'>\n",
      "slope_mu\n",
      "dist='normal'\n",
      "params=(0.0, 3.0)\n",
      "intercept_mu <class 'pcntoolkit.model.hbr.NonCentralRandomFixedParameterization'>\n",
      "mu_intercept_mu\n",
      "dist='normal'\n",
      "params=(0.0, 1.0)\n",
      "sigma_intercept_mu\n",
      "dist='hcauchy'\n",
      "params=(1.0,)\n",
      "offset_intercept_mu\n",
      "dist='normal'\n",
      "params=(0.0, 1.0)\n",
      "mu <class 'pcntoolkit.model.hbr.LinearParameterization'>\n",
      "slope_sigma <class 'pcntoolkit.model.hbr.FixedParameterization'>\n",
      "slope_sigma\n",
      "dist='normal'\n",
      "params=(0.0, 1.0)\n",
      "intercept_sigma <class 'pcntoolkit.model.hbr.FixedParameterization'>\n",
      "intercept_sigma\n",
      "dist='normal'\n",
      "params=(1.0, 1.0)\n",
      "sigma <class 'pcntoolkit.model.hbr.LinearParameterization'>\n",
      "epsilon <class 'pcntoolkit.model.hbr.FixedParameterization'>\n",
      "epsilon\n",
      "dist='normal'\n",
      "params=(0.0, 1.0)\n",
      "delta <class 'pcntoolkit.model.hbr.FixedParameterization'>\n",
      "delta\n",
      "dist='normal'\n",
      "params=(1.5, 2.0)\n"
     ]
    },
    {
     "data": {
      "text/html": [
       "\n",
       "<style>\n",
       "    /* Turns off some styling */\n",
       "    progress {\n",
       "        /* gets rid of default border in Firefox and Opera. */\n",
       "        border: none;\n",
       "        /* Needs to be in here for Safari polyfill so background images work as expected. */\n",
       "        background-size: auto;\n",
       "    }\n",
       "    .progress-bar-interrupted, .progress-bar-interrupted::-webkit-progress-bar {\n",
       "        background: #F44336;\n",
       "    }\n",
       "</style>\n"
      ],
      "text/plain": [
       "<IPython.core.display.HTML object>"
      ]
     },
     "metadata": {},
     "output_type": "display_data"
    },
    {
     "data": {
      "text/html": [
       "\n",
       "    <div>\n",
       "      <progress value='750' class='' max='750' style='width:300px; height:20px; vertical-align: middle;'></progress>\n",
       "      100.00% [750/750 01:18<00:00 logp = -61,317, ||grad|| = 7.822]\n",
       "    </div>\n",
       "    "
      ],
      "text/plain": [
       "<IPython.core.display.HTML object>"
      ]
     },
     "metadata": {},
     "output_type": "display_data"
    },
    {
     "name": "stdout",
     "output_type": "stream",
     "text": [
      "\n",
      "Found MAP in  169.83859658241272\n",
      "slope_mu <class 'pcntoolkit.model.hbr.FixedParameterization'>\n",
      "slope_mu\n",
      "dist='normal'\n",
      "params=(0.0, 3.0)\n",
      "intercept_mu <class 'pcntoolkit.model.hbr.NonCentralRandomFixedParameterization'>\n",
      "mu_intercept_mu\n",
      "dist='normal'\n",
      "params=(0.0, 1.0)\n",
      "sigma_intercept_mu\n",
      "dist='hcauchy'\n",
      "params=(1.0,)\n",
      "offset_intercept_mu\n",
      "dist='normal'\n",
      "params=(0.0, 1.0)\n",
      "mu <class 'pcntoolkit.model.hbr.LinearParameterization'>\n",
      "slope_sigma <class 'pcntoolkit.model.hbr.FixedParameterization'>\n",
      "slope_sigma\n",
      "dist='normal'\n",
      "params=(0.0, 1.0)\n",
      "intercept_sigma <class 'pcntoolkit.model.hbr.FixedParameterization'>\n",
      "intercept_sigma\n",
      "dist='normal'\n",
      "params=(1.0, 1.0)\n",
      "sigma <class 'pcntoolkit.model.hbr.LinearParameterization'>\n",
      "slope_epsilon <class 'pcntoolkit.model.hbr.FixedParameterization'>\n",
      "slope_epsilon\n",
      "dist='normal'\n",
      "params=(0.0, 1.0)\n",
      "intercept_epsilon <class 'pcntoolkit.model.hbr.FixedParameterization'>\n",
      "intercept_epsilon\n",
      "dist='normal'\n",
      "params=(0.0, 1)\n",
      "epsilon <class 'pcntoolkit.model.hbr.LinearParameterization'>\n",
      "slope_delta <class 'pcntoolkit.model.hbr.FixedParameterization'>\n",
      "slope_delta\n",
      "dist='normal'\n",
      "params=(0.0, 1)\n",
      "intercept_delta <class 'pcntoolkit.model.hbr.FixedParameterization'>\n",
      "intercept_delta\n",
      "dist='normal'\n",
      "params=(2.0, 1)\n",
      "delta <class 'pcntoolkit.model.hbr.LinearParameterization'>\n"
     ]
    },
    {
     "data": {
      "text/html": [
       "\n",
       "<style>\n",
       "    /* Turns off some styling */\n",
       "    progress {\n",
       "        /* gets rid of default border in Firefox and Opera. */\n",
       "        border: none;\n",
       "        /* Needs to be in here for Safari polyfill so background images work as expected. */\n",
       "        background-size: auto;\n",
       "    }\n",
       "    .progress-bar-interrupted, .progress-bar-interrupted::-webkit-progress-bar {\n",
       "        background: #F44336;\n",
       "    }\n",
       "</style>\n"
      ],
      "text/plain": [
       "<IPython.core.display.HTML object>"
      ]
     },
     "metadata": {},
     "output_type": "display_data"
    },
    {
     "data": {
      "text/html": [
       "\n",
       "    <div>\n",
       "      <progress value='762' class='' max='762' style='width:300px; height:20px; vertical-align: middle;'></progress>\n",
       "      100.00% [762/762 02:07<00:00 logp = -61,308, ||grad|| = 4.1951]\n",
       "    </div>\n",
       "    "
      ],
      "text/plain": [
       "<IPython.core.display.HTML object>"
      ]
     },
     "metadata": {},
     "output_type": "display_data"
    },
    {
     "name": "stdout",
     "output_type": "stream",
     "text": [
      "\n",
      "Found MAP in  284.9474890232086\n",
      "slope_mu <class 'pcntoolkit.model.hbr.FixedParameterization'>\n",
      "slope_mu\n",
      "dist='normal'\n",
      "params=(0.0, 1.0)\n",
      "intercept_mu <class 'pcntoolkit.model.hbr.NonCentralRandomFixedParameterization'>\n",
      "mu_intercept_mu\n",
      "dist='normal'\n",
      "params=(0.0, 1.0)\n",
      "sigma_intercept_mu\n",
      "dist='hcauchy'\n",
      "params=(1.0,)\n",
      "offset_intercept_mu\n",
      "dist='normal'\n",
      "params=(0.0, 1.0)\n",
      "mu <class 'pcntoolkit.model.hbr.LinearParameterization'>\n",
      "slope_sigma <class 'pcntoolkit.model.hbr.FixedParameterization'>\n",
      "slope_sigma\n",
      "dist='normal'\n",
      "params=(0.0, 1.0)\n",
      "intercept_sigma <class 'pcntoolkit.model.hbr.FixedParameterization'>\n",
      "intercept_sigma\n",
      "dist='normal'\n",
      "params=(0.0, 1.0)\n",
      "sigma <class 'pcntoolkit.model.hbr.LinearParameterization'>\n"
     ]
    },
    {
     "data": {
      "text/html": [
       "\n",
       "<style>\n",
       "    /* Turns off some styling */\n",
       "    progress {\n",
       "        /* gets rid of default border in Firefox and Opera. */\n",
       "        border: none;\n",
       "        /* Needs to be in here for Safari polyfill so background images work as expected. */\n",
       "        background-size: auto;\n",
       "    }\n",
       "    .progress-bar-interrupted, .progress-bar-interrupted::-webkit-progress-bar {\n",
       "        background: #F44336;\n",
       "    }\n",
       "</style>\n"
      ],
      "text/plain": [
       "<IPython.core.display.HTML object>"
      ]
     },
     "metadata": {},
     "output_type": "display_data"
    },
    {
     "data": {
      "text/html": [
       "\n",
       "    <div>\n",
       "      <progress value='667' class='' max='667' style='width:300px; height:20px; vertical-align: middle;'></progress>\n",
       "      100.00% [667/667 00:30<00:00 logp = -61,666, ||grad|| = 8.6153]\n",
       "    </div>\n",
       "    "
      ],
      "text/plain": [
       "<IPython.core.display.HTML object>"
      ]
     },
     "metadata": {},
     "output_type": "display_data"
    },
    {
     "name": "stdout",
     "output_type": "stream",
     "text": [
      "\n",
      "Found MAP in  92.56549167633057\n",
      "slope_mu <class 'pcntoolkit.model.hbr.FixedParameterization'>\n",
      "slope_mu\n",
      "dist='normal'\n",
      "params=(0.0, 3.0)\n",
      "intercept_mu <class 'pcntoolkit.model.hbr.NonCentralRandomFixedParameterization'>\n",
      "mu_intercept_mu\n",
      "dist='normal'\n",
      "params=(0.0, 1.0)\n",
      "sigma_intercept_mu\n",
      "dist='hcauchy'\n",
      "params=(1.0,)\n",
      "offset_intercept_mu\n",
      "dist='normal'\n",
      "params=(0.0, 1.0)\n",
      "mu <class 'pcntoolkit.model.hbr.LinearParameterization'>\n",
      "slope_sigma <class 'pcntoolkit.model.hbr.FixedParameterization'>\n",
      "slope_sigma\n",
      "dist='normal'\n",
      "params=(0.0, 1.0)\n",
      "intercept_sigma <class 'pcntoolkit.model.hbr.FixedParameterization'>\n",
      "intercept_sigma\n",
      "dist='normal'\n",
      "params=(1.0, 1.0)\n",
      "sigma <class 'pcntoolkit.model.hbr.LinearParameterization'>\n",
      "epsilon <class 'pcntoolkit.model.hbr.FixedParameterization'>\n",
      "epsilon\n",
      "dist='normal'\n",
      "params=(0.0, 1.0)\n",
      "delta <class 'pcntoolkit.model.hbr.FixedParameterization'>\n",
      "delta\n",
      "dist='normal'\n",
      "params=(1.5, 2.0)\n"
     ]
    },
    {
     "data": {
      "text/html": [
       "\n",
       "<style>\n",
       "    /* Turns off some styling */\n",
       "    progress {\n",
       "        /* gets rid of default border in Firefox and Opera. */\n",
       "        border: none;\n",
       "        /* Needs to be in here for Safari polyfill so background images work as expected. */\n",
       "        background-size: auto;\n",
       "    }\n",
       "    .progress-bar-interrupted, .progress-bar-interrupted::-webkit-progress-bar {\n",
       "        background: #F44336;\n",
       "    }\n",
       "</style>\n"
      ],
      "text/plain": [
       "<IPython.core.display.HTML object>"
      ]
     },
     "metadata": {},
     "output_type": "display_data"
    },
    {
     "data": {
      "text/html": [
       "\n",
       "    <div>\n",
       "      <progress value='715' class='' max='715' style='width:300px; height:20px; vertical-align: middle;'></progress>\n",
       "      100.00% [715/715 01:13<00:00 logp = -60,790, ||grad|| = 10.264]\n",
       "    </div>\n",
       "    "
      ],
      "text/plain": [
       "<IPython.core.display.HTML object>"
      ]
     },
     "metadata": {},
     "output_type": "display_data"
    },
    {
     "name": "stdout",
     "output_type": "stream",
     "text": [
      "\n",
      "Found MAP in  172.4270875453949\n",
      "slope_mu <class 'pcntoolkit.model.hbr.FixedParameterization'>\n",
      "slope_mu\n",
      "dist='normal'\n",
      "params=(0.0, 3.0)\n",
      "intercept_mu <class 'pcntoolkit.model.hbr.NonCentralRandomFixedParameterization'>\n",
      "mu_intercept_mu\n",
      "dist='normal'\n",
      "params=(0.0, 1.0)\n",
      "sigma_intercept_mu\n",
      "dist='hcauchy'\n",
      "params=(1.0,)\n",
      "offset_intercept_mu\n",
      "dist='normal'\n",
      "params=(0.0, 1.0)\n",
      "mu <class 'pcntoolkit.model.hbr.LinearParameterization'>\n",
      "slope_sigma <class 'pcntoolkit.model.hbr.FixedParameterization'>\n",
      "slope_sigma\n",
      "dist='normal'\n",
      "params=(0.0, 1.0)\n",
      "intercept_sigma <class 'pcntoolkit.model.hbr.FixedParameterization'>\n",
      "intercept_sigma\n",
      "dist='normal'\n",
      "params=(1.0, 1.0)\n",
      "sigma <class 'pcntoolkit.model.hbr.LinearParameterization'>\n",
      "slope_epsilon <class 'pcntoolkit.model.hbr.FixedParameterization'>\n",
      "slope_epsilon\n",
      "dist='normal'\n",
      "params=(0.0, 1.0)\n",
      "intercept_epsilon <class 'pcntoolkit.model.hbr.FixedParameterization'>\n",
      "intercept_epsilon\n",
      "dist='normal'\n",
      "params=(0.0, 1)\n",
      "epsilon <class 'pcntoolkit.model.hbr.LinearParameterization'>\n",
      "slope_delta <class 'pcntoolkit.model.hbr.FixedParameterization'>\n",
      "slope_delta\n",
      "dist='normal'\n",
      "params=(0.0, 1)\n",
      "intercept_delta <class 'pcntoolkit.model.hbr.FixedParameterization'>\n",
      "intercept_delta\n",
      "dist='normal'\n",
      "params=(2.0, 1)\n",
      "delta <class 'pcntoolkit.model.hbr.LinearParameterization'>\n"
     ]
    },
    {
     "data": {
      "text/html": [
       "\n",
       "<style>\n",
       "    /* Turns off some styling */\n",
       "    progress {\n",
       "        /* gets rid of default border in Firefox and Opera. */\n",
       "        border: none;\n",
       "        /* Needs to be in here for Safari polyfill so background images work as expected. */\n",
       "        background-size: auto;\n",
       "    }\n",
       "    .progress-bar-interrupted, .progress-bar-interrupted::-webkit-progress-bar {\n",
       "        background: #F44336;\n",
       "    }\n",
       "</style>\n"
      ],
      "text/plain": [
       "<IPython.core.display.HTML object>"
      ]
     },
     "metadata": {},
     "output_type": "display_data"
    },
    {
     "data": {
      "text/html": [
       "\n",
       "    <div>\n",
       "      <progress value='869' class='' max='869' style='width:300px; height:20px; vertical-align: middle;'></progress>\n",
       "      100.00% [869/869 02:24<00:00 logp = -60,740, ||grad|| = 5.1068]\n",
       "    </div>\n",
       "    "
      ],
      "text/plain": [
       "<IPython.core.display.HTML object>"
      ]
     },
     "metadata": {},
     "output_type": "display_data"
    },
    {
     "name": "stdout",
     "output_type": "stream",
     "text": [
      "\n",
      "Found MAP in  296.0496554374695\n",
      "slope_mu <class 'pcntoolkit.model.hbr.FixedParameterization'>\n",
      "slope_mu\n",
      "dist='normal'\n",
      "params=(0.0, 1.0)\n",
      "intercept_mu <class 'pcntoolkit.model.hbr.NonCentralRandomFixedParameterization'>\n",
      "mu_intercept_mu\n",
      "dist='normal'\n",
      "params=(0.0, 1.0)\n",
      "sigma_intercept_mu\n",
      "dist='hcauchy'\n",
      "params=(1.0,)\n",
      "offset_intercept_mu\n",
      "dist='normal'\n",
      "params=(0.0, 1.0)\n",
      "mu <class 'pcntoolkit.model.hbr.LinearParameterization'>\n",
      "slope_sigma <class 'pcntoolkit.model.hbr.FixedParameterization'>\n",
      "slope_sigma\n",
      "dist='normal'\n",
      "params=(0.0, 1.0)\n",
      "intercept_sigma <class 'pcntoolkit.model.hbr.FixedParameterization'>\n",
      "intercept_sigma\n",
      "dist='normal'\n",
      "params=(0.0, 1.0)\n",
      "sigma <class 'pcntoolkit.model.hbr.LinearParameterization'>\n"
     ]
    },
    {
     "data": {
      "text/html": [
       "\n",
       "<style>\n",
       "    /* Turns off some styling */\n",
       "    progress {\n",
       "        /* gets rid of default border in Firefox and Opera. */\n",
       "        border: none;\n",
       "        /* Needs to be in here for Safari polyfill so background images work as expected. */\n",
       "        background-size: auto;\n",
       "    }\n",
       "    .progress-bar-interrupted, .progress-bar-interrupted::-webkit-progress-bar {\n",
       "        background: #F44336;\n",
       "    }\n",
       "</style>\n"
      ],
      "text/plain": [
       "<IPython.core.display.HTML object>"
      ]
     },
     "metadata": {},
     "output_type": "display_data"
    },
    {
     "data": {
      "text/html": [
       "\n",
       "    <div>\n",
       "      <progress value='593' class='' max='593' style='width:300px; height:20px; vertical-align: middle;'></progress>\n",
       "      100.00% [593/593 00:28<00:00 logp = -64,599, ||grad|| = 6.0177]\n",
       "    </div>\n",
       "    "
      ],
      "text/plain": [
       "<IPython.core.display.HTML object>"
      ]
     },
     "metadata": {},
     "output_type": "display_data"
    },
    {
     "name": "stdout",
     "output_type": "stream",
     "text": [
      "\n",
      "Found MAP in  97.136234998703\n",
      "slope_mu <class 'pcntoolkit.model.hbr.FixedParameterization'>\n",
      "slope_mu\n",
      "dist='normal'\n",
      "params=(0.0, 3.0)\n",
      "intercept_mu <class 'pcntoolkit.model.hbr.NonCentralRandomFixedParameterization'>\n",
      "mu_intercept_mu\n",
      "dist='normal'\n",
      "params=(0.0, 1.0)\n",
      "sigma_intercept_mu\n",
      "dist='hcauchy'\n",
      "params=(1.0,)\n",
      "offset_intercept_mu\n",
      "dist='normal'\n",
      "params=(0.0, 1.0)\n",
      "mu <class 'pcntoolkit.model.hbr.LinearParameterization'>\n",
      "slope_sigma <class 'pcntoolkit.model.hbr.FixedParameterization'>\n",
      "slope_sigma\n",
      "dist='normal'\n",
      "params=(0.0, 1.0)\n",
      "intercept_sigma <class 'pcntoolkit.model.hbr.FixedParameterization'>\n",
      "intercept_sigma\n",
      "dist='normal'\n",
      "params=(1.0, 1.0)\n",
      "sigma <class 'pcntoolkit.model.hbr.LinearParameterization'>\n",
      "epsilon <class 'pcntoolkit.model.hbr.FixedParameterization'>\n",
      "epsilon\n",
      "dist='normal'\n",
      "params=(0.0, 1.0)\n",
      "delta <class 'pcntoolkit.model.hbr.FixedParameterization'>\n",
      "delta\n",
      "dist='normal'\n",
      "params=(1.5, 2.0)\n"
     ]
    },
    {
     "data": {
      "text/html": [
       "\n",
       "<style>\n",
       "    /* Turns off some styling */\n",
       "    progress {\n",
       "        /* gets rid of default border in Firefox and Opera. */\n",
       "        border: none;\n",
       "        /* Needs to be in here for Safari polyfill so background images work as expected. */\n",
       "        background-size: auto;\n",
       "    }\n",
       "    .progress-bar-interrupted, .progress-bar-interrupted::-webkit-progress-bar {\n",
       "        background: #F44336;\n",
       "    }\n",
       "</style>\n"
      ],
      "text/plain": [
       "<IPython.core.display.HTML object>"
      ]
     },
     "metadata": {},
     "output_type": "display_data"
    },
    {
     "data": {
      "text/html": [
       "\n",
       "    <div>\n",
       "      <progress value='591' class='' max='591' style='width:300px; height:20px; vertical-align: middle;'></progress>\n",
       "      100.00% [591/591 00:59<00:00 logp = -62,929, ||grad|| = 9.4194]\n",
       "    </div>\n",
       "    "
      ],
      "text/plain": [
       "<IPython.core.display.HTML object>"
      ]
     },
     "metadata": {},
     "output_type": "display_data"
    },
    {
     "name": "stdout",
     "output_type": "stream",
     "text": [
      "\n",
      "Found MAP in  149.3261456489563\n",
      "slope_mu <class 'pcntoolkit.model.hbr.FixedParameterization'>\n",
      "slope_mu\n",
      "dist='normal'\n",
      "params=(0.0, 3.0)\n",
      "intercept_mu <class 'pcntoolkit.model.hbr.NonCentralRandomFixedParameterization'>\n",
      "mu_intercept_mu\n",
      "dist='normal'\n",
      "params=(0.0, 1.0)\n",
      "sigma_intercept_mu\n",
      "dist='hcauchy'\n",
      "params=(1.0,)\n",
      "offset_intercept_mu\n",
      "dist='normal'\n",
      "params=(0.0, 1.0)\n",
      "mu <class 'pcntoolkit.model.hbr.LinearParameterization'>\n",
      "slope_sigma <class 'pcntoolkit.model.hbr.FixedParameterization'>\n",
      "slope_sigma\n",
      "dist='normal'\n",
      "params=(0.0, 1.0)\n",
      "intercept_sigma <class 'pcntoolkit.model.hbr.FixedParameterization'>\n",
      "intercept_sigma\n",
      "dist='normal'\n",
      "params=(1.0, 1.0)\n",
      "sigma <class 'pcntoolkit.model.hbr.LinearParameterization'>\n",
      "slope_epsilon <class 'pcntoolkit.model.hbr.FixedParameterization'>\n",
      "slope_epsilon\n",
      "dist='normal'\n",
      "params=(0.0, 1.0)\n",
      "intercept_epsilon <class 'pcntoolkit.model.hbr.FixedParameterization'>\n",
      "intercept_epsilon\n",
      "dist='normal'\n",
      "params=(0.0, 1)\n",
      "epsilon <class 'pcntoolkit.model.hbr.LinearParameterization'>\n",
      "slope_delta <class 'pcntoolkit.model.hbr.FixedParameterization'>\n",
      "slope_delta\n",
      "dist='normal'\n",
      "params=(0.0, 1)\n",
      "intercept_delta <class 'pcntoolkit.model.hbr.FixedParameterization'>\n",
      "intercept_delta\n",
      "dist='normal'\n",
      "params=(2.0, 1)\n",
      "delta <class 'pcntoolkit.model.hbr.LinearParameterization'>\n"
     ]
    },
    {
     "data": {
      "text/html": [
       "\n",
       "<style>\n",
       "    /* Turns off some styling */\n",
       "    progress {\n",
       "        /* gets rid of default border in Firefox and Opera. */\n",
       "        border: none;\n",
       "        /* Needs to be in here for Safari polyfill so background images work as expected. */\n",
       "        background-size: auto;\n",
       "    }\n",
       "    .progress-bar-interrupted, .progress-bar-interrupted::-webkit-progress-bar {\n",
       "        background: #F44336;\n",
       "    }\n",
       "</style>\n"
      ],
      "text/plain": [
       "<IPython.core.display.HTML object>"
      ]
     },
     "metadata": {},
     "output_type": "display_data"
    },
    {
     "data": {
      "text/html": [
       "\n",
       "    <div>\n",
       "      <progress value='915' class='' max='915' style='width:300px; height:20px; vertical-align: middle;'></progress>\n",
       "      100.00% [915/915 02:33<00:00 logp = -62,758, ||grad|| = 19.295]\n",
       "    </div>\n",
       "    "
      ],
      "text/plain": [
       "<IPython.core.display.HTML object>"
      ]
     },
     "metadata": {},
     "output_type": "display_data"
    },
    {
     "name": "stdout",
     "output_type": "stream",
     "text": [
      "\n",
      "Found MAP in  305.46404910087585\n",
      "slope_mu <class 'pcntoolkit.model.hbr.FixedParameterization'>\n",
      "slope_mu\n",
      "dist='normal'\n",
      "params=(0.0, 1.0)\n",
      "intercept_mu <class 'pcntoolkit.model.hbr.NonCentralRandomFixedParameterization'>\n",
      "mu_intercept_mu\n",
      "dist='normal'\n",
      "params=(0.0, 1.0)\n",
      "sigma_intercept_mu\n",
      "dist='hcauchy'\n",
      "params=(1.0,)\n",
      "offset_intercept_mu\n",
      "dist='normal'\n",
      "params=(0.0, 1.0)\n",
      "mu <class 'pcntoolkit.model.hbr.LinearParameterization'>\n",
      "slope_sigma <class 'pcntoolkit.model.hbr.FixedParameterization'>\n",
      "slope_sigma\n",
      "dist='normal'\n",
      "params=(0.0, 1.0)\n",
      "intercept_sigma <class 'pcntoolkit.model.hbr.FixedParameterization'>\n",
      "intercept_sigma\n",
      "dist='normal'\n",
      "params=(0.0, 1.0)\n",
      "sigma <class 'pcntoolkit.model.hbr.LinearParameterization'>\n"
     ]
    },
    {
     "data": {
      "text/html": [
       "\n",
       "<style>\n",
       "    /* Turns off some styling */\n",
       "    progress {\n",
       "        /* gets rid of default border in Firefox and Opera. */\n",
       "        border: none;\n",
       "        /* Needs to be in here for Safari polyfill so background images work as expected. */\n",
       "        background-size: auto;\n",
       "    }\n",
       "    .progress-bar-interrupted, .progress-bar-interrupted::-webkit-progress-bar {\n",
       "        background: #F44336;\n",
       "    }\n",
       "</style>\n"
      ],
      "text/plain": [
       "<IPython.core.display.HTML object>"
      ]
     },
     "metadata": {},
     "output_type": "display_data"
    },
    {
     "data": {
      "text/html": [
       "\n",
       "    <div>\n",
       "      <progress value='537' class='' max='537' style='width:300px; height:20px; vertical-align: middle;'></progress>\n",
       "      100.00% [537/537 00:27<00:00 logp = -63,263, ||grad|| = 16.31]\n",
       "    </div>\n",
       "    "
      ],
      "text/plain": [
       "<IPython.core.display.HTML object>"
      ]
     },
     "metadata": {},
     "output_type": "display_data"
    },
    {
     "name": "stdout",
     "output_type": "stream",
     "text": [
      "\n",
      "Found MAP in  92.94247007369995\n",
      "slope_mu <class 'pcntoolkit.model.hbr.FixedParameterization'>\n",
      "slope_mu\n",
      "dist='normal'\n",
      "params=(0.0, 3.0)\n",
      "intercept_mu <class 'pcntoolkit.model.hbr.NonCentralRandomFixedParameterization'>\n",
      "mu_intercept_mu\n",
      "dist='normal'\n",
      "params=(0.0, 1.0)\n",
      "sigma_intercept_mu\n",
      "dist='hcauchy'\n",
      "params=(1.0,)\n",
      "offset_intercept_mu\n",
      "dist='normal'\n",
      "params=(0.0, 1.0)\n",
      "mu <class 'pcntoolkit.model.hbr.LinearParameterization'>\n",
      "slope_sigma <class 'pcntoolkit.model.hbr.FixedParameterization'>\n",
      "slope_sigma\n",
      "dist='normal'\n",
      "params=(0.0, 1.0)\n",
      "intercept_sigma <class 'pcntoolkit.model.hbr.FixedParameterization'>\n",
      "intercept_sigma\n",
      "dist='normal'\n",
      "params=(1.0, 1.0)\n",
      "sigma <class 'pcntoolkit.model.hbr.LinearParameterization'>\n",
      "epsilon <class 'pcntoolkit.model.hbr.FixedParameterization'>\n",
      "epsilon\n",
      "dist='normal'\n",
      "params=(0.0, 1.0)\n",
      "delta <class 'pcntoolkit.model.hbr.FixedParameterization'>\n",
      "delta\n",
      "dist='normal'\n",
      "params=(1.5, 2.0)\n"
     ]
    },
    {
     "data": {
      "text/html": [
       "\n",
       "<style>\n",
       "    /* Turns off some styling */\n",
       "    progress {\n",
       "        /* gets rid of default border in Firefox and Opera. */\n",
       "        border: none;\n",
       "        /* Needs to be in here for Safari polyfill so background images work as expected. */\n",
       "        background-size: auto;\n",
       "    }\n",
       "    .progress-bar-interrupted, .progress-bar-interrupted::-webkit-progress-bar {\n",
       "        background: #F44336;\n",
       "    }\n",
       "</style>\n"
      ],
      "text/plain": [
       "<IPython.core.display.HTML object>"
      ]
     },
     "metadata": {},
     "output_type": "display_data"
    },
    {
     "data": {
      "text/html": [
       "\n",
       "    <div>\n",
       "      <progress value='1741' class='' max='1741' style='width:300px; height:20px; vertical-align: middle;'></progress>\n",
       "      100.00% [1741/1741 03:00<00:00 logp = -42,079, ||grad|| = 5.1989]\n",
       "    </div>\n",
       "    "
      ],
      "text/plain": [
       "<IPython.core.display.HTML object>"
      ]
     },
     "metadata": {},
     "output_type": "display_data"
    },
    {
     "name": "stdout",
     "output_type": "stream",
     "text": [
      "\n",
      "Found MAP in  271.7356152534485\n",
      "slope_mu <class 'pcntoolkit.model.hbr.FixedParameterization'>\n",
      "slope_mu\n",
      "dist='normal'\n",
      "params=(0.0, 3.0)\n",
      "intercept_mu <class 'pcntoolkit.model.hbr.NonCentralRandomFixedParameterization'>\n",
      "mu_intercept_mu\n",
      "dist='normal'\n",
      "params=(0.0, 1.0)\n",
      "sigma_intercept_mu\n",
      "dist='hcauchy'\n",
      "params=(1.0,)\n",
      "offset_intercept_mu\n",
      "dist='normal'\n",
      "params=(0.0, 1.0)\n",
      "mu <class 'pcntoolkit.model.hbr.LinearParameterization'>\n",
      "slope_sigma <class 'pcntoolkit.model.hbr.FixedParameterization'>\n",
      "slope_sigma\n",
      "dist='normal'\n",
      "params=(0.0, 1.0)\n",
      "intercept_sigma <class 'pcntoolkit.model.hbr.FixedParameterization'>\n",
      "intercept_sigma\n",
      "dist='normal'\n",
      "params=(1.0, 1.0)\n",
      "sigma <class 'pcntoolkit.model.hbr.LinearParameterization'>\n",
      "slope_epsilon <class 'pcntoolkit.model.hbr.FixedParameterization'>\n",
      "slope_epsilon\n",
      "dist='normal'\n",
      "params=(0.0, 1.0)\n",
      "intercept_epsilon <class 'pcntoolkit.model.hbr.FixedParameterization'>\n",
      "intercept_epsilon\n",
      "dist='normal'\n",
      "params=(0.0, 1)\n",
      "epsilon <class 'pcntoolkit.model.hbr.LinearParameterization'>\n",
      "slope_delta <class 'pcntoolkit.model.hbr.FixedParameterization'>\n",
      "slope_delta\n",
      "dist='normal'\n",
      "params=(0.0, 1)\n",
      "intercept_delta <class 'pcntoolkit.model.hbr.FixedParameterization'>\n",
      "intercept_delta\n",
      "dist='normal'\n",
      "params=(2.0, 1)\n",
      "delta <class 'pcntoolkit.model.hbr.LinearParameterization'>\n"
     ]
    },
    {
     "data": {
      "text/html": [
       "\n",
       "<style>\n",
       "    /* Turns off some styling */\n",
       "    progress {\n",
       "        /* gets rid of default border in Firefox and Opera. */\n",
       "        border: none;\n",
       "        /* Needs to be in here for Safari polyfill so background images work as expected. */\n",
       "        background-size: auto;\n",
       "    }\n",
       "    .progress-bar-interrupted, .progress-bar-interrupted::-webkit-progress-bar {\n",
       "        background: #F44336;\n",
       "    }\n",
       "</style>\n"
      ],
      "text/plain": [
       "<IPython.core.display.HTML object>"
      ]
     },
     "metadata": {},
     "output_type": "display_data"
    },
    {
     "data": {
      "text/html": [
       "\n",
       "    <div>\n",
       "      <progress value='1946' class='' max='1946' style='width:300px; height:20px; vertical-align: middle;'></progress>\n",
       "      100.00% [1946/1946 05:37<00:00 logp = -41,716, ||grad|| = 8.018]\n",
       "    </div>\n",
       "    "
      ],
      "text/plain": [
       "<IPython.core.display.HTML object>"
      ]
     },
     "metadata": {},
     "output_type": "display_data"
    },
    {
     "name": "stdout",
     "output_type": "stream",
     "text": [
      "\n",
      "Found MAP in  493.64318108558655\n",
      "slope_mu <class 'pcntoolkit.model.hbr.FixedParameterization'>\n",
      "slope_mu\n",
      "dist='normal'\n",
      "params=(0.0, 1.0)\n",
      "intercept_mu <class 'pcntoolkit.model.hbr.NonCentralRandomFixedParameterization'>\n",
      "mu_intercept_mu\n",
      "dist='normal'\n",
      "params=(0.0, 1.0)\n",
      "sigma_intercept_mu\n",
      "dist='hcauchy'\n",
      "params=(1.0,)\n",
      "offset_intercept_mu\n",
      "dist='normal'\n",
      "params=(0.0, 1.0)\n",
      "mu <class 'pcntoolkit.model.hbr.LinearParameterization'>\n",
      "slope_sigma <class 'pcntoolkit.model.hbr.FixedParameterization'>\n",
      "slope_sigma\n",
      "dist='normal'\n",
      "params=(0.0, 1.0)\n",
      "intercept_sigma <class 'pcntoolkit.model.hbr.FixedParameterization'>\n",
      "intercept_sigma\n",
      "dist='normal'\n",
      "params=(0.0, 1.0)\n",
      "sigma <class 'pcntoolkit.model.hbr.LinearParameterization'>\n"
     ]
    },
    {
     "data": {
      "text/html": [
       "\n",
       "<style>\n",
       "    /* Turns off some styling */\n",
       "    progress {\n",
       "        /* gets rid of default border in Firefox and Opera. */\n",
       "        border: none;\n",
       "        /* Needs to be in here for Safari polyfill so background images work as expected. */\n",
       "        background-size: auto;\n",
       "    }\n",
       "    .progress-bar-interrupted, .progress-bar-interrupted::-webkit-progress-bar {\n",
       "        background: #F44336;\n",
       "    }\n",
       "</style>\n"
      ],
      "text/plain": [
       "<IPython.core.display.HTML object>"
      ]
     },
     "metadata": {},
     "output_type": "display_data"
    },
    {
     "data": {
      "text/html": [
       "\n",
       "    <div>\n",
       "      <progress value='574' class='' max='574' style='width:300px; height:20px; vertical-align: middle;'></progress>\n",
       "      100.00% [574/574 00:26<00:00 logp = -53,913, ||grad|| = 12.887]\n",
       "    </div>\n",
       "    "
      ],
      "text/plain": [
       "<IPython.core.display.HTML object>"
      ]
     },
     "metadata": {},
     "output_type": "display_data"
    },
    {
     "name": "stdout",
     "output_type": "stream",
     "text": [
      "\n",
      "Found MAP in  93.67836380004883\n",
      "slope_mu <class 'pcntoolkit.model.hbr.FixedParameterization'>\n",
      "slope_mu\n",
      "dist='normal'\n",
      "params=(0.0, 3.0)\n",
      "intercept_mu <class 'pcntoolkit.model.hbr.NonCentralRandomFixedParameterization'>\n",
      "mu_intercept_mu\n",
      "dist='normal'\n",
      "params=(0.0, 1.0)\n",
      "sigma_intercept_mu\n",
      "dist='hcauchy'\n",
      "params=(1.0,)\n",
      "offset_intercept_mu\n",
      "dist='normal'\n",
      "params=(0.0, 1.0)\n",
      "mu <class 'pcntoolkit.model.hbr.LinearParameterization'>\n",
      "slope_sigma <class 'pcntoolkit.model.hbr.FixedParameterization'>\n",
      "slope_sigma\n",
      "dist='normal'\n",
      "params=(0.0, 1.0)\n",
      "intercept_sigma <class 'pcntoolkit.model.hbr.FixedParameterization'>\n",
      "intercept_sigma\n",
      "dist='normal'\n",
      "params=(1.0, 1.0)\n",
      "sigma <class 'pcntoolkit.model.hbr.LinearParameterization'>\n",
      "epsilon <class 'pcntoolkit.model.hbr.FixedParameterization'>\n",
      "epsilon\n",
      "dist='normal'\n",
      "params=(0.0, 1.0)\n",
      "delta <class 'pcntoolkit.model.hbr.FixedParameterization'>\n",
      "delta\n",
      "dist='normal'\n",
      "params=(1.5, 2.0)\n"
     ]
    },
    {
     "data": {
      "text/html": [
       "\n",
       "<style>\n",
       "    /* Turns off some styling */\n",
       "    progress {\n",
       "        /* gets rid of default border in Firefox and Opera. */\n",
       "        border: none;\n",
       "        /* Needs to be in here for Safari polyfill so background images work as expected. */\n",
       "        background-size: auto;\n",
       "    }\n",
       "    .progress-bar-interrupted, .progress-bar-interrupted::-webkit-progress-bar {\n",
       "        background: #F44336;\n",
       "    }\n",
       "</style>\n"
      ],
      "text/plain": [
       "<IPython.core.display.HTML object>"
      ]
     },
     "metadata": {},
     "output_type": "display_data"
    },
    {
     "data": {
      "text/html": [
       "\n",
       "    <div>\n",
       "      <progress value='3066' class='' max='3066' style='width:300px; height:20px; vertical-align: middle;'></progress>\n",
       "      100.00% [3066/3066 05:27<00:00 logp = -8,450.6, ||grad|| = 36.627]\n",
       "    </div>\n",
       "    "
      ],
      "text/plain": [
       "<IPython.core.display.HTML object>"
      ]
     },
     "metadata": {},
     "output_type": "display_data"
    },
    {
     "name": "stdout",
     "output_type": "stream",
     "text": [
      "\n",
      "Found MAP in  419.8273389339447\n",
      "slope_mu <class 'pcntoolkit.model.hbr.FixedParameterization'>\n",
      "slope_mu\n",
      "dist='normal'\n",
      "params=(0.0, 3.0)\n",
      "intercept_mu <class 'pcntoolkit.model.hbr.NonCentralRandomFixedParameterization'>\n",
      "mu_intercept_mu\n",
      "dist='normal'\n",
      "params=(0.0, 1.0)\n",
      "sigma_intercept_mu\n",
      "dist='hcauchy'\n",
      "params=(1.0,)\n",
      "offset_intercept_mu\n",
      "dist='normal'\n",
      "params=(0.0, 1.0)\n",
      "mu <class 'pcntoolkit.model.hbr.LinearParameterization'>\n",
      "slope_sigma <class 'pcntoolkit.model.hbr.FixedParameterization'>\n",
      "slope_sigma\n",
      "dist='normal'\n",
      "params=(0.0, 1.0)\n",
      "intercept_sigma <class 'pcntoolkit.model.hbr.FixedParameterization'>\n",
      "intercept_sigma\n",
      "dist='normal'\n",
      "params=(1.0, 1.0)\n",
      "sigma <class 'pcntoolkit.model.hbr.LinearParameterization'>\n",
      "slope_epsilon <class 'pcntoolkit.model.hbr.FixedParameterization'>\n",
      "slope_epsilon\n",
      "dist='normal'\n",
      "params=(0.0, 1.0)\n",
      "intercept_epsilon <class 'pcntoolkit.model.hbr.FixedParameterization'>\n",
      "intercept_epsilon\n",
      "dist='normal'\n",
      "params=(0.0, 1)\n",
      "epsilon <class 'pcntoolkit.model.hbr.LinearParameterization'>\n",
      "slope_delta <class 'pcntoolkit.model.hbr.FixedParameterization'>\n",
      "slope_delta\n",
      "dist='normal'\n",
      "params=(0.0, 1)\n",
      "intercept_delta <class 'pcntoolkit.model.hbr.FixedParameterization'>\n",
      "intercept_delta\n",
      "dist='normal'\n",
      "params=(2.0, 1)\n",
      "delta <class 'pcntoolkit.model.hbr.LinearParameterization'>\n"
     ]
    },
    {
     "data": {
      "text/html": [
       "\n",
       "<style>\n",
       "    /* Turns off some styling */\n",
       "    progress {\n",
       "        /* gets rid of default border in Firefox and Opera. */\n",
       "        border: none;\n",
       "        /* Needs to be in here for Safari polyfill so background images work as expected. */\n",
       "        background-size: auto;\n",
       "    }\n",
       "    .progress-bar-interrupted, .progress-bar-interrupted::-webkit-progress-bar {\n",
       "        background: #F44336;\n",
       "    }\n",
       "</style>\n"
      ],
      "text/plain": [
       "<IPython.core.display.HTML object>"
      ]
     },
     "metadata": {},
     "output_type": "display_data"
    },
    {
     "data": {
      "text/html": [
       "\n",
       "    <div>\n",
       "      <progress value='3410' class='' max='3410' style='width:300px; height:20px; vertical-align: middle;'></progress>\n",
       "      100.00% [3410/3410 10:57<00:00 logp = -7,803.1, ||grad|| = 19.018]\n",
       "    </div>\n",
       "    "
      ],
      "text/plain": [
       "<IPython.core.display.HTML object>"
      ]
     },
     "metadata": {},
     "output_type": "display_data"
    },
    {
     "name": "stdout",
     "output_type": "stream",
     "text": [
      "\n",
      "Found MAP in  823.298823595047\n",
      "slope_mu <class 'pcntoolkit.model.hbr.FixedParameterization'>\n",
      "slope_mu\n",
      "dist='normal'\n",
      "params=(0.0, 1.0)\n",
      "intercept_mu <class 'pcntoolkit.model.hbr.NonCentralRandomFixedParameterization'>\n",
      "mu_intercept_mu\n",
      "dist='normal'\n",
      "params=(0.0, 1.0)\n",
      "sigma_intercept_mu\n",
      "dist='hcauchy'\n",
      "params=(1.0,)\n",
      "offset_intercept_mu\n",
      "dist='normal'\n",
      "params=(0.0, 1.0)\n",
      "mu <class 'pcntoolkit.model.hbr.LinearParameterization'>\n",
      "slope_sigma <class 'pcntoolkit.model.hbr.FixedParameterization'>\n",
      "slope_sigma\n",
      "dist='normal'\n",
      "params=(0.0, 1.0)\n",
      "intercept_sigma <class 'pcntoolkit.model.hbr.FixedParameterization'>\n",
      "intercept_sigma\n",
      "dist='normal'\n",
      "params=(0.0, 1.0)\n",
      "sigma <class 'pcntoolkit.model.hbr.LinearParameterization'>\n"
     ]
    },
    {
     "data": {
      "text/html": [
       "\n",
       "<style>\n",
       "    /* Turns off some styling */\n",
       "    progress {\n",
       "        /* gets rid of default border in Firefox and Opera. */\n",
       "        border: none;\n",
       "        /* Needs to be in here for Safari polyfill so background images work as expected. */\n",
       "        background-size: auto;\n",
       "    }\n",
       "    .progress-bar-interrupted, .progress-bar-interrupted::-webkit-progress-bar {\n",
       "        background: #F44336;\n",
       "    }\n",
       "</style>\n"
      ],
      "text/plain": [
       "<IPython.core.display.HTML object>"
      ]
     },
     "metadata": {},
     "output_type": "display_data"
    },
    {
     "data": {
      "text/html": [
       "\n",
       "    <div>\n",
       "      <progress value='1174' class='' max='1174' style='width:300px; height:20px; vertical-align: middle;'></progress>\n",
       "      100.00% [1174/1174 01:03<00:00 logp = -47,118, ||grad|| = 21.957]\n",
       "    </div>\n",
       "    "
      ],
      "text/plain": [
       "<IPython.core.display.HTML object>"
      ]
     },
     "metadata": {},
     "output_type": "display_data"
    },
    {
     "name": "stdout",
     "output_type": "stream",
     "text": [
      "\n",
      "Found MAP in  132.3547134399414\n",
      "slope_mu <class 'pcntoolkit.model.hbr.FixedParameterization'>\n",
      "slope_mu\n",
      "dist='normal'\n",
      "params=(0.0, 3.0)\n",
      "intercept_mu <class 'pcntoolkit.model.hbr.NonCentralRandomFixedParameterization'>\n",
      "mu_intercept_mu\n",
      "dist='normal'\n",
      "params=(0.0, 1.0)\n",
      "sigma_intercept_mu\n",
      "dist='hcauchy'\n",
      "params=(1.0,)\n",
      "offset_intercept_mu\n",
      "dist='normal'\n",
      "params=(0.0, 1.0)\n",
      "mu <class 'pcntoolkit.model.hbr.LinearParameterization'>\n",
      "slope_sigma <class 'pcntoolkit.model.hbr.FixedParameterization'>\n",
      "slope_sigma\n",
      "dist='normal'\n",
      "params=(0.0, 1.0)\n",
      "intercept_sigma <class 'pcntoolkit.model.hbr.FixedParameterization'>\n",
      "intercept_sigma\n",
      "dist='normal'\n",
      "params=(1.0, 1.0)\n",
      "sigma <class 'pcntoolkit.model.hbr.LinearParameterization'>\n",
      "epsilon <class 'pcntoolkit.model.hbr.FixedParameterization'>\n",
      "epsilon\n",
      "dist='normal'\n",
      "params=(0.0, 1.0)\n",
      "delta <class 'pcntoolkit.model.hbr.FixedParameterization'>\n",
      "delta\n",
      "dist='normal'\n",
      "params=(1.5, 2.0)\n"
     ]
    },
    {
     "data": {
      "text/html": [
       "\n",
       "<style>\n",
       "    /* Turns off some styling */\n",
       "    progress {\n",
       "        /* gets rid of default border in Firefox and Opera. */\n",
       "        border: none;\n",
       "        /* Needs to be in here for Safari polyfill so background images work as expected. */\n",
       "        background-size: auto;\n",
       "    }\n",
       "    .progress-bar-interrupted, .progress-bar-interrupted::-webkit-progress-bar {\n",
       "        background: #F44336;\n",
       "    }\n",
       "</style>\n"
      ],
      "text/plain": [
       "<IPython.core.display.HTML object>"
      ]
     },
     "metadata": {},
     "output_type": "display_data"
    },
    {
     "data": {
      "text/html": [
       "\n",
       "    <div>\n",
       "      <progress value='562' class='' max='562' style='width:300px; height:20px; vertical-align: middle;'></progress>\n",
       "      100.00% [562/562 01:04<00:00 logp = -65,184, ||grad|| = 5.2898]\n",
       "    </div>\n",
       "    "
      ],
      "text/plain": [
       "<IPython.core.display.HTML object>"
      ]
     },
     "metadata": {},
     "output_type": "display_data"
    },
    {
     "name": "stdout",
     "output_type": "stream",
     "text": [
      "\n",
      "Found MAP in  164.46471738815308\n",
      "slope_mu <class 'pcntoolkit.model.hbr.FixedParameterization'>\n",
      "slope_mu\n",
      "dist='normal'\n",
      "params=(0.0, 3.0)\n",
      "intercept_mu <class 'pcntoolkit.model.hbr.NonCentralRandomFixedParameterization'>\n",
      "mu_intercept_mu\n",
      "dist='normal'\n",
      "params=(0.0, 1.0)\n",
      "sigma_intercept_mu\n",
      "dist='hcauchy'\n",
      "params=(1.0,)\n",
      "offset_intercept_mu\n",
      "dist='normal'\n",
      "params=(0.0, 1.0)\n",
      "mu <class 'pcntoolkit.model.hbr.LinearParameterization'>\n",
      "slope_sigma <class 'pcntoolkit.model.hbr.FixedParameterization'>\n",
      "slope_sigma\n",
      "dist='normal'\n",
      "params=(0.0, 1.0)\n",
      "intercept_sigma <class 'pcntoolkit.model.hbr.FixedParameterization'>\n",
      "intercept_sigma\n",
      "dist='normal'\n",
      "params=(1.0, 1.0)\n",
      "sigma <class 'pcntoolkit.model.hbr.LinearParameterization'>\n",
      "slope_epsilon <class 'pcntoolkit.model.hbr.FixedParameterization'>\n",
      "slope_epsilon\n",
      "dist='normal'\n",
      "params=(0.0, 1.0)\n",
      "intercept_epsilon <class 'pcntoolkit.model.hbr.FixedParameterization'>\n",
      "intercept_epsilon\n",
      "dist='normal'\n",
      "params=(0.0, 1)\n",
      "epsilon <class 'pcntoolkit.model.hbr.LinearParameterization'>\n",
      "slope_delta <class 'pcntoolkit.model.hbr.FixedParameterization'>\n",
      "slope_delta\n",
      "dist='normal'\n",
      "params=(0.0, 1)\n",
      "intercept_delta <class 'pcntoolkit.model.hbr.FixedParameterization'>\n",
      "intercept_delta\n",
      "dist='normal'\n",
      "params=(2.0, 1)\n",
      "delta <class 'pcntoolkit.model.hbr.LinearParameterization'>\n"
     ]
    },
    {
     "data": {
      "text/html": [
       "\n",
       "<style>\n",
       "    /* Turns off some styling */\n",
       "    progress {\n",
       "        /* gets rid of default border in Firefox and Opera. */\n",
       "        border: none;\n",
       "        /* Needs to be in here for Safari polyfill so background images work as expected. */\n",
       "        background-size: auto;\n",
       "    }\n",
       "    .progress-bar-interrupted, .progress-bar-interrupted::-webkit-progress-bar {\n",
       "        background: #F44336;\n",
       "    }\n",
       "</style>\n"
      ],
      "text/plain": [
       "<IPython.core.display.HTML object>"
      ]
     },
     "metadata": {},
     "output_type": "display_data"
    },
    {
     "data": {
      "text/html": [
       "\n",
       "    <div>\n",
       "      <progress value='569' class='' max='569' style='width:300px; height:20px; vertical-align: middle;'></progress>\n",
       "      100.00% [569/569 01:38<00:00 logp = -65,165, ||grad|| = 33.191]\n",
       "    </div>\n",
       "    "
      ],
      "text/plain": [
       "<IPython.core.display.HTML object>"
      ]
     },
     "metadata": {},
     "output_type": "display_data"
    },
    {
     "name": "stdout",
     "output_type": "stream",
     "text": [
      "\n",
      "Found MAP in  266.6291754245758\n",
      "slope_mu <class 'pcntoolkit.model.hbr.FixedParameterization'>\n",
      "slope_mu\n",
      "dist='normal'\n",
      "params=(0.0, 1.0)\n",
      "intercept_mu <class 'pcntoolkit.model.hbr.NonCentralRandomFixedParameterization'>\n",
      "mu_intercept_mu\n",
      "dist='normal'\n",
      "params=(0.0, 1.0)\n",
      "sigma_intercept_mu\n",
      "dist='hcauchy'\n",
      "params=(1.0,)\n",
      "offset_intercept_mu\n",
      "dist='normal'\n",
      "params=(0.0, 1.0)\n",
      "mu <class 'pcntoolkit.model.hbr.LinearParameterization'>\n",
      "slope_sigma <class 'pcntoolkit.model.hbr.FixedParameterization'>\n",
      "slope_sigma\n",
      "dist='normal'\n",
      "params=(0.0, 1.0)\n",
      "intercept_sigma <class 'pcntoolkit.model.hbr.FixedParameterization'>\n",
      "intercept_sigma\n",
      "dist='normal'\n",
      "params=(0.0, 1.0)\n",
      "sigma <class 'pcntoolkit.model.hbr.LinearParameterization'>\n"
     ]
    },
    {
     "data": {
      "text/html": [
       "\n",
       "<style>\n",
       "    /* Turns off some styling */\n",
       "    progress {\n",
       "        /* gets rid of default border in Firefox and Opera. */\n",
       "        border: none;\n",
       "        /* Needs to be in here for Safari polyfill so background images work as expected. */\n",
       "        background-size: auto;\n",
       "    }\n",
       "    .progress-bar-interrupted, .progress-bar-interrupted::-webkit-progress-bar {\n",
       "        background: #F44336;\n",
       "    }\n",
       "</style>\n"
      ],
      "text/plain": [
       "<IPython.core.display.HTML object>"
      ]
     },
     "metadata": {},
     "output_type": "display_data"
    },
    {
     "data": {
      "text/html": [
       "\n",
       "    <div>\n",
       "      <progress value='551' class='' max='551' style='width:300px; height:20px; vertical-align: middle;'></progress>\n",
       "      100.00% [551/551 00:28<00:00 logp = -65,924, ||grad|| = 7.9841]\n",
       "    </div>\n",
       "    "
      ],
      "text/plain": [
       "<IPython.core.display.HTML object>"
      ]
     },
     "metadata": {},
     "output_type": "display_data"
    },
    {
     "name": "stdout",
     "output_type": "stream",
     "text": [
      "\n",
      "Found MAP in  97.1024878025055\n",
      "slope_mu <class 'pcntoolkit.model.hbr.FixedParameterization'>\n",
      "slope_mu\n",
      "dist='normal'\n",
      "params=(0.0, 3.0)\n",
      "intercept_mu <class 'pcntoolkit.model.hbr.NonCentralRandomFixedParameterization'>\n",
      "mu_intercept_mu\n",
      "dist='normal'\n",
      "params=(0.0, 1.0)\n",
      "sigma_intercept_mu\n",
      "dist='hcauchy'\n",
      "params=(1.0,)\n",
      "offset_intercept_mu\n",
      "dist='normal'\n",
      "params=(0.0, 1.0)\n",
      "mu <class 'pcntoolkit.model.hbr.LinearParameterization'>\n",
      "slope_sigma <class 'pcntoolkit.model.hbr.FixedParameterization'>\n",
      "slope_sigma\n",
      "dist='normal'\n",
      "params=(0.0, 1.0)\n",
      "intercept_sigma <class 'pcntoolkit.model.hbr.FixedParameterization'>\n",
      "intercept_sigma\n",
      "dist='normal'\n",
      "params=(1.0, 1.0)\n",
      "sigma <class 'pcntoolkit.model.hbr.LinearParameterization'>\n",
      "epsilon <class 'pcntoolkit.model.hbr.FixedParameterization'>\n",
      "epsilon\n",
      "dist='normal'\n",
      "params=(0.0, 1.0)\n",
      "delta <class 'pcntoolkit.model.hbr.FixedParameterization'>\n",
      "delta\n",
      "dist='normal'\n",
      "params=(1.5, 2.0)\n"
     ]
    },
    {
     "data": {
      "text/html": [
       "\n",
       "<style>\n",
       "    /* Turns off some styling */\n",
       "    progress {\n",
       "        /* gets rid of default border in Firefox and Opera. */\n",
       "        border: none;\n",
       "        /* Needs to be in here for Safari polyfill so background images work as expected. */\n",
       "        background-size: auto;\n",
       "    }\n",
       "    .progress-bar-interrupted, .progress-bar-interrupted::-webkit-progress-bar {\n",
       "        background: #F44336;\n",
       "    }\n",
       "</style>\n"
      ],
      "text/plain": [
       "<IPython.core.display.HTML object>"
      ]
     },
     "metadata": {},
     "output_type": "display_data"
    },
    {
     "data": {
      "text/html": [
       "\n",
       "    <div>\n",
       "      <progress value='826' class='' max='826' style='width:300px; height:20px; vertical-align: middle;'></progress>\n",
       "      100.00% [826/826 01:34<00:00 logp = -61,287, ||grad|| = 4.6918]\n",
       "    </div>\n",
       "    "
      ],
      "text/plain": [
       "<IPython.core.display.HTML object>"
      ]
     },
     "metadata": {},
     "output_type": "display_data"
    },
    {
     "name": "stdout",
     "output_type": "stream",
     "text": [
      "\n",
      "Found MAP in  192.23676252365112\n",
      "slope_mu <class 'pcntoolkit.model.hbr.FixedParameterization'>\n",
      "slope_mu\n",
      "dist='normal'\n",
      "params=(0.0, 3.0)\n",
      "intercept_mu <class 'pcntoolkit.model.hbr.NonCentralRandomFixedParameterization'>\n",
      "mu_intercept_mu\n",
      "dist='normal'\n",
      "params=(0.0, 1.0)\n",
      "sigma_intercept_mu\n",
      "dist='hcauchy'\n",
      "params=(1.0,)\n",
      "offset_intercept_mu\n",
      "dist='normal'\n",
      "params=(0.0, 1.0)\n",
      "mu <class 'pcntoolkit.model.hbr.LinearParameterization'>\n",
      "slope_sigma <class 'pcntoolkit.model.hbr.FixedParameterization'>\n",
      "slope_sigma\n",
      "dist='normal'\n",
      "params=(0.0, 1.0)\n",
      "intercept_sigma <class 'pcntoolkit.model.hbr.FixedParameterization'>\n",
      "intercept_sigma\n",
      "dist='normal'\n",
      "params=(1.0, 1.0)\n",
      "sigma <class 'pcntoolkit.model.hbr.LinearParameterization'>\n",
      "slope_epsilon <class 'pcntoolkit.model.hbr.FixedParameterization'>\n",
      "slope_epsilon\n",
      "dist='normal'\n",
      "params=(0.0, 1.0)\n",
      "intercept_epsilon <class 'pcntoolkit.model.hbr.FixedParameterization'>\n",
      "intercept_epsilon\n",
      "dist='normal'\n",
      "params=(0.0, 1)\n",
      "epsilon <class 'pcntoolkit.model.hbr.LinearParameterization'>\n",
      "slope_delta <class 'pcntoolkit.model.hbr.FixedParameterization'>\n",
      "slope_delta\n",
      "dist='normal'\n",
      "params=(0.0, 1)\n",
      "intercept_delta <class 'pcntoolkit.model.hbr.FixedParameterization'>\n",
      "intercept_delta\n",
      "dist='normal'\n",
      "params=(2.0, 1)\n",
      "delta <class 'pcntoolkit.model.hbr.LinearParameterization'>\n"
     ]
    },
    {
     "data": {
      "text/html": [
       "\n",
       "<style>\n",
       "    /* Turns off some styling */\n",
       "    progress {\n",
       "        /* gets rid of default border in Firefox and Opera. */\n",
       "        border: none;\n",
       "        /* Needs to be in here for Safari polyfill so background images work as expected. */\n",
       "        background-size: auto;\n",
       "    }\n",
       "    .progress-bar-interrupted, .progress-bar-interrupted::-webkit-progress-bar {\n",
       "        background: #F44336;\n",
       "    }\n",
       "</style>\n"
      ],
      "text/plain": [
       "<IPython.core.display.HTML object>"
      ]
     },
     "metadata": {},
     "output_type": "display_data"
    },
    {
     "data": {
      "text/html": [
       "\n",
       "    <div>\n",
       "      <progress value='751' class='' max='751' style='width:300px; height:20px; vertical-align: middle;'></progress>\n",
       "      100.00% [751/751 02:28<00:00 logp = -61,288, ||grad|| = 3.3873]\n",
       "    </div>\n",
       "    "
      ],
      "text/plain": [
       "<IPython.core.display.HTML object>"
      ]
     },
     "metadata": {},
     "output_type": "display_data"
    },
    {
     "name": "stdout",
     "output_type": "stream",
     "text": [
      "\n",
      "Found MAP in  311.8012390136719\n",
      "slope_mu <class 'pcntoolkit.model.hbr.FixedParameterization'>\n",
      "slope_mu\n",
      "dist='normal'\n",
      "params=(0.0, 1.0)\n",
      "intercept_mu <class 'pcntoolkit.model.hbr.NonCentralRandomFixedParameterization'>\n",
      "mu_intercept_mu\n",
      "dist='normal'\n",
      "params=(0.0, 1.0)\n",
      "sigma_intercept_mu\n",
      "dist='hcauchy'\n",
      "params=(1.0,)\n",
      "offset_intercept_mu\n",
      "dist='normal'\n",
      "params=(0.0, 1.0)\n",
      "mu <class 'pcntoolkit.model.hbr.LinearParameterization'>\n",
      "slope_sigma <class 'pcntoolkit.model.hbr.FixedParameterization'>\n",
      "slope_sigma\n",
      "dist='normal'\n",
      "params=(0.0, 1.0)\n",
      "intercept_sigma <class 'pcntoolkit.model.hbr.FixedParameterization'>\n",
      "intercept_sigma\n",
      "dist='normal'\n",
      "params=(0.0, 1.0)\n",
      "sigma <class 'pcntoolkit.model.hbr.LinearParameterization'>\n"
     ]
    },
    {
     "data": {
      "text/html": [
       "\n",
       "<style>\n",
       "    /* Turns off some styling */\n",
       "    progress {\n",
       "        /* gets rid of default border in Firefox and Opera. */\n",
       "        border: none;\n",
       "        /* Needs to be in here for Safari polyfill so background images work as expected. */\n",
       "        background-size: auto;\n",
       "    }\n",
       "    .progress-bar-interrupted, .progress-bar-interrupted::-webkit-progress-bar {\n",
       "        background: #F44336;\n",
       "    }\n",
       "</style>\n"
      ],
      "text/plain": [
       "<IPython.core.display.HTML object>"
      ]
     },
     "metadata": {},
     "output_type": "display_data"
    },
    {
     "data": {
      "text/html": [
       "\n",
       "    <div>\n",
       "      <progress value='698' class='' max='698' style='width:300px; height:20px; vertical-align: middle;'></progress>\n",
       "      100.00% [698/698 00:40<00:00 logp = -61,675, ||grad|| = 7.8835]\n",
       "    </div>\n",
       "    "
      ],
      "text/plain": [
       "<IPython.core.display.HTML object>"
      ]
     },
     "metadata": {},
     "output_type": "display_data"
    },
    {
     "name": "stdout",
     "output_type": "stream",
     "text": [
      "\n",
      "Found MAP in  106.5384726524353\n",
      "slope_mu <class 'pcntoolkit.model.hbr.FixedParameterization'>\n",
      "slope_mu\n",
      "dist='normal'\n",
      "params=(0.0, 3.0)\n",
      "intercept_mu <class 'pcntoolkit.model.hbr.NonCentralRandomFixedParameterization'>\n",
      "mu_intercept_mu\n",
      "dist='normal'\n",
      "params=(0.0, 1.0)\n",
      "sigma_intercept_mu\n",
      "dist='hcauchy'\n",
      "params=(1.0,)\n",
      "offset_intercept_mu\n",
      "dist='normal'\n",
      "params=(0.0, 1.0)\n",
      "mu <class 'pcntoolkit.model.hbr.LinearParameterization'>\n",
      "slope_sigma <class 'pcntoolkit.model.hbr.FixedParameterization'>\n",
      "slope_sigma\n",
      "dist='normal'\n",
      "params=(0.0, 1.0)\n",
      "intercept_sigma <class 'pcntoolkit.model.hbr.FixedParameterization'>\n",
      "intercept_sigma\n",
      "dist='normal'\n",
      "params=(1.0, 1.0)\n",
      "sigma <class 'pcntoolkit.model.hbr.LinearParameterization'>\n",
      "epsilon <class 'pcntoolkit.model.hbr.FixedParameterization'>\n",
      "epsilon\n",
      "dist='normal'\n",
      "params=(0.0, 1.0)\n",
      "delta <class 'pcntoolkit.model.hbr.FixedParameterization'>\n",
      "delta\n",
      "dist='normal'\n",
      "params=(1.5, 2.0)\n"
     ]
    },
    {
     "data": {
      "text/html": [
       "\n",
       "<style>\n",
       "    /* Turns off some styling */\n",
       "    progress {\n",
       "        /* gets rid of default border in Firefox and Opera. */\n",
       "        border: none;\n",
       "        /* Needs to be in here for Safari polyfill so background images work as expected. */\n",
       "        background-size: auto;\n",
       "    }\n",
       "    .progress-bar-interrupted, .progress-bar-interrupted::-webkit-progress-bar {\n",
       "        background: #F44336;\n",
       "    }\n",
       "</style>\n"
      ],
      "text/plain": [
       "<IPython.core.display.HTML object>"
      ]
     },
     "metadata": {},
     "output_type": "display_data"
    },
    {
     "data": {
      "text/html": [
       "\n",
       "    <div>\n",
       "      <progress value='817' class='' max='817' style='width:300px; height:20px; vertical-align: middle;'></progress>\n",
       "      100.00% [817/817 02:24<00:00 logp = -60,649, ||grad|| = 4.6374]\n",
       "    </div>\n",
       "    "
      ],
      "text/plain": [
       "<IPython.core.display.HTML object>"
      ]
     },
     "metadata": {},
     "output_type": "display_data"
    },
    {
     "name": "stdout",
     "output_type": "stream",
     "text": [
      "\n",
      "Found MAP in  247.67052841186523\n",
      "slope_mu <class 'pcntoolkit.model.hbr.FixedParameterization'>\n",
      "slope_mu\n",
      "dist='normal'\n",
      "params=(0.0, 3.0)\n",
      "intercept_mu <class 'pcntoolkit.model.hbr.NonCentralRandomFixedParameterization'>\n",
      "mu_intercept_mu\n",
      "dist='normal'\n",
      "params=(0.0, 1.0)\n",
      "sigma_intercept_mu\n",
      "dist='hcauchy'\n",
      "params=(1.0,)\n",
      "offset_intercept_mu\n",
      "dist='normal'\n",
      "params=(0.0, 1.0)\n",
      "mu <class 'pcntoolkit.model.hbr.LinearParameterization'>\n",
      "slope_sigma <class 'pcntoolkit.model.hbr.FixedParameterization'>\n",
      "slope_sigma\n",
      "dist='normal'\n",
      "params=(0.0, 1.0)\n",
      "intercept_sigma <class 'pcntoolkit.model.hbr.FixedParameterization'>\n",
      "intercept_sigma\n",
      "dist='normal'\n",
      "params=(1.0, 1.0)\n",
      "sigma <class 'pcntoolkit.model.hbr.LinearParameterization'>\n",
      "slope_epsilon <class 'pcntoolkit.model.hbr.FixedParameterization'>\n",
      "slope_epsilon\n",
      "dist='normal'\n",
      "params=(0.0, 1.0)\n",
      "intercept_epsilon <class 'pcntoolkit.model.hbr.FixedParameterization'>\n",
      "intercept_epsilon\n",
      "dist='normal'\n",
      "params=(0.0, 1)\n",
      "epsilon <class 'pcntoolkit.model.hbr.LinearParameterization'>\n",
      "slope_delta <class 'pcntoolkit.model.hbr.FixedParameterization'>\n",
      "slope_delta\n",
      "dist='normal'\n",
      "params=(0.0, 1)\n",
      "intercept_delta <class 'pcntoolkit.model.hbr.FixedParameterization'>\n",
      "intercept_delta\n",
      "dist='normal'\n",
      "params=(2.0, 1)\n",
      "delta <class 'pcntoolkit.model.hbr.LinearParameterization'>\n"
     ]
    },
    {
     "data": {
      "text/html": [
       "\n",
       "<style>\n",
       "    /* Turns off some styling */\n",
       "    progress {\n",
       "        /* gets rid of default border in Firefox and Opera. */\n",
       "        border: none;\n",
       "        /* Needs to be in here for Safari polyfill so background images work as expected. */\n",
       "        background-size: auto;\n",
       "    }\n",
       "    .progress-bar-interrupted, .progress-bar-interrupted::-webkit-progress-bar {\n",
       "        background: #F44336;\n",
       "    }\n",
       "</style>\n"
      ],
      "text/plain": [
       "<IPython.core.display.HTML object>"
      ]
     },
     "metadata": {},
     "output_type": "display_data"
    },
    {
     "data": {
      "text/html": [
       "\n",
       "    <div>\n",
       "      <progress value='846' class='' max='846' style='width:300px; height:20px; vertical-align: middle;'></progress>\n",
       "      100.00% [846/846 03:02<00:00 logp = -60,604, ||grad|| = 5.0504]\n",
       "    </div>\n",
       "    "
      ],
      "text/plain": [
       "<IPython.core.display.HTML object>"
      ]
     },
     "metadata": {},
     "output_type": "display_data"
    },
    {
     "name": "stdout",
     "output_type": "stream",
     "text": [
      "\n",
      "Found MAP in  336.235591173172\n",
      "slope_mu <class 'pcntoolkit.model.hbr.FixedParameterization'>\n",
      "slope_mu\n",
      "dist='normal'\n",
      "params=(0.0, 1.0)\n",
      "intercept_mu <class 'pcntoolkit.model.hbr.NonCentralRandomFixedParameterization'>\n",
      "mu_intercept_mu\n",
      "dist='normal'\n",
      "params=(0.0, 1.0)\n",
      "sigma_intercept_mu\n",
      "dist='hcauchy'\n",
      "params=(1.0,)\n",
      "offset_intercept_mu\n",
      "dist='normal'\n",
      "params=(0.0, 1.0)\n",
      "mu <class 'pcntoolkit.model.hbr.LinearParameterization'>\n",
      "slope_sigma <class 'pcntoolkit.model.hbr.FixedParameterization'>\n",
      "slope_sigma\n",
      "dist='normal'\n",
      "params=(0.0, 1.0)\n",
      "intercept_sigma <class 'pcntoolkit.model.hbr.FixedParameterization'>\n",
      "intercept_sigma\n",
      "dist='normal'\n",
      "params=(0.0, 1.0)\n",
      "sigma <class 'pcntoolkit.model.hbr.LinearParameterization'>\n"
     ]
    },
    {
     "data": {
      "text/html": [
       "\n",
       "<style>\n",
       "    /* Turns off some styling */\n",
       "    progress {\n",
       "        /* gets rid of default border in Firefox and Opera. */\n",
       "        border: none;\n",
       "        /* Needs to be in here for Safari polyfill so background images work as expected. */\n",
       "        background-size: auto;\n",
       "    }\n",
       "    .progress-bar-interrupted, .progress-bar-interrupted::-webkit-progress-bar {\n",
       "        background: #F44336;\n",
       "    }\n",
       "</style>\n"
      ],
      "text/plain": [
       "<IPython.core.display.HTML object>"
      ]
     },
     "metadata": {},
     "output_type": "display_data"
    },
    {
     "data": {
      "text/html": [
       "\n",
       "    <div>\n",
       "      <progress value='696' class='' max='696' style='width:300px; height:20px; vertical-align: middle;'></progress>\n",
       "      100.00% [696/696 00:41<00:00 logp = -64,525, ||grad|| = 4.9802]\n",
       "    </div>\n",
       "    "
      ],
      "text/plain": [
       "<IPython.core.display.HTML object>"
      ]
     },
     "metadata": {},
     "output_type": "display_data"
    },
    {
     "name": "stdout",
     "output_type": "stream",
     "text": [
      "\n",
      "Found MAP in  105.14320015907288\n",
      "slope_mu <class 'pcntoolkit.model.hbr.FixedParameterization'>\n",
      "slope_mu\n",
      "dist='normal'\n",
      "params=(0.0, 3.0)\n",
      "intercept_mu <class 'pcntoolkit.model.hbr.NonCentralRandomFixedParameterization'>\n",
      "mu_intercept_mu\n",
      "dist='normal'\n",
      "params=(0.0, 1.0)\n",
      "sigma_intercept_mu\n",
      "dist='hcauchy'\n",
      "params=(1.0,)\n",
      "offset_intercept_mu\n",
      "dist='normal'\n",
      "params=(0.0, 1.0)\n",
      "mu <class 'pcntoolkit.model.hbr.LinearParameterization'>\n",
      "slope_sigma <class 'pcntoolkit.model.hbr.FixedParameterization'>\n",
      "slope_sigma\n",
      "dist='normal'\n",
      "params=(0.0, 1.0)\n",
      "intercept_sigma <class 'pcntoolkit.model.hbr.FixedParameterization'>\n",
      "intercept_sigma\n",
      "dist='normal'\n",
      "params=(1.0, 1.0)\n",
      "sigma <class 'pcntoolkit.model.hbr.LinearParameterization'>\n",
      "epsilon <class 'pcntoolkit.model.hbr.FixedParameterization'>\n",
      "epsilon\n",
      "dist='normal'\n",
      "params=(0.0, 1.0)\n",
      "delta <class 'pcntoolkit.model.hbr.FixedParameterization'>\n",
      "delta\n",
      "dist='normal'\n",
      "params=(1.5, 2.0)\n"
     ]
    },
    {
     "data": {
      "text/html": [
       "\n",
       "<style>\n",
       "    /* Turns off some styling */\n",
       "    progress {\n",
       "        /* gets rid of default border in Firefox and Opera. */\n",
       "        border: none;\n",
       "        /* Needs to be in here for Safari polyfill so background images work as expected. */\n",
       "        background-size: auto;\n",
       "    }\n",
       "    .progress-bar-interrupted, .progress-bar-interrupted::-webkit-progress-bar {\n",
       "        background: #F44336;\n",
       "    }\n",
       "</style>\n"
      ],
      "text/plain": [
       "<IPython.core.display.HTML object>"
      ]
     },
     "metadata": {},
     "output_type": "display_data"
    },
    {
     "data": {
      "text/html": [
       "\n",
       "    <div>\n",
       "      <progress value='725' class='' max='725' style='width:300px; height:20px; vertical-align: middle;'></progress>\n",
       "      100.00% [725/725 01:29<00:00 logp = -62,962, ||grad|| = 5.7393]\n",
       "    </div>\n",
       "    "
      ],
      "text/plain": [
       "<IPython.core.display.HTML object>"
      ]
     },
     "metadata": {},
     "output_type": "display_data"
    },
    {
     "name": "stdout",
     "output_type": "stream",
     "text": [
      "\n",
      "Found MAP in  180.07756423950195\n",
      "slope_mu <class 'pcntoolkit.model.hbr.FixedParameterization'>\n",
      "slope_mu\n",
      "dist='normal'\n",
      "params=(0.0, 3.0)\n",
      "intercept_mu <class 'pcntoolkit.model.hbr.NonCentralRandomFixedParameterization'>\n",
      "mu_intercept_mu\n",
      "dist='normal'\n",
      "params=(0.0, 1.0)\n",
      "sigma_intercept_mu\n",
      "dist='hcauchy'\n",
      "params=(1.0,)\n",
      "offset_intercept_mu\n",
      "dist='normal'\n",
      "params=(0.0, 1.0)\n",
      "mu <class 'pcntoolkit.model.hbr.LinearParameterization'>\n",
      "slope_sigma <class 'pcntoolkit.model.hbr.FixedParameterization'>\n",
      "slope_sigma\n",
      "dist='normal'\n",
      "params=(0.0, 1.0)\n",
      "intercept_sigma <class 'pcntoolkit.model.hbr.FixedParameterization'>\n",
      "intercept_sigma\n",
      "dist='normal'\n",
      "params=(1.0, 1.0)\n",
      "sigma <class 'pcntoolkit.model.hbr.LinearParameterization'>\n",
      "slope_epsilon <class 'pcntoolkit.model.hbr.FixedParameterization'>\n",
      "slope_epsilon\n",
      "dist='normal'\n",
      "params=(0.0, 1.0)\n",
      "intercept_epsilon <class 'pcntoolkit.model.hbr.FixedParameterization'>\n",
      "intercept_epsilon\n",
      "dist='normal'\n",
      "params=(0.0, 1)\n",
      "epsilon <class 'pcntoolkit.model.hbr.LinearParameterization'>\n",
      "slope_delta <class 'pcntoolkit.model.hbr.FixedParameterization'>\n",
      "slope_delta\n",
      "dist='normal'\n",
      "params=(0.0, 1)\n",
      "intercept_delta <class 'pcntoolkit.model.hbr.FixedParameterization'>\n",
      "intercept_delta\n",
      "dist='normal'\n",
      "params=(2.0, 1)\n",
      "delta <class 'pcntoolkit.model.hbr.LinearParameterization'>\n"
     ]
    },
    {
     "data": {
      "text/html": [
       "\n",
       "<style>\n",
       "    /* Turns off some styling */\n",
       "    progress {\n",
       "        /* gets rid of default border in Firefox and Opera. */\n",
       "        border: none;\n",
       "        /* Needs to be in here for Safari polyfill so background images work as expected. */\n",
       "        background-size: auto;\n",
       "    }\n",
       "    .progress-bar-interrupted, .progress-bar-interrupted::-webkit-progress-bar {\n",
       "        background: #F44336;\n",
       "    }\n",
       "</style>\n"
      ],
      "text/plain": [
       "<IPython.core.display.HTML object>"
      ]
     },
     "metadata": {},
     "output_type": "display_data"
    },
    {
     "data": {
      "text/html": [
       "\n",
       "    <div>\n",
       "      <progress value='906' class='' max='906' style='width:300px; height:20px; vertical-align: middle;'></progress>\n",
       "      100.00% [906/906 02:33<00:00 logp = -62,794, ||grad|| = 4.714]\n",
       "    </div>\n",
       "    "
      ],
      "text/plain": [
       "<IPython.core.display.HTML object>"
      ]
     },
     "metadata": {},
     "output_type": "display_data"
    },
    {
     "name": "stdout",
     "output_type": "stream",
     "text": [
      "\n",
      "Found MAP in  306.0869824886322\n",
      "slope_mu <class 'pcntoolkit.model.hbr.FixedParameterization'>\n",
      "slope_mu\n",
      "dist='normal'\n",
      "params=(0.0, 1.0)\n",
      "intercept_mu <class 'pcntoolkit.model.hbr.NonCentralRandomFixedParameterization'>\n",
      "mu_intercept_mu\n",
      "dist='normal'\n",
      "params=(0.0, 1.0)\n",
      "sigma_intercept_mu\n",
      "dist='hcauchy'\n",
      "params=(1.0,)\n",
      "offset_intercept_mu\n",
      "dist='normal'\n",
      "params=(0.0, 1.0)\n",
      "mu <class 'pcntoolkit.model.hbr.LinearParameterization'>\n",
      "slope_sigma <class 'pcntoolkit.model.hbr.FixedParameterization'>\n",
      "slope_sigma\n",
      "dist='normal'\n",
      "params=(0.0, 1.0)\n",
      "intercept_sigma <class 'pcntoolkit.model.hbr.FixedParameterization'>\n",
      "intercept_sigma\n",
      "dist='normal'\n",
      "params=(0.0, 1.0)\n",
      "sigma <class 'pcntoolkit.model.hbr.LinearParameterization'>\n"
     ]
    },
    {
     "data": {
      "text/html": [
       "\n",
       "<style>\n",
       "    /* Turns off some styling */\n",
       "    progress {\n",
       "        /* gets rid of default border in Firefox and Opera. */\n",
       "        border: none;\n",
       "        /* Needs to be in here for Safari polyfill so background images work as expected. */\n",
       "        background-size: auto;\n",
       "    }\n",
       "    .progress-bar-interrupted, .progress-bar-interrupted::-webkit-progress-bar {\n",
       "        background: #F44336;\n",
       "    }\n",
       "</style>\n"
      ],
      "text/plain": [
       "<IPython.core.display.HTML object>"
      ]
     },
     "metadata": {},
     "output_type": "display_data"
    },
    {
     "data": {
      "text/html": [
       "\n",
       "    <div>\n",
       "      <progress value='553' class='' max='553' style='width:300px; height:20px; vertical-align: middle;'></progress>\n",
       "      100.00% [553/553 00:26<00:00 logp = -63,289, ||grad|| = 4.9478]\n",
       "    </div>\n",
       "    "
      ],
      "text/plain": [
       "<IPython.core.display.HTML object>"
      ]
     },
     "metadata": {},
     "output_type": "display_data"
    },
    {
     "name": "stdout",
     "output_type": "stream",
     "text": [
      "\n",
      "Found MAP in  92.2524254322052\n",
      "slope_mu <class 'pcntoolkit.model.hbr.FixedParameterization'>\n",
      "slope_mu\n",
      "dist='normal'\n",
      "params=(0.0, 3.0)\n",
      "intercept_mu <class 'pcntoolkit.model.hbr.NonCentralRandomFixedParameterization'>\n",
      "mu_intercept_mu\n",
      "dist='normal'\n",
      "params=(0.0, 1.0)\n",
      "sigma_intercept_mu\n",
      "dist='hcauchy'\n",
      "params=(1.0,)\n",
      "offset_intercept_mu\n",
      "dist='normal'\n",
      "params=(0.0, 1.0)\n",
      "mu <class 'pcntoolkit.model.hbr.LinearParameterization'>\n",
      "slope_sigma <class 'pcntoolkit.model.hbr.FixedParameterization'>\n",
      "slope_sigma\n",
      "dist='normal'\n",
      "params=(0.0, 1.0)\n",
      "intercept_sigma <class 'pcntoolkit.model.hbr.FixedParameterization'>\n",
      "intercept_sigma\n",
      "dist='normal'\n",
      "params=(1.0, 1.0)\n",
      "sigma <class 'pcntoolkit.model.hbr.LinearParameterization'>\n",
      "epsilon <class 'pcntoolkit.model.hbr.FixedParameterization'>\n",
      "epsilon\n",
      "dist='normal'\n",
      "params=(0.0, 1.0)\n",
      "delta <class 'pcntoolkit.model.hbr.FixedParameterization'>\n",
      "delta\n",
      "dist='normal'\n",
      "params=(1.5, 2.0)\n"
     ]
    },
    {
     "data": {
      "text/html": [
       "\n",
       "<style>\n",
       "    /* Turns off some styling */\n",
       "    progress {\n",
       "        /* gets rid of default border in Firefox and Opera. */\n",
       "        border: none;\n",
       "        /* Needs to be in here for Safari polyfill so background images work as expected. */\n",
       "        background-size: auto;\n",
       "    }\n",
       "    .progress-bar-interrupted, .progress-bar-interrupted::-webkit-progress-bar {\n",
       "        background: #F44336;\n",
       "    }\n",
       "</style>\n"
      ],
      "text/plain": [
       "<IPython.core.display.HTML object>"
      ]
     },
     "metadata": {},
     "output_type": "display_data"
    },
    {
     "data": {
      "text/html": [
       "\n",
       "    <div>\n",
       "      <progress value='1609' class='' max='1609' style='width:300px; height:20px; vertical-align: middle;'></progress>\n",
       "      100.00% [1609/1609 02:50<00:00 logp = -42,009, ||grad|| = 10.218]\n",
       "    </div>\n",
       "    "
      ],
      "text/plain": [
       "<IPython.core.display.HTML object>"
      ]
     },
     "metadata": {},
     "output_type": "display_data"
    },
    {
     "name": "stdout",
     "output_type": "stream",
     "text": [
      "\n",
      "Found MAP in  262.0456714630127\n",
      "slope_mu <class 'pcntoolkit.model.hbr.FixedParameterization'>\n",
      "slope_mu\n",
      "dist='normal'\n",
      "params=(0.0, 3.0)\n",
      "intercept_mu <class 'pcntoolkit.model.hbr.NonCentralRandomFixedParameterization'>\n",
      "mu_intercept_mu\n",
      "dist='normal'\n",
      "params=(0.0, 1.0)\n",
      "sigma_intercept_mu\n",
      "dist='hcauchy'\n",
      "params=(1.0,)\n",
      "offset_intercept_mu\n",
      "dist='normal'\n",
      "params=(0.0, 1.0)\n",
      "mu <class 'pcntoolkit.model.hbr.LinearParameterization'>\n",
      "slope_sigma <class 'pcntoolkit.model.hbr.FixedParameterization'>\n",
      "slope_sigma\n",
      "dist='normal'\n",
      "params=(0.0, 1.0)\n",
      "intercept_sigma <class 'pcntoolkit.model.hbr.FixedParameterization'>\n",
      "intercept_sigma\n",
      "dist='normal'\n",
      "params=(1.0, 1.0)\n",
      "sigma <class 'pcntoolkit.model.hbr.LinearParameterization'>\n",
      "slope_epsilon <class 'pcntoolkit.model.hbr.FixedParameterization'>\n",
      "slope_epsilon\n",
      "dist='normal'\n",
      "params=(0.0, 1.0)\n",
      "intercept_epsilon <class 'pcntoolkit.model.hbr.FixedParameterization'>\n",
      "intercept_epsilon\n",
      "dist='normal'\n",
      "params=(0.0, 1)\n",
      "epsilon <class 'pcntoolkit.model.hbr.LinearParameterization'>\n",
      "slope_delta <class 'pcntoolkit.model.hbr.FixedParameterization'>\n",
      "slope_delta\n",
      "dist='normal'\n",
      "params=(0.0, 1)\n",
      "intercept_delta <class 'pcntoolkit.model.hbr.FixedParameterization'>\n",
      "intercept_delta\n",
      "dist='normal'\n",
      "params=(2.0, 1)\n",
      "delta <class 'pcntoolkit.model.hbr.LinearParameterization'>\n"
     ]
    },
    {
     "data": {
      "text/html": [
       "\n",
       "<style>\n",
       "    /* Turns off some styling */\n",
       "    progress {\n",
       "        /* gets rid of default border in Firefox and Opera. */\n",
       "        border: none;\n",
       "        /* Needs to be in here for Safari polyfill so background images work as expected. */\n",
       "        background-size: auto;\n",
       "    }\n",
       "    .progress-bar-interrupted, .progress-bar-interrupted::-webkit-progress-bar {\n",
       "        background: #F44336;\n",
       "    }\n",
       "</style>\n"
      ],
      "text/plain": [
       "<IPython.core.display.HTML object>"
      ]
     },
     "metadata": {},
     "output_type": "display_data"
    },
    {
     "data": {
      "text/html": [
       "\n",
       "    <div>\n",
       "      <progress value='2015' class='' max='2015' style='width:300px; height:20px; vertical-align: middle;'></progress>\n",
       "      100.00% [2015/2015 05:48<00:00 logp = -41,651, ||grad|| = 8.3221]\n",
       "    </div>\n",
       "    "
      ],
      "text/plain": [
       "<IPython.core.display.HTML object>"
      ]
     },
     "metadata": {},
     "output_type": "display_data"
    },
    {
     "name": "stdout",
     "output_type": "stream",
     "text": [
      "\n",
      "Found MAP in  500.72380924224854\n",
      "slope_mu <class 'pcntoolkit.model.hbr.FixedParameterization'>\n",
      "slope_mu\n",
      "dist='normal'\n",
      "params=(0.0, 1.0)\n",
      "intercept_mu <class 'pcntoolkit.model.hbr.NonCentralRandomFixedParameterization'>\n",
      "mu_intercept_mu\n",
      "dist='normal'\n",
      "params=(0.0, 1.0)\n",
      "sigma_intercept_mu\n",
      "dist='hcauchy'\n",
      "params=(1.0,)\n",
      "offset_intercept_mu\n",
      "dist='normal'\n",
      "params=(0.0, 1.0)\n",
      "mu <class 'pcntoolkit.model.hbr.LinearParameterization'>\n",
      "slope_sigma <class 'pcntoolkit.model.hbr.FixedParameterization'>\n",
      "slope_sigma\n",
      "dist='normal'\n",
      "params=(0.0, 1.0)\n",
      "intercept_sigma <class 'pcntoolkit.model.hbr.FixedParameterization'>\n",
      "intercept_sigma\n",
      "dist='normal'\n",
      "params=(0.0, 1.0)\n",
      "sigma <class 'pcntoolkit.model.hbr.LinearParameterization'>\n"
     ]
    },
    {
     "data": {
      "text/html": [
       "\n",
       "<style>\n",
       "    /* Turns off some styling */\n",
       "    progress {\n",
       "        /* gets rid of default border in Firefox and Opera. */\n",
       "        border: none;\n",
       "        /* Needs to be in here for Safari polyfill so background images work as expected. */\n",
       "        background-size: auto;\n",
       "    }\n",
       "    .progress-bar-interrupted, .progress-bar-interrupted::-webkit-progress-bar {\n",
       "        background: #F44336;\n",
       "    }\n",
       "</style>\n"
      ],
      "text/plain": [
       "<IPython.core.display.HTML object>"
      ]
     },
     "metadata": {},
     "output_type": "display_data"
    },
    {
     "data": {
      "text/html": [
       "\n",
       "    <div>\n",
       "      <progress value='552' class='' max='552' style='width:300px; height:20px; vertical-align: middle;'></progress>\n",
       "      100.00% [552/552 00:25<00:00 logp = -54,044, ||grad|| = 7.9935]\n",
       "    </div>\n",
       "    "
      ],
      "text/plain": [
       "<IPython.core.display.HTML object>"
      ]
     },
     "metadata": {},
     "output_type": "display_data"
    },
    {
     "name": "stdout",
     "output_type": "stream",
     "text": [
      "\n",
      "Found MAP in  90.77005243301392\n",
      "slope_mu <class 'pcntoolkit.model.hbr.FixedParameterization'>\n",
      "slope_mu\n",
      "dist='normal'\n",
      "params=(0.0, 3.0)\n",
      "intercept_mu <class 'pcntoolkit.model.hbr.NonCentralRandomFixedParameterization'>\n",
      "mu_intercept_mu\n",
      "dist='normal'\n",
      "params=(0.0, 1.0)\n",
      "sigma_intercept_mu\n",
      "dist='hcauchy'\n",
      "params=(1.0,)\n",
      "offset_intercept_mu\n",
      "dist='normal'\n",
      "params=(0.0, 1.0)\n",
      "mu <class 'pcntoolkit.model.hbr.LinearParameterization'>\n",
      "slope_sigma <class 'pcntoolkit.model.hbr.FixedParameterization'>\n",
      "slope_sigma\n",
      "dist='normal'\n",
      "params=(0.0, 1.0)\n",
      "intercept_sigma <class 'pcntoolkit.model.hbr.FixedParameterization'>\n",
      "intercept_sigma\n",
      "dist='normal'\n",
      "params=(1.0, 1.0)\n",
      "sigma <class 'pcntoolkit.model.hbr.LinearParameterization'>\n",
      "epsilon <class 'pcntoolkit.model.hbr.FixedParameterization'>\n",
      "epsilon\n",
      "dist='normal'\n",
      "params=(0.0, 1.0)\n",
      "delta <class 'pcntoolkit.model.hbr.FixedParameterization'>\n",
      "delta\n",
      "dist='normal'\n",
      "params=(1.5, 2.0)\n"
     ]
    },
    {
     "data": {
      "text/html": [
       "\n",
       "<style>\n",
       "    /* Turns off some styling */\n",
       "    progress {\n",
       "        /* gets rid of default border in Firefox and Opera. */\n",
       "        border: none;\n",
       "        /* Needs to be in here for Safari polyfill so background images work as expected. */\n",
       "        background-size: auto;\n",
       "    }\n",
       "    .progress-bar-interrupted, .progress-bar-interrupted::-webkit-progress-bar {\n",
       "        background: #F44336;\n",
       "    }\n",
       "</style>\n"
      ],
      "text/plain": [
       "<IPython.core.display.HTML object>"
      ]
     },
     "metadata": {},
     "output_type": "display_data"
    },
    {
     "data": {
      "text/html": [
       "\n",
       "    <div>\n",
       "      <progress value='3323' class='' max='3323' style='width:300px; height:20px; vertical-align: middle;'></progress>\n",
       "      100.00% [3323/3323 05:51<00:00 logp = -8,344, ||grad|| = 6.0928]\n",
       "    </div>\n",
       "    "
      ],
      "text/plain": [
       "<IPython.core.display.HTML object>"
      ]
     },
     "metadata": {},
     "output_type": "display_data"
    },
    {
     "name": "stdout",
     "output_type": "stream",
     "text": [
      "\n",
      "Found MAP in  442.34371423721313\n",
      "slope_mu <class 'pcntoolkit.model.hbr.FixedParameterization'>\n",
      "slope_mu\n",
      "dist='normal'\n",
      "params=(0.0, 3.0)\n",
      "intercept_mu <class 'pcntoolkit.model.hbr.NonCentralRandomFixedParameterization'>\n",
      "mu_intercept_mu\n",
      "dist='normal'\n",
      "params=(0.0, 1.0)\n",
      "sigma_intercept_mu\n",
      "dist='hcauchy'\n",
      "params=(1.0,)\n",
      "offset_intercept_mu\n",
      "dist='normal'\n",
      "params=(0.0, 1.0)\n",
      "mu <class 'pcntoolkit.model.hbr.LinearParameterization'>\n",
      "slope_sigma <class 'pcntoolkit.model.hbr.FixedParameterization'>\n",
      "slope_sigma\n",
      "dist='normal'\n",
      "params=(0.0, 1.0)\n",
      "intercept_sigma <class 'pcntoolkit.model.hbr.FixedParameterization'>\n",
      "intercept_sigma\n",
      "dist='normal'\n",
      "params=(1.0, 1.0)\n",
      "sigma <class 'pcntoolkit.model.hbr.LinearParameterization'>\n",
      "slope_epsilon <class 'pcntoolkit.model.hbr.FixedParameterization'>\n",
      "slope_epsilon\n",
      "dist='normal'\n",
      "params=(0.0, 1.0)\n",
      "intercept_epsilon <class 'pcntoolkit.model.hbr.FixedParameterization'>\n",
      "intercept_epsilon\n",
      "dist='normal'\n",
      "params=(0.0, 1)\n",
      "epsilon <class 'pcntoolkit.model.hbr.LinearParameterization'>\n",
      "slope_delta <class 'pcntoolkit.model.hbr.FixedParameterization'>\n",
      "slope_delta\n",
      "dist='normal'\n",
      "params=(0.0, 1)\n",
      "intercept_delta <class 'pcntoolkit.model.hbr.FixedParameterization'>\n",
      "intercept_delta\n",
      "dist='normal'\n",
      "params=(2.0, 1)\n",
      "delta <class 'pcntoolkit.model.hbr.LinearParameterization'>\n"
     ]
    },
    {
     "data": {
      "text/html": [
       "\n",
       "<style>\n",
       "    /* Turns off some styling */\n",
       "    progress {\n",
       "        /* gets rid of default border in Firefox and Opera. */\n",
       "        border: none;\n",
       "        /* Needs to be in here for Safari polyfill so background images work as expected. */\n",
       "        background-size: auto;\n",
       "    }\n",
       "    .progress-bar-interrupted, .progress-bar-interrupted::-webkit-progress-bar {\n",
       "        background: #F44336;\n",
       "    }\n",
       "</style>\n"
      ],
      "text/plain": [
       "<IPython.core.display.HTML object>"
      ]
     },
     "metadata": {},
     "output_type": "display_data"
    },
    {
     "data": {
      "text/html": [
       "\n",
       "    <div>\n",
       "      <progress value='3294' class='' max='3294' style='width:300px; height:20px; vertical-align: middle;'></progress>\n",
       "      100.00% [3294/3294 09:41<00:00 logp = -7,715.5, ||grad|| = 19.471]\n",
       "    </div>\n",
       "    "
      ],
      "text/plain": [
       "<IPython.core.display.HTML object>"
      ]
     },
     "metadata": {},
     "output_type": "display_data"
    },
    {
     "name": "stdout",
     "output_type": "stream",
     "text": [
      "\n",
      "Found MAP in  736.0620789527893\n",
      "slope_mu <class 'pcntoolkit.model.hbr.FixedParameterization'>\n",
      "slope_mu\n",
      "dist='normal'\n",
      "params=(0.0, 1.0)\n",
      "intercept_mu <class 'pcntoolkit.model.hbr.NonCentralRandomFixedParameterization'>\n",
      "mu_intercept_mu\n",
      "dist='normal'\n",
      "params=(0.0, 1.0)\n",
      "sigma_intercept_mu\n",
      "dist='hcauchy'\n",
      "params=(1.0,)\n",
      "offset_intercept_mu\n",
      "dist='normal'\n",
      "params=(0.0, 1.0)\n",
      "mu <class 'pcntoolkit.model.hbr.LinearParameterization'>\n",
      "slope_sigma <class 'pcntoolkit.model.hbr.FixedParameterization'>\n",
      "slope_sigma\n",
      "dist='normal'\n",
      "params=(0.0, 1.0)\n",
      "intercept_sigma <class 'pcntoolkit.model.hbr.FixedParameterization'>\n",
      "intercept_sigma\n",
      "dist='normal'\n",
      "params=(0.0, 1.0)\n",
      "sigma <class 'pcntoolkit.model.hbr.LinearParameterization'>\n"
     ]
    },
    {
     "data": {
      "text/html": [
       "\n",
       "<style>\n",
       "    /* Turns off some styling */\n",
       "    progress {\n",
       "        /* gets rid of default border in Firefox and Opera. */\n",
       "        border: none;\n",
       "        /* Needs to be in here for Safari polyfill so background images work as expected. */\n",
       "        background-size: auto;\n",
       "    }\n",
       "    .progress-bar-interrupted, .progress-bar-interrupted::-webkit-progress-bar {\n",
       "        background: #F44336;\n",
       "    }\n",
       "</style>\n"
      ],
      "text/plain": [
       "<IPython.core.display.HTML object>"
      ]
     },
     "metadata": {},
     "output_type": "display_data"
    },
    {
     "data": {
      "text/html": [
       "\n",
       "    <div>\n",
       "      <progress value='1208' class='' max='1208' style='width:300px; height:20px; vertical-align: middle;'></progress>\n",
       "      100.00% [1208/1208 00:59<00:00 logp = -46,911, ||grad|| = 6.1291]\n",
       "    </div>\n",
       "    "
      ],
      "text/plain": [
       "<IPython.core.display.HTML object>"
      ]
     },
     "metadata": {},
     "output_type": "display_data"
    },
    {
     "name": "stdout",
     "output_type": "stream",
     "text": [
      "\n",
      "Found MAP in  123.56300497055054\n",
      "slope_mu <class 'pcntoolkit.model.hbr.FixedParameterization'>\n",
      "slope_mu\n",
      "dist='normal'\n",
      "params=(0.0, 3.0)\n",
      "intercept_mu <class 'pcntoolkit.model.hbr.NonCentralRandomFixedParameterization'>\n",
      "mu_intercept_mu\n",
      "dist='normal'\n",
      "params=(0.0, 1.0)\n",
      "sigma_intercept_mu\n",
      "dist='hcauchy'\n",
      "params=(1.0,)\n",
      "offset_intercept_mu\n",
      "dist='normal'\n",
      "params=(0.0, 1.0)\n",
      "mu <class 'pcntoolkit.model.hbr.LinearParameterization'>\n",
      "slope_sigma <class 'pcntoolkit.model.hbr.FixedParameterization'>\n",
      "slope_sigma\n",
      "dist='normal'\n",
      "params=(0.0, 1.0)\n",
      "intercept_sigma <class 'pcntoolkit.model.hbr.FixedParameterization'>\n",
      "intercept_sigma\n",
      "dist='normal'\n",
      "params=(1.0, 1.0)\n",
      "sigma <class 'pcntoolkit.model.hbr.LinearParameterization'>\n",
      "epsilon <class 'pcntoolkit.model.hbr.FixedParameterization'>\n",
      "epsilon\n",
      "dist='normal'\n",
      "params=(0.0, 1.0)\n",
      "delta <class 'pcntoolkit.model.hbr.FixedParameterization'>\n",
      "delta\n",
      "dist='normal'\n",
      "params=(1.5, 2.0)\n"
     ]
    },
    {
     "data": {
      "text/html": [
       "\n",
       "<style>\n",
       "    /* Turns off some styling */\n",
       "    progress {\n",
       "        /* gets rid of default border in Firefox and Opera. */\n",
       "        border: none;\n",
       "        /* Needs to be in here for Safari polyfill so background images work as expected. */\n",
       "        background-size: auto;\n",
       "    }\n",
       "    .progress-bar-interrupted, .progress-bar-interrupted::-webkit-progress-bar {\n",
       "        background: #F44336;\n",
       "    }\n",
       "</style>\n"
      ],
      "text/plain": [
       "<IPython.core.display.HTML object>"
      ]
     },
     "metadata": {},
     "output_type": "display_data"
    },
    {
     "data": {
      "text/html": [
       "\n",
       "    <div>\n",
       "      <progress value='609' class='' max='609' style='width:300px; height:20px; vertical-align: middle;'></progress>\n",
       "      100.00% [609/609 01:03<00:00 logp = -65,163, ||grad|| = 3.685]\n",
       "    </div>\n",
       "    "
      ],
      "text/plain": [
       "<IPython.core.display.HTML object>"
      ]
     },
     "metadata": {},
     "output_type": "display_data"
    },
    {
     "name": "stdout",
     "output_type": "stream",
     "text": [
      "\n",
      "Found MAP in  157.98390293121338\n",
      "slope_mu <class 'pcntoolkit.model.hbr.FixedParameterization'>\n",
      "slope_mu\n",
      "dist='normal'\n",
      "params=(0.0, 3.0)\n",
      "intercept_mu <class 'pcntoolkit.model.hbr.NonCentralRandomFixedParameterization'>\n",
      "mu_intercept_mu\n",
      "dist='normal'\n",
      "params=(0.0, 1.0)\n",
      "sigma_intercept_mu\n",
      "dist='hcauchy'\n",
      "params=(1.0,)\n",
      "offset_intercept_mu\n",
      "dist='normal'\n",
      "params=(0.0, 1.0)\n",
      "mu <class 'pcntoolkit.model.hbr.LinearParameterization'>\n",
      "slope_sigma <class 'pcntoolkit.model.hbr.FixedParameterization'>\n",
      "slope_sigma\n",
      "dist='normal'\n",
      "params=(0.0, 1.0)\n",
      "intercept_sigma <class 'pcntoolkit.model.hbr.FixedParameterization'>\n",
      "intercept_sigma\n",
      "dist='normal'\n",
      "params=(1.0, 1.0)\n",
      "sigma <class 'pcntoolkit.model.hbr.LinearParameterization'>\n",
      "slope_epsilon <class 'pcntoolkit.model.hbr.FixedParameterization'>\n",
      "slope_epsilon\n",
      "dist='normal'\n",
      "params=(0.0, 1.0)\n",
      "intercept_epsilon <class 'pcntoolkit.model.hbr.FixedParameterization'>\n",
      "intercept_epsilon\n",
      "dist='normal'\n",
      "params=(0.0, 1)\n",
      "epsilon <class 'pcntoolkit.model.hbr.LinearParameterization'>\n",
      "slope_delta <class 'pcntoolkit.model.hbr.FixedParameterization'>\n",
      "slope_delta\n",
      "dist='normal'\n",
      "params=(0.0, 1)\n",
      "intercept_delta <class 'pcntoolkit.model.hbr.FixedParameterization'>\n",
      "intercept_delta\n",
      "dist='normal'\n",
      "params=(2.0, 1)\n",
      "delta <class 'pcntoolkit.model.hbr.LinearParameterization'>\n"
     ]
    },
    {
     "data": {
      "text/html": [
       "\n",
       "<style>\n",
       "    /* Turns off some styling */\n",
       "    progress {\n",
       "        /* gets rid of default border in Firefox and Opera. */\n",
       "        border: none;\n",
       "        /* Needs to be in here for Safari polyfill so background images work as expected. */\n",
       "        background-size: auto;\n",
       "    }\n",
       "    .progress-bar-interrupted, .progress-bar-interrupted::-webkit-progress-bar {\n",
       "        background: #F44336;\n",
       "    }\n",
       "</style>\n"
      ],
      "text/plain": [
       "<IPython.core.display.HTML object>"
      ]
     },
     "metadata": {},
     "output_type": "display_data"
    },
    {
     "data": {
      "text/html": [
       "\n",
       "    <div>\n",
       "      <progress value='820' class='' max='820' style='width:300px; height:20px; vertical-align: middle;'></progress>\n",
       "      100.00% [820/820 02:20<00:00 logp = -65,136, ||grad|| = 27.447]\n",
       "    </div>\n",
       "    "
      ],
      "text/plain": [
       "<IPython.core.display.HTML object>"
      ]
     },
     "metadata": {},
     "output_type": "display_data"
    },
    {
     "name": "stdout",
     "output_type": "stream",
     "text": [
      "\n",
      "Found MAP in  299.44370913505554\n",
      "slope_mu <class 'pcntoolkit.model.hbr.FixedParameterization'>\n",
      "slope_mu\n",
      "dist='normal'\n",
      "params=(0.0, 1.0)\n",
      "intercept_mu <class 'pcntoolkit.model.hbr.NonCentralRandomFixedParameterization'>\n",
      "mu_intercept_mu\n",
      "dist='normal'\n",
      "params=(0.0, 1.0)\n",
      "sigma_intercept_mu\n",
      "dist='hcauchy'\n",
      "params=(1.0,)\n",
      "offset_intercept_mu\n",
      "dist='normal'\n",
      "params=(0.0, 1.0)\n",
      "mu <class 'pcntoolkit.model.hbr.LinearParameterization'>\n",
      "slope_sigma <class 'pcntoolkit.model.hbr.FixedParameterization'>\n",
      "slope_sigma\n",
      "dist='normal'\n",
      "params=(0.0, 1.0)\n",
      "intercept_sigma <class 'pcntoolkit.model.hbr.FixedParameterization'>\n",
      "intercept_sigma\n",
      "dist='normal'\n",
      "params=(0.0, 1.0)\n",
      "sigma <class 'pcntoolkit.model.hbr.LinearParameterization'>\n"
     ]
    },
    {
     "data": {
      "text/html": [
       "\n",
       "<style>\n",
       "    /* Turns off some styling */\n",
       "    progress {\n",
       "        /* gets rid of default border in Firefox and Opera. */\n",
       "        border: none;\n",
       "        /* Needs to be in here for Safari polyfill so background images work as expected. */\n",
       "        background-size: auto;\n",
       "    }\n",
       "    .progress-bar-interrupted, .progress-bar-interrupted::-webkit-progress-bar {\n",
       "        background: #F44336;\n",
       "    }\n",
       "</style>\n"
      ],
      "text/plain": [
       "<IPython.core.display.HTML object>"
      ]
     },
     "metadata": {},
     "output_type": "display_data"
    },
    {
     "data": {
      "text/html": [
       "\n",
       "    <div>\n",
       "      <progress value='517' class='' max='517' style='width:300px; height:20px; vertical-align: middle;'></progress>\n",
       "      100.00% [517/517 00:25<00:00 logp = -65,895, ||grad|| = 7.2044]\n",
       "    </div>\n",
       "    "
      ],
      "text/plain": [
       "<IPython.core.display.HTML object>"
      ]
     },
     "metadata": {},
     "output_type": "display_data"
    },
    {
     "name": "stdout",
     "output_type": "stream",
     "text": [
      "\n",
      "Found MAP in  90.05870389938354\n",
      "slope_mu <class 'pcntoolkit.model.hbr.FixedParameterization'>\n",
      "slope_mu\n",
      "dist='normal'\n",
      "params=(0.0, 3.0)\n",
      "intercept_mu <class 'pcntoolkit.model.hbr.NonCentralRandomFixedParameterization'>\n",
      "mu_intercept_mu\n",
      "dist='normal'\n",
      "params=(0.0, 1.0)\n",
      "sigma_intercept_mu\n",
      "dist='hcauchy'\n",
      "params=(1.0,)\n",
      "offset_intercept_mu\n",
      "dist='normal'\n",
      "params=(0.0, 1.0)\n",
      "mu <class 'pcntoolkit.model.hbr.LinearParameterization'>\n",
      "slope_sigma <class 'pcntoolkit.model.hbr.FixedParameterization'>\n",
      "slope_sigma\n",
      "dist='normal'\n",
      "params=(0.0, 1.0)\n",
      "intercept_sigma <class 'pcntoolkit.model.hbr.FixedParameterization'>\n",
      "intercept_sigma\n",
      "dist='normal'\n",
      "params=(1.0, 1.0)\n",
      "sigma <class 'pcntoolkit.model.hbr.LinearParameterization'>\n",
      "epsilon <class 'pcntoolkit.model.hbr.FixedParameterization'>\n",
      "epsilon\n",
      "dist='normal'\n",
      "params=(0.0, 1.0)\n",
      "delta <class 'pcntoolkit.model.hbr.FixedParameterization'>\n",
      "delta\n",
      "dist='normal'\n",
      "params=(1.5, 2.0)\n"
     ]
    },
    {
     "data": {
      "text/html": [
       "\n",
       "<style>\n",
       "    /* Turns off some styling */\n",
       "    progress {\n",
       "        /* gets rid of default border in Firefox and Opera. */\n",
       "        border: none;\n",
       "        /* Needs to be in here for Safari polyfill so background images work as expected. */\n",
       "        background-size: auto;\n",
       "    }\n",
       "    .progress-bar-interrupted, .progress-bar-interrupted::-webkit-progress-bar {\n",
       "        background: #F44336;\n",
       "    }\n",
       "</style>\n"
      ],
      "text/plain": [
       "<IPython.core.display.HTML object>"
      ]
     },
     "metadata": {},
     "output_type": "display_data"
    },
    {
     "data": {
      "text/html": [
       "\n",
       "    <div>\n",
       "      <progress value='739' class='' max='739' style='width:300px; height:20px; vertical-align: middle;'></progress>\n",
       "      100.00% [739/739 01:17<00:00 logp = -61,298, ||grad|| = 4.1293]\n",
       "    </div>\n",
       "    "
      ],
      "text/plain": [
       "<IPython.core.display.HTML object>"
      ]
     },
     "metadata": {},
     "output_type": "display_data"
    },
    {
     "name": "stdout",
     "output_type": "stream",
     "text": [
      "\n",
      "Found MAP in  168.61864161491394\n",
      "slope_mu <class 'pcntoolkit.model.hbr.FixedParameterization'>\n",
      "slope_mu\n",
      "dist='normal'\n",
      "params=(0.0, 3.0)\n",
      "intercept_mu <class 'pcntoolkit.model.hbr.NonCentralRandomFixedParameterization'>\n",
      "mu_intercept_mu\n",
      "dist='normal'\n",
      "params=(0.0, 1.0)\n",
      "sigma_intercept_mu\n",
      "dist='hcauchy'\n",
      "params=(1.0,)\n",
      "offset_intercept_mu\n",
      "dist='normal'\n",
      "params=(0.0, 1.0)\n",
      "mu <class 'pcntoolkit.model.hbr.LinearParameterization'>\n",
      "slope_sigma <class 'pcntoolkit.model.hbr.FixedParameterization'>\n",
      "slope_sigma\n",
      "dist='normal'\n",
      "params=(0.0, 1.0)\n",
      "intercept_sigma <class 'pcntoolkit.model.hbr.FixedParameterization'>\n",
      "intercept_sigma\n",
      "dist='normal'\n",
      "params=(1.0, 1.0)\n",
      "sigma <class 'pcntoolkit.model.hbr.LinearParameterization'>\n",
      "slope_epsilon <class 'pcntoolkit.model.hbr.FixedParameterization'>\n",
      "slope_epsilon\n",
      "dist='normal'\n",
      "params=(0.0, 1.0)\n",
      "intercept_epsilon <class 'pcntoolkit.model.hbr.FixedParameterization'>\n",
      "intercept_epsilon\n",
      "dist='normal'\n",
      "params=(0.0, 1)\n",
      "epsilon <class 'pcntoolkit.model.hbr.LinearParameterization'>\n",
      "slope_delta <class 'pcntoolkit.model.hbr.FixedParameterization'>\n",
      "slope_delta\n",
      "dist='normal'\n",
      "params=(0.0, 1)\n",
      "intercept_delta <class 'pcntoolkit.model.hbr.FixedParameterization'>\n",
      "intercept_delta\n",
      "dist='normal'\n",
      "params=(2.0, 1)\n",
      "delta <class 'pcntoolkit.model.hbr.LinearParameterization'>\n"
     ]
    },
    {
     "data": {
      "text/html": [
       "\n",
       "<style>\n",
       "    /* Turns off some styling */\n",
       "    progress {\n",
       "        /* gets rid of default border in Firefox and Opera. */\n",
       "        border: none;\n",
       "        /* Needs to be in here for Safari polyfill so background images work as expected. */\n",
       "        background-size: auto;\n",
       "    }\n",
       "    .progress-bar-interrupted, .progress-bar-interrupted::-webkit-progress-bar {\n",
       "        background: #F44336;\n",
       "    }\n",
       "</style>\n"
      ],
      "text/plain": [
       "<IPython.core.display.HTML object>"
      ]
     },
     "metadata": {},
     "output_type": "display_data"
    },
    {
     "data": {
      "text/html": [
       "\n",
       "    <div>\n",
       "      <progress value='806' class='' max='806' style='width:300px; height:20px; vertical-align: middle;'></progress>\n",
       "      100.00% [806/806 02:20<00:00 logp = -61,292, ||grad|| = 4.1571]\n",
       "    </div>\n",
       "    "
      ],
      "text/plain": [
       "<IPython.core.display.HTML object>"
      ]
     },
     "metadata": {},
     "output_type": "display_data"
    },
    {
     "name": "stdout",
     "output_type": "stream",
     "text": [
      "\n",
      "Found MAP in  295.74291467666626\n",
      "slope_mu <class 'pcntoolkit.model.hbr.FixedParameterization'>\n",
      "slope_mu\n",
      "dist='normal'\n",
      "params=(0.0, 1.0)\n",
      "intercept_mu <class 'pcntoolkit.model.hbr.NonCentralRandomFixedParameterization'>\n",
      "mu_intercept_mu\n",
      "dist='normal'\n",
      "params=(0.0, 1.0)\n",
      "sigma_intercept_mu\n",
      "dist='hcauchy'\n",
      "params=(1.0,)\n",
      "offset_intercept_mu\n",
      "dist='normal'\n",
      "params=(0.0, 1.0)\n",
      "mu <class 'pcntoolkit.model.hbr.LinearParameterization'>\n",
      "slope_sigma <class 'pcntoolkit.model.hbr.FixedParameterization'>\n",
      "slope_sigma\n",
      "dist='normal'\n",
      "params=(0.0, 1.0)\n",
      "intercept_sigma <class 'pcntoolkit.model.hbr.FixedParameterization'>\n",
      "intercept_sigma\n",
      "dist='normal'\n",
      "params=(0.0, 1.0)\n",
      "sigma <class 'pcntoolkit.model.hbr.LinearParameterization'>\n"
     ]
    },
    {
     "data": {
      "text/html": [
       "\n",
       "<style>\n",
       "    /* Turns off some styling */\n",
       "    progress {\n",
       "        /* gets rid of default border in Firefox and Opera. */\n",
       "        border: none;\n",
       "        /* Needs to be in here for Safari polyfill so background images work as expected. */\n",
       "        background-size: auto;\n",
       "    }\n",
       "    .progress-bar-interrupted, .progress-bar-interrupted::-webkit-progress-bar {\n",
       "        background: #F44336;\n",
       "    }\n",
       "</style>\n"
      ],
      "text/plain": [
       "<IPython.core.display.HTML object>"
      ]
     },
     "metadata": {},
     "output_type": "display_data"
    },
    {
     "data": {
      "text/html": [
       "\n",
       "    <div>\n",
       "      <progress value='590' class='' max='590' style='width:300px; height:20px; vertical-align: middle;'></progress>\n",
       "      100.00% [590/590 00:31<00:00 logp = -61,693, ||grad|| = 4.1766]\n",
       "    </div>\n",
       "    "
      ],
      "text/plain": [
       "<IPython.core.display.HTML object>"
      ]
     },
     "metadata": {},
     "output_type": "display_data"
    },
    {
     "name": "stdout",
     "output_type": "stream",
     "text": [
      "\n",
      "Found MAP in  98.60003471374512\n",
      "slope_mu <class 'pcntoolkit.model.hbr.FixedParameterization'>\n",
      "slope_mu\n",
      "dist='normal'\n",
      "params=(0.0, 3.0)\n",
      "intercept_mu <class 'pcntoolkit.model.hbr.NonCentralRandomFixedParameterization'>\n",
      "mu_intercept_mu\n",
      "dist='normal'\n",
      "params=(0.0, 1.0)\n",
      "sigma_intercept_mu\n",
      "dist='hcauchy'\n",
      "params=(1.0,)\n",
      "offset_intercept_mu\n",
      "dist='normal'\n",
      "params=(0.0, 1.0)\n",
      "mu <class 'pcntoolkit.model.hbr.LinearParameterization'>\n",
      "slope_sigma <class 'pcntoolkit.model.hbr.FixedParameterization'>\n",
      "slope_sigma\n",
      "dist='normal'\n",
      "params=(0.0, 1.0)\n",
      "intercept_sigma <class 'pcntoolkit.model.hbr.FixedParameterization'>\n",
      "intercept_sigma\n",
      "dist='normal'\n",
      "params=(1.0, 1.0)\n",
      "sigma <class 'pcntoolkit.model.hbr.LinearParameterization'>\n",
      "epsilon <class 'pcntoolkit.model.hbr.FixedParameterization'>\n",
      "epsilon\n",
      "dist='normal'\n",
      "params=(0.0, 1.0)\n",
      "delta <class 'pcntoolkit.model.hbr.FixedParameterization'>\n",
      "delta\n",
      "dist='normal'\n",
      "params=(1.5, 2.0)\n"
     ]
    },
    {
     "data": {
      "text/html": [
       "\n",
       "<style>\n",
       "    /* Turns off some styling */\n",
       "    progress {\n",
       "        /* gets rid of default border in Firefox and Opera. */\n",
       "        border: none;\n",
       "        /* Needs to be in here for Safari polyfill so background images work as expected. */\n",
       "        background-size: auto;\n",
       "    }\n",
       "    .progress-bar-interrupted, .progress-bar-interrupted::-webkit-progress-bar {\n",
       "        background: #F44336;\n",
       "    }\n",
       "</style>\n"
      ],
      "text/plain": [
       "<IPython.core.display.HTML object>"
      ]
     },
     "metadata": {},
     "output_type": "display_data"
    },
    {
     "data": {
      "text/html": [
       "\n",
       "    <div>\n",
       "      <progress value='777' class='' max='777' style='width:300px; height:20px; vertical-align: middle;'></progress>\n",
       "      100.00% [777/777 01:22<00:00 logp = -60,675, ||grad|| = 4.13]\n",
       "    </div>\n",
       "    "
      ],
      "text/plain": [
       "<IPython.core.display.HTML object>"
      ]
     },
     "metadata": {},
     "output_type": "display_data"
    },
    {
     "name": "stdout",
     "output_type": "stream",
     "text": [
      "\n",
      "Found MAP in  185.07307076454163\n",
      "slope_mu <class 'pcntoolkit.model.hbr.FixedParameterization'>\n",
      "slope_mu\n",
      "dist='normal'\n",
      "params=(0.0, 3.0)\n",
      "intercept_mu <class 'pcntoolkit.model.hbr.NonCentralRandomFixedParameterization'>\n",
      "mu_intercept_mu\n",
      "dist='normal'\n",
      "params=(0.0, 1.0)\n",
      "sigma_intercept_mu\n",
      "dist='hcauchy'\n",
      "params=(1.0,)\n",
      "offset_intercept_mu\n",
      "dist='normal'\n",
      "params=(0.0, 1.0)\n",
      "mu <class 'pcntoolkit.model.hbr.LinearParameterization'>\n",
      "slope_sigma <class 'pcntoolkit.model.hbr.FixedParameterization'>\n",
      "slope_sigma\n",
      "dist='normal'\n",
      "params=(0.0, 1.0)\n",
      "intercept_sigma <class 'pcntoolkit.model.hbr.FixedParameterization'>\n",
      "intercept_sigma\n",
      "dist='normal'\n",
      "params=(1.0, 1.0)\n",
      "sigma <class 'pcntoolkit.model.hbr.LinearParameterization'>\n",
      "slope_epsilon <class 'pcntoolkit.model.hbr.FixedParameterization'>\n",
      "slope_epsilon\n",
      "dist='normal'\n",
      "params=(0.0, 1.0)\n",
      "intercept_epsilon <class 'pcntoolkit.model.hbr.FixedParameterization'>\n",
      "intercept_epsilon\n",
      "dist='normal'\n",
      "params=(0.0, 1)\n",
      "epsilon <class 'pcntoolkit.model.hbr.LinearParameterization'>\n",
      "slope_delta <class 'pcntoolkit.model.hbr.FixedParameterization'>\n",
      "slope_delta\n",
      "dist='normal'\n",
      "params=(0.0, 1)\n",
      "intercept_delta <class 'pcntoolkit.model.hbr.FixedParameterization'>\n",
      "intercept_delta\n",
      "dist='normal'\n",
      "params=(2.0, 1)\n",
      "delta <class 'pcntoolkit.model.hbr.LinearParameterization'>\n"
     ]
    },
    {
     "data": {
      "text/html": [
       "\n",
       "<style>\n",
       "    /* Turns off some styling */\n",
       "    progress {\n",
       "        /* gets rid of default border in Firefox and Opera. */\n",
       "        border: none;\n",
       "        /* Needs to be in here for Safari polyfill so background images work as expected. */\n",
       "        background-size: auto;\n",
       "    }\n",
       "    .progress-bar-interrupted, .progress-bar-interrupted::-webkit-progress-bar {\n",
       "        background: #F44336;\n",
       "    }\n",
       "</style>\n"
      ],
      "text/plain": [
       "<IPython.core.display.HTML object>"
      ]
     },
     "metadata": {},
     "output_type": "display_data"
    },
    {
     "data": {
      "text/html": [
       "\n",
       "    <div>\n",
       "      <progress value='724' class='' max='724' style='width:300px; height:20px; vertical-align: middle;'></progress>\n",
       "      100.00% [724/724 02:01<00:00 logp = -60,616, ||grad|| = 6.4888]\n",
       "    </div>\n",
       "    "
      ],
      "text/plain": [
       "<IPython.core.display.HTML object>"
      ]
     },
     "metadata": {},
     "output_type": "display_data"
    },
    {
     "name": "stdout",
     "output_type": "stream",
     "text": [
      "\n",
      "Found MAP in  280.5065379142761\n",
      "slope_mu <class 'pcntoolkit.model.hbr.FixedParameterization'>\n",
      "slope_mu\n",
      "dist='normal'\n",
      "params=(0.0, 1.0)\n",
      "intercept_mu <class 'pcntoolkit.model.hbr.NonCentralRandomFixedParameterization'>\n",
      "mu_intercept_mu\n",
      "dist='normal'\n",
      "params=(0.0, 1.0)\n",
      "sigma_intercept_mu\n",
      "dist='hcauchy'\n",
      "params=(1.0,)\n",
      "offset_intercept_mu\n",
      "dist='normal'\n",
      "params=(0.0, 1.0)\n",
      "mu <class 'pcntoolkit.model.hbr.LinearParameterization'>\n",
      "slope_sigma <class 'pcntoolkit.model.hbr.FixedParameterization'>\n",
      "slope_sigma\n",
      "dist='normal'\n",
      "params=(0.0, 1.0)\n",
      "intercept_sigma <class 'pcntoolkit.model.hbr.FixedParameterization'>\n",
      "intercept_sigma\n",
      "dist='normal'\n",
      "params=(0.0, 1.0)\n",
      "sigma <class 'pcntoolkit.model.hbr.LinearParameterization'>\n"
     ]
    },
    {
     "data": {
      "text/html": [
       "\n",
       "<style>\n",
       "    /* Turns off some styling */\n",
       "    progress {\n",
       "        /* gets rid of default border in Firefox and Opera. */\n",
       "        border: none;\n",
       "        /* Needs to be in here for Safari polyfill so background images work as expected. */\n",
       "        background-size: auto;\n",
       "    }\n",
       "    .progress-bar-interrupted, .progress-bar-interrupted::-webkit-progress-bar {\n",
       "        background: #F44336;\n",
       "    }\n",
       "</style>\n"
      ],
      "text/plain": [
       "<IPython.core.display.HTML object>"
      ]
     },
     "metadata": {},
     "output_type": "display_data"
    },
    {
     "data": {
      "text/html": [
       "\n",
       "    <div>\n",
       "      <progress value='647' class='' max='647' style='width:300px; height:20px; vertical-align: middle;'></progress>\n",
       "      100.00% [647/647 00:32<00:00 logp = -64,487, ||grad|| = 4.3164]\n",
       "    </div>\n",
       "    "
      ],
      "text/plain": [
       "<IPython.core.display.HTML object>"
      ]
     },
     "metadata": {},
     "output_type": "display_data"
    },
    {
     "name": "stdout",
     "output_type": "stream",
     "text": [
      "\n",
      "Found MAP in  99.84595274925232\n",
      "slope_mu <class 'pcntoolkit.model.hbr.FixedParameterization'>\n",
      "slope_mu\n",
      "dist='normal'\n",
      "params=(0.0, 3.0)\n",
      "intercept_mu <class 'pcntoolkit.model.hbr.NonCentralRandomFixedParameterization'>\n",
      "mu_intercept_mu\n",
      "dist='normal'\n",
      "params=(0.0, 1.0)\n",
      "sigma_intercept_mu\n",
      "dist='hcauchy'\n",
      "params=(1.0,)\n",
      "offset_intercept_mu\n",
      "dist='normal'\n",
      "params=(0.0, 1.0)\n",
      "mu <class 'pcntoolkit.model.hbr.LinearParameterization'>\n",
      "slope_sigma <class 'pcntoolkit.model.hbr.FixedParameterization'>\n",
      "slope_sigma\n",
      "dist='normal'\n",
      "params=(0.0, 1.0)\n",
      "intercept_sigma <class 'pcntoolkit.model.hbr.FixedParameterization'>\n",
      "intercept_sigma\n",
      "dist='normal'\n",
      "params=(1.0, 1.0)\n",
      "sigma <class 'pcntoolkit.model.hbr.LinearParameterization'>\n",
      "epsilon <class 'pcntoolkit.model.hbr.FixedParameterization'>\n",
      "epsilon\n",
      "dist='normal'\n",
      "params=(0.0, 1.0)\n",
      "delta <class 'pcntoolkit.model.hbr.FixedParameterization'>\n",
      "delta\n",
      "dist='normal'\n",
      "params=(1.5, 2.0)\n"
     ]
    },
    {
     "data": {
      "text/html": [
       "\n",
       "<style>\n",
       "    /* Turns off some styling */\n",
       "    progress {\n",
       "        /* gets rid of default border in Firefox and Opera. */\n",
       "        border: none;\n",
       "        /* Needs to be in here for Safari polyfill so background images work as expected. */\n",
       "        background-size: auto;\n",
       "    }\n",
       "    .progress-bar-interrupted, .progress-bar-interrupted::-webkit-progress-bar {\n",
       "        background: #F44336;\n",
       "    }\n",
       "</style>\n"
      ],
      "text/plain": [
       "<IPython.core.display.HTML object>"
      ]
     },
     "metadata": {},
     "output_type": "display_data"
    },
    {
     "data": {
      "text/html": [
       "\n",
       "    <div>\n",
       "      <progress value='708' class='' max='708' style='width:300px; height:20px; vertical-align: middle;'></progress>\n",
       "      100.00% [708/708 01:12<00:00 logp = -62,873, ||grad|| = 5.1101]\n",
       "    </div>\n",
       "    "
      ],
      "text/plain": [
       "<IPython.core.display.HTML object>"
      ]
     },
     "metadata": {},
     "output_type": "display_data"
    },
    {
     "name": "stdout",
     "output_type": "stream",
     "text": [
      "\n",
      "Found MAP in  166.22070336341858\n",
      "slope_mu <class 'pcntoolkit.model.hbr.FixedParameterization'>\n",
      "slope_mu\n",
      "dist='normal'\n",
      "params=(0.0, 3.0)\n",
      "intercept_mu <class 'pcntoolkit.model.hbr.NonCentralRandomFixedParameterization'>\n",
      "mu_intercept_mu\n",
      "dist='normal'\n",
      "params=(0.0, 1.0)\n",
      "sigma_intercept_mu\n",
      "dist='hcauchy'\n",
      "params=(1.0,)\n",
      "offset_intercept_mu\n",
      "dist='normal'\n",
      "params=(0.0, 1.0)\n",
      "mu <class 'pcntoolkit.model.hbr.LinearParameterization'>\n",
      "slope_sigma <class 'pcntoolkit.model.hbr.FixedParameterization'>\n",
      "slope_sigma\n",
      "dist='normal'\n",
      "params=(0.0, 1.0)\n",
      "intercept_sigma <class 'pcntoolkit.model.hbr.FixedParameterization'>\n",
      "intercept_sigma\n",
      "dist='normal'\n",
      "params=(1.0, 1.0)\n",
      "sigma <class 'pcntoolkit.model.hbr.LinearParameterization'>\n",
      "slope_epsilon <class 'pcntoolkit.model.hbr.FixedParameterization'>\n",
      "slope_epsilon\n",
      "dist='normal'\n",
      "params=(0.0, 1.0)\n",
      "intercept_epsilon <class 'pcntoolkit.model.hbr.FixedParameterization'>\n",
      "intercept_epsilon\n",
      "dist='normal'\n",
      "params=(0.0, 1)\n",
      "epsilon <class 'pcntoolkit.model.hbr.LinearParameterization'>\n",
      "slope_delta <class 'pcntoolkit.model.hbr.FixedParameterization'>\n",
      "slope_delta\n",
      "dist='normal'\n",
      "params=(0.0, 1)\n",
      "intercept_delta <class 'pcntoolkit.model.hbr.FixedParameterization'>\n",
      "intercept_delta\n",
      "dist='normal'\n",
      "params=(2.0, 1)\n",
      "delta <class 'pcntoolkit.model.hbr.LinearParameterization'>\n"
     ]
    },
    {
     "data": {
      "text/html": [
       "\n",
       "<style>\n",
       "    /* Turns off some styling */\n",
       "    progress {\n",
       "        /* gets rid of default border in Firefox and Opera. */\n",
       "        border: none;\n",
       "        /* Needs to be in here for Safari polyfill so background images work as expected. */\n",
       "        background-size: auto;\n",
       "    }\n",
       "    .progress-bar-interrupted, .progress-bar-interrupted::-webkit-progress-bar {\n",
       "        background: #F44336;\n",
       "    }\n",
       "</style>\n"
      ],
      "text/plain": [
       "<IPython.core.display.HTML object>"
      ]
     },
     "metadata": {},
     "output_type": "display_data"
    },
    {
     "data": {
      "text/html": [
       "\n",
       "    <div>\n",
       "      <progress value='780' class='' max='780' style='width:300px; height:20px; vertical-align: middle;'></progress>\n",
       "      100.00% [780/780 02:16<00:00 logp = -62,711, ||grad|| = 10.47]\n",
       "    </div>\n",
       "    "
      ],
      "text/plain": [
       "<IPython.core.display.HTML object>"
      ]
     },
     "metadata": {},
     "output_type": "display_data"
    },
    {
     "name": "stdout",
     "output_type": "stream",
     "text": [
      "\n",
      "Found MAP in  293.8083710670471\n",
      "slope_mu <class 'pcntoolkit.model.hbr.FixedParameterization'>\n",
      "slope_mu\n",
      "dist='normal'\n",
      "params=(0.0, 1.0)\n",
      "intercept_mu <class 'pcntoolkit.model.hbr.NonCentralRandomFixedParameterization'>\n",
      "mu_intercept_mu\n",
      "dist='normal'\n",
      "params=(0.0, 1.0)\n",
      "sigma_intercept_mu\n",
      "dist='hcauchy'\n",
      "params=(1.0,)\n",
      "offset_intercept_mu\n",
      "dist='normal'\n",
      "params=(0.0, 1.0)\n",
      "mu <class 'pcntoolkit.model.hbr.LinearParameterization'>\n",
      "slope_sigma <class 'pcntoolkit.model.hbr.FixedParameterization'>\n",
      "slope_sigma\n",
      "dist='normal'\n",
      "params=(0.0, 1.0)\n",
      "intercept_sigma <class 'pcntoolkit.model.hbr.FixedParameterization'>\n",
      "intercept_sigma\n",
      "dist='normal'\n",
      "params=(0.0, 1.0)\n",
      "sigma <class 'pcntoolkit.model.hbr.LinearParameterization'>\n"
     ]
    },
    {
     "data": {
      "text/html": [
       "\n",
       "<style>\n",
       "    /* Turns off some styling */\n",
       "    progress {\n",
       "        /* gets rid of default border in Firefox and Opera. */\n",
       "        border: none;\n",
       "        /* Needs to be in here for Safari polyfill so background images work as expected. */\n",
       "        background-size: auto;\n",
       "    }\n",
       "    .progress-bar-interrupted, .progress-bar-interrupted::-webkit-progress-bar {\n",
       "        background: #F44336;\n",
       "    }\n",
       "</style>\n"
      ],
      "text/plain": [
       "<IPython.core.display.HTML object>"
      ]
     },
     "metadata": {},
     "output_type": "display_data"
    },
    {
     "data": {
      "text/html": [
       "\n",
       "    <div>\n",
       "      <progress value='557' class='' max='557' style='width:300px; height:20px; vertical-align: middle;'></progress>\n",
       "      100.00% [557/557 00:27<00:00 logp = -63,215, ||grad|| = 6.14]\n",
       "    </div>\n",
       "    "
      ],
      "text/plain": [
       "<IPython.core.display.HTML object>"
      ]
     },
     "metadata": {},
     "output_type": "display_data"
    },
    {
     "name": "stdout",
     "output_type": "stream",
     "text": [
      "\n",
      "Found MAP in  94.96826553344727\n",
      "slope_mu <class 'pcntoolkit.model.hbr.FixedParameterization'>\n",
      "slope_mu\n",
      "dist='normal'\n",
      "params=(0.0, 3.0)\n",
      "intercept_mu <class 'pcntoolkit.model.hbr.NonCentralRandomFixedParameterization'>\n",
      "mu_intercept_mu\n",
      "dist='normal'\n",
      "params=(0.0, 1.0)\n",
      "sigma_intercept_mu\n",
      "dist='hcauchy'\n",
      "params=(1.0,)\n",
      "offset_intercept_mu\n",
      "dist='normal'\n",
      "params=(0.0, 1.0)\n",
      "mu <class 'pcntoolkit.model.hbr.LinearParameterization'>\n",
      "slope_sigma <class 'pcntoolkit.model.hbr.FixedParameterization'>\n",
      "slope_sigma\n",
      "dist='normal'\n",
      "params=(0.0, 1.0)\n",
      "intercept_sigma <class 'pcntoolkit.model.hbr.FixedParameterization'>\n",
      "intercept_sigma\n",
      "dist='normal'\n",
      "params=(1.0, 1.0)\n",
      "sigma <class 'pcntoolkit.model.hbr.LinearParameterization'>\n",
      "epsilon <class 'pcntoolkit.model.hbr.FixedParameterization'>\n",
      "epsilon\n",
      "dist='normal'\n",
      "params=(0.0, 1.0)\n",
      "delta <class 'pcntoolkit.model.hbr.FixedParameterization'>\n",
      "delta\n",
      "dist='normal'\n",
      "params=(1.5, 2.0)\n"
     ]
    },
    {
     "data": {
      "text/html": [
       "\n",
       "<style>\n",
       "    /* Turns off some styling */\n",
       "    progress {\n",
       "        /* gets rid of default border in Firefox and Opera. */\n",
       "        border: none;\n",
       "        /* Needs to be in here for Safari polyfill so background images work as expected. */\n",
       "        background-size: auto;\n",
       "    }\n",
       "    .progress-bar-interrupted, .progress-bar-interrupted::-webkit-progress-bar {\n",
       "        background: #F44336;\n",
       "    }\n",
       "</style>\n"
      ],
      "text/plain": [
       "<IPython.core.display.HTML object>"
      ]
     },
     "metadata": {},
     "output_type": "display_data"
    },
    {
     "data": {
      "text/html": [
       "\n",
       "    <div>\n",
       "      <progress value='1667' class='' max='1667' style='width:300px; height:20px; vertical-align: middle;'></progress>\n",
       "      100.00% [1667/1667 02:55<00:00 logp = -42,020, ||grad|| = 42.408]\n",
       "    </div>\n",
       "    "
      ],
      "text/plain": [
       "<IPython.core.display.HTML object>"
      ]
     },
     "metadata": {},
     "output_type": "display_data"
    },
    {
     "name": "stdout",
     "output_type": "stream",
     "text": [
      "\n",
      "Found MAP in  266.7035369873047\n",
      "slope_mu <class 'pcntoolkit.model.hbr.FixedParameterization'>\n",
      "slope_mu\n",
      "dist='normal'\n",
      "params=(0.0, 3.0)\n",
      "intercept_mu <class 'pcntoolkit.model.hbr.NonCentralRandomFixedParameterization'>\n",
      "mu_intercept_mu\n",
      "dist='normal'\n",
      "params=(0.0, 1.0)\n",
      "sigma_intercept_mu\n",
      "dist='hcauchy'\n",
      "params=(1.0,)\n",
      "offset_intercept_mu\n",
      "dist='normal'\n",
      "params=(0.0, 1.0)\n",
      "mu <class 'pcntoolkit.model.hbr.LinearParameterization'>\n",
      "slope_sigma <class 'pcntoolkit.model.hbr.FixedParameterization'>\n",
      "slope_sigma\n",
      "dist='normal'\n",
      "params=(0.0, 1.0)\n",
      "intercept_sigma <class 'pcntoolkit.model.hbr.FixedParameterization'>\n",
      "intercept_sigma\n",
      "dist='normal'\n",
      "params=(1.0, 1.0)\n",
      "sigma <class 'pcntoolkit.model.hbr.LinearParameterization'>\n",
      "slope_epsilon <class 'pcntoolkit.model.hbr.FixedParameterization'>\n",
      "slope_epsilon\n",
      "dist='normal'\n",
      "params=(0.0, 1.0)\n",
      "intercept_epsilon <class 'pcntoolkit.model.hbr.FixedParameterization'>\n",
      "intercept_epsilon\n",
      "dist='normal'\n",
      "params=(0.0, 1)\n",
      "epsilon <class 'pcntoolkit.model.hbr.LinearParameterization'>\n",
      "slope_delta <class 'pcntoolkit.model.hbr.FixedParameterization'>\n",
      "slope_delta\n",
      "dist='normal'\n",
      "params=(0.0, 1)\n",
      "intercept_delta <class 'pcntoolkit.model.hbr.FixedParameterization'>\n",
      "intercept_delta\n",
      "dist='normal'\n",
      "params=(2.0, 1)\n",
      "delta <class 'pcntoolkit.model.hbr.LinearParameterization'>\n"
     ]
    },
    {
     "data": {
      "text/html": [
       "\n",
       "<style>\n",
       "    /* Turns off some styling */\n",
       "    progress {\n",
       "        /* gets rid of default border in Firefox and Opera. */\n",
       "        border: none;\n",
       "        /* Needs to be in here for Safari polyfill so background images work as expected. */\n",
       "        background-size: auto;\n",
       "    }\n",
       "    .progress-bar-interrupted, .progress-bar-interrupted::-webkit-progress-bar {\n",
       "        background: #F44336;\n",
       "    }\n",
       "</style>\n"
      ],
      "text/plain": [
       "<IPython.core.display.HTML object>"
      ]
     },
     "metadata": {},
     "output_type": "display_data"
    },
    {
     "data": {
      "text/html": [
       "\n",
       "    <div>\n",
       "      <progress value='1943' class='' max='1943' style='width:300px; height:20px; vertical-align: middle;'></progress>\n",
       "      100.00% [1943/1943 05:35<00:00 logp = -41,655, ||grad|| = 10.021]\n",
       "    </div>\n",
       "    "
      ],
      "text/plain": [
       "<IPython.core.display.HTML object>"
      ]
     },
     "metadata": {},
     "output_type": "display_data"
    },
    {
     "name": "stdout",
     "output_type": "stream",
     "text": [
      "\n",
      "Found MAP in  488.8307809829712\n",
      "slope_mu <class 'pcntoolkit.model.hbr.FixedParameterization'>\n",
      "slope_mu\n",
      "dist='normal'\n",
      "params=(0.0, 1.0)\n",
      "intercept_mu <class 'pcntoolkit.model.hbr.NonCentralRandomFixedParameterization'>\n",
      "mu_intercept_mu\n",
      "dist='normal'\n",
      "params=(0.0, 1.0)\n",
      "sigma_intercept_mu\n",
      "dist='hcauchy'\n",
      "params=(1.0,)\n",
      "offset_intercept_mu\n",
      "dist='normal'\n",
      "params=(0.0, 1.0)\n",
      "mu <class 'pcntoolkit.model.hbr.LinearParameterization'>\n",
      "slope_sigma <class 'pcntoolkit.model.hbr.FixedParameterization'>\n",
      "slope_sigma\n",
      "dist='normal'\n",
      "params=(0.0, 1.0)\n",
      "intercept_sigma <class 'pcntoolkit.model.hbr.FixedParameterization'>\n",
      "intercept_sigma\n",
      "dist='normal'\n",
      "params=(0.0, 1.0)\n",
      "sigma <class 'pcntoolkit.model.hbr.LinearParameterization'>\n"
     ]
    },
    {
     "data": {
      "text/html": [
       "\n",
       "<style>\n",
       "    /* Turns off some styling */\n",
       "    progress {\n",
       "        /* gets rid of default border in Firefox and Opera. */\n",
       "        border: none;\n",
       "        /* Needs to be in here for Safari polyfill so background images work as expected. */\n",
       "        background-size: auto;\n",
       "    }\n",
       "    .progress-bar-interrupted, .progress-bar-interrupted::-webkit-progress-bar {\n",
       "        background: #F44336;\n",
       "    }\n",
       "</style>\n"
      ],
      "text/plain": [
       "<IPython.core.display.HTML object>"
      ]
     },
     "metadata": {},
     "output_type": "display_data"
    },
    {
     "data": {
      "text/html": [
       "\n",
       "    <div>\n",
       "      <progress value='638' class='' max='638' style='width:300px; height:20px; vertical-align: middle;'></progress>\n",
       "      100.00% [638/638 00:31<00:00 logp = -54,222, ||grad|| = 13.046]\n",
       "    </div>\n",
       "    "
      ],
      "text/plain": [
       "<IPython.core.display.HTML object>"
      ]
     },
     "metadata": {},
     "output_type": "display_data"
    },
    {
     "name": "stdout",
     "output_type": "stream",
     "text": [
      "\n",
      "Found MAP in  96.53292512893677\n",
      "slope_mu <class 'pcntoolkit.model.hbr.FixedParameterization'>\n",
      "slope_mu\n",
      "dist='normal'\n",
      "params=(0.0, 3.0)\n",
      "intercept_mu <class 'pcntoolkit.model.hbr.NonCentralRandomFixedParameterization'>\n",
      "mu_intercept_mu\n",
      "dist='normal'\n",
      "params=(0.0, 1.0)\n",
      "sigma_intercept_mu\n",
      "dist='hcauchy'\n",
      "params=(1.0,)\n",
      "offset_intercept_mu\n",
      "dist='normal'\n",
      "params=(0.0, 1.0)\n",
      "mu <class 'pcntoolkit.model.hbr.LinearParameterization'>\n",
      "slope_sigma <class 'pcntoolkit.model.hbr.FixedParameterization'>\n",
      "slope_sigma\n",
      "dist='normal'\n",
      "params=(0.0, 1.0)\n",
      "intercept_sigma <class 'pcntoolkit.model.hbr.FixedParameterization'>\n",
      "intercept_sigma\n",
      "dist='normal'\n",
      "params=(1.0, 1.0)\n",
      "sigma <class 'pcntoolkit.model.hbr.LinearParameterization'>\n",
      "epsilon <class 'pcntoolkit.model.hbr.FixedParameterization'>\n",
      "epsilon\n",
      "dist='normal'\n",
      "params=(0.0, 1.0)\n",
      "delta <class 'pcntoolkit.model.hbr.FixedParameterization'>\n",
      "delta\n",
      "dist='normal'\n",
      "params=(1.5, 2.0)\n"
     ]
    },
    {
     "data": {
      "text/html": [
       "\n",
       "<style>\n",
       "    /* Turns off some styling */\n",
       "    progress {\n",
       "        /* gets rid of default border in Firefox and Opera. */\n",
       "        border: none;\n",
       "        /* Needs to be in here for Safari polyfill so background images work as expected. */\n",
       "        background-size: auto;\n",
       "    }\n",
       "    .progress-bar-interrupted, .progress-bar-interrupted::-webkit-progress-bar {\n",
       "        background: #F44336;\n",
       "    }\n",
       "</style>\n"
      ],
      "text/plain": [
       "<IPython.core.display.HTML object>"
      ]
     },
     "metadata": {},
     "output_type": "display_data"
    },
    {
     "data": {
      "text/html": [
       "\n",
       "    <div>\n",
       "      <progress value='3184' class='' max='3184' style='width:300px; height:20px; vertical-align: middle;'></progress>\n",
       "      100.00% [3184/3184 05:37<00:00 logp = -7,953.7, ||grad|| = 5.9193]\n",
       "    </div>\n",
       "    "
      ],
      "text/plain": [
       "<IPython.core.display.HTML object>"
      ]
     },
     "metadata": {},
     "output_type": "display_data"
    },
    {
     "name": "stdout",
     "output_type": "stream",
     "text": [
      "\n",
      "Found MAP in  427.7197437286377\n",
      "slope_mu <class 'pcntoolkit.model.hbr.FixedParameterization'>\n",
      "slope_mu\n",
      "dist='normal'\n",
      "params=(0.0, 3.0)\n",
      "intercept_mu <class 'pcntoolkit.model.hbr.NonCentralRandomFixedParameterization'>\n",
      "mu_intercept_mu\n",
      "dist='normal'\n",
      "params=(0.0, 1.0)\n",
      "sigma_intercept_mu\n",
      "dist='hcauchy'\n",
      "params=(1.0,)\n",
      "offset_intercept_mu\n",
      "dist='normal'\n",
      "params=(0.0, 1.0)\n",
      "mu <class 'pcntoolkit.model.hbr.LinearParameterization'>\n",
      "slope_sigma <class 'pcntoolkit.model.hbr.FixedParameterization'>\n",
      "slope_sigma\n",
      "dist='normal'\n",
      "params=(0.0, 1.0)\n",
      "intercept_sigma <class 'pcntoolkit.model.hbr.FixedParameterization'>\n",
      "intercept_sigma\n",
      "dist='normal'\n",
      "params=(1.0, 1.0)\n",
      "sigma <class 'pcntoolkit.model.hbr.LinearParameterization'>\n",
      "slope_epsilon <class 'pcntoolkit.model.hbr.FixedParameterization'>\n",
      "slope_epsilon\n",
      "dist='normal'\n",
      "params=(0.0, 1.0)\n",
      "intercept_epsilon <class 'pcntoolkit.model.hbr.FixedParameterization'>\n",
      "intercept_epsilon\n",
      "dist='normal'\n",
      "params=(0.0, 1)\n",
      "epsilon <class 'pcntoolkit.model.hbr.LinearParameterization'>\n",
      "slope_delta <class 'pcntoolkit.model.hbr.FixedParameterization'>\n",
      "slope_delta\n",
      "dist='normal'\n",
      "params=(0.0, 1)\n",
      "intercept_delta <class 'pcntoolkit.model.hbr.FixedParameterization'>\n",
      "intercept_delta\n",
      "dist='normal'\n",
      "params=(2.0, 1)\n",
      "delta <class 'pcntoolkit.model.hbr.LinearParameterization'>\n"
     ]
    },
    {
     "data": {
      "text/html": [
       "\n",
       "<style>\n",
       "    /* Turns off some styling */\n",
       "    progress {\n",
       "        /* gets rid of default border in Firefox and Opera. */\n",
       "        border: none;\n",
       "        /* Needs to be in here for Safari polyfill so background images work as expected. */\n",
       "        background-size: auto;\n",
       "    }\n",
       "    .progress-bar-interrupted, .progress-bar-interrupted::-webkit-progress-bar {\n",
       "        background: #F44336;\n",
       "    }\n",
       "</style>\n"
      ],
      "text/plain": [
       "<IPython.core.display.HTML object>"
      ]
     },
     "metadata": {},
     "output_type": "display_data"
    },
    {
     "data": {
      "text/html": [
       "\n",
       "    <div>\n",
       "      <progress value='4103' class='' max='4103' style='width:300px; height:20px; vertical-align: middle;'></progress>\n",
       "      100.00% [4103/4103 12:07<00:00 logp = -7,323.8, ||grad|| = 5.7151]\n",
       "    </div>\n",
       "    "
      ],
      "text/plain": [
       "<IPython.core.display.HTML object>"
      ]
     },
     "metadata": {},
     "output_type": "display_data"
    },
    {
     "name": "stdout",
     "output_type": "stream",
     "text": [
      "\n",
      "Found MAP in  880.529137134552\n",
      "slope_mu <class 'pcntoolkit.model.hbr.FixedParameterization'>\n",
      "slope_mu\n",
      "dist='normal'\n",
      "params=(0.0, 1.0)\n",
      "intercept_mu <class 'pcntoolkit.model.hbr.NonCentralRandomFixedParameterization'>\n",
      "mu_intercept_mu\n",
      "dist='normal'\n",
      "params=(0.0, 1.0)\n",
      "sigma_intercept_mu\n",
      "dist='hcauchy'\n",
      "params=(1.0,)\n",
      "offset_intercept_mu\n",
      "dist='normal'\n",
      "params=(0.0, 1.0)\n",
      "mu <class 'pcntoolkit.model.hbr.LinearParameterization'>\n",
      "slope_sigma <class 'pcntoolkit.model.hbr.FixedParameterization'>\n",
      "slope_sigma\n",
      "dist='normal'\n",
      "params=(0.0, 1.0)\n",
      "intercept_sigma <class 'pcntoolkit.model.hbr.FixedParameterization'>\n",
      "intercept_sigma\n",
      "dist='normal'\n",
      "params=(0.0, 1.0)\n",
      "sigma <class 'pcntoolkit.model.hbr.LinearParameterization'>\n"
     ]
    },
    {
     "data": {
      "text/html": [
       "\n",
       "<style>\n",
       "    /* Turns off some styling */\n",
       "    progress {\n",
       "        /* gets rid of default border in Firefox and Opera. */\n",
       "        border: none;\n",
       "        /* Needs to be in here for Safari polyfill so background images work as expected. */\n",
       "        background-size: auto;\n",
       "    }\n",
       "    .progress-bar-interrupted, .progress-bar-interrupted::-webkit-progress-bar {\n",
       "        background: #F44336;\n",
       "    }\n",
       "</style>\n"
      ],
      "text/plain": [
       "<IPython.core.display.HTML object>"
      ]
     },
     "metadata": {},
     "output_type": "display_data"
    },
    {
     "data": {
      "text/html": [
       "\n",
       "    <div>\n",
       "      <progress value='1479' class='' max='1479' style='width:300px; height:20px; vertical-align: middle;'></progress>\n",
       "      100.00% [1479/1479 01:22<00:00 logp = -46,905, ||grad|| = 10.285]\n",
       "    </div>\n",
       "    "
      ],
      "text/plain": [
       "<IPython.core.display.HTML object>"
      ]
     },
     "metadata": {},
     "output_type": "display_data"
    },
    {
     "name": "stdout",
     "output_type": "stream",
     "text": [
      "\n",
      "Found MAP in  148.75610041618347\n",
      "slope_mu <class 'pcntoolkit.model.hbr.FixedParameterization'>\n",
      "slope_mu\n",
      "dist='normal'\n",
      "params=(0.0, 3.0)\n",
      "intercept_mu <class 'pcntoolkit.model.hbr.NonCentralRandomFixedParameterization'>\n",
      "mu_intercept_mu\n",
      "dist='normal'\n",
      "params=(0.0, 1.0)\n",
      "sigma_intercept_mu\n",
      "dist='hcauchy'\n",
      "params=(1.0,)\n",
      "offset_intercept_mu\n",
      "dist='normal'\n",
      "params=(0.0, 1.0)\n",
      "mu <class 'pcntoolkit.model.hbr.LinearParameterization'>\n",
      "slope_sigma <class 'pcntoolkit.model.hbr.FixedParameterization'>\n",
      "slope_sigma\n",
      "dist='normal'\n",
      "params=(0.0, 1.0)\n",
      "intercept_sigma <class 'pcntoolkit.model.hbr.FixedParameterization'>\n",
      "intercept_sigma\n",
      "dist='normal'\n",
      "params=(1.0, 1.0)\n",
      "sigma <class 'pcntoolkit.model.hbr.LinearParameterization'>\n",
      "epsilon <class 'pcntoolkit.model.hbr.FixedParameterization'>\n",
      "epsilon\n",
      "dist='normal'\n",
      "params=(0.0, 1.0)\n",
      "delta <class 'pcntoolkit.model.hbr.FixedParameterization'>\n",
      "delta\n",
      "dist='normal'\n",
      "params=(1.5, 2.0)\n"
     ]
    },
    {
     "data": {
      "text/html": [
       "\n",
       "<style>\n",
       "    /* Turns off some styling */\n",
       "    progress {\n",
       "        /* gets rid of default border in Firefox and Opera. */\n",
       "        border: none;\n",
       "        /* Needs to be in here for Safari polyfill so background images work as expected. */\n",
       "        background-size: auto;\n",
       "    }\n",
       "    .progress-bar-interrupted, .progress-bar-interrupted::-webkit-progress-bar {\n",
       "        background: #F44336;\n",
       "    }\n",
       "</style>\n"
      ],
      "text/plain": [
       "<IPython.core.display.HTML object>"
      ]
     },
     "metadata": {},
     "output_type": "display_data"
    },
    {
     "data": {
      "text/html": [
       "\n",
       "    <div>\n",
       "      <progress value='555' class='' max='555' style='width:300px; height:20px; vertical-align: middle;'></progress>\n",
       "      100.00% [555/555 01:01<00:00 logp = -65,208, ||grad|| = 14.569]\n",
       "    </div>\n",
       "    "
      ],
      "text/plain": [
       "<IPython.core.display.HTML object>"
      ]
     },
     "metadata": {},
     "output_type": "display_data"
    },
    {
     "name": "stdout",
     "output_type": "stream",
     "text": [
      "\n",
      "Found MAP in  159.0101716518402\n",
      "slope_mu <class 'pcntoolkit.model.hbr.FixedParameterization'>\n",
      "slope_mu\n",
      "dist='normal'\n",
      "params=(0.0, 3.0)\n",
      "intercept_mu <class 'pcntoolkit.model.hbr.NonCentralRandomFixedParameterization'>\n",
      "mu_intercept_mu\n",
      "dist='normal'\n",
      "params=(0.0, 1.0)\n",
      "sigma_intercept_mu\n",
      "dist='hcauchy'\n",
      "params=(1.0,)\n",
      "offset_intercept_mu\n",
      "dist='normal'\n",
      "params=(0.0, 1.0)\n",
      "mu <class 'pcntoolkit.model.hbr.LinearParameterization'>\n",
      "slope_sigma <class 'pcntoolkit.model.hbr.FixedParameterization'>\n",
      "slope_sigma\n",
      "dist='normal'\n",
      "params=(0.0, 1.0)\n",
      "intercept_sigma <class 'pcntoolkit.model.hbr.FixedParameterization'>\n",
      "intercept_sigma\n",
      "dist='normal'\n",
      "params=(1.0, 1.0)\n",
      "sigma <class 'pcntoolkit.model.hbr.LinearParameterization'>\n",
      "slope_epsilon <class 'pcntoolkit.model.hbr.FixedParameterization'>\n",
      "slope_epsilon\n",
      "dist='normal'\n",
      "params=(0.0, 1.0)\n",
      "intercept_epsilon <class 'pcntoolkit.model.hbr.FixedParameterization'>\n",
      "intercept_epsilon\n",
      "dist='normal'\n",
      "params=(0.0, 1)\n",
      "epsilon <class 'pcntoolkit.model.hbr.LinearParameterization'>\n",
      "slope_delta <class 'pcntoolkit.model.hbr.FixedParameterization'>\n",
      "slope_delta\n",
      "dist='normal'\n",
      "params=(0.0, 1)\n",
      "intercept_delta <class 'pcntoolkit.model.hbr.FixedParameterization'>\n",
      "intercept_delta\n",
      "dist='normal'\n",
      "params=(2.0, 1)\n",
      "delta <class 'pcntoolkit.model.hbr.LinearParameterization'>\n"
     ]
    },
    {
     "data": {
      "text/html": [
       "\n",
       "<style>\n",
       "    /* Turns off some styling */\n",
       "    progress {\n",
       "        /* gets rid of default border in Firefox and Opera. */\n",
       "        border: none;\n",
       "        /* Needs to be in here for Safari polyfill so background images work as expected. */\n",
       "        background-size: auto;\n",
       "    }\n",
       "    .progress-bar-interrupted, .progress-bar-interrupted::-webkit-progress-bar {\n",
       "        background: #F44336;\n",
       "    }\n",
       "</style>\n"
      ],
      "text/plain": [
       "<IPython.core.display.HTML object>"
      ]
     },
     "metadata": {},
     "output_type": "display_data"
    },
    {
     "data": {
      "text/html": [
       "\n",
       "    <div>\n",
       "      <progress value='640' class='' max='640' style='width:300px; height:20px; vertical-align: middle;'></progress>\n",
       "      100.00% [640/640 01:55<00:00 logp = -65,181, ||grad|| = 8.9857]\n",
       "    </div>\n",
       "    "
      ],
      "text/plain": [
       "<IPython.core.display.HTML object>"
      ]
     },
     "metadata": {},
     "output_type": "display_data"
    },
    {
     "name": "stdout",
     "output_type": "stream",
     "text": [
      "\n",
      "Found MAP in  280.41004395484924\n",
      "slope_mu <class 'pcntoolkit.model.hbr.FixedParameterization'>\n",
      "slope_mu\n",
      "dist='normal'\n",
      "params=(0.0, 1.0)\n",
      "intercept_mu <class 'pcntoolkit.model.hbr.NonCentralRandomFixedParameterization'>\n",
      "mu_intercept_mu\n",
      "dist='normal'\n",
      "params=(0.0, 1.0)\n",
      "sigma_intercept_mu\n",
      "dist='hcauchy'\n",
      "params=(1.0,)\n",
      "offset_intercept_mu\n",
      "dist='normal'\n",
      "params=(0.0, 1.0)\n",
      "mu <class 'pcntoolkit.model.hbr.LinearParameterization'>\n",
      "slope_sigma <class 'pcntoolkit.model.hbr.FixedParameterization'>\n",
      "slope_sigma\n",
      "dist='normal'\n",
      "params=(0.0, 1.0)\n",
      "intercept_sigma <class 'pcntoolkit.model.hbr.FixedParameterization'>\n",
      "intercept_sigma\n",
      "dist='normal'\n",
      "params=(0.0, 1.0)\n",
      "sigma <class 'pcntoolkit.model.hbr.LinearParameterization'>\n"
     ]
    },
    {
     "data": {
      "text/html": [
       "\n",
       "<style>\n",
       "    /* Turns off some styling */\n",
       "    progress {\n",
       "        /* gets rid of default border in Firefox and Opera. */\n",
       "        border: none;\n",
       "        /* Needs to be in here for Safari polyfill so background images work as expected. */\n",
       "        background-size: auto;\n",
       "    }\n",
       "    .progress-bar-interrupted, .progress-bar-interrupted::-webkit-progress-bar {\n",
       "        background: #F44336;\n",
       "    }\n",
       "</style>\n"
      ],
      "text/plain": [
       "<IPython.core.display.HTML object>"
      ]
     },
     "metadata": {},
     "output_type": "display_data"
    },
    {
     "data": {
      "text/html": [
       "\n",
       "    <div>\n",
       "      <progress value='507' class='' max='507' style='width:300px; height:20px; vertical-align: middle;'></progress>\n",
       "      100.00% [507/507 00:28<00:00 logp = -65,919, ||grad|| = 7.5403]\n",
       "    </div>\n",
       "    "
      ],
      "text/plain": [
       "<IPython.core.display.HTML object>"
      ]
     },
     "metadata": {},
     "output_type": "display_data"
    },
    {
     "name": "stdout",
     "output_type": "stream",
     "text": [
      "\n",
      "Found MAP in  96.39366102218628\n",
      "slope_mu <class 'pcntoolkit.model.hbr.FixedParameterization'>\n",
      "slope_mu\n",
      "dist='normal'\n",
      "params=(0.0, 3.0)\n",
      "intercept_mu <class 'pcntoolkit.model.hbr.NonCentralRandomFixedParameterization'>\n",
      "mu_intercept_mu\n",
      "dist='normal'\n",
      "params=(0.0, 1.0)\n",
      "sigma_intercept_mu\n",
      "dist='hcauchy'\n",
      "params=(1.0,)\n",
      "offset_intercept_mu\n",
      "dist='normal'\n",
      "params=(0.0, 1.0)\n",
      "mu <class 'pcntoolkit.model.hbr.LinearParameterization'>\n",
      "slope_sigma <class 'pcntoolkit.model.hbr.FixedParameterization'>\n",
      "slope_sigma\n",
      "dist='normal'\n",
      "params=(0.0, 1.0)\n",
      "intercept_sigma <class 'pcntoolkit.model.hbr.FixedParameterization'>\n",
      "intercept_sigma\n",
      "dist='normal'\n",
      "params=(1.0, 1.0)\n",
      "sigma <class 'pcntoolkit.model.hbr.LinearParameterization'>\n",
      "epsilon <class 'pcntoolkit.model.hbr.FixedParameterization'>\n",
      "epsilon\n",
      "dist='normal'\n",
      "params=(0.0, 1.0)\n",
      "delta <class 'pcntoolkit.model.hbr.FixedParameterization'>\n",
      "delta\n",
      "dist='normal'\n",
      "params=(1.5, 2.0)\n"
     ]
    },
    {
     "data": {
      "text/html": [
       "\n",
       "<style>\n",
       "    /* Turns off some styling */\n",
       "    progress {\n",
       "        /* gets rid of default border in Firefox and Opera. */\n",
       "        border: none;\n",
       "        /* Needs to be in here for Safari polyfill so background images work as expected. */\n",
       "        background-size: auto;\n",
       "    }\n",
       "    .progress-bar-interrupted, .progress-bar-interrupted::-webkit-progress-bar {\n",
       "        background: #F44336;\n",
       "    }\n",
       "</style>\n"
      ],
      "text/plain": [
       "<IPython.core.display.HTML object>"
      ]
     },
     "metadata": {},
     "output_type": "display_data"
    },
    {
     "data": {
      "text/html": [
       "\n",
       "    <div>\n",
       "      <progress value='785' class='' max='785' style='width:300px; height:20px; vertical-align: middle;'></progress>\n",
       "      100.00% [785/785 01:26<00:00 logp = -61,206, ||grad|| = 7.2174]\n",
       "    </div>\n",
       "    "
      ],
      "text/plain": [
       "<IPython.core.display.HTML object>"
      ]
     },
     "metadata": {},
     "output_type": "display_data"
    },
    {
     "name": "stdout",
     "output_type": "stream",
     "text": [
      "\n",
      "Found MAP in  180.3956162929535\n",
      "slope_mu <class 'pcntoolkit.model.hbr.FixedParameterization'>\n",
      "slope_mu\n",
      "dist='normal'\n",
      "params=(0.0, 3.0)\n",
      "intercept_mu <class 'pcntoolkit.model.hbr.NonCentralRandomFixedParameterization'>\n",
      "mu_intercept_mu\n",
      "dist='normal'\n",
      "params=(0.0, 1.0)\n",
      "sigma_intercept_mu\n",
      "dist='hcauchy'\n",
      "params=(1.0,)\n",
      "offset_intercept_mu\n",
      "dist='normal'\n",
      "params=(0.0, 1.0)\n",
      "mu <class 'pcntoolkit.model.hbr.LinearParameterization'>\n",
      "slope_sigma <class 'pcntoolkit.model.hbr.FixedParameterization'>\n",
      "slope_sigma\n",
      "dist='normal'\n",
      "params=(0.0, 1.0)\n",
      "intercept_sigma <class 'pcntoolkit.model.hbr.FixedParameterization'>\n",
      "intercept_sigma\n",
      "dist='normal'\n",
      "params=(1.0, 1.0)\n",
      "sigma <class 'pcntoolkit.model.hbr.LinearParameterization'>\n",
      "slope_epsilon <class 'pcntoolkit.model.hbr.FixedParameterization'>\n",
      "slope_epsilon\n",
      "dist='normal'\n",
      "params=(0.0, 1.0)\n",
      "intercept_epsilon <class 'pcntoolkit.model.hbr.FixedParameterization'>\n",
      "intercept_epsilon\n",
      "dist='normal'\n",
      "params=(0.0, 1)\n",
      "epsilon <class 'pcntoolkit.model.hbr.LinearParameterization'>\n",
      "slope_delta <class 'pcntoolkit.model.hbr.FixedParameterization'>\n",
      "slope_delta\n",
      "dist='normal'\n",
      "params=(0.0, 1)\n",
      "intercept_delta <class 'pcntoolkit.model.hbr.FixedParameterization'>\n",
      "intercept_delta\n",
      "dist='normal'\n",
      "params=(2.0, 1)\n",
      "delta <class 'pcntoolkit.model.hbr.LinearParameterization'>\n"
     ]
    },
    {
     "data": {
      "text/html": [
       "\n",
       "<style>\n",
       "    /* Turns off some styling */\n",
       "    progress {\n",
       "        /* gets rid of default border in Firefox and Opera. */\n",
       "        border: none;\n",
       "        /* Needs to be in here for Safari polyfill so background images work as expected. */\n",
       "        background-size: auto;\n",
       "    }\n",
       "    .progress-bar-interrupted, .progress-bar-interrupted::-webkit-progress-bar {\n",
       "        background: #F44336;\n",
       "    }\n",
       "</style>\n"
      ],
      "text/plain": [
       "<IPython.core.display.HTML object>"
      ]
     },
     "metadata": {},
     "output_type": "display_data"
    },
    {
     "data": {
      "text/html": [
       "\n",
       "    <div>\n",
       "      <progress value='775' class='' max='775' style='width:300px; height:20px; vertical-align: middle;'></progress>\n",
       "      100.00% [775/775 02:23<00:00 logp = -61,204, ||grad|| = 5.3086]\n",
       "    </div>\n",
       "    "
      ],
      "text/plain": [
       "<IPython.core.display.HTML object>"
      ]
     },
     "metadata": {},
     "output_type": "display_data"
    },
    {
     "name": "stdout",
     "output_type": "stream",
     "text": [
      "\n",
      "Found MAP in  310.5839741230011\n",
      "slope_mu <class 'pcntoolkit.model.hbr.FixedParameterization'>\n",
      "slope_mu\n",
      "dist='normal'\n",
      "params=(0.0, 1.0)\n",
      "intercept_mu <class 'pcntoolkit.model.hbr.NonCentralRandomFixedParameterization'>\n",
      "mu_intercept_mu\n",
      "dist='normal'\n",
      "params=(0.0, 1.0)\n",
      "sigma_intercept_mu\n",
      "dist='hcauchy'\n",
      "params=(1.0,)\n",
      "offset_intercept_mu\n",
      "dist='normal'\n",
      "params=(0.0, 1.0)\n",
      "mu <class 'pcntoolkit.model.hbr.LinearParameterization'>\n",
      "slope_sigma <class 'pcntoolkit.model.hbr.FixedParameterization'>\n",
      "slope_sigma\n",
      "dist='normal'\n",
      "params=(0.0, 1.0)\n",
      "intercept_sigma <class 'pcntoolkit.model.hbr.FixedParameterization'>\n",
      "intercept_sigma\n",
      "dist='normal'\n",
      "params=(0.0, 1.0)\n",
      "sigma <class 'pcntoolkit.model.hbr.LinearParameterization'>\n"
     ]
    },
    {
     "data": {
      "text/html": [
       "\n",
       "<style>\n",
       "    /* Turns off some styling */\n",
       "    progress {\n",
       "        /* gets rid of default border in Firefox and Opera. */\n",
       "        border: none;\n",
       "        /* Needs to be in here for Safari polyfill so background images work as expected. */\n",
       "        background-size: auto;\n",
       "    }\n",
       "    .progress-bar-interrupted, .progress-bar-interrupted::-webkit-progress-bar {\n",
       "        background: #F44336;\n",
       "    }\n",
       "</style>\n"
      ],
      "text/plain": [
       "<IPython.core.display.HTML object>"
      ]
     },
     "metadata": {},
     "output_type": "display_data"
    },
    {
     "data": {
      "text/html": [
       "\n",
       "    <div>\n",
       "      <progress value='752' class='' max='752' style='width:300px; height:20px; vertical-align: middle;'></progress>\n",
       "      100.00% [752/752 00:44<00:00 logp = -61,581, ||grad|| = 6.5961]\n",
       "    </div>\n",
       "    "
      ],
      "text/plain": [
       "<IPython.core.display.HTML object>"
      ]
     },
     "metadata": {},
     "output_type": "display_data"
    },
    {
     "name": "stdout",
     "output_type": "stream",
     "text": [
      "\n",
      "Found MAP in  110.23212051391602\n",
      "slope_mu <class 'pcntoolkit.model.hbr.FixedParameterization'>\n",
      "slope_mu\n",
      "dist='normal'\n",
      "params=(0.0, 3.0)\n",
      "intercept_mu <class 'pcntoolkit.model.hbr.NonCentralRandomFixedParameterization'>\n",
      "mu_intercept_mu\n",
      "dist='normal'\n",
      "params=(0.0, 1.0)\n",
      "sigma_intercept_mu\n",
      "dist='hcauchy'\n",
      "params=(1.0,)\n",
      "offset_intercept_mu\n",
      "dist='normal'\n",
      "params=(0.0, 1.0)\n",
      "mu <class 'pcntoolkit.model.hbr.LinearParameterization'>\n",
      "slope_sigma <class 'pcntoolkit.model.hbr.FixedParameterization'>\n",
      "slope_sigma\n",
      "dist='normal'\n",
      "params=(0.0, 1.0)\n",
      "intercept_sigma <class 'pcntoolkit.model.hbr.FixedParameterization'>\n",
      "intercept_sigma\n",
      "dist='normal'\n",
      "params=(1.0, 1.0)\n",
      "sigma <class 'pcntoolkit.model.hbr.LinearParameterization'>\n",
      "epsilon <class 'pcntoolkit.model.hbr.FixedParameterization'>\n",
      "epsilon\n",
      "dist='normal'\n",
      "params=(0.0, 1.0)\n",
      "delta <class 'pcntoolkit.model.hbr.FixedParameterization'>\n",
      "delta\n",
      "dist='normal'\n",
      "params=(1.5, 2.0)\n"
     ]
    },
    {
     "data": {
      "text/html": [
       "\n",
       "<style>\n",
       "    /* Turns off some styling */\n",
       "    progress {\n",
       "        /* gets rid of default border in Firefox and Opera. */\n",
       "        border: none;\n",
       "        /* Needs to be in here for Safari polyfill so background images work as expected. */\n",
       "        background-size: auto;\n",
       "    }\n",
       "    .progress-bar-interrupted, .progress-bar-interrupted::-webkit-progress-bar {\n",
       "        background: #F44336;\n",
       "    }\n",
       "</style>\n"
      ],
      "text/plain": [
       "<IPython.core.display.HTML object>"
      ]
     },
     "metadata": {},
     "output_type": "display_data"
    },
    {
     "data": {
      "text/html": [
       "\n",
       "    <div>\n",
       "      <progress value='1004' class='' max='1004' style='width:300px; height:20px; vertical-align: middle;'></progress>\n",
       "      100.00% [1004/1004 01:51<00:00 logp = -60,710, ||grad|| = 15.256]\n",
       "    </div>\n",
       "    "
      ],
      "text/plain": [
       "<IPython.core.display.HTML object>"
      ]
     },
     "metadata": {},
     "output_type": "display_data"
    },
    {
     "name": "stdout",
     "output_type": "stream",
     "text": [
      "\n",
      "Found MAP in  228.03489518165588\n",
      "slope_mu <class 'pcntoolkit.model.hbr.FixedParameterization'>\n",
      "slope_mu\n",
      "dist='normal'\n",
      "params=(0.0, 3.0)\n",
      "intercept_mu <class 'pcntoolkit.model.hbr.NonCentralRandomFixedParameterization'>\n",
      "mu_intercept_mu\n",
      "dist='normal'\n",
      "params=(0.0, 1.0)\n",
      "sigma_intercept_mu\n",
      "dist='hcauchy'\n",
      "params=(1.0,)\n",
      "offset_intercept_mu\n",
      "dist='normal'\n",
      "params=(0.0, 1.0)\n",
      "mu <class 'pcntoolkit.model.hbr.LinearParameterization'>\n",
      "slope_sigma <class 'pcntoolkit.model.hbr.FixedParameterization'>\n",
      "slope_sigma\n",
      "dist='normal'\n",
      "params=(0.0, 1.0)\n",
      "intercept_sigma <class 'pcntoolkit.model.hbr.FixedParameterization'>\n",
      "intercept_sigma\n",
      "dist='normal'\n",
      "params=(1.0, 1.0)\n",
      "sigma <class 'pcntoolkit.model.hbr.LinearParameterization'>\n",
      "slope_epsilon <class 'pcntoolkit.model.hbr.FixedParameterization'>\n",
      "slope_epsilon\n",
      "dist='normal'\n",
      "params=(0.0, 1.0)\n",
      "intercept_epsilon <class 'pcntoolkit.model.hbr.FixedParameterization'>\n",
      "intercept_epsilon\n",
      "dist='normal'\n",
      "params=(0.0, 1)\n",
      "epsilon <class 'pcntoolkit.model.hbr.LinearParameterization'>\n",
      "slope_delta <class 'pcntoolkit.model.hbr.FixedParameterization'>\n",
      "slope_delta\n",
      "dist='normal'\n",
      "params=(0.0, 1)\n",
      "intercept_delta <class 'pcntoolkit.model.hbr.FixedParameterization'>\n",
      "intercept_delta\n",
      "dist='normal'\n",
      "params=(2.0, 1)\n",
      "delta <class 'pcntoolkit.model.hbr.LinearParameterization'>\n"
     ]
    },
    {
     "data": {
      "text/html": [
       "\n",
       "<style>\n",
       "    /* Turns off some styling */\n",
       "    progress {\n",
       "        /* gets rid of default border in Firefox and Opera. */\n",
       "        border: none;\n",
       "        /* Needs to be in here for Safari polyfill so background images work as expected. */\n",
       "        background-size: auto;\n",
       "    }\n",
       "    .progress-bar-interrupted, .progress-bar-interrupted::-webkit-progress-bar {\n",
       "        background: #F44336;\n",
       "    }\n",
       "</style>\n"
      ],
      "text/plain": [
       "<IPython.core.display.HTML object>"
      ]
     },
     "metadata": {},
     "output_type": "display_data"
    },
    {
     "data": {
      "text/html": [
       "\n",
       "    <div>\n",
       "      <progress value='1050' class='' max='1050' style='width:300px; height:20px; vertical-align: middle;'></progress>\n",
       "      100.00% [1050/1050 03:18<00:00 logp = -60,646, ||grad|| = 3.6351]\n",
       "    </div>\n",
       "    "
      ],
      "text/plain": [
       "<IPython.core.display.HTML object>"
      ]
     },
     "metadata": {},
     "output_type": "display_data"
    },
    {
     "name": "stdout",
     "output_type": "stream",
     "text": [
      "\n",
      "Found MAP in  364.7332835197449\n",
      "slope_mu <class 'pcntoolkit.model.hbr.FixedParameterization'>\n",
      "slope_mu\n",
      "dist='normal'\n",
      "params=(0.0, 1.0)\n",
      "intercept_mu <class 'pcntoolkit.model.hbr.NonCentralRandomFixedParameterization'>\n",
      "mu_intercept_mu\n",
      "dist='normal'\n",
      "params=(0.0, 1.0)\n",
      "sigma_intercept_mu\n",
      "dist='hcauchy'\n",
      "params=(1.0,)\n",
      "offset_intercept_mu\n",
      "dist='normal'\n",
      "params=(0.0, 1.0)\n",
      "mu <class 'pcntoolkit.model.hbr.LinearParameterization'>\n",
      "slope_sigma <class 'pcntoolkit.model.hbr.FixedParameterization'>\n",
      "slope_sigma\n",
      "dist='normal'\n",
      "params=(0.0, 1.0)\n",
      "intercept_sigma <class 'pcntoolkit.model.hbr.FixedParameterization'>\n",
      "intercept_sigma\n",
      "dist='normal'\n",
      "params=(0.0, 1.0)\n",
      "sigma <class 'pcntoolkit.model.hbr.LinearParameterization'>\n"
     ]
    },
    {
     "data": {
      "text/html": [
       "\n",
       "<style>\n",
       "    /* Turns off some styling */\n",
       "    progress {\n",
       "        /* gets rid of default border in Firefox and Opera. */\n",
       "        border: none;\n",
       "        /* Needs to be in here for Safari polyfill so background images work as expected. */\n",
       "        background-size: auto;\n",
       "    }\n",
       "    .progress-bar-interrupted, .progress-bar-interrupted::-webkit-progress-bar {\n",
       "        background: #F44336;\n",
       "    }\n",
       "</style>\n"
      ],
      "text/plain": [
       "<IPython.core.display.HTML object>"
      ]
     },
     "metadata": {},
     "output_type": "display_data"
    },
    {
     "data": {
      "text/html": [
       "\n",
       "    <div>\n",
       "      <progress value='719' class='' max='719' style='width:300px; height:20px; vertical-align: middle;'></progress>\n",
       "      100.00% [719/719 00:42<00:00 logp = -64,555, ||grad|| = 5.8597]\n",
       "    </div>\n",
       "    "
      ],
      "text/plain": [
       "<IPython.core.display.HTML object>"
      ]
     },
     "metadata": {},
     "output_type": "display_data"
    },
    {
     "name": "stdout",
     "output_type": "stream",
     "text": [
      "\n",
      "Found MAP in  109.66270446777344\n",
      "slope_mu <class 'pcntoolkit.model.hbr.FixedParameterization'>\n",
      "slope_mu\n",
      "dist='normal'\n",
      "params=(0.0, 3.0)\n",
      "intercept_mu <class 'pcntoolkit.model.hbr.NonCentralRandomFixedParameterization'>\n",
      "mu_intercept_mu\n",
      "dist='normal'\n",
      "params=(0.0, 1.0)\n",
      "sigma_intercept_mu\n",
      "dist='hcauchy'\n",
      "params=(1.0,)\n",
      "offset_intercept_mu\n",
      "dist='normal'\n",
      "params=(0.0, 1.0)\n",
      "mu <class 'pcntoolkit.model.hbr.LinearParameterization'>\n",
      "slope_sigma <class 'pcntoolkit.model.hbr.FixedParameterization'>\n",
      "slope_sigma\n",
      "dist='normal'\n",
      "params=(0.0, 1.0)\n",
      "intercept_sigma <class 'pcntoolkit.model.hbr.FixedParameterization'>\n",
      "intercept_sigma\n",
      "dist='normal'\n",
      "params=(1.0, 1.0)\n",
      "sigma <class 'pcntoolkit.model.hbr.LinearParameterization'>\n",
      "epsilon <class 'pcntoolkit.model.hbr.FixedParameterization'>\n",
      "epsilon\n",
      "dist='normal'\n",
      "params=(0.0, 1.0)\n",
      "delta <class 'pcntoolkit.model.hbr.FixedParameterization'>\n",
      "delta\n",
      "dist='normal'\n",
      "params=(1.5, 2.0)\n"
     ]
    },
    {
     "data": {
      "text/html": [
       "\n",
       "<style>\n",
       "    /* Turns off some styling */\n",
       "    progress {\n",
       "        /* gets rid of default border in Firefox and Opera. */\n",
       "        border: none;\n",
       "        /* Needs to be in here for Safari polyfill so background images work as expected. */\n",
       "        background-size: auto;\n",
       "    }\n",
       "    .progress-bar-interrupted, .progress-bar-interrupted::-webkit-progress-bar {\n",
       "        background: #F44336;\n",
       "    }\n",
       "</style>\n"
      ],
      "text/plain": [
       "<IPython.core.display.HTML object>"
      ]
     },
     "metadata": {},
     "output_type": "display_data"
    },
    {
     "data": {
      "text/html": [
       "\n",
       "    <div>\n",
       "      <progress value='600' class='' max='600' style='width:300px; height:20px; vertical-align: middle;'></progress>\n",
       "      100.00% [600/600 01:08<00:00 logp = -62,914, ||grad|| = 6.2186]\n",
       "    </div>\n",
       "    "
      ],
      "text/plain": [
       "<IPython.core.display.HTML object>"
      ]
     },
     "metadata": {},
     "output_type": "display_data"
    },
    {
     "name": "stdout",
     "output_type": "stream",
     "text": [
      "\n",
      "Found MAP in  163.78889775276184\n",
      "slope_mu <class 'pcntoolkit.model.hbr.FixedParameterization'>\n",
      "slope_mu\n",
      "dist='normal'\n",
      "params=(0.0, 3.0)\n",
      "intercept_mu <class 'pcntoolkit.model.hbr.NonCentralRandomFixedParameterization'>\n",
      "mu_intercept_mu\n",
      "dist='normal'\n",
      "params=(0.0, 1.0)\n",
      "sigma_intercept_mu\n",
      "dist='hcauchy'\n",
      "params=(1.0,)\n",
      "offset_intercept_mu\n",
      "dist='normal'\n",
      "params=(0.0, 1.0)\n",
      "mu <class 'pcntoolkit.model.hbr.LinearParameterization'>\n",
      "slope_sigma <class 'pcntoolkit.model.hbr.FixedParameterization'>\n",
      "slope_sigma\n",
      "dist='normal'\n",
      "params=(0.0, 1.0)\n",
      "intercept_sigma <class 'pcntoolkit.model.hbr.FixedParameterization'>\n",
      "intercept_sigma\n",
      "dist='normal'\n",
      "params=(1.0, 1.0)\n",
      "sigma <class 'pcntoolkit.model.hbr.LinearParameterization'>\n",
      "slope_epsilon <class 'pcntoolkit.model.hbr.FixedParameterization'>\n",
      "slope_epsilon\n",
      "dist='normal'\n",
      "params=(0.0, 1.0)\n",
      "intercept_epsilon <class 'pcntoolkit.model.hbr.FixedParameterization'>\n",
      "intercept_epsilon\n",
      "dist='normal'\n",
      "params=(0.0, 1)\n",
      "epsilon <class 'pcntoolkit.model.hbr.LinearParameterization'>\n",
      "slope_delta <class 'pcntoolkit.model.hbr.FixedParameterization'>\n",
      "slope_delta\n",
      "dist='normal'\n",
      "params=(0.0, 1)\n",
      "intercept_delta <class 'pcntoolkit.model.hbr.FixedParameterization'>\n",
      "intercept_delta\n",
      "dist='normal'\n",
      "params=(2.0, 1)\n",
      "delta <class 'pcntoolkit.model.hbr.LinearParameterization'>\n"
     ]
    },
    {
     "data": {
      "text/html": [
       "\n",
       "<style>\n",
       "    /* Turns off some styling */\n",
       "    progress {\n",
       "        /* gets rid of default border in Firefox and Opera. */\n",
       "        border: none;\n",
       "        /* Needs to be in here for Safari polyfill so background images work as expected. */\n",
       "        background-size: auto;\n",
       "    }\n",
       "    .progress-bar-interrupted, .progress-bar-interrupted::-webkit-progress-bar {\n",
       "        background: #F44336;\n",
       "    }\n",
       "</style>\n"
      ],
      "text/plain": [
       "<IPython.core.display.HTML object>"
      ]
     },
     "metadata": {},
     "output_type": "display_data"
    },
    {
     "data": {
      "text/html": [
       "\n",
       "    <div>\n",
       "      <progress value='1016' class='' max='1016' style='width:300px; height:20px; vertical-align: middle;'></progress>\n",
       "      100.00% [1016/1016 03:07<00:00 logp = -62,751, ||grad|| = 4.3269]\n",
       "    </div>\n",
       "    "
      ],
      "text/plain": [
       "<IPython.core.display.HTML object>"
      ]
     },
     "metadata": {},
     "output_type": "display_data"
    },
    {
     "name": "stdout",
     "output_type": "stream",
     "text": [
      "\n",
      "Found MAP in  359.52540922164917\n",
      "slope_mu <class 'pcntoolkit.model.hbr.FixedParameterization'>\n",
      "slope_mu\n",
      "dist='normal'\n",
      "params=(0.0, 1.0)\n",
      "intercept_mu <class 'pcntoolkit.model.hbr.NonCentralRandomFixedParameterization'>\n",
      "mu_intercept_mu\n",
      "dist='normal'\n",
      "params=(0.0, 1.0)\n",
      "sigma_intercept_mu\n",
      "dist='hcauchy'\n",
      "params=(1.0,)\n",
      "offset_intercept_mu\n",
      "dist='normal'\n",
      "params=(0.0, 1.0)\n",
      "mu <class 'pcntoolkit.model.hbr.LinearParameterization'>\n",
      "slope_sigma <class 'pcntoolkit.model.hbr.FixedParameterization'>\n",
      "slope_sigma\n",
      "dist='normal'\n",
      "params=(0.0, 1.0)\n",
      "intercept_sigma <class 'pcntoolkit.model.hbr.FixedParameterization'>\n",
      "intercept_sigma\n",
      "dist='normal'\n",
      "params=(0.0, 1.0)\n",
      "sigma <class 'pcntoolkit.model.hbr.LinearParameterization'>\n"
     ]
    },
    {
     "data": {
      "text/html": [
       "\n",
       "<style>\n",
       "    /* Turns off some styling */\n",
       "    progress {\n",
       "        /* gets rid of default border in Firefox and Opera. */\n",
       "        border: none;\n",
       "        /* Needs to be in here for Safari polyfill so background images work as expected. */\n",
       "        background-size: auto;\n",
       "    }\n",
       "    .progress-bar-interrupted, .progress-bar-interrupted::-webkit-progress-bar {\n",
       "        background: #F44336;\n",
       "    }\n",
       "</style>\n"
      ],
      "text/plain": [
       "<IPython.core.display.HTML object>"
      ]
     },
     "metadata": {},
     "output_type": "display_data"
    },
    {
     "data": {
      "text/html": [
       "\n",
       "    <div>\n",
       "      <progress value='529' class='' max='529' style='width:300px; height:20px; vertical-align: middle;'></progress>\n",
       "      100.00% [529/529 00:27<00:00 logp = -63,229, ||grad|| = 3.3952]\n",
       "    </div>\n",
       "    "
      ],
      "text/plain": [
       "<IPython.core.display.HTML object>"
      ]
     },
     "metadata": {},
     "output_type": "display_data"
    },
    {
     "name": "stdout",
     "output_type": "stream",
     "text": [
      "\n",
      "Found MAP in  96.62665915489197\n",
      "slope_mu <class 'pcntoolkit.model.hbr.FixedParameterization'>\n",
      "slope_mu\n",
      "dist='normal'\n",
      "params=(0.0, 3.0)\n",
      "intercept_mu <class 'pcntoolkit.model.hbr.NonCentralRandomFixedParameterization'>\n",
      "mu_intercept_mu\n",
      "dist='normal'\n",
      "params=(0.0, 1.0)\n",
      "sigma_intercept_mu\n",
      "dist='hcauchy'\n",
      "params=(1.0,)\n",
      "offset_intercept_mu\n",
      "dist='normal'\n",
      "params=(0.0, 1.0)\n",
      "mu <class 'pcntoolkit.model.hbr.LinearParameterization'>\n",
      "slope_sigma <class 'pcntoolkit.model.hbr.FixedParameterization'>\n",
      "slope_sigma\n",
      "dist='normal'\n",
      "params=(0.0, 1.0)\n",
      "intercept_sigma <class 'pcntoolkit.model.hbr.FixedParameterization'>\n",
      "intercept_sigma\n",
      "dist='normal'\n",
      "params=(1.0, 1.0)\n",
      "sigma <class 'pcntoolkit.model.hbr.LinearParameterization'>\n",
      "epsilon <class 'pcntoolkit.model.hbr.FixedParameterization'>\n",
      "epsilon\n",
      "dist='normal'\n",
      "params=(0.0, 1.0)\n",
      "delta <class 'pcntoolkit.model.hbr.FixedParameterization'>\n",
      "delta\n",
      "dist='normal'\n",
      "params=(1.5, 2.0)\n"
     ]
    },
    {
     "data": {
      "text/html": [
       "\n",
       "<style>\n",
       "    /* Turns off some styling */\n",
       "    progress {\n",
       "        /* gets rid of default border in Firefox and Opera. */\n",
       "        border: none;\n",
       "        /* Needs to be in here for Safari polyfill so background images work as expected. */\n",
       "        background-size: auto;\n",
       "    }\n",
       "    .progress-bar-interrupted, .progress-bar-interrupted::-webkit-progress-bar {\n",
       "        background: #F44336;\n",
       "    }\n",
       "</style>\n"
      ],
      "text/plain": [
       "<IPython.core.display.HTML object>"
      ]
     },
     "metadata": {},
     "output_type": "display_data"
    },
    {
     "data": {
      "text/html": [
       "\n",
       "    <div>\n",
       "      <progress value='1907' class='' max='1907' style='width:300px; height:20px; vertical-align: middle;'></progress>\n",
       "      100.00% [1907/1907 03:37<00:00 logp = -41,991, ||grad|| = 10.587]\n",
       "    </div>\n",
       "    "
      ],
      "text/plain": [
       "<IPython.core.display.HTML object>"
      ]
     },
     "metadata": {},
     "output_type": "display_data"
    },
    {
     "name": "stdout",
     "output_type": "stream",
     "text": [
      "\n",
      "Found MAP in  314.22482657432556\n",
      "slope_mu <class 'pcntoolkit.model.hbr.FixedParameterization'>\n",
      "slope_mu\n",
      "dist='normal'\n",
      "params=(0.0, 3.0)\n",
      "intercept_mu <class 'pcntoolkit.model.hbr.NonCentralRandomFixedParameterization'>\n",
      "mu_intercept_mu\n",
      "dist='normal'\n",
      "params=(0.0, 1.0)\n",
      "sigma_intercept_mu\n",
      "dist='hcauchy'\n",
      "params=(1.0,)\n",
      "offset_intercept_mu\n",
      "dist='normal'\n",
      "params=(0.0, 1.0)\n",
      "mu <class 'pcntoolkit.model.hbr.LinearParameterization'>\n",
      "slope_sigma <class 'pcntoolkit.model.hbr.FixedParameterization'>\n",
      "slope_sigma\n",
      "dist='normal'\n",
      "params=(0.0, 1.0)\n",
      "intercept_sigma <class 'pcntoolkit.model.hbr.FixedParameterization'>\n",
      "intercept_sigma\n",
      "dist='normal'\n",
      "params=(1.0, 1.0)\n",
      "sigma <class 'pcntoolkit.model.hbr.LinearParameterization'>\n",
      "slope_epsilon <class 'pcntoolkit.model.hbr.FixedParameterization'>\n",
      "slope_epsilon\n",
      "dist='normal'\n",
      "params=(0.0, 1.0)\n",
      "intercept_epsilon <class 'pcntoolkit.model.hbr.FixedParameterization'>\n",
      "intercept_epsilon\n",
      "dist='normal'\n",
      "params=(0.0, 1)\n",
      "epsilon <class 'pcntoolkit.model.hbr.LinearParameterization'>\n",
      "slope_delta <class 'pcntoolkit.model.hbr.FixedParameterization'>\n",
      "slope_delta\n",
      "dist='normal'\n",
      "params=(0.0, 1)\n",
      "intercept_delta <class 'pcntoolkit.model.hbr.FixedParameterization'>\n",
      "intercept_delta\n",
      "dist='normal'\n",
      "params=(2.0, 1)\n",
      "delta <class 'pcntoolkit.model.hbr.LinearParameterization'>\n"
     ]
    },
    {
     "data": {
      "text/html": [
       "\n",
       "<style>\n",
       "    /* Turns off some styling */\n",
       "    progress {\n",
       "        /* gets rid of default border in Firefox and Opera. */\n",
       "        border: none;\n",
       "        /* Needs to be in here for Safari polyfill so background images work as expected. */\n",
       "        background-size: auto;\n",
       "    }\n",
       "    .progress-bar-interrupted, .progress-bar-interrupted::-webkit-progress-bar {\n",
       "        background: #F44336;\n",
       "    }\n",
       "</style>\n"
      ],
      "text/plain": [
       "<IPython.core.display.HTML object>"
      ]
     },
     "metadata": {},
     "output_type": "display_data"
    },
    {
     "data": {
      "text/html": [
       "\n",
       "    <div>\n",
       "      <progress value='1087' class='' max='1087' style='width:300px; height:20px; vertical-align: middle;'></progress>\n",
       "      100.00% [1087/1087 03:25<00:00 logp = -41,623, ||grad|| = 25.653]\n",
       "    </div>\n",
       "    "
      ],
      "text/plain": [
       "<IPython.core.display.HTML object>"
      ]
     },
     "metadata": {},
     "output_type": "display_data"
    },
    {
     "name": "stdout",
     "output_type": "stream",
     "text": [
      "\n",
      "Found MAP in  373.14170360565186\n",
      "slope_mu <class 'pcntoolkit.model.hbr.FixedParameterization'>\n",
      "slope_mu\n",
      "dist='normal'\n",
      "params=(0.0, 1.0)\n",
      "intercept_mu <class 'pcntoolkit.model.hbr.NonCentralRandomFixedParameterization'>\n",
      "mu_intercept_mu\n",
      "dist='normal'\n",
      "params=(0.0, 1.0)\n",
      "sigma_intercept_mu\n",
      "dist='hcauchy'\n",
      "params=(1.0,)\n",
      "offset_intercept_mu\n",
      "dist='normal'\n",
      "params=(0.0, 1.0)\n",
      "mu <class 'pcntoolkit.model.hbr.LinearParameterization'>\n",
      "slope_sigma <class 'pcntoolkit.model.hbr.FixedParameterization'>\n",
      "slope_sigma\n",
      "dist='normal'\n",
      "params=(0.0, 1.0)\n",
      "intercept_sigma <class 'pcntoolkit.model.hbr.FixedParameterization'>\n",
      "intercept_sigma\n",
      "dist='normal'\n",
      "params=(0.0, 1.0)\n",
      "sigma <class 'pcntoolkit.model.hbr.LinearParameterization'>\n"
     ]
    },
    {
     "data": {
      "text/html": [
       "\n",
       "<style>\n",
       "    /* Turns off some styling */\n",
       "    progress {\n",
       "        /* gets rid of default border in Firefox and Opera. */\n",
       "        border: none;\n",
       "        /* Needs to be in here for Safari polyfill so background images work as expected. */\n",
       "        background-size: auto;\n",
       "    }\n",
       "    .progress-bar-interrupted, .progress-bar-interrupted::-webkit-progress-bar {\n",
       "        background: #F44336;\n",
       "    }\n",
       "</style>\n"
      ],
      "text/plain": [
       "<IPython.core.display.HTML object>"
      ]
     },
     "metadata": {},
     "output_type": "display_data"
    },
    {
     "data": {
      "text/html": [
       "\n",
       "    <div>\n",
       "      <progress value='590' class='' max='590' style='width:300px; height:20px; vertical-align: middle;'></progress>\n",
       "      100.00% [590/590 00:32<00:00 logp = -54,161, ||grad|| = 3.96]\n",
       "    </div>\n",
       "    "
      ],
      "text/plain": [
       "<IPython.core.display.HTML object>"
      ]
     },
     "metadata": {},
     "output_type": "display_data"
    },
    {
     "name": "stdout",
     "output_type": "stream",
     "text": [
      "\n",
      "Found MAP in  102.24162578582764\n",
      "slope_mu <class 'pcntoolkit.model.hbr.FixedParameterization'>\n",
      "slope_mu\n",
      "dist='normal'\n",
      "params=(0.0, 3.0)\n",
      "intercept_mu <class 'pcntoolkit.model.hbr.NonCentralRandomFixedParameterization'>\n",
      "mu_intercept_mu\n",
      "dist='normal'\n",
      "params=(0.0, 1.0)\n",
      "sigma_intercept_mu\n",
      "dist='hcauchy'\n",
      "params=(1.0,)\n",
      "offset_intercept_mu\n",
      "dist='normal'\n",
      "params=(0.0, 1.0)\n",
      "mu <class 'pcntoolkit.model.hbr.LinearParameterization'>\n",
      "slope_sigma <class 'pcntoolkit.model.hbr.FixedParameterization'>\n",
      "slope_sigma\n",
      "dist='normal'\n",
      "params=(0.0, 1.0)\n",
      "intercept_sigma <class 'pcntoolkit.model.hbr.FixedParameterization'>\n",
      "intercept_sigma\n",
      "dist='normal'\n",
      "params=(1.0, 1.0)\n",
      "sigma <class 'pcntoolkit.model.hbr.LinearParameterization'>\n",
      "epsilon <class 'pcntoolkit.model.hbr.FixedParameterization'>\n",
      "epsilon\n",
      "dist='normal'\n",
      "params=(0.0, 1.0)\n",
      "delta <class 'pcntoolkit.model.hbr.FixedParameterization'>\n",
      "delta\n",
      "dist='normal'\n",
      "params=(1.5, 2.0)\n"
     ]
    },
    {
     "data": {
      "text/html": [
       "\n",
       "<style>\n",
       "    /* Turns off some styling */\n",
       "    progress {\n",
       "        /* gets rid of default border in Firefox and Opera. */\n",
       "        border: none;\n",
       "        /* Needs to be in here for Safari polyfill so background images work as expected. */\n",
       "        background-size: auto;\n",
       "    }\n",
       "    .progress-bar-interrupted, .progress-bar-interrupted::-webkit-progress-bar {\n",
       "        background: #F44336;\n",
       "    }\n",
       "</style>\n"
      ],
      "text/plain": [
       "<IPython.core.display.HTML object>"
      ]
     },
     "metadata": {},
     "output_type": "display_data"
    },
    {
     "data": {
      "text/html": [
       "\n",
       "    <div>\n",
       "      <progress value='2901' class='' max='2901' style='width:300px; height:20px; vertical-align: middle;'></progress>\n",
       "      100.00% [2901/2901 05:37<00:00 logp = -8,015.5, ||grad|| = 5.0852]\n",
       "    </div>\n",
       "    "
      ],
      "text/plain": [
       "<IPython.core.display.HTML object>"
      ]
     },
     "metadata": {},
     "output_type": "display_data"
    },
    {
     "name": "stdout",
     "output_type": "stream",
     "text": [
      "\n",
      "Found MAP in  434.33352637290955\n",
      "slope_mu <class 'pcntoolkit.model.hbr.FixedParameterization'>\n",
      "slope_mu\n",
      "dist='normal'\n",
      "params=(0.0, 3.0)\n",
      "intercept_mu <class 'pcntoolkit.model.hbr.NonCentralRandomFixedParameterization'>\n",
      "mu_intercept_mu\n",
      "dist='normal'\n",
      "params=(0.0, 1.0)\n",
      "sigma_intercept_mu\n",
      "dist='hcauchy'\n",
      "params=(1.0,)\n",
      "offset_intercept_mu\n",
      "dist='normal'\n",
      "params=(0.0, 1.0)\n",
      "mu <class 'pcntoolkit.model.hbr.LinearParameterization'>\n",
      "slope_sigma <class 'pcntoolkit.model.hbr.FixedParameterization'>\n",
      "slope_sigma\n",
      "dist='normal'\n",
      "params=(0.0, 1.0)\n",
      "intercept_sigma <class 'pcntoolkit.model.hbr.FixedParameterization'>\n",
      "intercept_sigma\n",
      "dist='normal'\n",
      "params=(1.0, 1.0)\n",
      "sigma <class 'pcntoolkit.model.hbr.LinearParameterization'>\n",
      "slope_epsilon <class 'pcntoolkit.model.hbr.FixedParameterization'>\n",
      "slope_epsilon\n",
      "dist='normal'\n",
      "params=(0.0, 1.0)\n",
      "intercept_epsilon <class 'pcntoolkit.model.hbr.FixedParameterization'>\n",
      "intercept_epsilon\n",
      "dist='normal'\n",
      "params=(0.0, 1)\n",
      "epsilon <class 'pcntoolkit.model.hbr.LinearParameterization'>\n",
      "slope_delta <class 'pcntoolkit.model.hbr.FixedParameterization'>\n",
      "slope_delta\n",
      "dist='normal'\n",
      "params=(0.0, 1)\n",
      "intercept_delta <class 'pcntoolkit.model.hbr.FixedParameterization'>\n",
      "intercept_delta\n",
      "dist='normal'\n",
      "params=(2.0, 1)\n",
      "delta <class 'pcntoolkit.model.hbr.LinearParameterization'>\n"
     ]
    },
    {
     "data": {
      "text/html": [
       "\n",
       "<style>\n",
       "    /* Turns off some styling */\n",
       "    progress {\n",
       "        /* gets rid of default border in Firefox and Opera. */\n",
       "        border: none;\n",
       "        /* Needs to be in here for Safari polyfill so background images work as expected. */\n",
       "        background-size: auto;\n",
       "    }\n",
       "    .progress-bar-interrupted, .progress-bar-interrupted::-webkit-progress-bar {\n",
       "        background: #F44336;\n",
       "    }\n",
       "</style>\n"
      ],
      "text/plain": [
       "<IPython.core.display.HTML object>"
      ]
     },
     "metadata": {},
     "output_type": "display_data"
    },
    {
     "data": {
      "text/html": [
       "\n",
       "    <div>\n",
       "      <progress value='2979' class='' max='2979' style='width:300px; height:20px; vertical-align: middle;'></progress>\n",
       "      100.00% [2979/2979 09:29<00:00 logp = -7,393.9, ||grad|| = 17.554]\n",
       "    </div>\n",
       "    "
      ],
      "text/plain": [
       "<IPython.core.display.HTML object>"
      ]
     },
     "metadata": {},
     "output_type": "display_data"
    },
    {
     "name": "stdout",
     "output_type": "stream",
     "text": [
      "\n",
      "Found MAP in  737.1206958293915\n",
      "slope_mu <class 'pcntoolkit.model.hbr.FixedParameterization'>\n",
      "slope_mu\n",
      "dist='normal'\n",
      "params=(0.0, 1.0)\n",
      "intercept_mu <class 'pcntoolkit.model.hbr.NonCentralRandomFixedParameterization'>\n",
      "mu_intercept_mu\n",
      "dist='normal'\n",
      "params=(0.0, 1.0)\n",
      "sigma_intercept_mu\n",
      "dist='hcauchy'\n",
      "params=(1.0,)\n",
      "offset_intercept_mu\n",
      "dist='normal'\n",
      "params=(0.0, 1.0)\n",
      "mu <class 'pcntoolkit.model.hbr.LinearParameterization'>\n",
      "slope_sigma <class 'pcntoolkit.model.hbr.FixedParameterization'>\n",
      "slope_sigma\n",
      "dist='normal'\n",
      "params=(0.0, 1.0)\n",
      "intercept_sigma <class 'pcntoolkit.model.hbr.FixedParameterization'>\n",
      "intercept_sigma\n",
      "dist='normal'\n",
      "params=(0.0, 1.0)\n",
      "sigma <class 'pcntoolkit.model.hbr.LinearParameterization'>\n"
     ]
    },
    {
     "data": {
      "text/html": [
       "\n",
       "<style>\n",
       "    /* Turns off some styling */\n",
       "    progress {\n",
       "        /* gets rid of default border in Firefox and Opera. */\n",
       "        border: none;\n",
       "        /* Needs to be in here for Safari polyfill so background images work as expected. */\n",
       "        background-size: auto;\n",
       "    }\n",
       "    .progress-bar-interrupted, .progress-bar-interrupted::-webkit-progress-bar {\n",
       "        background: #F44336;\n",
       "    }\n",
       "</style>\n"
      ],
      "text/plain": [
       "<IPython.core.display.HTML object>"
      ]
     },
     "metadata": {},
     "output_type": "display_data"
    },
    {
     "data": {
      "text/html": [
       "\n",
       "    <div>\n",
       "      <progress value='1222' class='' max='1222' style='width:300px; height:20px; vertical-align: middle;'></progress>\n",
       "      100.00% [1222/1222 01:06<00:00 logp = -47,070, ||grad|| = 63.478]\n",
       "    </div>\n",
       "    "
      ],
      "text/plain": [
       "<IPython.core.display.HTML object>"
      ]
     },
     "metadata": {},
     "output_type": "display_data"
    },
    {
     "name": "stdout",
     "output_type": "stream",
     "text": [
      "\n",
      "Found MAP in  135.53748655319214\n",
      "slope_mu <class 'pcntoolkit.model.hbr.FixedParameterization'>\n",
      "slope_mu\n",
      "dist='normal'\n",
      "params=(0.0, 3.0)\n",
      "intercept_mu <class 'pcntoolkit.model.hbr.NonCentralRandomFixedParameterization'>\n",
      "mu_intercept_mu\n",
      "dist='normal'\n",
      "params=(0.0, 1.0)\n",
      "sigma_intercept_mu\n",
      "dist='hcauchy'\n",
      "params=(1.0,)\n",
      "offset_intercept_mu\n",
      "dist='normal'\n",
      "params=(0.0, 1.0)\n",
      "mu <class 'pcntoolkit.model.hbr.LinearParameterization'>\n",
      "slope_sigma <class 'pcntoolkit.model.hbr.FixedParameterization'>\n",
      "slope_sigma\n",
      "dist='normal'\n",
      "params=(0.0, 1.0)\n",
      "intercept_sigma <class 'pcntoolkit.model.hbr.FixedParameterization'>\n",
      "intercept_sigma\n",
      "dist='normal'\n",
      "params=(1.0, 1.0)\n",
      "sigma <class 'pcntoolkit.model.hbr.LinearParameterization'>\n",
      "epsilon <class 'pcntoolkit.model.hbr.FixedParameterization'>\n",
      "epsilon\n",
      "dist='normal'\n",
      "params=(0.0, 1.0)\n",
      "delta <class 'pcntoolkit.model.hbr.FixedParameterization'>\n",
      "delta\n",
      "dist='normal'\n",
      "params=(1.5, 2.0)\n"
     ]
    },
    {
     "data": {
      "text/html": [
       "\n",
       "<style>\n",
       "    /* Turns off some styling */\n",
       "    progress {\n",
       "        /* gets rid of default border in Firefox and Opera. */\n",
       "        border: none;\n",
       "        /* Needs to be in here for Safari polyfill so background images work as expected. */\n",
       "        background-size: auto;\n",
       "    }\n",
       "    .progress-bar-interrupted, .progress-bar-interrupted::-webkit-progress-bar {\n",
       "        background: #F44336;\n",
       "    }\n",
       "</style>\n"
      ],
      "text/plain": [
       "<IPython.core.display.HTML object>"
      ]
     },
     "metadata": {},
     "output_type": "display_data"
    },
    {
     "data": {
      "text/html": [
       "\n",
       "    <div>\n",
       "      <progress value='616' class='' max='616' style='width:300px; height:20px; vertical-align: middle;'></progress>\n",
       "      100.00% [616/616 01:13<00:00 logp = -65,186, ||grad|| = 9.975]\n",
       "    </div>\n",
       "    "
      ],
      "text/plain": [
       "<IPython.core.display.HTML object>"
      ]
     },
     "metadata": {},
     "output_type": "display_data"
    },
    {
     "name": "stdout",
     "output_type": "stream",
     "text": [
      "\n",
      "Found MAP in  168.94352626800537\n",
      "slope_mu <class 'pcntoolkit.model.hbr.FixedParameterization'>\n",
      "slope_mu\n",
      "dist='normal'\n",
      "params=(0.0, 3.0)\n",
      "intercept_mu <class 'pcntoolkit.model.hbr.NonCentralRandomFixedParameterization'>\n",
      "mu_intercept_mu\n",
      "dist='normal'\n",
      "params=(0.0, 1.0)\n",
      "sigma_intercept_mu\n",
      "dist='hcauchy'\n",
      "params=(1.0,)\n",
      "offset_intercept_mu\n",
      "dist='normal'\n",
      "params=(0.0, 1.0)\n",
      "mu <class 'pcntoolkit.model.hbr.LinearParameterization'>\n",
      "slope_sigma <class 'pcntoolkit.model.hbr.FixedParameterization'>\n",
      "slope_sigma\n",
      "dist='normal'\n",
      "params=(0.0, 1.0)\n",
      "intercept_sigma <class 'pcntoolkit.model.hbr.FixedParameterization'>\n",
      "intercept_sigma\n",
      "dist='normal'\n",
      "params=(1.0, 1.0)\n",
      "sigma <class 'pcntoolkit.model.hbr.LinearParameterization'>\n",
      "slope_epsilon <class 'pcntoolkit.model.hbr.FixedParameterization'>\n",
      "slope_epsilon\n",
      "dist='normal'\n",
      "params=(0.0, 1.0)\n",
      "intercept_epsilon <class 'pcntoolkit.model.hbr.FixedParameterization'>\n",
      "intercept_epsilon\n",
      "dist='normal'\n",
      "params=(0.0, 1)\n",
      "epsilon <class 'pcntoolkit.model.hbr.LinearParameterization'>\n",
      "slope_delta <class 'pcntoolkit.model.hbr.FixedParameterization'>\n",
      "slope_delta\n",
      "dist='normal'\n",
      "params=(0.0, 1)\n",
      "intercept_delta <class 'pcntoolkit.model.hbr.FixedParameterization'>\n",
      "intercept_delta\n",
      "dist='normal'\n",
      "params=(2.0, 1)\n",
      "delta <class 'pcntoolkit.model.hbr.LinearParameterization'>\n"
     ]
    },
    {
     "data": {
      "text/html": [
       "\n",
       "<style>\n",
       "    /* Turns off some styling */\n",
       "    progress {\n",
       "        /* gets rid of default border in Firefox and Opera. */\n",
       "        border: none;\n",
       "        /* Needs to be in here for Safari polyfill so background images work as expected. */\n",
       "        background-size: auto;\n",
       "    }\n",
       "    .progress-bar-interrupted, .progress-bar-interrupted::-webkit-progress-bar {\n",
       "        background: #F44336;\n",
       "    }\n",
       "</style>\n"
      ],
      "text/plain": [
       "<IPython.core.display.HTML object>"
      ]
     },
     "metadata": {},
     "output_type": "display_data"
    },
    {
     "data": {
      "text/html": [
       "\n",
       "    <div>\n",
       "      <progress value='716' class='' max='716' style='width:300px; height:20px; vertical-align: middle;'></progress>\n",
       "      100.00% [716/716 02:11<00:00 logp = -65,170, ||grad|| = 3.7291]\n",
       "    </div>\n",
       "    "
      ],
      "text/plain": [
       "<IPython.core.display.HTML object>"
      ]
     },
     "metadata": {},
     "output_type": "display_data"
    },
    {
     "name": "stdout",
     "output_type": "stream",
     "text": [
      "\n",
      "Found MAP in  297.9780204296112\n",
      "slope_mu <class 'pcntoolkit.model.hbr.FixedParameterization'>\n",
      "slope_mu\n",
      "dist='normal'\n",
      "params=(0.0, 1.0)\n",
      "intercept_mu <class 'pcntoolkit.model.hbr.NonCentralRandomFixedParameterization'>\n",
      "mu_intercept_mu\n",
      "dist='normal'\n",
      "params=(0.0, 1.0)\n",
      "sigma_intercept_mu\n",
      "dist='hcauchy'\n",
      "params=(1.0,)\n",
      "offset_intercept_mu\n",
      "dist='normal'\n",
      "params=(0.0, 1.0)\n",
      "mu <class 'pcntoolkit.model.hbr.LinearParameterization'>\n",
      "slope_sigma <class 'pcntoolkit.model.hbr.FixedParameterization'>\n",
      "slope_sigma\n",
      "dist='normal'\n",
      "params=(0.0, 1.0)\n",
      "intercept_sigma <class 'pcntoolkit.model.hbr.FixedParameterization'>\n",
      "intercept_sigma\n",
      "dist='normal'\n",
      "params=(0.0, 1.0)\n",
      "sigma <class 'pcntoolkit.model.hbr.LinearParameterization'>\n"
     ]
    },
    {
     "data": {
      "text/html": [
       "\n",
       "<style>\n",
       "    /* Turns off some styling */\n",
       "    progress {\n",
       "        /* gets rid of default border in Firefox and Opera. */\n",
       "        border: none;\n",
       "        /* Needs to be in here for Safari polyfill so background images work as expected. */\n",
       "        background-size: auto;\n",
       "    }\n",
       "    .progress-bar-interrupted, .progress-bar-interrupted::-webkit-progress-bar {\n",
       "        background: #F44336;\n",
       "    }\n",
       "</style>\n"
      ],
      "text/plain": [
       "<IPython.core.display.HTML object>"
      ]
     },
     "metadata": {},
     "output_type": "display_data"
    },
    {
     "data": {
      "text/html": [
       "\n",
       "    <div>\n",
       "      <progress value='627' class='' max='627' style='width:300px; height:20px; vertical-align: middle;'></progress>\n",
       "      100.00% [627/627 00:32<00:00 logp = -65,903, ||grad|| = 3.3955]\n",
       "    </div>\n",
       "    "
      ],
      "text/plain": [
       "<IPython.core.display.HTML object>"
      ]
     },
     "metadata": {},
     "output_type": "display_data"
    },
    {
     "name": "stdout",
     "output_type": "stream",
     "text": [
      "\n",
      "Found MAP in  98.44164443016052\n",
      "slope_mu <class 'pcntoolkit.model.hbr.FixedParameterization'>\n",
      "slope_mu\n",
      "dist='normal'\n",
      "params=(0.0, 3.0)\n",
      "intercept_mu <class 'pcntoolkit.model.hbr.NonCentralRandomFixedParameterization'>\n",
      "mu_intercept_mu\n",
      "dist='normal'\n",
      "params=(0.0, 1.0)\n",
      "sigma_intercept_mu\n",
      "dist='hcauchy'\n",
      "params=(1.0,)\n",
      "offset_intercept_mu\n",
      "dist='normal'\n",
      "params=(0.0, 1.0)\n",
      "mu <class 'pcntoolkit.model.hbr.LinearParameterization'>\n",
      "slope_sigma <class 'pcntoolkit.model.hbr.FixedParameterization'>\n",
      "slope_sigma\n",
      "dist='normal'\n",
      "params=(0.0, 1.0)\n",
      "intercept_sigma <class 'pcntoolkit.model.hbr.FixedParameterization'>\n",
      "intercept_sigma\n",
      "dist='normal'\n",
      "params=(1.0, 1.0)\n",
      "sigma <class 'pcntoolkit.model.hbr.LinearParameterization'>\n",
      "epsilon <class 'pcntoolkit.model.hbr.FixedParameterization'>\n",
      "epsilon\n",
      "dist='normal'\n",
      "params=(0.0, 1.0)\n",
      "delta <class 'pcntoolkit.model.hbr.FixedParameterization'>\n",
      "delta\n",
      "dist='normal'\n",
      "params=(1.5, 2.0)\n"
     ]
    },
    {
     "data": {
      "text/html": [
       "\n",
       "<style>\n",
       "    /* Turns off some styling */\n",
       "    progress {\n",
       "        /* gets rid of default border in Firefox and Opera. */\n",
       "        border: none;\n",
       "        /* Needs to be in here for Safari polyfill so background images work as expected. */\n",
       "        background-size: auto;\n",
       "    }\n",
       "    .progress-bar-interrupted, .progress-bar-interrupted::-webkit-progress-bar {\n",
       "        background: #F44336;\n",
       "    }\n",
       "</style>\n"
      ],
      "text/plain": [
       "<IPython.core.display.HTML object>"
      ]
     },
     "metadata": {},
     "output_type": "display_data"
    },
    {
     "data": {
      "text/html": [
       "\n",
       "    <div>\n",
       "      <progress value='863' class='' max='863' style='width:300px; height:20px; vertical-align: middle;'></progress>\n",
       "      100.00% [863/863 01:34<00:00 logp = -61,262, ||grad|| = 4.9955]\n",
       "    </div>\n",
       "    "
      ],
      "text/plain": [
       "<IPython.core.display.HTML object>"
      ]
     },
     "metadata": {},
     "output_type": "display_data"
    },
    {
     "name": "stdout",
     "output_type": "stream",
     "text": [
      "\n",
      "Found MAP in  192.19095063209534\n",
      "slope_mu <class 'pcntoolkit.model.hbr.FixedParameterization'>\n",
      "slope_mu\n",
      "dist='normal'\n",
      "params=(0.0, 3.0)\n",
      "intercept_mu <class 'pcntoolkit.model.hbr.NonCentralRandomFixedParameterization'>\n",
      "mu_intercept_mu\n",
      "dist='normal'\n",
      "params=(0.0, 1.0)\n",
      "sigma_intercept_mu\n",
      "dist='hcauchy'\n",
      "params=(1.0,)\n",
      "offset_intercept_mu\n",
      "dist='normal'\n",
      "params=(0.0, 1.0)\n",
      "mu <class 'pcntoolkit.model.hbr.LinearParameterization'>\n",
      "slope_sigma <class 'pcntoolkit.model.hbr.FixedParameterization'>\n",
      "slope_sigma\n",
      "dist='normal'\n",
      "params=(0.0, 1.0)\n",
      "intercept_sigma <class 'pcntoolkit.model.hbr.FixedParameterization'>\n",
      "intercept_sigma\n",
      "dist='normal'\n",
      "params=(1.0, 1.0)\n",
      "sigma <class 'pcntoolkit.model.hbr.LinearParameterization'>\n",
      "slope_epsilon <class 'pcntoolkit.model.hbr.FixedParameterization'>\n",
      "slope_epsilon\n",
      "dist='normal'\n",
      "params=(0.0, 1.0)\n",
      "intercept_epsilon <class 'pcntoolkit.model.hbr.FixedParameterization'>\n",
      "intercept_epsilon\n",
      "dist='normal'\n",
      "params=(0.0, 1)\n",
      "epsilon <class 'pcntoolkit.model.hbr.LinearParameterization'>\n",
      "slope_delta <class 'pcntoolkit.model.hbr.FixedParameterization'>\n",
      "slope_delta\n",
      "dist='normal'\n",
      "params=(0.0, 1)\n",
      "intercept_delta <class 'pcntoolkit.model.hbr.FixedParameterization'>\n",
      "intercept_delta\n",
      "dist='normal'\n",
      "params=(2.0, 1)\n",
      "delta <class 'pcntoolkit.model.hbr.LinearParameterization'>\n"
     ]
    },
    {
     "data": {
      "text/html": [
       "\n",
       "<style>\n",
       "    /* Turns off some styling */\n",
       "    progress {\n",
       "        /* gets rid of default border in Firefox and Opera. */\n",
       "        border: none;\n",
       "        /* Needs to be in here for Safari polyfill so background images work as expected. */\n",
       "        background-size: auto;\n",
       "    }\n",
       "    .progress-bar-interrupted, .progress-bar-interrupted::-webkit-progress-bar {\n",
       "        background: #F44336;\n",
       "    }\n",
       "</style>\n"
      ],
      "text/plain": [
       "<IPython.core.display.HTML object>"
      ]
     },
     "metadata": {},
     "output_type": "display_data"
    },
    {
     "data": {
      "text/html": [
       "\n",
       "    <div>\n",
       "      <progress value='874' class='' max='874' style='width:300px; height:20px; vertical-align: middle;'></progress>\n",
       "      100.00% [874/874 02:37<00:00 logp = -61,259, ||grad|| = 7.0381]\n",
       "    </div>\n",
       "    "
      ],
      "text/plain": [
       "<IPython.core.display.HTML object>"
      ]
     },
     "metadata": {},
     "output_type": "display_data"
    },
    {
     "name": "stdout",
     "output_type": "stream",
     "text": [
      "\n",
      "Found MAP in  326.06946063041687\n",
      "slope_mu <class 'pcntoolkit.model.hbr.FixedParameterization'>\n",
      "slope_mu\n",
      "dist='normal'\n",
      "params=(0.0, 1.0)\n",
      "intercept_mu <class 'pcntoolkit.model.hbr.NonCentralRandomFixedParameterization'>\n",
      "mu_intercept_mu\n",
      "dist='normal'\n",
      "params=(0.0, 1.0)\n",
      "sigma_intercept_mu\n",
      "dist='hcauchy'\n",
      "params=(1.0,)\n",
      "offset_intercept_mu\n",
      "dist='normal'\n",
      "params=(0.0, 1.0)\n",
      "mu <class 'pcntoolkit.model.hbr.LinearParameterization'>\n",
      "slope_sigma <class 'pcntoolkit.model.hbr.FixedParameterization'>\n",
      "slope_sigma\n",
      "dist='normal'\n",
      "params=(0.0, 1.0)\n",
      "intercept_sigma <class 'pcntoolkit.model.hbr.FixedParameterization'>\n",
      "intercept_sigma\n",
      "dist='normal'\n",
      "params=(0.0, 1.0)\n",
      "sigma <class 'pcntoolkit.model.hbr.LinearParameterization'>\n"
     ]
    },
    {
     "data": {
      "text/html": [
       "\n",
       "<style>\n",
       "    /* Turns off some styling */\n",
       "    progress {\n",
       "        /* gets rid of default border in Firefox and Opera. */\n",
       "        border: none;\n",
       "        /* Needs to be in here for Safari polyfill so background images work as expected. */\n",
       "        background-size: auto;\n",
       "    }\n",
       "    .progress-bar-interrupted, .progress-bar-interrupted::-webkit-progress-bar {\n",
       "        background: #F44336;\n",
       "    }\n",
       "</style>\n"
      ],
      "text/plain": [
       "<IPython.core.display.HTML object>"
      ]
     },
     "metadata": {},
     "output_type": "display_data"
    },
    {
     "data": {
      "text/html": [
       "\n",
       "    <div>\n",
       "      <progress value='684' class='' max='684' style='width:300px; height:20px; vertical-align: middle;'></progress>\n",
       "      100.00% [684/684 00:36<00:00 logp = -61,632, ||grad|| = 3.5551]\n",
       "    </div>\n",
       "    "
      ],
      "text/plain": [
       "<IPython.core.display.HTML object>"
      ]
     },
     "metadata": {},
     "output_type": "display_data"
    },
    {
     "name": "stdout",
     "output_type": "stream",
     "text": [
      "\n",
      "Found MAP in  107.58576035499573\n",
      "slope_mu <class 'pcntoolkit.model.hbr.FixedParameterization'>\n",
      "slope_mu\n",
      "dist='normal'\n",
      "params=(0.0, 3.0)\n",
      "intercept_mu <class 'pcntoolkit.model.hbr.NonCentralRandomFixedParameterization'>\n",
      "mu_intercept_mu\n",
      "dist='normal'\n",
      "params=(0.0, 1.0)\n",
      "sigma_intercept_mu\n",
      "dist='hcauchy'\n",
      "params=(1.0,)\n",
      "offset_intercept_mu\n",
      "dist='normal'\n",
      "params=(0.0, 1.0)\n",
      "mu <class 'pcntoolkit.model.hbr.LinearParameterization'>\n",
      "slope_sigma <class 'pcntoolkit.model.hbr.FixedParameterization'>\n",
      "slope_sigma\n",
      "dist='normal'\n",
      "params=(0.0, 1.0)\n",
      "intercept_sigma <class 'pcntoolkit.model.hbr.FixedParameterization'>\n",
      "intercept_sigma\n",
      "dist='normal'\n",
      "params=(1.0, 1.0)\n",
      "sigma <class 'pcntoolkit.model.hbr.LinearParameterization'>\n",
      "epsilon <class 'pcntoolkit.model.hbr.FixedParameterization'>\n",
      "epsilon\n",
      "dist='normal'\n",
      "params=(0.0, 1.0)\n",
      "delta <class 'pcntoolkit.model.hbr.FixedParameterization'>\n",
      "delta\n",
      "dist='normal'\n",
      "params=(1.5, 2.0)\n"
     ]
    },
    {
     "data": {
      "text/html": [
       "\n",
       "<style>\n",
       "    /* Turns off some styling */\n",
       "    progress {\n",
       "        /* gets rid of default border in Firefox and Opera. */\n",
       "        border: none;\n",
       "        /* Needs to be in here for Safari polyfill so background images work as expected. */\n",
       "        background-size: auto;\n",
       "    }\n",
       "    .progress-bar-interrupted, .progress-bar-interrupted::-webkit-progress-bar {\n",
       "        background: #F44336;\n",
       "    }\n",
       "</style>\n"
      ],
      "text/plain": [
       "<IPython.core.display.HTML object>"
      ]
     },
     "metadata": {},
     "output_type": "display_data"
    },
    {
     "data": {
      "text/html": [
       "\n",
       "    <div>\n",
       "      <progress value='826' class='' max='826' style='width:300px; height:20px; vertical-align: middle;'></progress>\n",
       "      100.00% [826/826 01:32<00:00 logp = -60,779, ||grad|| = 6.1214]\n",
       "    </div>\n",
       "    "
      ],
      "text/plain": [
       "<IPython.core.display.HTML object>"
      ]
     },
     "metadata": {},
     "output_type": "display_data"
    },
    {
     "name": "stdout",
     "output_type": "stream",
     "text": [
      "\n",
      "Found MAP in  210.22240471839905\n",
      "slope_mu <class 'pcntoolkit.model.hbr.FixedParameterization'>\n",
      "slope_mu\n",
      "dist='normal'\n",
      "params=(0.0, 3.0)\n",
      "intercept_mu <class 'pcntoolkit.model.hbr.NonCentralRandomFixedParameterization'>\n",
      "mu_intercept_mu\n",
      "dist='normal'\n",
      "params=(0.0, 1.0)\n",
      "sigma_intercept_mu\n",
      "dist='hcauchy'\n",
      "params=(1.0,)\n",
      "offset_intercept_mu\n",
      "dist='normal'\n",
      "params=(0.0, 1.0)\n",
      "mu <class 'pcntoolkit.model.hbr.LinearParameterization'>\n",
      "slope_sigma <class 'pcntoolkit.model.hbr.FixedParameterization'>\n",
      "slope_sigma\n",
      "dist='normal'\n",
      "params=(0.0, 1.0)\n",
      "intercept_sigma <class 'pcntoolkit.model.hbr.FixedParameterization'>\n",
      "intercept_sigma\n",
      "dist='normal'\n",
      "params=(1.0, 1.0)\n",
      "sigma <class 'pcntoolkit.model.hbr.LinearParameterization'>\n",
      "slope_epsilon <class 'pcntoolkit.model.hbr.FixedParameterization'>\n",
      "slope_epsilon\n",
      "dist='normal'\n",
      "params=(0.0, 1.0)\n",
      "intercept_epsilon <class 'pcntoolkit.model.hbr.FixedParameterization'>\n",
      "intercept_epsilon\n",
      "dist='normal'\n",
      "params=(0.0, 1)\n",
      "epsilon <class 'pcntoolkit.model.hbr.LinearParameterization'>\n",
      "slope_delta <class 'pcntoolkit.model.hbr.FixedParameterization'>\n",
      "slope_delta\n",
      "dist='normal'\n",
      "params=(0.0, 1)\n",
      "intercept_delta <class 'pcntoolkit.model.hbr.FixedParameterization'>\n",
      "intercept_delta\n",
      "dist='normal'\n",
      "params=(2.0, 1)\n",
      "delta <class 'pcntoolkit.model.hbr.LinearParameterization'>\n"
     ]
    },
    {
     "data": {
      "text/html": [
       "\n",
       "<style>\n",
       "    /* Turns off some styling */\n",
       "    progress {\n",
       "        /* gets rid of default border in Firefox and Opera. */\n",
       "        border: none;\n",
       "        /* Needs to be in here for Safari polyfill so background images work as expected. */\n",
       "        background-size: auto;\n",
       "    }\n",
       "    .progress-bar-interrupted, .progress-bar-interrupted::-webkit-progress-bar {\n",
       "        background: #F44336;\n",
       "    }\n",
       "</style>\n"
      ],
      "text/plain": [
       "<IPython.core.display.HTML object>"
      ]
     },
     "metadata": {},
     "output_type": "display_data"
    },
    {
     "data": {
      "text/html": [
       "\n",
       "    <div>\n",
       "      <progress value='803' class='' max='803' style='width:300px; height:20px; vertical-align: middle;'></progress>\n",
       "      100.00% [803/803 02:21<00:00 logp = -60,728, ||grad|| = 4.1018]\n",
       "    </div>\n",
       "    "
      ],
      "text/plain": [
       "<IPython.core.display.HTML object>"
      ]
     },
     "metadata": {},
     "output_type": "display_data"
    },
    {
     "name": "stdout",
     "output_type": "stream",
     "text": [
      "\n",
      "Found MAP in  314.6591463088989\n",
      "slope_mu <class 'pcntoolkit.model.hbr.FixedParameterization'>\n",
      "slope_mu\n",
      "dist='normal'\n",
      "params=(0.0, 1.0)\n",
      "intercept_mu <class 'pcntoolkit.model.hbr.NonCentralRandomFixedParameterization'>\n",
      "mu_intercept_mu\n",
      "dist='normal'\n",
      "params=(0.0, 1.0)\n",
      "sigma_intercept_mu\n",
      "dist='hcauchy'\n",
      "params=(1.0,)\n",
      "offset_intercept_mu\n",
      "dist='normal'\n",
      "params=(0.0, 1.0)\n",
      "mu <class 'pcntoolkit.model.hbr.LinearParameterization'>\n",
      "slope_sigma <class 'pcntoolkit.model.hbr.FixedParameterization'>\n",
      "slope_sigma\n",
      "dist='normal'\n",
      "params=(0.0, 1.0)\n",
      "intercept_sigma <class 'pcntoolkit.model.hbr.FixedParameterization'>\n",
      "intercept_sigma\n",
      "dist='normal'\n",
      "params=(0.0, 1.0)\n",
      "sigma <class 'pcntoolkit.model.hbr.LinearParameterization'>\n"
     ]
    },
    {
     "data": {
      "text/html": [
       "\n",
       "<style>\n",
       "    /* Turns off some styling */\n",
       "    progress {\n",
       "        /* gets rid of default border in Firefox and Opera. */\n",
       "        border: none;\n",
       "        /* Needs to be in here for Safari polyfill so background images work as expected. */\n",
       "        background-size: auto;\n",
       "    }\n",
       "    .progress-bar-interrupted, .progress-bar-interrupted::-webkit-progress-bar {\n",
       "        background: #F44336;\n",
       "    }\n",
       "</style>\n"
      ],
      "text/plain": [
       "<IPython.core.display.HTML object>"
      ]
     },
     "metadata": {},
     "output_type": "display_data"
    },
    {
     "data": {
      "text/html": [
       "\n",
       "    <div>\n",
       "      <progress value='869' class='' max='869' style='width:300px; height:20px; vertical-align: middle;'></progress>\n",
       "      100.00% [869/869 00:48<00:00 logp = -64,530, ||grad|| = 4.5489]\n",
       "    </div>\n",
       "    "
      ],
      "text/plain": [
       "<IPython.core.display.HTML object>"
      ]
     },
     "metadata": {},
     "output_type": "display_data"
    },
    {
     "name": "stdout",
     "output_type": "stream",
     "text": [
      "\n",
      "Found MAP in  119.841792345047\n",
      "slope_mu <class 'pcntoolkit.model.hbr.FixedParameterization'>\n",
      "slope_mu\n",
      "dist='normal'\n",
      "params=(0.0, 3.0)\n",
      "intercept_mu <class 'pcntoolkit.model.hbr.NonCentralRandomFixedParameterization'>\n",
      "mu_intercept_mu\n",
      "dist='normal'\n",
      "params=(0.0, 1.0)\n",
      "sigma_intercept_mu\n",
      "dist='hcauchy'\n",
      "params=(1.0,)\n",
      "offset_intercept_mu\n",
      "dist='normal'\n",
      "params=(0.0, 1.0)\n",
      "mu <class 'pcntoolkit.model.hbr.LinearParameterization'>\n",
      "slope_sigma <class 'pcntoolkit.model.hbr.FixedParameterization'>\n",
      "slope_sigma\n",
      "dist='normal'\n",
      "params=(0.0, 1.0)\n",
      "intercept_sigma <class 'pcntoolkit.model.hbr.FixedParameterization'>\n",
      "intercept_sigma\n",
      "dist='normal'\n",
      "params=(1.0, 1.0)\n",
      "sigma <class 'pcntoolkit.model.hbr.LinearParameterization'>\n",
      "epsilon <class 'pcntoolkit.model.hbr.FixedParameterization'>\n",
      "epsilon\n",
      "dist='normal'\n",
      "params=(0.0, 1.0)\n",
      "delta <class 'pcntoolkit.model.hbr.FixedParameterization'>\n",
      "delta\n",
      "dist='normal'\n",
      "params=(1.5, 2.0)\n"
     ]
    },
    {
     "data": {
      "text/html": [
       "\n",
       "<style>\n",
       "    /* Turns off some styling */\n",
       "    progress {\n",
       "        /* gets rid of default border in Firefox and Opera. */\n",
       "        border: none;\n",
       "        /* Needs to be in here for Safari polyfill so background images work as expected. */\n",
       "        background-size: auto;\n",
       "    }\n",
       "    .progress-bar-interrupted, .progress-bar-interrupted::-webkit-progress-bar {\n",
       "        background: #F44336;\n",
       "    }\n",
       "</style>\n"
      ],
      "text/plain": [
       "<IPython.core.display.HTML object>"
      ]
     },
     "metadata": {},
     "output_type": "display_data"
    },
    {
     "data": {
      "text/html": [
       "\n",
       "    <div>\n",
       "      <progress value='581' class='' max='581' style='width:300px; height:20px; vertical-align: middle;'></progress>\n",
       "      100.00% [581/581 01:02<00:00 logp = -62,913, ||grad|| = 4.21]\n",
       "    </div>\n",
       "    "
      ],
      "text/plain": [
       "<IPython.core.display.HTML object>"
      ]
     },
     "metadata": {},
     "output_type": "display_data"
    },
    {
     "name": "stdout",
     "output_type": "stream",
     "text": [
      "\n",
      "Found MAP in  159.99464774131775\n",
      "slope_mu <class 'pcntoolkit.model.hbr.FixedParameterization'>\n",
      "slope_mu\n",
      "dist='normal'\n",
      "params=(0.0, 3.0)\n",
      "intercept_mu <class 'pcntoolkit.model.hbr.NonCentralRandomFixedParameterization'>\n",
      "mu_intercept_mu\n",
      "dist='normal'\n",
      "params=(0.0, 1.0)\n",
      "sigma_intercept_mu\n",
      "dist='hcauchy'\n",
      "params=(1.0,)\n",
      "offset_intercept_mu\n",
      "dist='normal'\n",
      "params=(0.0, 1.0)\n",
      "mu <class 'pcntoolkit.model.hbr.LinearParameterization'>\n",
      "slope_sigma <class 'pcntoolkit.model.hbr.FixedParameterization'>\n",
      "slope_sigma\n",
      "dist='normal'\n",
      "params=(0.0, 1.0)\n",
      "intercept_sigma <class 'pcntoolkit.model.hbr.FixedParameterization'>\n",
      "intercept_sigma\n",
      "dist='normal'\n",
      "params=(1.0, 1.0)\n",
      "sigma <class 'pcntoolkit.model.hbr.LinearParameterization'>\n",
      "slope_epsilon <class 'pcntoolkit.model.hbr.FixedParameterization'>\n",
      "slope_epsilon\n",
      "dist='normal'\n",
      "params=(0.0, 1.0)\n",
      "intercept_epsilon <class 'pcntoolkit.model.hbr.FixedParameterization'>\n",
      "intercept_epsilon\n",
      "dist='normal'\n",
      "params=(0.0, 1)\n",
      "epsilon <class 'pcntoolkit.model.hbr.LinearParameterization'>\n",
      "slope_delta <class 'pcntoolkit.model.hbr.FixedParameterization'>\n",
      "slope_delta\n",
      "dist='normal'\n",
      "params=(0.0, 1)\n",
      "intercept_delta <class 'pcntoolkit.model.hbr.FixedParameterization'>\n",
      "intercept_delta\n",
      "dist='normal'\n",
      "params=(2.0, 1)\n",
      "delta <class 'pcntoolkit.model.hbr.LinearParameterization'>\n"
     ]
    },
    {
     "data": {
      "text/html": [
       "\n",
       "<style>\n",
       "    /* Turns off some styling */\n",
       "    progress {\n",
       "        /* gets rid of default border in Firefox and Opera. */\n",
       "        border: none;\n",
       "        /* Needs to be in here for Safari polyfill so background images work as expected. */\n",
       "        background-size: auto;\n",
       "    }\n",
       "    .progress-bar-interrupted, .progress-bar-interrupted::-webkit-progress-bar {\n",
       "        background: #F44336;\n",
       "    }\n",
       "</style>\n"
      ],
      "text/plain": [
       "<IPython.core.display.HTML object>"
      ]
     },
     "metadata": {},
     "output_type": "display_data"
    },
    {
     "data": {
      "text/html": [
       "\n",
       "    <div>\n",
       "      <progress value='1058' class='' max='1058' style='width:300px; height:20px; vertical-align: middle;'></progress>\n",
       "      100.00% [1058/1058 03:02<00:00 logp = -62,755, ||grad|| = 8.1434]\n",
       "    </div>\n",
       "    "
      ],
      "text/plain": [
       "<IPython.core.display.HTML object>"
      ]
     },
     "metadata": {},
     "output_type": "display_data"
    },
    {
     "name": "stdout",
     "output_type": "stream",
     "text": [
      "\n",
      "Found MAP in  342.8229250907898\n",
      "slope_mu <class 'pcntoolkit.model.hbr.FixedParameterization'>\n",
      "slope_mu\n",
      "dist='normal'\n",
      "params=(0.0, 1.0)\n",
      "intercept_mu <class 'pcntoolkit.model.hbr.NonCentralRandomFixedParameterization'>\n",
      "mu_intercept_mu\n",
      "dist='normal'\n",
      "params=(0.0, 1.0)\n",
      "sigma_intercept_mu\n",
      "dist='hcauchy'\n",
      "params=(1.0,)\n",
      "offset_intercept_mu\n",
      "dist='normal'\n",
      "params=(0.0, 1.0)\n",
      "mu <class 'pcntoolkit.model.hbr.LinearParameterization'>\n",
      "slope_sigma <class 'pcntoolkit.model.hbr.FixedParameterization'>\n",
      "slope_sigma\n",
      "dist='normal'\n",
      "params=(0.0, 1.0)\n",
      "intercept_sigma <class 'pcntoolkit.model.hbr.FixedParameterization'>\n",
      "intercept_sigma\n",
      "dist='normal'\n",
      "params=(0.0, 1.0)\n",
      "sigma <class 'pcntoolkit.model.hbr.LinearParameterization'>\n"
     ]
    },
    {
     "data": {
      "text/html": [
       "\n",
       "<style>\n",
       "    /* Turns off some styling */\n",
       "    progress {\n",
       "        /* gets rid of default border in Firefox and Opera. */\n",
       "        border: none;\n",
       "        /* Needs to be in here for Safari polyfill so background images work as expected. */\n",
       "        background-size: auto;\n",
       "    }\n",
       "    .progress-bar-interrupted, .progress-bar-interrupted::-webkit-progress-bar {\n",
       "        background: #F44336;\n",
       "    }\n",
       "</style>\n"
      ],
      "text/plain": [
       "<IPython.core.display.HTML object>"
      ]
     },
     "metadata": {},
     "output_type": "display_data"
    },
    {
     "data": {
      "text/html": [
       "\n",
       "    <div>\n",
       "      <progress value='634' class='' max='634' style='width:300px; height:20px; vertical-align: middle;'></progress>\n",
       "      100.00% [634/634 00:32<00:00 logp = -63,236, ||grad|| = 4.5182]\n",
       "    </div>\n",
       "    "
      ],
      "text/plain": [
       "<IPython.core.display.HTML object>"
      ]
     },
     "metadata": {},
     "output_type": "display_data"
    },
    {
     "name": "stdout",
     "output_type": "stream",
     "text": [
      "\n",
      "Found MAP in  96.43674063682556\n",
      "slope_mu <class 'pcntoolkit.model.hbr.FixedParameterization'>\n",
      "slope_mu\n",
      "dist='normal'\n",
      "params=(0.0, 3.0)\n",
      "intercept_mu <class 'pcntoolkit.model.hbr.NonCentralRandomFixedParameterization'>\n",
      "mu_intercept_mu\n",
      "dist='normal'\n",
      "params=(0.0, 1.0)\n",
      "sigma_intercept_mu\n",
      "dist='hcauchy'\n",
      "params=(1.0,)\n",
      "offset_intercept_mu\n",
      "dist='normal'\n",
      "params=(0.0, 1.0)\n",
      "mu <class 'pcntoolkit.model.hbr.LinearParameterization'>\n",
      "slope_sigma <class 'pcntoolkit.model.hbr.FixedParameterization'>\n",
      "slope_sigma\n",
      "dist='normal'\n",
      "params=(0.0, 1.0)\n",
      "intercept_sigma <class 'pcntoolkit.model.hbr.FixedParameterization'>\n",
      "intercept_sigma\n",
      "dist='normal'\n",
      "params=(1.0, 1.0)\n",
      "sigma <class 'pcntoolkit.model.hbr.LinearParameterization'>\n",
      "epsilon <class 'pcntoolkit.model.hbr.FixedParameterization'>\n",
      "epsilon\n",
      "dist='normal'\n",
      "params=(0.0, 1.0)\n",
      "delta <class 'pcntoolkit.model.hbr.FixedParameterization'>\n",
      "delta\n",
      "dist='normal'\n",
      "params=(1.5, 2.0)\n"
     ]
    },
    {
     "data": {
      "text/html": [
       "\n",
       "<style>\n",
       "    /* Turns off some styling */\n",
       "    progress {\n",
       "        /* gets rid of default border in Firefox and Opera. */\n",
       "        border: none;\n",
       "        /* Needs to be in here for Safari polyfill so background images work as expected. */\n",
       "        background-size: auto;\n",
       "    }\n",
       "    .progress-bar-interrupted, .progress-bar-interrupted::-webkit-progress-bar {\n",
       "        background: #F44336;\n",
       "    }\n",
       "</style>\n"
      ],
      "text/plain": [
       "<IPython.core.display.HTML object>"
      ]
     },
     "metadata": {},
     "output_type": "display_data"
    },
    {
     "data": {
      "text/html": [
       "\n",
       "    <div>\n",
       "      <progress value='1782' class='' max='1782' style='width:300px; height:20px; vertical-align: middle;'></progress>\n",
       "      100.00% [1782/1782 03:13<00:00 logp = -42,069, ||grad|| = 5.4497]\n",
       "    </div>\n",
       "    "
      ],
      "text/plain": [
       "<IPython.core.display.HTML object>"
      ]
     },
     "metadata": {},
     "output_type": "display_data"
    },
    {
     "name": "stdout",
     "output_type": "stream",
     "text": [
      "\n",
      "Found MAP in  283.1185863018036\n",
      "slope_mu <class 'pcntoolkit.model.hbr.FixedParameterization'>\n",
      "slope_mu\n",
      "dist='normal'\n",
      "params=(0.0, 3.0)\n",
      "intercept_mu <class 'pcntoolkit.model.hbr.NonCentralRandomFixedParameterization'>\n",
      "mu_intercept_mu\n",
      "dist='normal'\n",
      "params=(0.0, 1.0)\n",
      "sigma_intercept_mu\n",
      "dist='hcauchy'\n",
      "params=(1.0,)\n",
      "offset_intercept_mu\n",
      "dist='normal'\n",
      "params=(0.0, 1.0)\n",
      "mu <class 'pcntoolkit.model.hbr.LinearParameterization'>\n",
      "slope_sigma <class 'pcntoolkit.model.hbr.FixedParameterization'>\n",
      "slope_sigma\n",
      "dist='normal'\n",
      "params=(0.0, 1.0)\n",
      "intercept_sigma <class 'pcntoolkit.model.hbr.FixedParameterization'>\n",
      "intercept_sigma\n",
      "dist='normal'\n",
      "params=(1.0, 1.0)\n",
      "sigma <class 'pcntoolkit.model.hbr.LinearParameterization'>\n",
      "slope_epsilon <class 'pcntoolkit.model.hbr.FixedParameterization'>\n",
      "slope_epsilon\n",
      "dist='normal'\n",
      "params=(0.0, 1.0)\n",
      "intercept_epsilon <class 'pcntoolkit.model.hbr.FixedParameterization'>\n",
      "intercept_epsilon\n",
      "dist='normal'\n",
      "params=(0.0, 1)\n",
      "epsilon <class 'pcntoolkit.model.hbr.LinearParameterization'>\n",
      "slope_delta <class 'pcntoolkit.model.hbr.FixedParameterization'>\n",
      "slope_delta\n",
      "dist='normal'\n",
      "params=(0.0, 1)\n",
      "intercept_delta <class 'pcntoolkit.model.hbr.FixedParameterization'>\n",
      "intercept_delta\n",
      "dist='normal'\n",
      "params=(2.0, 1)\n",
      "delta <class 'pcntoolkit.model.hbr.LinearParameterization'>\n"
     ]
    },
    {
     "data": {
      "text/html": [
       "\n",
       "<style>\n",
       "    /* Turns off some styling */\n",
       "    progress {\n",
       "        /* gets rid of default border in Firefox and Opera. */\n",
       "        border: none;\n",
       "        /* Needs to be in here for Safari polyfill so background images work as expected. */\n",
       "        background-size: auto;\n",
       "    }\n",
       "    .progress-bar-interrupted, .progress-bar-interrupted::-webkit-progress-bar {\n",
       "        background: #F44336;\n",
       "    }\n",
       "</style>\n"
      ],
      "text/plain": [
       "<IPython.core.display.HTML object>"
      ]
     },
     "metadata": {},
     "output_type": "display_data"
    },
    {
     "data": {
      "text/html": [
       "\n",
       "    <div>\n",
       "      <progress value='1964' class='' max='1964' style='width:300px; height:20px; vertical-align: middle;'></progress>\n",
       "      100.00% [1964/1964 05:55<00:00 logp = -41,725, ||grad|| = 19.019]\n",
       "    </div>\n",
       "    "
      ],
      "text/plain": [
       "<IPython.core.display.HTML object>"
      ]
     },
     "metadata": {},
     "output_type": "display_data"
    },
    {
     "name": "stdout",
     "output_type": "stream",
     "text": [
      "\n",
      "Found MAP in  513.576646566391\n",
      "slope_mu <class 'pcntoolkit.model.hbr.FixedParameterization'>\n",
      "slope_mu\n",
      "dist='normal'\n",
      "params=(0.0, 1.0)\n",
      "intercept_mu <class 'pcntoolkit.model.hbr.NonCentralRandomFixedParameterization'>\n",
      "mu_intercept_mu\n",
      "dist='normal'\n",
      "params=(0.0, 1.0)\n",
      "sigma_intercept_mu\n",
      "dist='hcauchy'\n",
      "params=(1.0,)\n",
      "offset_intercept_mu\n",
      "dist='normal'\n",
      "params=(0.0, 1.0)\n",
      "mu <class 'pcntoolkit.model.hbr.LinearParameterization'>\n",
      "slope_sigma <class 'pcntoolkit.model.hbr.FixedParameterization'>\n",
      "slope_sigma\n",
      "dist='normal'\n",
      "params=(0.0, 1.0)\n",
      "intercept_sigma <class 'pcntoolkit.model.hbr.FixedParameterization'>\n",
      "intercept_sigma\n",
      "dist='normal'\n",
      "params=(0.0, 1.0)\n",
      "sigma <class 'pcntoolkit.model.hbr.LinearParameterization'>\n"
     ]
    },
    {
     "data": {
      "text/html": [
       "\n",
       "<style>\n",
       "    /* Turns off some styling */\n",
       "    progress {\n",
       "        /* gets rid of default border in Firefox and Opera. */\n",
       "        border: none;\n",
       "        /* Needs to be in here for Safari polyfill so background images work as expected. */\n",
       "        background-size: auto;\n",
       "    }\n",
       "    .progress-bar-interrupted, .progress-bar-interrupted::-webkit-progress-bar {\n",
       "        background: #F44336;\n",
       "    }\n",
       "</style>\n"
      ],
      "text/plain": [
       "<IPython.core.display.HTML object>"
      ]
     },
     "metadata": {},
     "output_type": "display_data"
    },
    {
     "data": {
      "text/html": [
       "\n",
       "    <div>\n",
       "      <progress value='602' class='' max='602' style='width:300px; height:20px; vertical-align: middle;'></progress>\n",
       "      100.00% [602/602 00:31<00:00 logp = -53,866, ||grad|| = 15.335]\n",
       "    </div>\n",
       "    "
      ],
      "text/plain": [
       "<IPython.core.display.HTML object>"
      ]
     },
     "metadata": {},
     "output_type": "display_data"
    },
    {
     "name": "stdout",
     "output_type": "stream",
     "text": [
      "\n",
      "Found MAP in  96.88452196121216\n",
      "slope_mu <class 'pcntoolkit.model.hbr.FixedParameterization'>\n",
      "slope_mu\n",
      "dist='normal'\n",
      "params=(0.0, 3.0)\n",
      "intercept_mu <class 'pcntoolkit.model.hbr.NonCentralRandomFixedParameterization'>\n",
      "mu_intercept_mu\n",
      "dist='normal'\n",
      "params=(0.0, 1.0)\n",
      "sigma_intercept_mu\n",
      "dist='hcauchy'\n",
      "params=(1.0,)\n",
      "offset_intercept_mu\n",
      "dist='normal'\n",
      "params=(0.0, 1.0)\n",
      "mu <class 'pcntoolkit.model.hbr.LinearParameterization'>\n",
      "slope_sigma <class 'pcntoolkit.model.hbr.FixedParameterization'>\n",
      "slope_sigma\n",
      "dist='normal'\n",
      "params=(0.0, 1.0)\n",
      "intercept_sigma <class 'pcntoolkit.model.hbr.FixedParameterization'>\n",
      "intercept_sigma\n",
      "dist='normal'\n",
      "params=(1.0, 1.0)\n",
      "sigma <class 'pcntoolkit.model.hbr.LinearParameterization'>\n",
      "epsilon <class 'pcntoolkit.model.hbr.FixedParameterization'>\n",
      "epsilon\n",
      "dist='normal'\n",
      "params=(0.0, 1.0)\n",
      "delta <class 'pcntoolkit.model.hbr.FixedParameterization'>\n",
      "delta\n",
      "dist='normal'\n",
      "params=(1.5, 2.0)\n"
     ]
    },
    {
     "data": {
      "text/html": [
       "\n",
       "<style>\n",
       "    /* Turns off some styling */\n",
       "    progress {\n",
       "        /* gets rid of default border in Firefox and Opera. */\n",
       "        border: none;\n",
       "        /* Needs to be in here for Safari polyfill so background images work as expected. */\n",
       "        background-size: auto;\n",
       "    }\n",
       "    .progress-bar-interrupted, .progress-bar-interrupted::-webkit-progress-bar {\n",
       "        background: #F44336;\n",
       "    }\n",
       "</style>\n"
      ],
      "text/plain": [
       "<IPython.core.display.HTML object>"
      ]
     },
     "metadata": {},
     "output_type": "display_data"
    },
    {
     "data": {
      "text/html": [
       "\n",
       "    <div>\n",
       "      <progress value='3093' class='' max='3093' style='width:300px; height:20px; vertical-align: middle;'></progress>\n",
       "      100.00% [3093/3093 05:38<00:00 logp = -8,188, ||grad|| = 5.1184]\n",
       "    </div>\n",
       "    "
      ],
      "text/plain": [
       "<IPython.core.display.HTML object>"
      ]
     },
     "metadata": {},
     "output_type": "display_data"
    },
    {
     "name": "stdout",
     "output_type": "stream",
     "text": [
      "\n",
      "Found MAP in  426.28405833244324\n",
      "slope_mu <class 'pcntoolkit.model.hbr.FixedParameterization'>\n",
      "slope_mu\n",
      "dist='normal'\n",
      "params=(0.0, 3.0)\n",
      "intercept_mu <class 'pcntoolkit.model.hbr.NonCentralRandomFixedParameterization'>\n",
      "mu_intercept_mu\n",
      "dist='normal'\n",
      "params=(0.0, 1.0)\n",
      "sigma_intercept_mu\n",
      "dist='hcauchy'\n",
      "params=(1.0,)\n",
      "offset_intercept_mu\n",
      "dist='normal'\n",
      "params=(0.0, 1.0)\n",
      "mu <class 'pcntoolkit.model.hbr.LinearParameterization'>\n",
      "slope_sigma <class 'pcntoolkit.model.hbr.FixedParameterization'>\n",
      "slope_sigma\n",
      "dist='normal'\n",
      "params=(0.0, 1.0)\n",
      "intercept_sigma <class 'pcntoolkit.model.hbr.FixedParameterization'>\n",
      "intercept_sigma\n",
      "dist='normal'\n",
      "params=(1.0, 1.0)\n",
      "sigma <class 'pcntoolkit.model.hbr.LinearParameterization'>\n",
      "slope_epsilon <class 'pcntoolkit.model.hbr.FixedParameterization'>\n",
      "slope_epsilon\n",
      "dist='normal'\n",
      "params=(0.0, 1.0)\n",
      "intercept_epsilon <class 'pcntoolkit.model.hbr.FixedParameterization'>\n",
      "intercept_epsilon\n",
      "dist='normal'\n",
      "params=(0.0, 1)\n",
      "epsilon <class 'pcntoolkit.model.hbr.LinearParameterization'>\n",
      "slope_delta <class 'pcntoolkit.model.hbr.FixedParameterization'>\n",
      "slope_delta\n",
      "dist='normal'\n",
      "params=(0.0, 1)\n",
      "intercept_delta <class 'pcntoolkit.model.hbr.FixedParameterization'>\n",
      "intercept_delta\n",
      "dist='normal'\n",
      "params=(2.0, 1)\n",
      "delta <class 'pcntoolkit.model.hbr.LinearParameterization'>\n"
     ]
    },
    {
     "data": {
      "text/html": [
       "\n",
       "<style>\n",
       "    /* Turns off some styling */\n",
       "    progress {\n",
       "        /* gets rid of default border in Firefox and Opera. */\n",
       "        border: none;\n",
       "        /* Needs to be in here for Safari polyfill so background images work as expected. */\n",
       "        background-size: auto;\n",
       "    }\n",
       "    .progress-bar-interrupted, .progress-bar-interrupted::-webkit-progress-bar {\n",
       "        background: #F44336;\n",
       "    }\n",
       "</style>\n"
      ],
      "text/plain": [
       "<IPython.core.display.HTML object>"
      ]
     },
     "metadata": {},
     "output_type": "display_data"
    },
    {
     "data": {
      "text/html": [
       "\n",
       "    <div>\n",
       "      <progress value='4080' class='' max='4080' style='width:300px; height:20px; vertical-align: middle;'></progress>\n",
       "      100.00% [4080/4080 12:17<00:00 logp = -7,512.2, ||grad|| = 6.5057]\n",
       "    </div>\n",
       "    "
      ],
      "text/plain": [
       "<IPython.core.display.HTML object>"
      ]
     },
     "metadata": {},
     "output_type": "display_data"
    },
    {
     "name": "stdout",
     "output_type": "stream",
     "text": [
      "\n",
      "Found MAP in  892.8034234046936\n",
      "slope_mu <class 'pcntoolkit.model.hbr.FixedParameterization'>\n",
      "slope_mu\n",
      "dist='normal'\n",
      "params=(0.0, 1.0)\n",
      "intercept_mu <class 'pcntoolkit.model.hbr.NonCentralRandomFixedParameterization'>\n",
      "mu_intercept_mu\n",
      "dist='normal'\n",
      "params=(0.0, 1.0)\n",
      "sigma_intercept_mu\n",
      "dist='hcauchy'\n",
      "params=(1.0,)\n",
      "offset_intercept_mu\n",
      "dist='normal'\n",
      "params=(0.0, 1.0)\n",
      "mu <class 'pcntoolkit.model.hbr.LinearParameterization'>\n",
      "slope_sigma <class 'pcntoolkit.model.hbr.FixedParameterization'>\n",
      "slope_sigma\n",
      "dist='normal'\n",
      "params=(0.0, 1.0)\n",
      "intercept_sigma <class 'pcntoolkit.model.hbr.FixedParameterization'>\n",
      "intercept_sigma\n",
      "dist='normal'\n",
      "params=(0.0, 1.0)\n",
      "sigma <class 'pcntoolkit.model.hbr.LinearParameterization'>\n"
     ]
    },
    {
     "data": {
      "text/html": [
       "\n",
       "<style>\n",
       "    /* Turns off some styling */\n",
       "    progress {\n",
       "        /* gets rid of default border in Firefox and Opera. */\n",
       "        border: none;\n",
       "        /* Needs to be in here for Safari polyfill so background images work as expected. */\n",
       "        background-size: auto;\n",
       "    }\n",
       "    .progress-bar-interrupted, .progress-bar-interrupted::-webkit-progress-bar {\n",
       "        background: #F44336;\n",
       "    }\n",
       "</style>\n"
      ],
      "text/plain": [
       "<IPython.core.display.HTML object>"
      ]
     },
     "metadata": {},
     "output_type": "display_data"
    },
    {
     "data": {
      "text/html": [
       "\n",
       "    <div>\n",
       "      <progress value='1314' class='' max='1314' style='width:300px; height:20px; vertical-align: middle;'></progress>\n",
       "      100.00% [1314/1314 01:15<00:00 logp = -46,466, ||grad|| = 5.4998]\n",
       "    </div>\n",
       "    "
      ],
      "text/plain": [
       "<IPython.core.display.HTML object>"
      ]
     },
     "metadata": {},
     "output_type": "display_data"
    },
    {
     "name": "stdout",
     "output_type": "stream",
     "text": [
      "\n",
      "Found MAP in  141.51855301856995\n",
      "slope_mu <class 'pcntoolkit.model.hbr.FixedParameterization'>\n",
      "slope_mu\n",
      "dist='normal'\n",
      "params=(0.0, 3.0)\n",
      "intercept_mu <class 'pcntoolkit.model.hbr.NonCentralRandomFixedParameterization'>\n",
      "mu_intercept_mu\n",
      "dist='normal'\n",
      "params=(0.0, 1.0)\n",
      "sigma_intercept_mu\n",
      "dist='hcauchy'\n",
      "params=(1.0,)\n",
      "offset_intercept_mu\n",
      "dist='normal'\n",
      "params=(0.0, 1.0)\n",
      "mu <class 'pcntoolkit.model.hbr.LinearParameterization'>\n",
      "slope_sigma <class 'pcntoolkit.model.hbr.FixedParameterization'>\n",
      "slope_sigma\n",
      "dist='normal'\n",
      "params=(0.0, 1.0)\n",
      "intercept_sigma <class 'pcntoolkit.model.hbr.FixedParameterization'>\n",
      "intercept_sigma\n",
      "dist='normal'\n",
      "params=(1.0, 1.0)\n",
      "sigma <class 'pcntoolkit.model.hbr.LinearParameterization'>\n",
      "epsilon <class 'pcntoolkit.model.hbr.FixedParameterization'>\n",
      "epsilon\n",
      "dist='normal'\n",
      "params=(0.0, 1.0)\n",
      "delta <class 'pcntoolkit.model.hbr.FixedParameterization'>\n",
      "delta\n",
      "dist='normal'\n",
      "params=(1.5, 2.0)\n"
     ]
    },
    {
     "data": {
      "text/html": [
       "\n",
       "<style>\n",
       "    /* Turns off some styling */\n",
       "    progress {\n",
       "        /* gets rid of default border in Firefox and Opera. */\n",
       "        border: none;\n",
       "        /* Needs to be in here for Safari polyfill so background images work as expected. */\n",
       "        background-size: auto;\n",
       "    }\n",
       "    .progress-bar-interrupted, .progress-bar-interrupted::-webkit-progress-bar {\n",
       "        background: #F44336;\n",
       "    }\n",
       "</style>\n"
      ],
      "text/plain": [
       "<IPython.core.display.HTML object>"
      ]
     },
     "metadata": {},
     "output_type": "display_data"
    },
    {
     "data": {
      "text/html": [
       "\n",
       "    <div>\n",
       "      <progress value='585' class='' max='585' style='width:300px; height:20px; vertical-align: middle;'></progress>\n",
       "      100.00% [585/585 01:03<00:00 logp = -65,153, ||grad|| = 5.2892]\n",
       "    </div>\n",
       "    "
      ],
      "text/plain": [
       "<IPython.core.display.HTML object>"
      ]
     },
     "metadata": {},
     "output_type": "display_data"
    },
    {
     "name": "stdout",
     "output_type": "stream",
     "text": [
      "\n",
      "Found MAP in  156.352525472641\n",
      "slope_mu <class 'pcntoolkit.model.hbr.FixedParameterization'>\n",
      "slope_mu\n",
      "dist='normal'\n",
      "params=(0.0, 3.0)\n",
      "intercept_mu <class 'pcntoolkit.model.hbr.NonCentralRandomFixedParameterization'>\n",
      "mu_intercept_mu\n",
      "dist='normal'\n",
      "params=(0.0, 1.0)\n",
      "sigma_intercept_mu\n",
      "dist='hcauchy'\n",
      "params=(1.0,)\n",
      "offset_intercept_mu\n",
      "dist='normal'\n",
      "params=(0.0, 1.0)\n",
      "mu <class 'pcntoolkit.model.hbr.LinearParameterization'>\n",
      "slope_sigma <class 'pcntoolkit.model.hbr.FixedParameterization'>\n",
      "slope_sigma\n",
      "dist='normal'\n",
      "params=(0.0, 1.0)\n",
      "intercept_sigma <class 'pcntoolkit.model.hbr.FixedParameterization'>\n",
      "intercept_sigma\n",
      "dist='normal'\n",
      "params=(1.0, 1.0)\n",
      "sigma <class 'pcntoolkit.model.hbr.LinearParameterization'>\n",
      "slope_epsilon <class 'pcntoolkit.model.hbr.FixedParameterization'>\n",
      "slope_epsilon\n",
      "dist='normal'\n",
      "params=(0.0, 1.0)\n",
      "intercept_epsilon <class 'pcntoolkit.model.hbr.FixedParameterization'>\n",
      "intercept_epsilon\n",
      "dist='normal'\n",
      "params=(0.0, 1)\n",
      "epsilon <class 'pcntoolkit.model.hbr.LinearParameterization'>\n",
      "slope_delta <class 'pcntoolkit.model.hbr.FixedParameterization'>\n",
      "slope_delta\n",
      "dist='normal'\n",
      "params=(0.0, 1)\n",
      "intercept_delta <class 'pcntoolkit.model.hbr.FixedParameterization'>\n",
      "intercept_delta\n",
      "dist='normal'\n",
      "params=(2.0, 1)\n",
      "delta <class 'pcntoolkit.model.hbr.LinearParameterization'>\n"
     ]
    },
    {
     "data": {
      "text/html": [
       "\n",
       "<style>\n",
       "    /* Turns off some styling */\n",
       "    progress {\n",
       "        /* gets rid of default border in Firefox and Opera. */\n",
       "        border: none;\n",
       "        /* Needs to be in here for Safari polyfill so background images work as expected. */\n",
       "        background-size: auto;\n",
       "    }\n",
       "    .progress-bar-interrupted, .progress-bar-interrupted::-webkit-progress-bar {\n",
       "        background: #F44336;\n",
       "    }\n",
       "</style>\n"
      ],
      "text/plain": [
       "<IPython.core.display.HTML object>"
      ]
     },
     "metadata": {},
     "output_type": "display_data"
    },
    {
     "data": {
      "text/html": [
       "\n",
       "    <div>\n",
       "      <progress value='617' class='' max='617' style='width:300px; height:20px; vertical-align: middle;'></progress>\n",
       "      100.00% [617/617 01:47<00:00 logp = -65,131, ||grad|| = 8.0711]\n",
       "    </div>\n",
       "    "
      ],
      "text/plain": [
       "<IPython.core.display.HTML object>"
      ]
     },
     "metadata": {},
     "output_type": "display_data"
    },
    {
     "name": "stdout",
     "output_type": "stream",
     "text": [
      "\n",
      "Found MAP in  265.7581968307495\n",
      "slope_mu <class 'pcntoolkit.model.hbr.FixedParameterization'>\n",
      "slope_mu\n",
      "dist='normal'\n",
      "params=(0.0, 1.0)\n",
      "intercept_mu <class 'pcntoolkit.model.hbr.NonCentralRandomFixedParameterization'>\n",
      "mu_intercept_mu\n",
      "dist='normal'\n",
      "params=(0.0, 1.0)\n",
      "sigma_intercept_mu\n",
      "dist='hcauchy'\n",
      "params=(1.0,)\n",
      "offset_intercept_mu\n",
      "dist='normal'\n",
      "params=(0.0, 1.0)\n",
      "mu <class 'pcntoolkit.model.hbr.LinearParameterization'>\n",
      "slope_sigma <class 'pcntoolkit.model.hbr.FixedParameterization'>\n",
      "slope_sigma\n",
      "dist='normal'\n",
      "params=(0.0, 1.0)\n",
      "intercept_sigma <class 'pcntoolkit.model.hbr.FixedParameterization'>\n",
      "intercept_sigma\n",
      "dist='normal'\n",
      "params=(0.0, 1.0)\n",
      "sigma <class 'pcntoolkit.model.hbr.LinearParameterization'>\n"
     ]
    },
    {
     "data": {
      "text/html": [
       "\n",
       "<style>\n",
       "    /* Turns off some styling */\n",
       "    progress {\n",
       "        /* gets rid of default border in Firefox and Opera. */\n",
       "        border: none;\n",
       "        /* Needs to be in here for Safari polyfill so background images work as expected. */\n",
       "        background-size: auto;\n",
       "    }\n",
       "    .progress-bar-interrupted, .progress-bar-interrupted::-webkit-progress-bar {\n",
       "        background: #F44336;\n",
       "    }\n",
       "</style>\n"
      ],
      "text/plain": [
       "<IPython.core.display.HTML object>"
      ]
     },
     "metadata": {},
     "output_type": "display_data"
    },
    {
     "data": {
      "text/html": [
       "\n",
       "    <div>\n",
       "      <progress value='547' class='' max='547' style='width:300px; height:20px; vertical-align: middle;'></progress>\n",
       "      100.00% [547/547 00:32<00:00 logp = -65,872, ||grad|| = 5.0028]\n",
       "    </div>\n",
       "    "
      ],
      "text/plain": [
       "<IPython.core.display.HTML object>"
      ]
     },
     "metadata": {},
     "output_type": "display_data"
    },
    {
     "name": "stdout",
     "output_type": "stream",
     "text": [
      "\n",
      "Found MAP in  98.00009632110596\n",
      "slope_mu <class 'pcntoolkit.model.hbr.FixedParameterization'>\n",
      "slope_mu\n",
      "dist='normal'\n",
      "params=(0.0, 3.0)\n",
      "intercept_mu <class 'pcntoolkit.model.hbr.NonCentralRandomFixedParameterization'>\n",
      "mu_intercept_mu\n",
      "dist='normal'\n",
      "params=(0.0, 1.0)\n",
      "sigma_intercept_mu\n",
      "dist='hcauchy'\n",
      "params=(1.0,)\n",
      "offset_intercept_mu\n",
      "dist='normal'\n",
      "params=(0.0, 1.0)\n",
      "mu <class 'pcntoolkit.model.hbr.LinearParameterization'>\n",
      "slope_sigma <class 'pcntoolkit.model.hbr.FixedParameterization'>\n",
      "slope_sigma\n",
      "dist='normal'\n",
      "params=(0.0, 1.0)\n",
      "intercept_sigma <class 'pcntoolkit.model.hbr.FixedParameterization'>\n",
      "intercept_sigma\n",
      "dist='normal'\n",
      "params=(1.0, 1.0)\n",
      "sigma <class 'pcntoolkit.model.hbr.LinearParameterization'>\n",
      "epsilon <class 'pcntoolkit.model.hbr.FixedParameterization'>\n",
      "epsilon\n",
      "dist='normal'\n",
      "params=(0.0, 1.0)\n",
      "delta <class 'pcntoolkit.model.hbr.FixedParameterization'>\n",
      "delta\n",
      "dist='normal'\n",
      "params=(1.5, 2.0)\n"
     ]
    },
    {
     "data": {
      "text/html": [
       "\n",
       "<style>\n",
       "    /* Turns off some styling */\n",
       "    progress {\n",
       "        /* gets rid of default border in Firefox and Opera. */\n",
       "        border: none;\n",
       "        /* Needs to be in here for Safari polyfill so background images work as expected. */\n",
       "        background-size: auto;\n",
       "    }\n",
       "    .progress-bar-interrupted, .progress-bar-interrupted::-webkit-progress-bar {\n",
       "        background: #F44336;\n",
       "    }\n",
       "</style>\n"
      ],
      "text/plain": [
       "<IPython.core.display.HTML object>"
      ]
     },
     "metadata": {},
     "output_type": "display_data"
    },
    {
     "data": {
      "text/html": [
       "\n",
       "    <div>\n",
       "      <progress value='779' class='' max='779' style='width:300px; height:20px; vertical-align: middle;'></progress>\n",
       "      100.00% [779/779 01:22<00:00 logp = -61,250, ||grad|| = 10.339]\n",
       "    </div>\n",
       "    "
      ],
      "text/plain": [
       "<IPython.core.display.HTML object>"
      ]
     },
     "metadata": {},
     "output_type": "display_data"
    },
    {
     "name": "stdout",
     "output_type": "stream",
     "text": [
      "\n",
      "Found MAP in  174.6278374195099\n",
      "slope_mu <class 'pcntoolkit.model.hbr.FixedParameterization'>\n",
      "slope_mu\n",
      "dist='normal'\n",
      "params=(0.0, 3.0)\n",
      "intercept_mu <class 'pcntoolkit.model.hbr.NonCentralRandomFixedParameterization'>\n",
      "mu_intercept_mu\n",
      "dist='normal'\n",
      "params=(0.0, 1.0)\n",
      "sigma_intercept_mu\n",
      "dist='hcauchy'\n",
      "params=(1.0,)\n",
      "offset_intercept_mu\n",
      "dist='normal'\n",
      "params=(0.0, 1.0)\n",
      "mu <class 'pcntoolkit.model.hbr.LinearParameterization'>\n",
      "slope_sigma <class 'pcntoolkit.model.hbr.FixedParameterization'>\n",
      "slope_sigma\n",
      "dist='normal'\n",
      "params=(0.0, 1.0)\n",
      "intercept_sigma <class 'pcntoolkit.model.hbr.FixedParameterization'>\n",
      "intercept_sigma\n",
      "dist='normal'\n",
      "params=(1.0, 1.0)\n",
      "sigma <class 'pcntoolkit.model.hbr.LinearParameterization'>\n",
      "slope_epsilon <class 'pcntoolkit.model.hbr.FixedParameterization'>\n",
      "slope_epsilon\n",
      "dist='normal'\n",
      "params=(0.0, 1.0)\n",
      "intercept_epsilon <class 'pcntoolkit.model.hbr.FixedParameterization'>\n",
      "intercept_epsilon\n",
      "dist='normal'\n",
      "params=(0.0, 1)\n",
      "epsilon <class 'pcntoolkit.model.hbr.LinearParameterization'>\n",
      "slope_delta <class 'pcntoolkit.model.hbr.FixedParameterization'>\n",
      "slope_delta\n",
      "dist='normal'\n",
      "params=(0.0, 1)\n",
      "intercept_delta <class 'pcntoolkit.model.hbr.FixedParameterization'>\n",
      "intercept_delta\n",
      "dist='normal'\n",
      "params=(2.0, 1)\n",
      "delta <class 'pcntoolkit.model.hbr.LinearParameterization'>\n"
     ]
    },
    {
     "data": {
      "text/html": [
       "\n",
       "<style>\n",
       "    /* Turns off some styling */\n",
       "    progress {\n",
       "        /* gets rid of default border in Firefox and Opera. */\n",
       "        border: none;\n",
       "        /* Needs to be in here for Safari polyfill so background images work as expected. */\n",
       "        background-size: auto;\n",
       "    }\n",
       "    .progress-bar-interrupted, .progress-bar-interrupted::-webkit-progress-bar {\n",
       "        background: #F44336;\n",
       "    }\n",
       "</style>\n"
      ],
      "text/plain": [
       "<IPython.core.display.HTML object>"
      ]
     },
     "metadata": {},
     "output_type": "display_data"
    },
    {
     "data": {
      "text/html": [
       "\n",
       "    <div>\n",
       "      <progress value='806' class='' max='806' style='width:300px; height:20px; vertical-align: middle;'></progress>\n",
       "      100.00% [806/806 03:11<00:00 logp = -61,245, ||grad|| = 4.1774]\n",
       "    </div>\n",
       "    "
      ],
      "text/plain": [
       "<IPython.core.display.HTML object>"
      ]
     },
     "metadata": {},
     "output_type": "display_data"
    },
    {
     "name": "stdout",
     "output_type": "stream",
     "text": [
      "\n",
      "Found MAP in  354.6885919570923\n",
      "slope_mu <class 'pcntoolkit.model.hbr.FixedParameterization'>\n",
      "slope_mu\n",
      "dist='normal'\n",
      "params=(0.0, 1.0)\n",
      "intercept_mu <class 'pcntoolkit.model.hbr.NonCentralRandomFixedParameterization'>\n",
      "mu_intercept_mu\n",
      "dist='normal'\n",
      "params=(0.0, 1.0)\n",
      "sigma_intercept_mu\n",
      "dist='hcauchy'\n",
      "params=(1.0,)\n",
      "offset_intercept_mu\n",
      "dist='normal'\n",
      "params=(0.0, 1.0)\n",
      "mu <class 'pcntoolkit.model.hbr.LinearParameterization'>\n",
      "slope_sigma <class 'pcntoolkit.model.hbr.FixedParameterization'>\n",
      "slope_sigma\n",
      "dist='normal'\n",
      "params=(0.0, 1.0)\n",
      "intercept_sigma <class 'pcntoolkit.model.hbr.FixedParameterization'>\n",
      "intercept_sigma\n",
      "dist='normal'\n",
      "params=(0.0, 1.0)\n",
      "sigma <class 'pcntoolkit.model.hbr.LinearParameterization'>\n"
     ]
    },
    {
     "data": {
      "text/html": [
       "\n",
       "<style>\n",
       "    /* Turns off some styling */\n",
       "    progress {\n",
       "        /* gets rid of default border in Firefox and Opera. */\n",
       "        border: none;\n",
       "        /* Needs to be in here for Safari polyfill so background images work as expected. */\n",
       "        background-size: auto;\n",
       "    }\n",
       "    .progress-bar-interrupted, .progress-bar-interrupted::-webkit-progress-bar {\n",
       "        background: #F44336;\n",
       "    }\n",
       "</style>\n"
      ],
      "text/plain": [
       "<IPython.core.display.HTML object>"
      ]
     },
     "metadata": {},
     "output_type": "display_data"
    },
    {
     "data": {
      "text/html": [
       "\n",
       "    <div>\n",
       "      <progress value='806' class='' max='806' style='width:300px; height:20px; vertical-align: middle;'></progress>\n",
       "      100.00% [806/806 01:20<00:00 logp = -61,611, ||grad|| = 3.4335]\n",
       "    </div>\n",
       "    "
      ],
      "text/plain": [
       "<IPython.core.display.HTML object>"
      ]
     },
     "metadata": {},
     "output_type": "display_data"
    },
    {
     "name": "stdout",
     "output_type": "stream",
     "text": [
      "\n",
      "Found MAP in  170.19537091255188\n",
      "slope_mu <class 'pcntoolkit.model.hbr.FixedParameterization'>\n",
      "slope_mu\n",
      "dist='normal'\n",
      "params=(0.0, 3.0)\n",
      "intercept_mu <class 'pcntoolkit.model.hbr.NonCentralRandomFixedParameterization'>\n",
      "mu_intercept_mu\n",
      "dist='normal'\n",
      "params=(0.0, 1.0)\n",
      "sigma_intercept_mu\n",
      "dist='hcauchy'\n",
      "params=(1.0,)\n",
      "offset_intercept_mu\n",
      "dist='normal'\n",
      "params=(0.0, 1.0)\n",
      "mu <class 'pcntoolkit.model.hbr.LinearParameterization'>\n",
      "slope_sigma <class 'pcntoolkit.model.hbr.FixedParameterization'>\n",
      "slope_sigma\n",
      "dist='normal'\n",
      "params=(0.0, 1.0)\n",
      "intercept_sigma <class 'pcntoolkit.model.hbr.FixedParameterization'>\n",
      "intercept_sigma\n",
      "dist='normal'\n",
      "params=(1.0, 1.0)\n",
      "sigma <class 'pcntoolkit.model.hbr.LinearParameterization'>\n",
      "epsilon <class 'pcntoolkit.model.hbr.FixedParameterization'>\n",
      "epsilon\n",
      "dist='normal'\n",
      "params=(0.0, 1.0)\n",
      "delta <class 'pcntoolkit.model.hbr.FixedParameterization'>\n",
      "delta\n",
      "dist='normal'\n",
      "params=(1.5, 2.0)\n"
     ]
    },
    {
     "data": {
      "text/html": [
       "\n",
       "<style>\n",
       "    /* Turns off some styling */\n",
       "    progress {\n",
       "        /* gets rid of default border in Firefox and Opera. */\n",
       "        border: none;\n",
       "        /* Needs to be in here for Safari polyfill so background images work as expected. */\n",
       "        background-size: auto;\n",
       "    }\n",
       "    .progress-bar-interrupted, .progress-bar-interrupted::-webkit-progress-bar {\n",
       "        background: #F44336;\n",
       "    }\n",
       "</style>\n"
      ],
      "text/plain": [
       "<IPython.core.display.HTML object>"
      ]
     },
     "metadata": {},
     "output_type": "display_data"
    },
    {
     "data": {
      "text/html": [
       "\n",
       "    <div>\n",
       "      <progress value='948' class='' max='948' style='width:300px; height:20px; vertical-align: middle;'></progress>\n",
       "      100.00% [948/948 03:52<00:00 logp = -60,696, ||grad|| = 6.2357]\n",
       "    </div>\n",
       "    "
      ],
      "text/plain": [
       "<IPython.core.display.HTML object>"
      ]
     },
     "metadata": {},
     "output_type": "display_data"
    },
    {
     "name": "stdout",
     "output_type": "stream",
     "text": [
      "\n",
      "Found MAP in  377.76618576049805\n",
      "slope_mu <class 'pcntoolkit.model.hbr.FixedParameterization'>\n",
      "slope_mu\n",
      "dist='normal'\n",
      "params=(0.0, 3.0)\n",
      "intercept_mu <class 'pcntoolkit.model.hbr.NonCentralRandomFixedParameterization'>\n",
      "mu_intercept_mu\n",
      "dist='normal'\n",
      "params=(0.0, 1.0)\n",
      "sigma_intercept_mu\n",
      "dist='hcauchy'\n",
      "params=(1.0,)\n",
      "offset_intercept_mu\n",
      "dist='normal'\n",
      "params=(0.0, 1.0)\n",
      "mu <class 'pcntoolkit.model.hbr.LinearParameterization'>\n",
      "slope_sigma <class 'pcntoolkit.model.hbr.FixedParameterization'>\n",
      "slope_sigma\n",
      "dist='normal'\n",
      "params=(0.0, 1.0)\n",
      "intercept_sigma <class 'pcntoolkit.model.hbr.FixedParameterization'>\n",
      "intercept_sigma\n",
      "dist='normal'\n",
      "params=(1.0, 1.0)\n",
      "sigma <class 'pcntoolkit.model.hbr.LinearParameterization'>\n",
      "slope_epsilon <class 'pcntoolkit.model.hbr.FixedParameterization'>\n",
      "slope_epsilon\n",
      "dist='normal'\n",
      "params=(0.0, 1.0)\n",
      "intercept_epsilon <class 'pcntoolkit.model.hbr.FixedParameterization'>\n",
      "intercept_epsilon\n",
      "dist='normal'\n",
      "params=(0.0, 1)\n",
      "epsilon <class 'pcntoolkit.model.hbr.LinearParameterization'>\n",
      "slope_delta <class 'pcntoolkit.model.hbr.FixedParameterization'>\n",
      "slope_delta\n",
      "dist='normal'\n",
      "params=(0.0, 1)\n",
      "intercept_delta <class 'pcntoolkit.model.hbr.FixedParameterization'>\n",
      "intercept_delta\n",
      "dist='normal'\n",
      "params=(2.0, 1)\n",
      "delta <class 'pcntoolkit.model.hbr.LinearParameterization'>\n"
     ]
    },
    {
     "data": {
      "text/html": [
       "\n",
       "<style>\n",
       "    /* Turns off some styling */\n",
       "    progress {\n",
       "        /* gets rid of default border in Firefox and Opera. */\n",
       "        border: none;\n",
       "        /* Needs to be in here for Safari polyfill so background images work as expected. */\n",
       "        background-size: auto;\n",
       "    }\n",
       "    .progress-bar-interrupted, .progress-bar-interrupted::-webkit-progress-bar {\n",
       "        background: #F44336;\n",
       "    }\n",
       "</style>\n"
      ],
      "text/plain": [
       "<IPython.core.display.HTML object>"
      ]
     },
     "metadata": {},
     "output_type": "display_data"
    },
    {
     "data": {
      "text/html": [
       "\n",
       "    <div>\n",
       "      <progress value='1027' class='' max='1027' style='width:300px; height:20px; vertical-align: middle;'></progress>\n",
       "      100.00% [1027/1027 05:11<00:00 logp = -60,651, ||grad|| = 5.2861]\n",
       "    </div>\n",
       "    "
      ],
      "text/plain": [
       "<IPython.core.display.HTML object>"
      ]
     },
     "metadata": {},
     "output_type": "display_data"
    },
    {
     "name": "stdout",
     "output_type": "stream",
     "text": [
      "\n",
      "Found MAP in  536.4505157470703\n",
      "slope_mu <class 'pcntoolkit.model.hbr.FixedParameterization'>\n",
      "slope_mu\n",
      "dist='normal'\n",
      "params=(0.0, 1.0)\n",
      "intercept_mu <class 'pcntoolkit.model.hbr.NonCentralRandomFixedParameterization'>\n",
      "mu_intercept_mu\n",
      "dist='normal'\n",
      "params=(0.0, 1.0)\n",
      "sigma_intercept_mu\n",
      "dist='hcauchy'\n",
      "params=(1.0,)\n",
      "offset_intercept_mu\n",
      "dist='normal'\n",
      "params=(0.0, 1.0)\n",
      "mu <class 'pcntoolkit.model.hbr.LinearParameterization'>\n",
      "slope_sigma <class 'pcntoolkit.model.hbr.FixedParameterization'>\n",
      "slope_sigma\n",
      "dist='normal'\n",
      "params=(0.0, 1.0)\n",
      "intercept_sigma <class 'pcntoolkit.model.hbr.FixedParameterization'>\n",
      "intercept_sigma\n",
      "dist='normal'\n",
      "params=(0.0, 1.0)\n",
      "sigma <class 'pcntoolkit.model.hbr.LinearParameterization'>\n"
     ]
    },
    {
     "data": {
      "text/html": [
       "\n",
       "<style>\n",
       "    /* Turns off some styling */\n",
       "    progress {\n",
       "        /* gets rid of default border in Firefox and Opera. */\n",
       "        border: none;\n",
       "        /* Needs to be in here for Safari polyfill so background images work as expected. */\n",
       "        background-size: auto;\n",
       "    }\n",
       "    .progress-bar-interrupted, .progress-bar-interrupted::-webkit-progress-bar {\n",
       "        background: #F44336;\n",
       "    }\n",
       "</style>\n"
      ],
      "text/plain": [
       "<IPython.core.display.HTML object>"
      ]
     },
     "metadata": {},
     "output_type": "display_data"
    },
    {
     "data": {
      "text/html": [
       "\n",
       "    <div>\n",
       "      <progress value='667' class='' max='667' style='width:300px; height:20px; vertical-align: middle;'></progress>\n",
       "      100.00% [667/667 00:58<00:00 logp = -64,583, ||grad|| = 4.5777]\n",
       "    </div>\n",
       "    "
      ],
      "text/plain": [
       "<IPython.core.display.HTML object>"
      ]
     },
     "metadata": {},
     "output_type": "display_data"
    },
    {
     "name": "stdout",
     "output_type": "stream",
     "text": [
      "\n",
      "Found MAP in  143.69703483581543\n",
      "slope_mu <class 'pcntoolkit.model.hbr.FixedParameterization'>\n",
      "slope_mu\n",
      "dist='normal'\n",
      "params=(0.0, 3.0)\n",
      "intercept_mu <class 'pcntoolkit.model.hbr.NonCentralRandomFixedParameterization'>\n",
      "mu_intercept_mu\n",
      "dist='normal'\n",
      "params=(0.0, 1.0)\n",
      "sigma_intercept_mu\n",
      "dist='hcauchy'\n",
      "params=(1.0,)\n",
      "offset_intercept_mu\n",
      "dist='normal'\n",
      "params=(0.0, 1.0)\n",
      "mu <class 'pcntoolkit.model.hbr.LinearParameterization'>\n",
      "slope_sigma <class 'pcntoolkit.model.hbr.FixedParameterization'>\n",
      "slope_sigma\n",
      "dist='normal'\n",
      "params=(0.0, 1.0)\n",
      "intercept_sigma <class 'pcntoolkit.model.hbr.FixedParameterization'>\n",
      "intercept_sigma\n",
      "dist='normal'\n",
      "params=(1.0, 1.0)\n",
      "sigma <class 'pcntoolkit.model.hbr.LinearParameterization'>\n",
      "epsilon <class 'pcntoolkit.model.hbr.FixedParameterization'>\n",
      "epsilon\n",
      "dist='normal'\n",
      "params=(0.0, 1.0)\n",
      "delta <class 'pcntoolkit.model.hbr.FixedParameterization'>\n",
      "delta\n",
      "dist='normal'\n",
      "params=(1.5, 2.0)\n"
     ]
    },
    {
     "data": {
      "text/html": [
       "\n",
       "<style>\n",
       "    /* Turns off some styling */\n",
       "    progress {\n",
       "        /* gets rid of default border in Firefox and Opera. */\n",
       "        border: none;\n",
       "        /* Needs to be in here for Safari polyfill so background images work as expected. */\n",
       "        background-size: auto;\n",
       "    }\n",
       "    .progress-bar-interrupted, .progress-bar-interrupted::-webkit-progress-bar {\n",
       "        background: #F44336;\n",
       "    }\n",
       "</style>\n"
      ],
      "text/plain": [
       "<IPython.core.display.HTML object>"
      ]
     },
     "metadata": {},
     "output_type": "display_data"
    },
    {
     "data": {
      "text/html": [
       "\n",
       "    <div>\n",
       "      <progress value='660' class='' max='660' style='width:300px; height:20px; vertical-align: middle;'></progress>\n",
       "      100.00% [660/660 01:59<00:00 logp = -62,992, ||grad|| = 4.3232]\n",
       "    </div>\n",
       "    "
      ],
      "text/plain": [
       "<IPython.core.display.HTML object>"
      ]
     },
     "metadata": {},
     "output_type": "display_data"
    },
    {
     "name": "stdout",
     "output_type": "stream",
     "text": [
      "\n",
      "Found MAP in  240.74340057373047\n",
      "slope_mu <class 'pcntoolkit.model.hbr.FixedParameterization'>\n",
      "slope_mu\n",
      "dist='normal'\n",
      "params=(0.0, 3.0)\n",
      "intercept_mu <class 'pcntoolkit.model.hbr.NonCentralRandomFixedParameterization'>\n",
      "mu_intercept_mu\n",
      "dist='normal'\n",
      "params=(0.0, 1.0)\n",
      "sigma_intercept_mu\n",
      "dist='hcauchy'\n",
      "params=(1.0,)\n",
      "offset_intercept_mu\n",
      "dist='normal'\n",
      "params=(0.0, 1.0)\n",
      "mu <class 'pcntoolkit.model.hbr.LinearParameterization'>\n",
      "slope_sigma <class 'pcntoolkit.model.hbr.FixedParameterization'>\n",
      "slope_sigma\n",
      "dist='normal'\n",
      "params=(0.0, 1.0)\n",
      "intercept_sigma <class 'pcntoolkit.model.hbr.FixedParameterization'>\n",
      "intercept_sigma\n",
      "dist='normal'\n",
      "params=(1.0, 1.0)\n",
      "sigma <class 'pcntoolkit.model.hbr.LinearParameterization'>\n",
      "slope_epsilon <class 'pcntoolkit.model.hbr.FixedParameterization'>\n",
      "slope_epsilon\n",
      "dist='normal'\n",
      "params=(0.0, 1.0)\n",
      "intercept_epsilon <class 'pcntoolkit.model.hbr.FixedParameterization'>\n",
      "intercept_epsilon\n",
      "dist='normal'\n",
      "params=(0.0, 1)\n",
      "epsilon <class 'pcntoolkit.model.hbr.LinearParameterization'>\n",
      "slope_delta <class 'pcntoolkit.model.hbr.FixedParameterization'>\n",
      "slope_delta\n",
      "dist='normal'\n",
      "params=(0.0, 1)\n",
      "intercept_delta <class 'pcntoolkit.model.hbr.FixedParameterization'>\n",
      "intercept_delta\n",
      "dist='normal'\n",
      "params=(2.0, 1)\n",
      "delta <class 'pcntoolkit.model.hbr.LinearParameterization'>\n"
     ]
    },
    {
     "data": {
      "text/html": [
       "\n",
       "<style>\n",
       "    /* Turns off some styling */\n",
       "    progress {\n",
       "        /* gets rid of default border in Firefox and Opera. */\n",
       "        border: none;\n",
       "        /* Needs to be in here for Safari polyfill so background images work as expected. */\n",
       "        background-size: auto;\n",
       "    }\n",
       "    .progress-bar-interrupted, .progress-bar-interrupted::-webkit-progress-bar {\n",
       "        background: #F44336;\n",
       "    }\n",
       "</style>\n"
      ],
      "text/plain": [
       "<IPython.core.display.HTML object>"
      ]
     },
     "metadata": {},
     "output_type": "display_data"
    },
    {
     "data": {
      "text/html": [
       "\n",
       "    <div>\n",
       "      <progress value='604' class='' max='604' style='width:300px; height:20px; vertical-align: middle;'></progress>\n",
       "      100.00% [604/604 02:47<00:00 logp = -62,840, ||grad|| = 4.0893]\n",
       "    </div>\n",
       "    "
      ],
      "text/plain": [
       "<IPython.core.display.HTML object>"
      ]
     },
     "metadata": {},
     "output_type": "display_data"
    },
    {
     "name": "stdout",
     "output_type": "stream",
     "text": [
      "\n",
      "Found MAP in  369.23314595222473\n",
      "slope_mu <class 'pcntoolkit.model.hbr.FixedParameterization'>\n",
      "slope_mu\n",
      "dist='normal'\n",
      "params=(0.0, 1.0)\n",
      "intercept_mu <class 'pcntoolkit.model.hbr.NonCentralRandomFixedParameterization'>\n",
      "mu_intercept_mu\n",
      "dist='normal'\n",
      "params=(0.0, 1.0)\n",
      "sigma_intercept_mu\n",
      "dist='hcauchy'\n",
      "params=(1.0,)\n",
      "offset_intercept_mu\n",
      "dist='normal'\n",
      "params=(0.0, 1.0)\n",
      "mu <class 'pcntoolkit.model.hbr.LinearParameterization'>\n",
      "slope_sigma <class 'pcntoolkit.model.hbr.FixedParameterization'>\n",
      "slope_sigma\n",
      "dist='normal'\n",
      "params=(0.0, 1.0)\n",
      "intercept_sigma <class 'pcntoolkit.model.hbr.FixedParameterization'>\n",
      "intercept_sigma\n",
      "dist='normal'\n",
      "params=(0.0, 1.0)\n",
      "sigma <class 'pcntoolkit.model.hbr.LinearParameterization'>\n"
     ]
    },
    {
     "data": {
      "text/html": [
       "\n",
       "<style>\n",
       "    /* Turns off some styling */\n",
       "    progress {\n",
       "        /* gets rid of default border in Firefox and Opera. */\n",
       "        border: none;\n",
       "        /* Needs to be in here for Safari polyfill so background images work as expected. */\n",
       "        background-size: auto;\n",
       "    }\n",
       "    .progress-bar-interrupted, .progress-bar-interrupted::-webkit-progress-bar {\n",
       "        background: #F44336;\n",
       "    }\n",
       "</style>\n"
      ],
      "text/plain": [
       "<IPython.core.display.HTML object>"
      ]
     },
     "metadata": {},
     "output_type": "display_data"
    },
    {
     "data": {
      "text/html": [
       "\n",
       "    <div>\n",
       "      <progress value='494' class='' max='494' style='width:300px; height:20px; vertical-align: middle;'></progress>\n",
       "      100.00% [494/494 00:42<00:00 logp = -63,279, ||grad|| = 3.491]\n",
       "    </div>\n",
       "    "
      ],
      "text/plain": [
       "<IPython.core.display.HTML object>"
      ]
     },
     "metadata": {},
     "output_type": "display_data"
    },
    {
     "name": "stdout",
     "output_type": "stream",
     "text": [
      "\n",
      "Found MAP in  120.79384016990662\n",
      "slope_mu <class 'pcntoolkit.model.hbr.FixedParameterization'>\n",
      "slope_mu\n",
      "dist='normal'\n",
      "params=(0.0, 3.0)\n",
      "intercept_mu <class 'pcntoolkit.model.hbr.NonCentralRandomFixedParameterization'>\n",
      "mu_intercept_mu\n",
      "dist='normal'\n",
      "params=(0.0, 1.0)\n",
      "sigma_intercept_mu\n",
      "dist='hcauchy'\n",
      "params=(1.0,)\n",
      "offset_intercept_mu\n",
      "dist='normal'\n",
      "params=(0.0, 1.0)\n",
      "mu <class 'pcntoolkit.model.hbr.LinearParameterization'>\n",
      "slope_sigma <class 'pcntoolkit.model.hbr.FixedParameterization'>\n",
      "slope_sigma\n",
      "dist='normal'\n",
      "params=(0.0, 1.0)\n",
      "intercept_sigma <class 'pcntoolkit.model.hbr.FixedParameterization'>\n",
      "intercept_sigma\n",
      "dist='normal'\n",
      "params=(1.0, 1.0)\n",
      "sigma <class 'pcntoolkit.model.hbr.LinearParameterization'>\n",
      "epsilon <class 'pcntoolkit.model.hbr.FixedParameterization'>\n",
      "epsilon\n",
      "dist='normal'\n",
      "params=(0.0, 1.0)\n",
      "delta <class 'pcntoolkit.model.hbr.FixedParameterization'>\n",
      "delta\n",
      "dist='normal'\n",
      "params=(1.5, 2.0)\n"
     ]
    },
    {
     "data": {
      "text/html": [
       "\n",
       "<style>\n",
       "    /* Turns off some styling */\n",
       "    progress {\n",
       "        /* gets rid of default border in Firefox and Opera. */\n",
       "        border: none;\n",
       "        /* Needs to be in here for Safari polyfill so background images work as expected. */\n",
       "        background-size: auto;\n",
       "    }\n",
       "    .progress-bar-interrupted, .progress-bar-interrupted::-webkit-progress-bar {\n",
       "        background: #F44336;\n",
       "    }\n",
       "</style>\n"
      ],
      "text/plain": [
       "<IPython.core.display.HTML object>"
      ]
     },
     "metadata": {},
     "output_type": "display_data"
    },
    {
     "data": {
      "text/html": [
       "\n",
       "    <div>\n",
       "      <progress value='1590' class='' max='1590' style='width:300px; height:20px; vertical-align: middle;'></progress>\n",
       "      100.00% [1590/1590 02:42<00:00 logp = -42,047, ||grad|| = 29.979]\n",
       "    </div>\n",
       "    "
      ],
      "text/plain": [
       "<IPython.core.display.HTML object>"
      ]
     },
     "metadata": {},
     "output_type": "display_data"
    },
    {
     "name": "stdout",
     "output_type": "stream",
     "text": [
      "\n",
      "Found MAP in  277.7212061882019\n",
      "slope_mu <class 'pcntoolkit.model.hbr.FixedParameterization'>\n",
      "slope_mu\n",
      "dist='normal'\n",
      "params=(0.0, 3.0)\n",
      "intercept_mu <class 'pcntoolkit.model.hbr.NonCentralRandomFixedParameterization'>\n",
      "mu_intercept_mu\n",
      "dist='normal'\n",
      "params=(0.0, 1.0)\n",
      "sigma_intercept_mu\n",
      "dist='hcauchy'\n",
      "params=(1.0,)\n",
      "offset_intercept_mu\n",
      "dist='normal'\n",
      "params=(0.0, 1.0)\n",
      "mu <class 'pcntoolkit.model.hbr.LinearParameterization'>\n",
      "slope_sigma <class 'pcntoolkit.model.hbr.FixedParameterization'>\n",
      "slope_sigma\n",
      "dist='normal'\n",
      "params=(0.0, 1.0)\n",
      "intercept_sigma <class 'pcntoolkit.model.hbr.FixedParameterization'>\n",
      "intercept_sigma\n",
      "dist='normal'\n",
      "params=(1.0, 1.0)\n",
      "sigma <class 'pcntoolkit.model.hbr.LinearParameterization'>\n",
      "slope_epsilon <class 'pcntoolkit.model.hbr.FixedParameterization'>\n",
      "slope_epsilon\n",
      "dist='normal'\n",
      "params=(0.0, 1.0)\n",
      "intercept_epsilon <class 'pcntoolkit.model.hbr.FixedParameterization'>\n",
      "intercept_epsilon\n",
      "dist='normal'\n",
      "params=(0.0, 1)\n",
      "epsilon <class 'pcntoolkit.model.hbr.LinearParameterization'>\n",
      "slope_delta <class 'pcntoolkit.model.hbr.FixedParameterization'>\n",
      "slope_delta\n",
      "dist='normal'\n",
      "params=(0.0, 1)\n",
      "intercept_delta <class 'pcntoolkit.model.hbr.FixedParameterization'>\n",
      "intercept_delta\n",
      "dist='normal'\n",
      "params=(2.0, 1)\n",
      "delta <class 'pcntoolkit.model.hbr.LinearParameterization'>\n"
     ]
    },
    {
     "data": {
      "text/html": [
       "\n",
       "<style>\n",
       "    /* Turns off some styling */\n",
       "    progress {\n",
       "        /* gets rid of default border in Firefox and Opera. */\n",
       "        border: none;\n",
       "        /* Needs to be in here for Safari polyfill so background images work as expected. */\n",
       "        background-size: auto;\n",
       "    }\n",
       "    .progress-bar-interrupted, .progress-bar-interrupted::-webkit-progress-bar {\n",
       "        background: #F44336;\n",
       "    }\n",
       "</style>\n"
      ],
      "text/plain": [
       "<IPython.core.display.HTML object>"
      ]
     },
     "metadata": {},
     "output_type": "display_data"
    },
    {
     "data": {
      "text/html": [
       "\n",
       "    <div>\n",
       "      <progress value='1857' class='' max='1857' style='width:300px; height:20px; vertical-align: middle;'></progress>\n",
       "      100.00% [1857/1857 05:16<00:00 logp = -41,737, ||grad|| = 10.999]\n",
       "    </div>\n",
       "    "
      ],
      "text/plain": [
       "<IPython.core.display.HTML object>"
      ]
     },
     "metadata": {},
     "output_type": "display_data"
    },
    {
     "name": "stdout",
     "output_type": "stream",
     "text": [
      "\n",
      "Found MAP in  473.75581455230713\n",
      "slope_mu <class 'pcntoolkit.model.hbr.FixedParameterization'>\n",
      "slope_mu\n",
      "dist='normal'\n",
      "params=(0.0, 1.0)\n",
      "intercept_mu <class 'pcntoolkit.model.hbr.NonCentralRandomFixedParameterization'>\n",
      "mu_intercept_mu\n",
      "dist='normal'\n",
      "params=(0.0, 1.0)\n",
      "sigma_intercept_mu\n",
      "dist='hcauchy'\n",
      "params=(1.0,)\n",
      "offset_intercept_mu\n",
      "dist='normal'\n",
      "params=(0.0, 1.0)\n",
      "mu <class 'pcntoolkit.model.hbr.LinearParameterization'>\n",
      "slope_sigma <class 'pcntoolkit.model.hbr.FixedParameterization'>\n",
      "slope_sigma\n",
      "dist='normal'\n",
      "params=(0.0, 1.0)\n",
      "intercept_sigma <class 'pcntoolkit.model.hbr.FixedParameterization'>\n",
      "intercept_sigma\n",
      "dist='normal'\n",
      "params=(0.0, 1.0)\n",
      "sigma <class 'pcntoolkit.model.hbr.LinearParameterization'>\n"
     ]
    },
    {
     "data": {
      "text/html": [
       "\n",
       "<style>\n",
       "    /* Turns off some styling */\n",
       "    progress {\n",
       "        /* gets rid of default border in Firefox and Opera. */\n",
       "        border: none;\n",
       "        /* Needs to be in here for Safari polyfill so background images work as expected. */\n",
       "        background-size: auto;\n",
       "    }\n",
       "    .progress-bar-interrupted, .progress-bar-interrupted::-webkit-progress-bar {\n",
       "        background: #F44336;\n",
       "    }\n",
       "</style>\n"
      ],
      "text/plain": [
       "<IPython.core.display.HTML object>"
      ]
     },
     "metadata": {},
     "output_type": "display_data"
    },
    {
     "data": {
      "text/html": [
       "\n",
       "    <div>\n",
       "      <progress value='617' class='' max='617' style='width:300px; height:20px; vertical-align: middle;'></progress>\n",
       "      100.00% [617/617 00:28<00:00 logp = -53,656, ||grad|| = 4.4684]\n",
       "    </div>\n",
       "    "
      ],
      "text/plain": [
       "<IPython.core.display.HTML object>"
      ]
     },
     "metadata": {},
     "output_type": "display_data"
    },
    {
     "name": "stdout",
     "output_type": "stream",
     "text": [
      "\n",
      "Found MAP in  93.6195456981659\n",
      "slope_mu <class 'pcntoolkit.model.hbr.FixedParameterization'>\n",
      "slope_mu\n",
      "dist='normal'\n",
      "params=(0.0, 3.0)\n",
      "intercept_mu <class 'pcntoolkit.model.hbr.NonCentralRandomFixedParameterization'>\n",
      "mu_intercept_mu\n",
      "dist='normal'\n",
      "params=(0.0, 1.0)\n",
      "sigma_intercept_mu\n",
      "dist='hcauchy'\n",
      "params=(1.0,)\n",
      "offset_intercept_mu\n",
      "dist='normal'\n",
      "params=(0.0, 1.0)\n",
      "mu <class 'pcntoolkit.model.hbr.LinearParameterization'>\n",
      "slope_sigma <class 'pcntoolkit.model.hbr.FixedParameterization'>\n",
      "slope_sigma\n",
      "dist='normal'\n",
      "params=(0.0, 1.0)\n",
      "intercept_sigma <class 'pcntoolkit.model.hbr.FixedParameterization'>\n",
      "intercept_sigma\n",
      "dist='normal'\n",
      "params=(1.0, 1.0)\n",
      "sigma <class 'pcntoolkit.model.hbr.LinearParameterization'>\n",
      "epsilon <class 'pcntoolkit.model.hbr.FixedParameterization'>\n",
      "epsilon\n",
      "dist='normal'\n",
      "params=(0.0, 1.0)\n",
      "delta <class 'pcntoolkit.model.hbr.FixedParameterization'>\n",
      "delta\n",
      "dist='normal'\n",
      "params=(1.5, 2.0)\n"
     ]
    },
    {
     "data": {
      "text/html": [
       "\n",
       "<style>\n",
       "    /* Turns off some styling */\n",
       "    progress {\n",
       "        /* gets rid of default border in Firefox and Opera. */\n",
       "        border: none;\n",
       "        /* Needs to be in here for Safari polyfill so background images work as expected. */\n",
       "        background-size: auto;\n",
       "    }\n",
       "    .progress-bar-interrupted, .progress-bar-interrupted::-webkit-progress-bar {\n",
       "        background: #F44336;\n",
       "    }\n",
       "</style>\n"
      ],
      "text/plain": [
       "<IPython.core.display.HTML object>"
      ]
     },
     "metadata": {},
     "output_type": "display_data"
    },
    {
     "data": {
      "text/html": [
       "\n",
       "    <div>\n",
       "      <progress value='2433' class='' max='2433' style='width:300px; height:20px; vertical-align: middle;'></progress>\n",
       "      100.00% [2433/2433 04:14<00:00 logp = -8,844.4, ||grad|| = 7.8976]\n",
       "    </div>\n",
       "    "
      ],
      "text/plain": [
       "<IPython.core.display.HTML object>"
      ]
     },
     "metadata": {},
     "output_type": "display_data"
    },
    {
     "name": "stdout",
     "output_type": "stream",
     "text": [
      "\n",
      "Found MAP in  345.7749836444855\n",
      "slope_mu <class 'pcntoolkit.model.hbr.FixedParameterization'>\n",
      "slope_mu\n",
      "dist='normal'\n",
      "params=(0.0, 3.0)\n",
      "intercept_mu <class 'pcntoolkit.model.hbr.NonCentralRandomFixedParameterization'>\n",
      "mu_intercept_mu\n",
      "dist='normal'\n",
      "params=(0.0, 1.0)\n",
      "sigma_intercept_mu\n",
      "dist='hcauchy'\n",
      "params=(1.0,)\n",
      "offset_intercept_mu\n",
      "dist='normal'\n",
      "params=(0.0, 1.0)\n",
      "mu <class 'pcntoolkit.model.hbr.LinearParameterization'>\n",
      "slope_sigma <class 'pcntoolkit.model.hbr.FixedParameterization'>\n",
      "slope_sigma\n",
      "dist='normal'\n",
      "params=(0.0, 1.0)\n",
      "intercept_sigma <class 'pcntoolkit.model.hbr.FixedParameterization'>\n",
      "intercept_sigma\n",
      "dist='normal'\n",
      "params=(1.0, 1.0)\n",
      "sigma <class 'pcntoolkit.model.hbr.LinearParameterization'>\n",
      "slope_epsilon <class 'pcntoolkit.model.hbr.FixedParameterization'>\n",
      "slope_epsilon\n",
      "dist='normal'\n",
      "params=(0.0, 1.0)\n",
      "intercept_epsilon <class 'pcntoolkit.model.hbr.FixedParameterization'>\n",
      "intercept_epsilon\n",
      "dist='normal'\n",
      "params=(0.0, 1)\n",
      "epsilon <class 'pcntoolkit.model.hbr.LinearParameterization'>\n",
      "slope_delta <class 'pcntoolkit.model.hbr.FixedParameterization'>\n",
      "slope_delta\n",
      "dist='normal'\n",
      "params=(0.0, 1)\n",
      "intercept_delta <class 'pcntoolkit.model.hbr.FixedParameterization'>\n",
      "intercept_delta\n",
      "dist='normal'\n",
      "params=(2.0, 1)\n",
      "delta <class 'pcntoolkit.model.hbr.LinearParameterization'>\n"
     ]
    },
    {
     "data": {
      "text/html": [
       "\n",
       "<style>\n",
       "    /* Turns off some styling */\n",
       "    progress {\n",
       "        /* gets rid of default border in Firefox and Opera. */\n",
       "        border: none;\n",
       "        /* Needs to be in here for Safari polyfill so background images work as expected. */\n",
       "        background-size: auto;\n",
       "    }\n",
       "    .progress-bar-interrupted, .progress-bar-interrupted::-webkit-progress-bar {\n",
       "        background: #F44336;\n",
       "    }\n",
       "</style>\n"
      ],
      "text/plain": [
       "<IPython.core.display.HTML object>"
      ]
     },
     "metadata": {},
     "output_type": "display_data"
    },
    {
     "data": {
      "text/html": [
       "\n",
       "    <div>\n",
       "      <progress value='3609' class='' max='3609' style='width:300px; height:20px; vertical-align: middle;'></progress>\n",
       "      100.00% [3609/3609 13:22<00:00 logp = -8,220.7, ||grad|| = 7.0838]\n",
       "    </div>\n",
       "    "
      ],
      "text/plain": [
       "<IPython.core.display.HTML object>"
      ]
     },
     "metadata": {},
     "output_type": "display_data"
    },
    {
     "name": "stdout",
     "output_type": "stream",
     "text": [
      "\n",
      "Found MAP in  963.7070167064667\n",
      "slope_mu <class 'pcntoolkit.model.hbr.FixedParameterization'>\n",
      "slope_mu\n",
      "dist='normal'\n",
      "params=(0.0, 1.0)\n",
      "intercept_mu <class 'pcntoolkit.model.hbr.NonCentralRandomFixedParameterization'>\n",
      "mu_intercept_mu\n",
      "dist='normal'\n",
      "params=(0.0, 1.0)\n",
      "sigma_intercept_mu\n",
      "dist='hcauchy'\n",
      "params=(1.0,)\n",
      "offset_intercept_mu\n",
      "dist='normal'\n",
      "params=(0.0, 1.0)\n",
      "mu <class 'pcntoolkit.model.hbr.LinearParameterization'>\n",
      "slope_sigma <class 'pcntoolkit.model.hbr.FixedParameterization'>\n",
      "slope_sigma\n",
      "dist='normal'\n",
      "params=(0.0, 1.0)\n",
      "intercept_sigma <class 'pcntoolkit.model.hbr.FixedParameterization'>\n",
      "intercept_sigma\n",
      "dist='normal'\n",
      "params=(0.0, 1.0)\n",
      "sigma <class 'pcntoolkit.model.hbr.LinearParameterization'>\n"
     ]
    },
    {
     "data": {
      "text/html": [
       "\n",
       "<style>\n",
       "    /* Turns off some styling */\n",
       "    progress {\n",
       "        /* gets rid of default border in Firefox and Opera. */\n",
       "        border: none;\n",
       "        /* Needs to be in here for Safari polyfill so background images work as expected. */\n",
       "        background-size: auto;\n",
       "    }\n",
       "    .progress-bar-interrupted, .progress-bar-interrupted::-webkit-progress-bar {\n",
       "        background: #F44336;\n",
       "    }\n",
       "</style>\n"
      ],
      "text/plain": [
       "<IPython.core.display.HTML object>"
      ]
     },
     "metadata": {},
     "output_type": "display_data"
    },
    {
     "data": {
      "text/html": [
       "\n",
       "    <div>\n",
       "      <progress value='1069' class='' max='1069' style='width:300px; height:20px; vertical-align: middle;'></progress>\n",
       "      100.00% [1069/1069 00:51<00:00 logp = -47,030, ||grad|| = 5.169]\n",
       "    </div>\n",
       "    "
      ],
      "text/plain": [
       "<IPython.core.display.HTML object>"
      ]
     },
     "metadata": {},
     "output_type": "display_data"
    },
    {
     "name": "stdout",
     "output_type": "stream",
     "text": [
      "\n",
      "Found MAP in  117.1823399066925\n",
      "slope_mu <class 'pcntoolkit.model.hbr.FixedParameterization'>\n",
      "slope_mu\n",
      "dist='normal'\n",
      "params=(0.0, 3.0)\n",
      "intercept_mu <class 'pcntoolkit.model.hbr.NonCentralRandomFixedParameterization'>\n",
      "mu_intercept_mu\n",
      "dist='normal'\n",
      "params=(0.0, 1.0)\n",
      "sigma_intercept_mu\n",
      "dist='hcauchy'\n",
      "params=(1.0,)\n",
      "offset_intercept_mu\n",
      "dist='normal'\n",
      "params=(0.0, 1.0)\n",
      "mu <class 'pcntoolkit.model.hbr.LinearParameterization'>\n",
      "slope_sigma <class 'pcntoolkit.model.hbr.FixedParameterization'>\n",
      "slope_sigma\n",
      "dist='normal'\n",
      "params=(0.0, 1.0)\n",
      "intercept_sigma <class 'pcntoolkit.model.hbr.FixedParameterization'>\n",
      "intercept_sigma\n",
      "dist='normal'\n",
      "params=(1.0, 1.0)\n",
      "sigma <class 'pcntoolkit.model.hbr.LinearParameterization'>\n",
      "epsilon <class 'pcntoolkit.model.hbr.FixedParameterization'>\n",
      "epsilon\n",
      "dist='normal'\n",
      "params=(0.0, 1.0)\n",
      "delta <class 'pcntoolkit.model.hbr.FixedParameterization'>\n",
      "delta\n",
      "dist='normal'\n",
      "params=(1.5, 2.0)\n"
     ]
    },
    {
     "data": {
      "text/html": [
       "\n",
       "<style>\n",
       "    /* Turns off some styling */\n",
       "    progress {\n",
       "        /* gets rid of default border in Firefox and Opera. */\n",
       "        border: none;\n",
       "        /* Needs to be in here for Safari polyfill so background images work as expected. */\n",
       "        background-size: auto;\n",
       "    }\n",
       "    .progress-bar-interrupted, .progress-bar-interrupted::-webkit-progress-bar {\n",
       "        background: #F44336;\n",
       "    }\n",
       "</style>\n"
      ],
      "text/plain": [
       "<IPython.core.display.HTML object>"
      ]
     },
     "metadata": {},
     "output_type": "display_data"
    },
    {
     "data": {
      "text/html": [
       "\n",
       "    <div>\n",
       "      <progress value='571' class='' max='571' style='width:300px; height:20px; vertical-align: middle;'></progress>\n",
       "      100.00% [571/571 00:58<00:00 logp = -65,191, ||grad|| = 24.668]\n",
       "    </div>\n",
       "    "
      ],
      "text/plain": [
       "<IPython.core.display.HTML object>"
      ]
     },
     "metadata": {},
     "output_type": "display_data"
    },
    {
     "name": "stdout",
     "output_type": "stream",
     "text": [
      "\n",
      "Found MAP in  146.65364599227905\n",
      "slope_mu <class 'pcntoolkit.model.hbr.FixedParameterization'>\n",
      "slope_mu\n",
      "dist='normal'\n",
      "params=(0.0, 3.0)\n",
      "intercept_mu <class 'pcntoolkit.model.hbr.NonCentralRandomFixedParameterization'>\n",
      "mu_intercept_mu\n",
      "dist='normal'\n",
      "params=(0.0, 1.0)\n",
      "sigma_intercept_mu\n",
      "dist='hcauchy'\n",
      "params=(1.0,)\n",
      "offset_intercept_mu\n",
      "dist='normal'\n",
      "params=(0.0, 1.0)\n",
      "mu <class 'pcntoolkit.model.hbr.LinearParameterization'>\n",
      "slope_sigma <class 'pcntoolkit.model.hbr.FixedParameterization'>\n",
      "slope_sigma\n",
      "dist='normal'\n",
      "params=(0.0, 1.0)\n",
      "intercept_sigma <class 'pcntoolkit.model.hbr.FixedParameterization'>\n",
      "intercept_sigma\n",
      "dist='normal'\n",
      "params=(1.0, 1.0)\n",
      "sigma <class 'pcntoolkit.model.hbr.LinearParameterization'>\n",
      "slope_epsilon <class 'pcntoolkit.model.hbr.FixedParameterization'>\n",
      "slope_epsilon\n",
      "dist='normal'\n",
      "params=(0.0, 1.0)\n",
      "intercept_epsilon <class 'pcntoolkit.model.hbr.FixedParameterization'>\n",
      "intercept_epsilon\n",
      "dist='normal'\n",
      "params=(0.0, 1)\n",
      "epsilon <class 'pcntoolkit.model.hbr.LinearParameterization'>\n",
      "slope_delta <class 'pcntoolkit.model.hbr.FixedParameterization'>\n",
      "slope_delta\n",
      "dist='normal'\n",
      "params=(0.0, 1)\n",
      "intercept_delta <class 'pcntoolkit.model.hbr.FixedParameterization'>\n",
      "intercept_delta\n",
      "dist='normal'\n",
      "params=(2.0, 1)\n",
      "delta <class 'pcntoolkit.model.hbr.LinearParameterization'>\n"
     ]
    },
    {
     "data": {
      "text/html": [
       "\n",
       "<style>\n",
       "    /* Turns off some styling */\n",
       "    progress {\n",
       "        /* gets rid of default border in Firefox and Opera. */\n",
       "        border: none;\n",
       "        /* Needs to be in here for Safari polyfill so background images work as expected. */\n",
       "        background-size: auto;\n",
       "    }\n",
       "    .progress-bar-interrupted, .progress-bar-interrupted::-webkit-progress-bar {\n",
       "        background: #F44336;\n",
       "    }\n",
       "</style>\n"
      ],
      "text/plain": [
       "<IPython.core.display.HTML object>"
      ]
     },
     "metadata": {},
     "output_type": "display_data"
    },
    {
     "data": {
      "text/html": [
       "\n",
       "    <div>\n",
       "      <progress value='612' class='' max='612' style='width:300px; height:20px; vertical-align: middle;'></progress>\n",
       "      100.00% [612/612 02:05<00:00 logp = -65,174, ||grad|| = 4.0271]\n",
       "    </div>\n",
       "    "
      ],
      "text/plain": [
       "<IPython.core.display.HTML object>"
      ]
     },
     "metadata": {},
     "output_type": "display_data"
    },
    {
     "name": "stdout",
     "output_type": "stream",
     "text": [
      "\n",
      "Found MAP in  280.35074615478516\n",
      "slope_mu <class 'pcntoolkit.model.hbr.FixedParameterization'>\n",
      "slope_mu\n",
      "dist='normal'\n",
      "params=(0.0, 1.0)\n",
      "intercept_mu <class 'pcntoolkit.model.hbr.NonCentralRandomFixedParameterization'>\n",
      "mu_intercept_mu\n",
      "dist='normal'\n",
      "params=(0.0, 1.0)\n",
      "sigma_intercept_mu\n",
      "dist='hcauchy'\n",
      "params=(1.0,)\n",
      "offset_intercept_mu\n",
      "dist='normal'\n",
      "params=(0.0, 1.0)\n",
      "mu <class 'pcntoolkit.model.hbr.LinearParameterization'>\n",
      "slope_sigma <class 'pcntoolkit.model.hbr.FixedParameterization'>\n",
      "slope_sigma\n",
      "dist='normal'\n",
      "params=(0.0, 1.0)\n",
      "intercept_sigma <class 'pcntoolkit.model.hbr.FixedParameterization'>\n",
      "intercept_sigma\n",
      "dist='normal'\n",
      "params=(0.0, 1.0)\n",
      "sigma <class 'pcntoolkit.model.hbr.LinearParameterization'>\n"
     ]
    },
    {
     "data": {
      "text/html": [
       "\n",
       "<style>\n",
       "    /* Turns off some styling */\n",
       "    progress {\n",
       "        /* gets rid of default border in Firefox and Opera. */\n",
       "        border: none;\n",
       "        /* Needs to be in here for Safari polyfill so background images work as expected. */\n",
       "        background-size: auto;\n",
       "    }\n",
       "    .progress-bar-interrupted, .progress-bar-interrupted::-webkit-progress-bar {\n",
       "        background: #F44336;\n",
       "    }\n",
       "</style>\n"
      ],
      "text/plain": [
       "<IPython.core.display.HTML object>"
      ]
     },
     "metadata": {},
     "output_type": "display_data"
    },
    {
     "data": {
      "text/html": [
       "\n",
       "    <div>\n",
       "      <progress value='529' class='' max='529' style='width:300px; height:20px; vertical-align: middle;'></progress>\n",
       "      100.00% [529/529 00:38<00:00 logp = -65,928, ||grad|| = 6.4394]\n",
       "    </div>\n",
       "    "
      ],
      "text/plain": [
       "<IPython.core.display.HTML object>"
      ]
     },
     "metadata": {},
     "output_type": "display_data"
    },
    {
     "name": "stdout",
     "output_type": "stream",
     "text": [
      "\n",
      "Found MAP in  105.8571126461029\n",
      "slope_mu <class 'pcntoolkit.model.hbr.FixedParameterization'>\n",
      "slope_mu\n",
      "dist='normal'\n",
      "params=(0.0, 3.0)\n",
      "intercept_mu <class 'pcntoolkit.model.hbr.NonCentralRandomFixedParameterization'>\n",
      "mu_intercept_mu\n",
      "dist='normal'\n",
      "params=(0.0, 1.0)\n",
      "sigma_intercept_mu\n",
      "dist='hcauchy'\n",
      "params=(1.0,)\n",
      "offset_intercept_mu\n",
      "dist='normal'\n",
      "params=(0.0, 1.0)\n",
      "mu <class 'pcntoolkit.model.hbr.LinearParameterization'>\n",
      "slope_sigma <class 'pcntoolkit.model.hbr.FixedParameterization'>\n",
      "slope_sigma\n",
      "dist='normal'\n",
      "params=(0.0, 1.0)\n",
      "intercept_sigma <class 'pcntoolkit.model.hbr.FixedParameterization'>\n",
      "intercept_sigma\n",
      "dist='normal'\n",
      "params=(1.0, 1.0)\n",
      "sigma <class 'pcntoolkit.model.hbr.LinearParameterization'>\n",
      "epsilon <class 'pcntoolkit.model.hbr.FixedParameterization'>\n",
      "epsilon\n",
      "dist='normal'\n",
      "params=(0.0, 1.0)\n",
      "delta <class 'pcntoolkit.model.hbr.FixedParameterization'>\n",
      "delta\n",
      "dist='normal'\n",
      "params=(1.5, 2.0)\n"
     ]
    },
    {
     "data": {
      "text/html": [
       "\n",
       "<style>\n",
       "    /* Turns off some styling */\n",
       "    progress {\n",
       "        /* gets rid of default border in Firefox and Opera. */\n",
       "        border: none;\n",
       "        /* Needs to be in here for Safari polyfill so background images work as expected. */\n",
       "        background-size: auto;\n",
       "    }\n",
       "    .progress-bar-interrupted, .progress-bar-interrupted::-webkit-progress-bar {\n",
       "        background: #F44336;\n",
       "    }\n",
       "</style>\n"
      ],
      "text/plain": [
       "<IPython.core.display.HTML object>"
      ]
     },
     "metadata": {},
     "output_type": "display_data"
    },
    {
     "data": {
      "text/html": [
       "\n",
       "    <div>\n",
       "      <progress value='744' class='' max='744' style='width:300px; height:20px; vertical-align: middle;'></progress>\n",
       "      100.00% [744/744 01:46<00:00 logp = -61,299, ||grad|| = 4.5333]\n",
       "    </div>\n",
       "    "
      ],
      "text/plain": [
       "<IPython.core.display.HTML object>"
      ]
     },
     "metadata": {},
     "output_type": "display_data"
    },
    {
     "name": "stdout",
     "output_type": "stream",
     "text": [
      "\n",
      "Found MAP in  195.00613808631897\n",
      "slope_mu <class 'pcntoolkit.model.hbr.FixedParameterization'>\n",
      "slope_mu\n",
      "dist='normal'\n",
      "params=(0.0, 3.0)\n",
      "intercept_mu <class 'pcntoolkit.model.hbr.NonCentralRandomFixedParameterization'>\n",
      "mu_intercept_mu\n",
      "dist='normal'\n",
      "params=(0.0, 1.0)\n",
      "sigma_intercept_mu\n",
      "dist='hcauchy'\n",
      "params=(1.0,)\n",
      "offset_intercept_mu\n",
      "dist='normal'\n",
      "params=(0.0, 1.0)\n",
      "mu <class 'pcntoolkit.model.hbr.LinearParameterization'>\n",
      "slope_sigma <class 'pcntoolkit.model.hbr.FixedParameterization'>\n",
      "slope_sigma\n",
      "dist='normal'\n",
      "params=(0.0, 1.0)\n",
      "intercept_sigma <class 'pcntoolkit.model.hbr.FixedParameterization'>\n",
      "intercept_sigma\n",
      "dist='normal'\n",
      "params=(1.0, 1.0)\n",
      "sigma <class 'pcntoolkit.model.hbr.LinearParameterization'>\n",
      "slope_epsilon <class 'pcntoolkit.model.hbr.FixedParameterization'>\n",
      "slope_epsilon\n",
      "dist='normal'\n",
      "params=(0.0, 1.0)\n",
      "intercept_epsilon <class 'pcntoolkit.model.hbr.FixedParameterization'>\n",
      "intercept_epsilon\n",
      "dist='normal'\n",
      "params=(0.0, 1)\n",
      "epsilon <class 'pcntoolkit.model.hbr.LinearParameterization'>\n",
      "slope_delta <class 'pcntoolkit.model.hbr.FixedParameterization'>\n",
      "slope_delta\n",
      "dist='normal'\n",
      "params=(0.0, 1)\n",
      "intercept_delta <class 'pcntoolkit.model.hbr.FixedParameterization'>\n",
      "intercept_delta\n",
      "dist='normal'\n",
      "params=(2.0, 1)\n",
      "delta <class 'pcntoolkit.model.hbr.LinearParameterization'>\n"
     ]
    },
    {
     "data": {
      "text/html": [
       "\n",
       "<style>\n",
       "    /* Turns off some styling */\n",
       "    progress {\n",
       "        /* gets rid of default border in Firefox and Opera. */\n",
       "        border: none;\n",
       "        /* Needs to be in here for Safari polyfill so background images work as expected. */\n",
       "        background-size: auto;\n",
       "    }\n",
       "    .progress-bar-interrupted, .progress-bar-interrupted::-webkit-progress-bar {\n",
       "        background: #F44336;\n",
       "    }\n",
       "</style>\n"
      ],
      "text/plain": [
       "<IPython.core.display.HTML object>"
      ]
     },
     "metadata": {},
     "output_type": "display_data"
    },
    {
     "data": {
      "text/html": [
       "\n",
       "    <div>\n",
       "      <progress value='751' class='' max='751' style='width:300px; height:20px; vertical-align: middle;'></progress>\n",
       "      100.00% [751/751 02:37<00:00 logp = -61,300, ||grad|| = 16.642]\n",
       "    </div>\n",
       "    "
      ],
      "text/plain": [
       "<IPython.core.display.HTML object>"
      ]
     },
     "metadata": {},
     "output_type": "display_data"
    },
    {
     "name": "stdout",
     "output_type": "stream",
     "text": [
      "\n",
      "Found MAP in  313.5525996685028\n",
      "slope_mu <class 'pcntoolkit.model.hbr.FixedParameterization'>\n",
      "slope_mu\n",
      "dist='normal'\n",
      "params=(0.0, 1.0)\n",
      "intercept_mu <class 'pcntoolkit.model.hbr.NonCentralRandomFixedParameterization'>\n",
      "mu_intercept_mu\n",
      "dist='normal'\n",
      "params=(0.0, 1.0)\n",
      "sigma_intercept_mu\n",
      "dist='hcauchy'\n",
      "params=(1.0,)\n",
      "offset_intercept_mu\n",
      "dist='normal'\n",
      "params=(0.0, 1.0)\n",
      "mu <class 'pcntoolkit.model.hbr.LinearParameterization'>\n",
      "slope_sigma <class 'pcntoolkit.model.hbr.FixedParameterization'>\n",
      "slope_sigma\n",
      "dist='normal'\n",
      "params=(0.0, 1.0)\n",
      "intercept_sigma <class 'pcntoolkit.model.hbr.FixedParameterization'>\n",
      "intercept_sigma\n",
      "dist='normal'\n",
      "params=(0.0, 1.0)\n",
      "sigma <class 'pcntoolkit.model.hbr.LinearParameterization'>\n"
     ]
    },
    {
     "data": {
      "text/html": [
       "\n",
       "<style>\n",
       "    /* Turns off some styling */\n",
       "    progress {\n",
       "        /* gets rid of default border in Firefox and Opera. */\n",
       "        border: none;\n",
       "        /* Needs to be in here for Safari polyfill so background images work as expected. */\n",
       "        background-size: auto;\n",
       "    }\n",
       "    .progress-bar-interrupted, .progress-bar-interrupted::-webkit-progress-bar {\n",
       "        background: #F44336;\n",
       "    }\n",
       "</style>\n"
      ],
      "text/plain": [
       "<IPython.core.display.HTML object>"
      ]
     },
     "metadata": {},
     "output_type": "display_data"
    },
    {
     "data": {
      "text/html": [
       "\n",
       "    <div>\n",
       "      <progress value='698' class='' max='698' style='width:300px; height:20px; vertical-align: middle;'></progress>\n",
       "      100.00% [698/698 00:53<00:00 logp = -61,699, ||grad|| = 3.4418]\n",
       "    </div>\n",
       "    "
      ],
      "text/plain": [
       "<IPython.core.display.HTML object>"
      ]
     },
     "metadata": {},
     "output_type": "display_data"
    },
    {
     "name": "stdout",
     "output_type": "stream",
     "text": [
      "\n",
      "Found MAP in  119.18805861473083\n",
      "slope_mu <class 'pcntoolkit.model.hbr.FixedParameterization'>\n",
      "slope_mu\n",
      "dist='normal'\n",
      "params=(0.0, 3.0)\n",
      "intercept_mu <class 'pcntoolkit.model.hbr.NonCentralRandomFixedParameterization'>\n",
      "mu_intercept_mu\n",
      "dist='normal'\n",
      "params=(0.0, 1.0)\n",
      "sigma_intercept_mu\n",
      "dist='hcauchy'\n",
      "params=(1.0,)\n",
      "offset_intercept_mu\n",
      "dist='normal'\n",
      "params=(0.0, 1.0)\n",
      "mu <class 'pcntoolkit.model.hbr.LinearParameterization'>\n",
      "slope_sigma <class 'pcntoolkit.model.hbr.FixedParameterization'>\n",
      "slope_sigma\n",
      "dist='normal'\n",
      "params=(0.0, 1.0)\n",
      "intercept_sigma <class 'pcntoolkit.model.hbr.FixedParameterization'>\n",
      "intercept_sigma\n",
      "dist='normal'\n",
      "params=(1.0, 1.0)\n",
      "sigma <class 'pcntoolkit.model.hbr.LinearParameterization'>\n",
      "epsilon <class 'pcntoolkit.model.hbr.FixedParameterization'>\n",
      "epsilon\n",
      "dist='normal'\n",
      "params=(0.0, 1.0)\n",
      "delta <class 'pcntoolkit.model.hbr.FixedParameterization'>\n",
      "delta\n",
      "dist='normal'\n",
      "params=(1.5, 2.0)\n"
     ]
    },
    {
     "data": {
      "text/html": [
       "\n",
       "<style>\n",
       "    /* Turns off some styling */\n",
       "    progress {\n",
       "        /* gets rid of default border in Firefox and Opera. */\n",
       "        border: none;\n",
       "        /* Needs to be in here for Safari polyfill so background images work as expected. */\n",
       "        background-size: auto;\n",
       "    }\n",
       "    .progress-bar-interrupted, .progress-bar-interrupted::-webkit-progress-bar {\n",
       "        background: #F44336;\n",
       "    }\n",
       "</style>\n"
      ],
      "text/plain": [
       "<IPython.core.display.HTML object>"
      ]
     },
     "metadata": {},
     "output_type": "display_data"
    },
    {
     "data": {
      "text/html": [
       "\n",
       "    <div>\n",
       "      <progress value='755' class='' max='755' style='width:300px; height:20px; vertical-align: middle;'></progress>\n",
       "      100.00% [755/755 01:23<00:00 logp = -60,638, ||grad|| = 2.7919]\n",
       "    </div>\n",
       "    "
      ],
      "text/plain": [
       "<IPython.core.display.HTML object>"
      ]
     },
     "metadata": {},
     "output_type": "display_data"
    },
    {
     "name": "stdout",
     "output_type": "stream",
     "text": [
      "\n",
      "Found MAP in  200.3041229248047\n",
      "slope_mu <class 'pcntoolkit.model.hbr.FixedParameterization'>\n",
      "slope_mu\n",
      "dist='normal'\n",
      "params=(0.0, 3.0)\n",
      "intercept_mu <class 'pcntoolkit.model.hbr.NonCentralRandomFixedParameterization'>\n",
      "mu_intercept_mu\n",
      "dist='normal'\n",
      "params=(0.0, 1.0)\n",
      "sigma_intercept_mu\n",
      "dist='hcauchy'\n",
      "params=(1.0,)\n",
      "offset_intercept_mu\n",
      "dist='normal'\n",
      "params=(0.0, 1.0)\n",
      "mu <class 'pcntoolkit.model.hbr.LinearParameterization'>\n",
      "slope_sigma <class 'pcntoolkit.model.hbr.FixedParameterization'>\n",
      "slope_sigma\n",
      "dist='normal'\n",
      "params=(0.0, 1.0)\n",
      "intercept_sigma <class 'pcntoolkit.model.hbr.FixedParameterization'>\n",
      "intercept_sigma\n",
      "dist='normal'\n",
      "params=(1.0, 1.0)\n",
      "sigma <class 'pcntoolkit.model.hbr.LinearParameterization'>\n",
      "slope_epsilon <class 'pcntoolkit.model.hbr.FixedParameterization'>\n",
      "slope_epsilon\n",
      "dist='normal'\n",
      "params=(0.0, 1.0)\n",
      "intercept_epsilon <class 'pcntoolkit.model.hbr.FixedParameterization'>\n",
      "intercept_epsilon\n",
      "dist='normal'\n",
      "params=(0.0, 1)\n",
      "epsilon <class 'pcntoolkit.model.hbr.LinearParameterization'>\n",
      "slope_delta <class 'pcntoolkit.model.hbr.FixedParameterization'>\n",
      "slope_delta\n",
      "dist='normal'\n",
      "params=(0.0, 1)\n",
      "intercept_delta <class 'pcntoolkit.model.hbr.FixedParameterization'>\n",
      "intercept_delta\n",
      "dist='normal'\n",
      "params=(2.0, 1)\n",
      "delta <class 'pcntoolkit.model.hbr.LinearParameterization'>\n"
     ]
    },
    {
     "data": {
      "text/html": [
       "\n",
       "<style>\n",
       "    /* Turns off some styling */\n",
       "    progress {\n",
       "        /* gets rid of default border in Firefox and Opera. */\n",
       "        border: none;\n",
       "        /* Needs to be in here for Safari polyfill so background images work as expected. */\n",
       "        background-size: auto;\n",
       "    }\n",
       "    .progress-bar-interrupted, .progress-bar-interrupted::-webkit-progress-bar {\n",
       "        background: #F44336;\n",
       "    }\n",
       "</style>\n"
      ],
      "text/plain": [
       "<IPython.core.display.HTML object>"
      ]
     },
     "metadata": {},
     "output_type": "display_data"
    },
    {
     "data": {
      "text/html": [
       "\n",
       "    <div>\n",
       "      <progress value='896' class='' max='896' style='width:300px; height:20px; vertical-align: middle;'></progress>\n",
       "      100.00% [896/896 02:42<00:00 logp = -60,584, ||grad|| = 6.264]\n",
       "    </div>\n",
       "    "
      ],
      "text/plain": [
       "<IPython.core.display.HTML object>"
      ]
     },
     "metadata": {},
     "output_type": "display_data"
    },
    {
     "name": "stdout",
     "output_type": "stream",
     "text": [
      "\n",
      "Found MAP in  321.32064843177795\n",
      "slope_mu <class 'pcntoolkit.model.hbr.FixedParameterization'>\n",
      "slope_mu\n",
      "dist='normal'\n",
      "params=(0.0, 1.0)\n",
      "intercept_mu <class 'pcntoolkit.model.hbr.NonCentralRandomFixedParameterization'>\n",
      "mu_intercept_mu\n",
      "dist='normal'\n",
      "params=(0.0, 1.0)\n",
      "sigma_intercept_mu\n",
      "dist='hcauchy'\n",
      "params=(1.0,)\n",
      "offset_intercept_mu\n",
      "dist='normal'\n",
      "params=(0.0, 1.0)\n",
      "mu <class 'pcntoolkit.model.hbr.LinearParameterization'>\n",
      "slope_sigma <class 'pcntoolkit.model.hbr.FixedParameterization'>\n",
      "slope_sigma\n",
      "dist='normal'\n",
      "params=(0.0, 1.0)\n",
      "intercept_sigma <class 'pcntoolkit.model.hbr.FixedParameterization'>\n",
      "intercept_sigma\n",
      "dist='normal'\n",
      "params=(0.0, 1.0)\n",
      "sigma <class 'pcntoolkit.model.hbr.LinearParameterization'>\n"
     ]
    },
    {
     "data": {
      "text/html": [
       "\n",
       "<style>\n",
       "    /* Turns off some styling */\n",
       "    progress {\n",
       "        /* gets rid of default border in Firefox and Opera. */\n",
       "        border: none;\n",
       "        /* Needs to be in here for Safari polyfill so background images work as expected. */\n",
       "        background-size: auto;\n",
       "    }\n",
       "    .progress-bar-interrupted, .progress-bar-interrupted::-webkit-progress-bar {\n",
       "        background: #F44336;\n",
       "    }\n",
       "</style>\n"
      ],
      "text/plain": [
       "<IPython.core.display.HTML object>"
      ]
     },
     "metadata": {},
     "output_type": "display_data"
    },
    {
     "data": {
      "text/html": [
       "\n",
       "    <div>\n",
       "      <progress value='695' class='' max='695' style='width:300px; height:20px; vertical-align: middle;'></progress>\n",
       "      100.00% [695/695 00:40<00:00 logp = -64,509, ||grad|| = 45.405]\n",
       "    </div>\n",
       "    "
      ],
      "text/plain": [
       "<IPython.core.display.HTML object>"
      ]
     },
     "metadata": {},
     "output_type": "display_data"
    },
    {
     "name": "stdout",
     "output_type": "stream",
     "text": [
      "\n",
      "Found MAP in  107.00745844841003\n",
      "slope_mu <class 'pcntoolkit.model.hbr.FixedParameterization'>\n",
      "slope_mu\n",
      "dist='normal'\n",
      "params=(0.0, 3.0)\n",
      "intercept_mu <class 'pcntoolkit.model.hbr.NonCentralRandomFixedParameterization'>\n",
      "mu_intercept_mu\n",
      "dist='normal'\n",
      "params=(0.0, 1.0)\n",
      "sigma_intercept_mu\n",
      "dist='hcauchy'\n",
      "params=(1.0,)\n",
      "offset_intercept_mu\n",
      "dist='normal'\n",
      "params=(0.0, 1.0)\n",
      "mu <class 'pcntoolkit.model.hbr.LinearParameterization'>\n",
      "slope_sigma <class 'pcntoolkit.model.hbr.FixedParameterization'>\n",
      "slope_sigma\n",
      "dist='normal'\n",
      "params=(0.0, 1.0)\n",
      "intercept_sigma <class 'pcntoolkit.model.hbr.FixedParameterization'>\n",
      "intercept_sigma\n",
      "dist='normal'\n",
      "params=(1.0, 1.0)\n",
      "sigma <class 'pcntoolkit.model.hbr.LinearParameterization'>\n",
      "epsilon <class 'pcntoolkit.model.hbr.FixedParameterization'>\n",
      "epsilon\n",
      "dist='normal'\n",
      "params=(0.0, 1.0)\n",
      "delta <class 'pcntoolkit.model.hbr.FixedParameterization'>\n",
      "delta\n",
      "dist='normal'\n",
      "params=(1.5, 2.0)\n"
     ]
    },
    {
     "data": {
      "text/html": [
       "\n",
       "<style>\n",
       "    /* Turns off some styling */\n",
       "    progress {\n",
       "        /* gets rid of default border in Firefox and Opera. */\n",
       "        border: none;\n",
       "        /* Needs to be in here for Safari polyfill so background images work as expected. */\n",
       "        background-size: auto;\n",
       "    }\n",
       "    .progress-bar-interrupted, .progress-bar-interrupted::-webkit-progress-bar {\n",
       "        background: #F44336;\n",
       "    }\n",
       "</style>\n"
      ],
      "text/plain": [
       "<IPython.core.display.HTML object>"
      ]
     },
     "metadata": {},
     "output_type": "display_data"
    },
    {
     "data": {
      "text/html": [
       "\n",
       "    <div>\n",
       "      <progress value='568' class='' max='568' style='width:300px; height:20px; vertical-align: middle;'></progress>\n",
       "      100.00% [568/568 01:09<00:00 logp = -62,972, ||grad|| = 14.148]\n",
       "    </div>\n",
       "    "
      ],
      "text/plain": [
       "<IPython.core.display.HTML object>"
      ]
     },
     "metadata": {},
     "output_type": "display_data"
    },
    {
     "name": "stdout",
     "output_type": "stream",
     "text": [
      "\n",
      "Found MAP in  159.6288206577301\n",
      "slope_mu <class 'pcntoolkit.model.hbr.FixedParameterization'>\n",
      "slope_mu\n",
      "dist='normal'\n",
      "params=(0.0, 3.0)\n",
      "intercept_mu <class 'pcntoolkit.model.hbr.NonCentralRandomFixedParameterization'>\n",
      "mu_intercept_mu\n",
      "dist='normal'\n",
      "params=(0.0, 1.0)\n",
      "sigma_intercept_mu\n",
      "dist='hcauchy'\n",
      "params=(1.0,)\n",
      "offset_intercept_mu\n",
      "dist='normal'\n",
      "params=(0.0, 1.0)\n",
      "mu <class 'pcntoolkit.model.hbr.LinearParameterization'>\n",
      "slope_sigma <class 'pcntoolkit.model.hbr.FixedParameterization'>\n",
      "slope_sigma\n",
      "dist='normal'\n",
      "params=(0.0, 1.0)\n",
      "intercept_sigma <class 'pcntoolkit.model.hbr.FixedParameterization'>\n",
      "intercept_sigma\n",
      "dist='normal'\n",
      "params=(1.0, 1.0)\n",
      "sigma <class 'pcntoolkit.model.hbr.LinearParameterization'>\n",
      "slope_epsilon <class 'pcntoolkit.model.hbr.FixedParameterization'>\n",
      "slope_epsilon\n",
      "dist='normal'\n",
      "params=(0.0, 1.0)\n",
      "intercept_epsilon <class 'pcntoolkit.model.hbr.FixedParameterization'>\n",
      "intercept_epsilon\n",
      "dist='normal'\n",
      "params=(0.0, 1)\n",
      "epsilon <class 'pcntoolkit.model.hbr.LinearParameterization'>\n",
      "slope_delta <class 'pcntoolkit.model.hbr.FixedParameterization'>\n",
      "slope_delta\n",
      "dist='normal'\n",
      "params=(0.0, 1)\n",
      "intercept_delta <class 'pcntoolkit.model.hbr.FixedParameterization'>\n",
      "intercept_delta\n",
      "dist='normal'\n",
      "params=(2.0, 1)\n",
      "delta <class 'pcntoolkit.model.hbr.LinearParameterization'>\n"
     ]
    },
    {
     "data": {
      "text/html": [
       "\n",
       "<style>\n",
       "    /* Turns off some styling */\n",
       "    progress {\n",
       "        /* gets rid of default border in Firefox and Opera. */\n",
       "        border: none;\n",
       "        /* Needs to be in here for Safari polyfill so background images work as expected. */\n",
       "        background-size: auto;\n",
       "    }\n",
       "    .progress-bar-interrupted, .progress-bar-interrupted::-webkit-progress-bar {\n",
       "        background: #F44336;\n",
       "    }\n",
       "</style>\n"
      ],
      "text/plain": [
       "<IPython.core.display.HTML object>"
      ]
     },
     "metadata": {},
     "output_type": "display_data"
    },
    {
     "data": {
      "text/html": [
       "\n",
       "    <div>\n",
       "      <progress value='645' class='' max='645' style='width:300px; height:20px; vertical-align: middle;'></progress>\n",
       "      100.00% [645/645 02:07<00:00 logp = -62,805, ||grad|| = 9.7206]\n",
       "    </div>\n",
       "    "
      ],
      "text/plain": [
       "<IPython.core.display.HTML object>"
      ]
     },
     "metadata": {},
     "output_type": "display_data"
    },
    {
     "name": "stdout",
     "output_type": "stream",
     "text": [
      "\n",
      "Found MAP in  282.0216643810272\n",
      "slope_mu <class 'pcntoolkit.model.hbr.FixedParameterization'>\n",
      "slope_mu\n",
      "dist='normal'\n",
      "params=(0.0, 1.0)\n",
      "intercept_mu <class 'pcntoolkit.model.hbr.NonCentralRandomFixedParameterization'>\n",
      "mu_intercept_mu\n",
      "dist='normal'\n",
      "params=(0.0, 1.0)\n",
      "sigma_intercept_mu\n",
      "dist='hcauchy'\n",
      "params=(1.0,)\n",
      "offset_intercept_mu\n",
      "dist='normal'\n",
      "params=(0.0, 1.0)\n",
      "mu <class 'pcntoolkit.model.hbr.LinearParameterization'>\n",
      "slope_sigma <class 'pcntoolkit.model.hbr.FixedParameterization'>\n",
      "slope_sigma\n",
      "dist='normal'\n",
      "params=(0.0, 1.0)\n",
      "intercept_sigma <class 'pcntoolkit.model.hbr.FixedParameterization'>\n",
      "intercept_sigma\n",
      "dist='normal'\n",
      "params=(0.0, 1.0)\n",
      "sigma <class 'pcntoolkit.model.hbr.LinearParameterization'>\n"
     ]
    },
    {
     "data": {
      "text/html": [
       "\n",
       "<style>\n",
       "    /* Turns off some styling */\n",
       "    progress {\n",
       "        /* gets rid of default border in Firefox and Opera. */\n",
       "        border: none;\n",
       "        /* Needs to be in here for Safari polyfill so background images work as expected. */\n",
       "        background-size: auto;\n",
       "    }\n",
       "    .progress-bar-interrupted, .progress-bar-interrupted::-webkit-progress-bar {\n",
       "        background: #F44336;\n",
       "    }\n",
       "</style>\n"
      ],
      "text/plain": [
       "<IPython.core.display.HTML object>"
      ]
     },
     "metadata": {},
     "output_type": "display_data"
    },
    {
     "data": {
      "text/html": [
       "\n",
       "    <div>\n",
       "      <progress value='579' class='' max='579' style='width:300px; height:20px; vertical-align: middle;'></progress>\n",
       "      100.00% [579/579 00:37<00:00 logp = -63,302, ||grad|| = 3.6812]\n",
       "    </div>\n",
       "    "
      ],
      "text/plain": [
       "<IPython.core.display.HTML object>"
      ]
     },
     "metadata": {},
     "output_type": "display_data"
    },
    {
     "name": "stdout",
     "output_type": "stream",
     "text": [
      "\n",
      "Found MAP in  102.03030133247375\n",
      "slope_mu <class 'pcntoolkit.model.hbr.FixedParameterization'>\n",
      "slope_mu\n",
      "dist='normal'\n",
      "params=(0.0, 3.0)\n",
      "intercept_mu <class 'pcntoolkit.model.hbr.NonCentralRandomFixedParameterization'>\n",
      "mu_intercept_mu\n",
      "dist='normal'\n",
      "params=(0.0, 1.0)\n",
      "sigma_intercept_mu\n",
      "dist='hcauchy'\n",
      "params=(1.0,)\n",
      "offset_intercept_mu\n",
      "dist='normal'\n",
      "params=(0.0, 1.0)\n",
      "mu <class 'pcntoolkit.model.hbr.LinearParameterization'>\n",
      "slope_sigma <class 'pcntoolkit.model.hbr.FixedParameterization'>\n",
      "slope_sigma\n",
      "dist='normal'\n",
      "params=(0.0, 1.0)\n",
      "intercept_sigma <class 'pcntoolkit.model.hbr.FixedParameterization'>\n",
      "intercept_sigma\n",
      "dist='normal'\n",
      "params=(1.0, 1.0)\n",
      "sigma <class 'pcntoolkit.model.hbr.LinearParameterization'>\n",
      "epsilon <class 'pcntoolkit.model.hbr.FixedParameterization'>\n",
      "epsilon\n",
      "dist='normal'\n",
      "params=(0.0, 1.0)\n",
      "delta <class 'pcntoolkit.model.hbr.FixedParameterization'>\n",
      "delta\n",
      "dist='normal'\n",
      "params=(1.5, 2.0)\n"
     ]
    },
    {
     "data": {
      "text/html": [
       "\n",
       "<style>\n",
       "    /* Turns off some styling */\n",
       "    progress {\n",
       "        /* gets rid of default border in Firefox and Opera. */\n",
       "        border: none;\n",
       "        /* Needs to be in here for Safari polyfill so background images work as expected. */\n",
       "        background-size: auto;\n",
       "    }\n",
       "    .progress-bar-interrupted, .progress-bar-interrupted::-webkit-progress-bar {\n",
       "        background: #F44336;\n",
       "    }\n",
       "</style>\n"
      ],
      "text/plain": [
       "<IPython.core.display.HTML object>"
      ]
     },
     "metadata": {},
     "output_type": "display_data"
    },
    {
     "data": {
      "text/html": [
       "\n",
       "    <div>\n",
       "      <progress value='1236' class='' max='1236' style='width:300px; height:20px; vertical-align: middle;'></progress>\n",
       "      100.00% [1236/1236 02:08<00:00 logp = -42,094, ||grad|| = 12.83]\n",
       "    </div>\n",
       "    "
      ],
      "text/plain": [
       "<IPython.core.display.HTML object>"
      ]
     },
     "metadata": {},
     "output_type": "display_data"
    },
    {
     "name": "stdout",
     "output_type": "stream",
     "text": [
      "\n",
      "Found MAP in  219.24620079994202\n",
      "slope_mu <class 'pcntoolkit.model.hbr.FixedParameterization'>\n",
      "slope_mu\n",
      "dist='normal'\n",
      "params=(0.0, 3.0)\n",
      "intercept_mu <class 'pcntoolkit.model.hbr.NonCentralRandomFixedParameterization'>\n",
      "mu_intercept_mu\n",
      "dist='normal'\n",
      "params=(0.0, 1.0)\n",
      "sigma_intercept_mu\n",
      "dist='hcauchy'\n",
      "params=(1.0,)\n",
      "offset_intercept_mu\n",
      "dist='normal'\n",
      "params=(0.0, 1.0)\n",
      "mu <class 'pcntoolkit.model.hbr.LinearParameterization'>\n",
      "slope_sigma <class 'pcntoolkit.model.hbr.FixedParameterization'>\n",
      "slope_sigma\n",
      "dist='normal'\n",
      "params=(0.0, 1.0)\n",
      "intercept_sigma <class 'pcntoolkit.model.hbr.FixedParameterization'>\n",
      "intercept_sigma\n",
      "dist='normal'\n",
      "params=(1.0, 1.0)\n",
      "sigma <class 'pcntoolkit.model.hbr.LinearParameterization'>\n",
      "slope_epsilon <class 'pcntoolkit.model.hbr.FixedParameterization'>\n",
      "slope_epsilon\n",
      "dist='normal'\n",
      "params=(0.0, 1.0)\n",
      "intercept_epsilon <class 'pcntoolkit.model.hbr.FixedParameterization'>\n",
      "intercept_epsilon\n",
      "dist='normal'\n",
      "params=(0.0, 1)\n",
      "epsilon <class 'pcntoolkit.model.hbr.LinearParameterization'>\n",
      "slope_delta <class 'pcntoolkit.model.hbr.FixedParameterization'>\n",
      "slope_delta\n",
      "dist='normal'\n",
      "params=(0.0, 1)\n",
      "intercept_delta <class 'pcntoolkit.model.hbr.FixedParameterization'>\n",
      "intercept_delta\n",
      "dist='normal'\n",
      "params=(2.0, 1)\n",
      "delta <class 'pcntoolkit.model.hbr.LinearParameterization'>\n"
     ]
    },
    {
     "data": {
      "text/html": [
       "\n",
       "<style>\n",
       "    /* Turns off some styling */\n",
       "    progress {\n",
       "        /* gets rid of default border in Firefox and Opera. */\n",
       "        border: none;\n",
       "        /* Needs to be in here for Safari polyfill so background images work as expected. */\n",
       "        background-size: auto;\n",
       "    }\n",
       "    .progress-bar-interrupted, .progress-bar-interrupted::-webkit-progress-bar {\n",
       "        background: #F44336;\n",
       "    }\n",
       "</style>\n"
      ],
      "text/plain": [
       "<IPython.core.display.HTML object>"
      ]
     },
     "metadata": {},
     "output_type": "display_data"
    },
    {
     "data": {
      "text/html": [
       "\n",
       "    <div>\n",
       "      <progress value='1952' class='' max='1952' style='width:300px; height:20px; vertical-align: middle;'></progress>\n",
       "      100.00% [1952/1952 05:43<00:00 logp = -41,742, ||grad|| = 5.3917]\n",
       "    </div>\n",
       "    "
      ],
      "text/plain": [
       "<IPython.core.display.HTML object>"
      ]
     },
     "metadata": {},
     "output_type": "display_data"
    },
    {
     "name": "stdout",
     "output_type": "stream",
     "text": [
      "\n",
      "Found MAP in  500.73086857795715\n",
      "slope_mu <class 'pcntoolkit.model.hbr.FixedParameterization'>\n",
      "slope_mu\n",
      "dist='normal'\n",
      "params=(0.0, 1.0)\n",
      "intercept_mu <class 'pcntoolkit.model.hbr.NonCentralRandomFixedParameterization'>\n",
      "mu_intercept_mu\n",
      "dist='normal'\n",
      "params=(0.0, 1.0)\n",
      "sigma_intercept_mu\n",
      "dist='hcauchy'\n",
      "params=(1.0,)\n",
      "offset_intercept_mu\n",
      "dist='normal'\n",
      "params=(0.0, 1.0)\n",
      "mu <class 'pcntoolkit.model.hbr.LinearParameterization'>\n",
      "slope_sigma <class 'pcntoolkit.model.hbr.FixedParameterization'>\n",
      "slope_sigma\n",
      "dist='normal'\n",
      "params=(0.0, 1.0)\n",
      "intercept_sigma <class 'pcntoolkit.model.hbr.FixedParameterization'>\n",
      "intercept_sigma\n",
      "dist='normal'\n",
      "params=(0.0, 1.0)\n",
      "sigma <class 'pcntoolkit.model.hbr.LinearParameterization'>\n"
     ]
    },
    {
     "data": {
      "text/html": [
       "\n",
       "<style>\n",
       "    /* Turns off some styling */\n",
       "    progress {\n",
       "        /* gets rid of default border in Firefox and Opera. */\n",
       "        border: none;\n",
       "        /* Needs to be in here for Safari polyfill so background images work as expected. */\n",
       "        background-size: auto;\n",
       "    }\n",
       "    .progress-bar-interrupted, .progress-bar-interrupted::-webkit-progress-bar {\n",
       "        background: #F44336;\n",
       "    }\n",
       "</style>\n"
      ],
      "text/plain": [
       "<IPython.core.display.HTML object>"
      ]
     },
     "metadata": {},
     "output_type": "display_data"
    },
    {
     "data": {
      "text/html": [
       "\n",
       "    <div>\n",
       "      <progress value='599' class='' max='599' style='width:300px; height:20px; vertical-align: middle;'></progress>\n",
       "      100.00% [599/599 00:31<00:00 logp = -54,191, ||grad|| = 3.9616]\n",
       "    </div>\n",
       "    "
      ],
      "text/plain": [
       "<IPython.core.display.HTML object>"
      ]
     },
     "metadata": {},
     "output_type": "display_data"
    },
    {
     "name": "stdout",
     "output_type": "stream",
     "text": [
      "\n",
      "Found MAP in  99.88588953018188\n",
      "slope_mu <class 'pcntoolkit.model.hbr.FixedParameterization'>\n",
      "slope_mu\n",
      "dist='normal'\n",
      "params=(0.0, 3.0)\n",
      "intercept_mu <class 'pcntoolkit.model.hbr.NonCentralRandomFixedParameterization'>\n",
      "mu_intercept_mu\n",
      "dist='normal'\n",
      "params=(0.0, 1.0)\n",
      "sigma_intercept_mu\n",
      "dist='hcauchy'\n",
      "params=(1.0,)\n",
      "offset_intercept_mu\n",
      "dist='normal'\n",
      "params=(0.0, 1.0)\n",
      "mu <class 'pcntoolkit.model.hbr.LinearParameterization'>\n",
      "slope_sigma <class 'pcntoolkit.model.hbr.FixedParameterization'>\n",
      "slope_sigma\n",
      "dist='normal'\n",
      "params=(0.0, 1.0)\n",
      "intercept_sigma <class 'pcntoolkit.model.hbr.FixedParameterization'>\n",
      "intercept_sigma\n",
      "dist='normal'\n",
      "params=(1.0, 1.0)\n",
      "sigma <class 'pcntoolkit.model.hbr.LinearParameterization'>\n",
      "epsilon <class 'pcntoolkit.model.hbr.FixedParameterization'>\n",
      "epsilon\n",
      "dist='normal'\n",
      "params=(0.0, 1.0)\n",
      "delta <class 'pcntoolkit.model.hbr.FixedParameterization'>\n",
      "delta\n",
      "dist='normal'\n",
      "params=(1.5, 2.0)\n"
     ]
    },
    {
     "data": {
      "text/html": [
       "\n",
       "<style>\n",
       "    /* Turns off some styling */\n",
       "    progress {\n",
       "        /* gets rid of default border in Firefox and Opera. */\n",
       "        border: none;\n",
       "        /* Needs to be in here for Safari polyfill so background images work as expected. */\n",
       "        background-size: auto;\n",
       "    }\n",
       "    .progress-bar-interrupted, .progress-bar-interrupted::-webkit-progress-bar {\n",
       "        background: #F44336;\n",
       "    }\n",
       "</style>\n"
      ],
      "text/plain": [
       "<IPython.core.display.HTML object>"
      ]
     },
     "metadata": {},
     "output_type": "display_data"
    },
    {
     "data": {
      "text/html": [
       "\n",
       "    <div>\n",
       "      <progress value='4790' class='' max='4790' style='width:300px; height:20px; vertical-align: middle;'></progress>\n",
       "      100.00% [4790/4790 08:51<00:00 logp = -7,686.1, ||grad|| = 6.8878]\n",
       "    </div>\n",
       "    "
      ],
      "text/plain": [
       "<IPython.core.display.HTML object>"
      ]
     },
     "metadata": {},
     "output_type": "display_data"
    },
    {
     "name": "stdout",
     "output_type": "stream",
     "text": [
      "\n",
      "Found MAP in  623.6727294921875\n",
      "slope_mu <class 'pcntoolkit.model.hbr.FixedParameterization'>\n",
      "slope_mu\n",
      "dist='normal'\n",
      "params=(0.0, 3.0)\n",
      "intercept_mu <class 'pcntoolkit.model.hbr.NonCentralRandomFixedParameterization'>\n",
      "mu_intercept_mu\n",
      "dist='normal'\n",
      "params=(0.0, 1.0)\n",
      "sigma_intercept_mu\n",
      "dist='hcauchy'\n",
      "params=(1.0,)\n",
      "offset_intercept_mu\n",
      "dist='normal'\n",
      "params=(0.0, 1.0)\n",
      "mu <class 'pcntoolkit.model.hbr.LinearParameterization'>\n",
      "slope_sigma <class 'pcntoolkit.model.hbr.FixedParameterization'>\n",
      "slope_sigma\n",
      "dist='normal'\n",
      "params=(0.0, 1.0)\n",
      "intercept_sigma <class 'pcntoolkit.model.hbr.FixedParameterization'>\n",
      "intercept_sigma\n",
      "dist='normal'\n",
      "params=(1.0, 1.0)\n",
      "sigma <class 'pcntoolkit.model.hbr.LinearParameterization'>\n",
      "slope_epsilon <class 'pcntoolkit.model.hbr.FixedParameterization'>\n",
      "slope_epsilon\n",
      "dist='normal'\n",
      "params=(0.0, 1.0)\n",
      "intercept_epsilon <class 'pcntoolkit.model.hbr.FixedParameterization'>\n",
      "intercept_epsilon\n",
      "dist='normal'\n",
      "params=(0.0, 1)\n",
      "epsilon <class 'pcntoolkit.model.hbr.LinearParameterization'>\n",
      "slope_delta <class 'pcntoolkit.model.hbr.FixedParameterization'>\n",
      "slope_delta\n",
      "dist='normal'\n",
      "params=(0.0, 1)\n",
      "intercept_delta <class 'pcntoolkit.model.hbr.FixedParameterization'>\n",
      "intercept_delta\n",
      "dist='normal'\n",
      "params=(2.0, 1)\n",
      "delta <class 'pcntoolkit.model.hbr.LinearParameterization'>\n"
     ]
    },
    {
     "data": {
      "text/html": [
       "\n",
       "<style>\n",
       "    /* Turns off some styling */\n",
       "    progress {\n",
       "        /* gets rid of default border in Firefox and Opera. */\n",
       "        border: none;\n",
       "        /* Needs to be in here for Safari polyfill so background images work as expected. */\n",
       "        background-size: auto;\n",
       "    }\n",
       "    .progress-bar-interrupted, .progress-bar-interrupted::-webkit-progress-bar {\n",
       "        background: #F44336;\n",
       "    }\n",
       "</style>\n"
      ],
      "text/plain": [
       "<IPython.core.display.HTML object>"
      ]
     },
     "metadata": {},
     "output_type": "display_data"
    },
    {
     "data": {
      "text/html": [
       "\n",
       "    <div>\n",
       "      <progress value='4732' class='' max='4732' style='width:300px; height:20px; vertical-align: middle;'></progress>\n",
       "      100.00% [4732/4732 13:59<00:00 logp = -7,053.1, ||grad|| = 6.8449]\n",
       "    </div>\n",
       "    "
      ],
      "text/plain": [
       "<IPython.core.display.HTML object>"
      ]
     },
     "metadata": {},
     "output_type": "display_data"
    },
    {
     "name": "stdout",
     "output_type": "stream",
     "text": [
      "\n",
      "Found MAP in  995.3792836666107\n",
      "slope_mu <class 'pcntoolkit.model.hbr.FixedParameterization'>\n",
      "slope_mu\n",
      "dist='normal'\n",
      "params=(0.0, 1.0)\n",
      "intercept_mu <class 'pcntoolkit.model.hbr.NonCentralRandomFixedParameterization'>\n",
      "mu_intercept_mu\n",
      "dist='normal'\n",
      "params=(0.0, 1.0)\n",
      "sigma_intercept_mu\n",
      "dist='hcauchy'\n",
      "params=(1.0,)\n",
      "offset_intercept_mu\n",
      "dist='normal'\n",
      "params=(0.0, 1.0)\n",
      "mu <class 'pcntoolkit.model.hbr.LinearParameterization'>\n",
      "slope_sigma <class 'pcntoolkit.model.hbr.FixedParameterization'>\n",
      "slope_sigma\n",
      "dist='normal'\n",
      "params=(0.0, 1.0)\n",
      "intercept_sigma <class 'pcntoolkit.model.hbr.FixedParameterization'>\n",
      "intercept_sigma\n",
      "dist='normal'\n",
      "params=(0.0, 1.0)\n",
      "sigma <class 'pcntoolkit.model.hbr.LinearParameterization'>\n"
     ]
    },
    {
     "data": {
      "text/html": [
       "\n",
       "<style>\n",
       "    /* Turns off some styling */\n",
       "    progress {\n",
       "        /* gets rid of default border in Firefox and Opera. */\n",
       "        border: none;\n",
       "        /* Needs to be in here for Safari polyfill so background images work as expected. */\n",
       "        background-size: auto;\n",
       "    }\n",
       "    .progress-bar-interrupted, .progress-bar-interrupted::-webkit-progress-bar {\n",
       "        background: #F44336;\n",
       "    }\n",
       "</style>\n"
      ],
      "text/plain": [
       "<IPython.core.display.HTML object>"
      ]
     },
     "metadata": {},
     "output_type": "display_data"
    },
    {
     "data": {
      "text/html": [
       "\n",
       "    <div>\n",
       "      <progress value='1428' class='' max='1428' style='width:300px; height:20px; vertical-align: middle;'></progress>\n",
       "      100.00% [1428/1428 01:05<00:00 logp = -46,740, ||grad|| = 7.5346]\n",
       "    </div>\n",
       "    "
      ],
      "text/plain": [
       "<IPython.core.display.HTML object>"
      ]
     },
     "metadata": {},
     "output_type": "display_data"
    },
    {
     "name": "stdout",
     "output_type": "stream",
     "text": [
      "\n",
      "Found MAP in  130.84647059440613\n",
      "slope_mu <class 'pcntoolkit.model.hbr.FixedParameterization'>\n",
      "slope_mu\n",
      "dist='normal'\n",
      "params=(0.0, 3.0)\n",
      "intercept_mu <class 'pcntoolkit.model.hbr.NonCentralRandomFixedParameterization'>\n",
      "mu_intercept_mu\n",
      "dist='normal'\n",
      "params=(0.0, 1.0)\n",
      "sigma_intercept_mu\n",
      "dist='hcauchy'\n",
      "params=(1.0,)\n",
      "offset_intercept_mu\n",
      "dist='normal'\n",
      "params=(0.0, 1.0)\n",
      "mu <class 'pcntoolkit.model.hbr.LinearParameterization'>\n",
      "slope_sigma <class 'pcntoolkit.model.hbr.FixedParameterization'>\n",
      "slope_sigma\n",
      "dist='normal'\n",
      "params=(0.0, 1.0)\n",
      "intercept_sigma <class 'pcntoolkit.model.hbr.FixedParameterization'>\n",
      "intercept_sigma\n",
      "dist='normal'\n",
      "params=(1.0, 1.0)\n",
      "sigma <class 'pcntoolkit.model.hbr.LinearParameterization'>\n",
      "epsilon <class 'pcntoolkit.model.hbr.FixedParameterization'>\n",
      "epsilon\n",
      "dist='normal'\n",
      "params=(0.0, 1.0)\n",
      "delta <class 'pcntoolkit.model.hbr.FixedParameterization'>\n",
      "delta\n",
      "dist='normal'\n",
      "params=(1.5, 2.0)\n"
     ]
    },
    {
     "data": {
      "text/html": [
       "\n",
       "<style>\n",
       "    /* Turns off some styling */\n",
       "    progress {\n",
       "        /* gets rid of default border in Firefox and Opera. */\n",
       "        border: none;\n",
       "        /* Needs to be in here for Safari polyfill so background images work as expected. */\n",
       "        background-size: auto;\n",
       "    }\n",
       "    .progress-bar-interrupted, .progress-bar-interrupted::-webkit-progress-bar {\n",
       "        background: #F44336;\n",
       "    }\n",
       "</style>\n"
      ],
      "text/plain": [
       "<IPython.core.display.HTML object>"
      ]
     },
     "metadata": {},
     "output_type": "display_data"
    },
    {
     "data": {
      "text/html": [
       "\n",
       "    <div>\n",
       "      <progress value='581' class='' max='581' style='width:300px; height:20px; vertical-align: middle;'></progress>\n",
       "      100.00% [581/581 00:58<00:00 logp = -65,169, ||grad|| = 2.9681]\n",
       "    </div>\n",
       "    "
      ],
      "text/plain": [
       "<IPython.core.display.HTML object>"
      ]
     },
     "metadata": {},
     "output_type": "display_data"
    },
    {
     "name": "stdout",
     "output_type": "stream",
     "text": [
      "\n",
      "Found MAP in  151.28684091567993\n",
      "slope_mu <class 'pcntoolkit.model.hbr.FixedParameterization'>\n",
      "slope_mu\n",
      "dist='normal'\n",
      "params=(0.0, 3.0)\n",
      "intercept_mu <class 'pcntoolkit.model.hbr.NonCentralRandomFixedParameterization'>\n",
      "mu_intercept_mu\n",
      "dist='normal'\n",
      "params=(0.0, 1.0)\n",
      "sigma_intercept_mu\n",
      "dist='hcauchy'\n",
      "params=(1.0,)\n",
      "offset_intercept_mu\n",
      "dist='normal'\n",
      "params=(0.0, 1.0)\n",
      "mu <class 'pcntoolkit.model.hbr.LinearParameterization'>\n",
      "slope_sigma <class 'pcntoolkit.model.hbr.FixedParameterization'>\n",
      "slope_sigma\n",
      "dist='normal'\n",
      "params=(0.0, 1.0)\n",
      "intercept_sigma <class 'pcntoolkit.model.hbr.FixedParameterization'>\n",
      "intercept_sigma\n",
      "dist='normal'\n",
      "params=(1.0, 1.0)\n",
      "sigma <class 'pcntoolkit.model.hbr.LinearParameterization'>\n",
      "slope_epsilon <class 'pcntoolkit.model.hbr.FixedParameterization'>\n",
      "slope_epsilon\n",
      "dist='normal'\n",
      "params=(0.0, 1.0)\n",
      "intercept_epsilon <class 'pcntoolkit.model.hbr.FixedParameterization'>\n",
      "intercept_epsilon\n",
      "dist='normal'\n",
      "params=(0.0, 1)\n",
      "epsilon <class 'pcntoolkit.model.hbr.LinearParameterization'>\n",
      "slope_delta <class 'pcntoolkit.model.hbr.FixedParameterization'>\n",
      "slope_delta\n",
      "dist='normal'\n",
      "params=(0.0, 1)\n",
      "intercept_delta <class 'pcntoolkit.model.hbr.FixedParameterization'>\n",
      "intercept_delta\n",
      "dist='normal'\n",
      "params=(2.0, 1)\n",
      "delta <class 'pcntoolkit.model.hbr.LinearParameterization'>\n"
     ]
    },
    {
     "data": {
      "text/html": [
       "\n",
       "<style>\n",
       "    /* Turns off some styling */\n",
       "    progress {\n",
       "        /* gets rid of default border in Firefox and Opera. */\n",
       "        border: none;\n",
       "        /* Needs to be in here for Safari polyfill so background images work as expected. */\n",
       "        background-size: auto;\n",
       "    }\n",
       "    .progress-bar-interrupted, .progress-bar-interrupted::-webkit-progress-bar {\n",
       "        background: #F44336;\n",
       "    }\n",
       "</style>\n"
      ],
      "text/plain": [
       "<IPython.core.display.HTML object>"
      ]
     },
     "metadata": {},
     "output_type": "display_data"
    },
    {
     "data": {
      "text/html": [
       "\n",
       "    <div>\n",
       "      <progress value='639' class='' max='639' style='width:300px; height:20px; vertical-align: middle;'></progress>\n",
       "      100.00% [639/639 01:46<00:00 logp = -65,153, ||grad|| = 3.5905]\n",
       "    </div>\n",
       "    "
      ],
      "text/plain": [
       "<IPython.core.display.HTML object>"
      ]
     },
     "metadata": {},
     "output_type": "display_data"
    },
    {
     "name": "stdout",
     "output_type": "stream",
     "text": [
      "\n",
      "Found MAP in  261.4311068058014\n",
      "slope_mu <class 'pcntoolkit.model.hbr.FixedParameterization'>\n",
      "slope_mu\n",
      "dist='normal'\n",
      "params=(0.0, 1.0)\n",
      "intercept_mu <class 'pcntoolkit.model.hbr.NonCentralRandomFixedParameterization'>\n",
      "mu_intercept_mu\n",
      "dist='normal'\n",
      "params=(0.0, 1.0)\n",
      "sigma_intercept_mu\n",
      "dist='hcauchy'\n",
      "params=(1.0,)\n",
      "offset_intercept_mu\n",
      "dist='normal'\n",
      "params=(0.0, 1.0)\n",
      "mu <class 'pcntoolkit.model.hbr.LinearParameterization'>\n",
      "slope_sigma <class 'pcntoolkit.model.hbr.FixedParameterization'>\n",
      "slope_sigma\n",
      "dist='normal'\n",
      "params=(0.0, 1.0)\n",
      "intercept_sigma <class 'pcntoolkit.model.hbr.FixedParameterization'>\n",
      "intercept_sigma\n",
      "dist='normal'\n",
      "params=(0.0, 1.0)\n",
      "sigma <class 'pcntoolkit.model.hbr.LinearParameterization'>\n"
     ]
    },
    {
     "data": {
      "text/html": [
       "\n",
       "<style>\n",
       "    /* Turns off some styling */\n",
       "    progress {\n",
       "        /* gets rid of default border in Firefox and Opera. */\n",
       "        border: none;\n",
       "        /* Needs to be in here for Safari polyfill so background images work as expected. */\n",
       "        background-size: auto;\n",
       "    }\n",
       "    .progress-bar-interrupted, .progress-bar-interrupted::-webkit-progress-bar {\n",
       "        background: #F44336;\n",
       "    }\n",
       "</style>\n"
      ],
      "text/plain": [
       "<IPython.core.display.HTML object>"
      ]
     },
     "metadata": {},
     "output_type": "display_data"
    },
    {
     "data": {
      "text/html": [
       "\n",
       "    <div>\n",
       "      <progress value='587' class='' max='587' style='width:300px; height:20px; vertical-align: middle;'></progress>\n",
       "      100.00% [587/587 00:27<00:00 logp = -65,883, ||grad|| = 7.9053]\n",
       "    </div>\n",
       "    "
      ],
      "text/plain": [
       "<IPython.core.display.HTML object>"
      ]
     },
     "metadata": {},
     "output_type": "display_data"
    },
    {
     "name": "stdout",
     "output_type": "stream",
     "text": [
      "\n",
      "Found MAP in  93.11557984352112\n",
      "slope_mu <class 'pcntoolkit.model.hbr.FixedParameterization'>\n",
      "slope_mu\n",
      "dist='normal'\n",
      "params=(0.0, 3.0)\n",
      "intercept_mu <class 'pcntoolkit.model.hbr.NonCentralRandomFixedParameterization'>\n",
      "mu_intercept_mu\n",
      "dist='normal'\n",
      "params=(0.0, 1.0)\n",
      "sigma_intercept_mu\n",
      "dist='hcauchy'\n",
      "params=(1.0,)\n",
      "offset_intercept_mu\n",
      "dist='normal'\n",
      "params=(0.0, 1.0)\n",
      "mu <class 'pcntoolkit.model.hbr.LinearParameterization'>\n",
      "slope_sigma <class 'pcntoolkit.model.hbr.FixedParameterization'>\n",
      "slope_sigma\n",
      "dist='normal'\n",
      "params=(0.0, 1.0)\n",
      "intercept_sigma <class 'pcntoolkit.model.hbr.FixedParameterization'>\n",
      "intercept_sigma\n",
      "dist='normal'\n",
      "params=(1.0, 1.0)\n",
      "sigma <class 'pcntoolkit.model.hbr.LinearParameterization'>\n",
      "epsilon <class 'pcntoolkit.model.hbr.FixedParameterization'>\n",
      "epsilon\n",
      "dist='normal'\n",
      "params=(0.0, 1.0)\n",
      "delta <class 'pcntoolkit.model.hbr.FixedParameterization'>\n",
      "delta\n",
      "dist='normal'\n",
      "params=(1.5, 2.0)\n"
     ]
    },
    {
     "data": {
      "text/html": [
       "\n",
       "<style>\n",
       "    /* Turns off some styling */\n",
       "    progress {\n",
       "        /* gets rid of default border in Firefox and Opera. */\n",
       "        border: none;\n",
       "        /* Needs to be in here for Safari polyfill so background images work as expected. */\n",
       "        background-size: auto;\n",
       "    }\n",
       "    .progress-bar-interrupted, .progress-bar-interrupted::-webkit-progress-bar {\n",
       "        background: #F44336;\n",
       "    }\n",
       "</style>\n"
      ],
      "text/plain": [
       "<IPython.core.display.HTML object>"
      ]
     },
     "metadata": {},
     "output_type": "display_data"
    },
    {
     "data": {
      "text/html": [
       "\n",
       "    <div>\n",
       "      <progress value='764' class='' max='764' style='width:300px; height:20px; vertical-align: middle;'></progress>\n",
       "      100.00% [764/764 01:17<00:00 logp = -61,259, ||grad|| = 3.5581]\n",
       "    </div>\n",
       "    "
      ],
      "text/plain": [
       "<IPython.core.display.HTML object>"
      ]
     },
     "metadata": {},
     "output_type": "display_data"
    },
    {
     "name": "stdout",
     "output_type": "stream",
     "text": [
      "\n",
      "Found MAP in  166.59476232528687\n",
      "slope_mu <class 'pcntoolkit.model.hbr.FixedParameterization'>\n",
      "slope_mu\n",
      "dist='normal'\n",
      "params=(0.0, 3.0)\n",
      "intercept_mu <class 'pcntoolkit.model.hbr.NonCentralRandomFixedParameterization'>\n",
      "mu_intercept_mu\n",
      "dist='normal'\n",
      "params=(0.0, 1.0)\n",
      "sigma_intercept_mu\n",
      "dist='hcauchy'\n",
      "params=(1.0,)\n",
      "offset_intercept_mu\n",
      "dist='normal'\n",
      "params=(0.0, 1.0)\n",
      "mu <class 'pcntoolkit.model.hbr.LinearParameterization'>\n",
      "slope_sigma <class 'pcntoolkit.model.hbr.FixedParameterization'>\n",
      "slope_sigma\n",
      "dist='normal'\n",
      "params=(0.0, 1.0)\n",
      "intercept_sigma <class 'pcntoolkit.model.hbr.FixedParameterization'>\n",
      "intercept_sigma\n",
      "dist='normal'\n",
      "params=(1.0, 1.0)\n",
      "sigma <class 'pcntoolkit.model.hbr.LinearParameterization'>\n",
      "slope_epsilon <class 'pcntoolkit.model.hbr.FixedParameterization'>\n",
      "slope_epsilon\n",
      "dist='normal'\n",
      "params=(0.0, 1.0)\n",
      "intercept_epsilon <class 'pcntoolkit.model.hbr.FixedParameterization'>\n",
      "intercept_epsilon\n",
      "dist='normal'\n",
      "params=(0.0, 1)\n",
      "epsilon <class 'pcntoolkit.model.hbr.LinearParameterization'>\n",
      "slope_delta <class 'pcntoolkit.model.hbr.FixedParameterization'>\n",
      "slope_delta\n",
      "dist='normal'\n",
      "params=(0.0, 1)\n",
      "intercept_delta <class 'pcntoolkit.model.hbr.FixedParameterization'>\n",
      "intercept_delta\n",
      "dist='normal'\n",
      "params=(2.0, 1)\n",
      "delta <class 'pcntoolkit.model.hbr.LinearParameterization'>\n"
     ]
    },
    {
     "data": {
      "text/html": [
       "\n",
       "<style>\n",
       "    /* Turns off some styling */\n",
       "    progress {\n",
       "        /* gets rid of default border in Firefox and Opera. */\n",
       "        border: none;\n",
       "        /* Needs to be in here for Safari polyfill so background images work as expected. */\n",
       "        background-size: auto;\n",
       "    }\n",
       "    .progress-bar-interrupted, .progress-bar-interrupted::-webkit-progress-bar {\n",
       "        background: #F44336;\n",
       "    }\n",
       "</style>\n"
      ],
      "text/plain": [
       "<IPython.core.display.HTML object>"
      ]
     },
     "metadata": {},
     "output_type": "display_data"
    },
    {
     "data": {
      "text/html": [
       "\n",
       "    <div>\n",
       "      <progress value='732' class='' max='732' style='width:300px; height:20px; vertical-align: middle;'></progress>\n",
       "      100.00% [732/732 03:10<00:00 logp = -61,261, ||grad|| = 2.4273]\n",
       "    </div>\n",
       "    "
      ],
      "text/plain": [
       "<IPython.core.display.HTML object>"
      ]
     },
     "metadata": {},
     "output_type": "display_data"
    },
    {
     "name": "stdout",
     "output_type": "stream",
     "text": [
      "\n",
      "Found MAP in  348.914443731308\n",
      "slope_mu <class 'pcntoolkit.model.hbr.FixedParameterization'>\n",
      "slope_mu\n",
      "dist='normal'\n",
      "params=(0.0, 1.0)\n",
      "intercept_mu <class 'pcntoolkit.model.hbr.NonCentralRandomFixedParameterization'>\n",
      "mu_intercept_mu\n",
      "dist='normal'\n",
      "params=(0.0, 1.0)\n",
      "sigma_intercept_mu\n",
      "dist='hcauchy'\n",
      "params=(1.0,)\n",
      "offset_intercept_mu\n",
      "dist='normal'\n",
      "params=(0.0, 1.0)\n",
      "mu <class 'pcntoolkit.model.hbr.LinearParameterization'>\n",
      "slope_sigma <class 'pcntoolkit.model.hbr.FixedParameterization'>\n",
      "slope_sigma\n",
      "dist='normal'\n",
      "params=(0.0, 1.0)\n",
      "intercept_sigma <class 'pcntoolkit.model.hbr.FixedParameterization'>\n",
      "intercept_sigma\n",
      "dist='normal'\n",
      "params=(0.0, 1.0)\n",
      "sigma <class 'pcntoolkit.model.hbr.LinearParameterization'>\n"
     ]
    },
    {
     "data": {
      "text/html": [
       "\n",
       "<style>\n",
       "    /* Turns off some styling */\n",
       "    progress {\n",
       "        /* gets rid of default border in Firefox and Opera. */\n",
       "        border: none;\n",
       "        /* Needs to be in here for Safari polyfill so background images work as expected. */\n",
       "        background-size: auto;\n",
       "    }\n",
       "    .progress-bar-interrupted, .progress-bar-interrupted::-webkit-progress-bar {\n",
       "        background: #F44336;\n",
       "    }\n",
       "</style>\n"
      ],
      "text/plain": [
       "<IPython.core.display.HTML object>"
      ]
     },
     "metadata": {},
     "output_type": "display_data"
    },
    {
     "data": {
      "text/html": [
       "\n",
       "    <div>\n",
       "      <progress value='668' class='' max='668' style='width:300px; height:20px; vertical-align: middle;'></progress>\n",
       "      100.00% [668/668 00:49<00:00 logp = -61,654, ||grad|| = 4.4001]\n",
       "    </div>\n",
       "    "
      ],
      "text/plain": [
       "<IPython.core.display.HTML object>"
      ]
     },
     "metadata": {},
     "output_type": "display_data"
    },
    {
     "name": "stdout",
     "output_type": "stream",
     "text": [
      "\n",
      "Found MAP in  114.89513969421387\n"
     ]
    }
   ],
   "source": [
    "\n",
    "# For each fold\n",
    "for i_fold in range(10):\n",
    "    \n",
    "    # Load the train and test data\n",
    "    fold_data_dir = f'/project_cephfs/3022017.02/projects/stijdboe/Data/10_folds_sexcov/fold_{i_fold}'\n",
    "    with open(os.path.join(fold_data_dir, 'X_train.pkl'),'rb') as file:\n",
    "              X_train = pickle.load(file)\n",
    "    with open(os.path.join(fold_data_dir, 'Y_train.pkl'),'rb') as file:\n",
    "              Y_train = pickle.load(file)\n",
    "    with open(os.path.join(fold_data_dir, 'Z_train.pkl'),'rb') as file:\n",
    "              Z_train = pickle.load(file)\n",
    "    with open(os.path.join(fold_data_dir, 'X_test.pkl'),'rb') as file:\n",
    "              X_test = pickle.load(file)\n",
    "    with open(os.path.join(fold_data_dir, 'Y_test.pkl'),'rb') as file:\n",
    "              Y_test = pickle.load(file)\n",
    "    with open(os.path.join(fold_data_dir, 'Z_test.pkl'),'rb') as file:\n",
    "              Z_test = pickle.load(file)\n",
    "\n",
    "    # For each feature\n",
    "    features = ['Right-Cerebellum-White-Matter',\n",
    "                'EstimatedTotalIntraCranialVol',\n",
    "                'Right-Lateral-Ventricle',\n",
    "                'WM-hypointensities',\n",
    "                'rh_S_interm_prim-Jensen_thickness', \n",
    "                'Brain-Stem',\n",
    "               'log_WM-hypointensities']\n",
    "    for i_f, feature in enumerate(features):    \n",
    "        \n",
    "        # Load that particular data\n",
    "        this_X_train = X_train.to_numpy()\n",
    "        this_Y_train = Y_train[feature].to_numpy()\n",
    "        this_Z_train = Z_train.to_numpy()\n",
    "                \n",
    "        # Apply in- and outscale to test (use util.scaler)\n",
    "        inscaler = scaler('standardize')\n",
    "        outscaler = scaler('standardize')\n",
    "        this_X_train = inscaler.fit_transform(this_X_train)\n",
    "        this_Y_train = outscaler.fit_transform(this_Y_train)\n",
    "        \n",
    "        \n",
    "        # For each model type:\n",
    "        for model_type in ['SHASHb_1','SHASHb_2','Normal']:\n",
    "            # Load the model\n",
    "            fold_dir = f'fold_{i_fold}_{model_type}'\n",
    "            batch_dir = f'batch_{i_f+1}'\n",
    "            nm_name = f'NM_0_0_estimate1sample.pkl'\n",
    "            model_path = os.path.join(projdir, fold_dir, batch_dir, 'Models', nm_name)\n",
    "            if os.path.exists(model_path):\n",
    "                with open(model_path, 'rb') as file:\n",
    "                    norm_hbr_model = pickle.load(file)\n",
    "\n",
    "                # Find the MAP\n",
    "                start = time.time()\n",
    "                MAP = norm_hbr_model.hbr.find_map(this_X_train, this_Y_train,this_Z_train)\n",
    "                end = time.time()\n",
    "                print(\"Found MAP in \", end-start)\n",
    "\n",
    "                # Save the MAP\n",
    "                mapdir = os.path.join(projdir, 'MAPS')\n",
    "                if not os.path.exists(mapdir):\n",
    "                    os.mkdir(mapdir)\n",
    "                with open(os.path.join(mapdir, f'MAP_fold{i_fold}_{i_f}_{model_type}.pkl'),'wb') as file: \n",
    "                    pickle.dump(MAP,file)\n",
    "\n"
   ]
  },
  {
   "cell_type": "code",
   "execution_count": null,
   "metadata": {},
   "outputs": [],
   "source": []
  },
  {
   "cell_type": "code",
   "execution_count": null,
   "metadata": {},
   "outputs": [],
   "source": []
  }
 ],
 "metadata": {
  "kernelspec": {
   "display_name": "stijn1",
   "language": "python",
   "name": "stijn1"
  },
  "language_info": {
   "codemirror_mode": {
    "name": "ipython",
    "version": 3
   },
   "file_extension": ".py",
   "mimetype": "text/x-python",
   "name": "python",
   "nbconvert_exporter": "python",
   "pygments_lexer": "ipython3",
   "version": "3.10.4"
  }
 },
 "nbformat": 4,
 "nbformat_minor": 4
}
