{
 "cells": [
  {
   "cell_type": "code",
   "execution_count": 7,
   "id": "b3df106a",
   "metadata": {},
   "outputs": [],
   "source": [
    "import numpy as np\n",
    "import matplotlib.pyplot as plt\n",
    "import pcntoolkit as ptk\n",
    "\n",
    "import os\n",
    "import pickle\n",
    "import pandas as pd\n",
    "from pcntoolkit.util.hbr_utils import *\n",
    "import scipy\n"
   ]
  },
  {
   "cell_type": "code",
   "execution_count": 8,
   "id": "2b3bf3e6",
   "metadata": {},
   "outputs": [
    {
     "name": "stdout",
     "output_type": "stream",
     "text": [
      "curdir='/project_cephfs/3022017.02/projects/stijdboe/make_results'\n",
      "processing_dir='/project_cephfs/3022017.02/projects/stijdboe/make_results/more_flexible_models_lifespan_big'\n"
     ]
    }
   ],
   "source": [
    "curdir = os.getcwd()\n",
    "processing_dirname = \"more_flexible_models_lifespan_big\"\n",
    "if not curdir.endswith(processing_dirname):\n",
    "    processing_dir = os.path.join(curdir,\"more_flexible_models_lifespan_big\")\n",
    "    if not os.path.isdir(processing_dir):\n",
    "        os.mkdir(processing_dir)\n",
    "    os.chdir(processing_dir)\n",
    "else:\n",
    "    curdir=os.path.dirname(processing_dir)\n",
    "    \n",
    "print(f\"{curdir=}\")\n",
    "print(f\"{processing_dir=}\")"
   ]
  },
  {
   "cell_type": "code",
   "execution_count": 9,
   "id": "b3f0154e",
   "metadata": {},
   "outputs": [],
   "source": [
    "# Get the lifespan_big data\n",
    "datadir = '/project_cephfs/3022017.02/projects/stijdboe/Data/10_folds_sexcov/fold_0/'\n",
    "respfile = os.path.join(datadir, 'Y_train.pkl')       # measurements  (eg cortical thickness) of the training samples (columns: the various features/ROIs, rows: observations or subjects)\n",
    "covfile = os.path.join(datadir, 'X_train.pkl')        # covariates (eg age) the training samples (columns: covariates, rows: observations or subjects)\n",
    "testrespfile_path = os.path.join(datadir, 'Y_test.pkl')       # measurements  for the testing samples\n",
    "testcovfile_path = os.path.join(datadir, 'X_test.pkl')        # covariate file for the testing samples\n",
    "befile = os.path.join(datadir, 'Z_train.pkl')      # training batch effects file (eg scanner_id, gender)  (columns: the various batch effects, rows: observations or subjects)\n",
    "testbefile = os.path.join(datadir, 'Z_test.pkl')      # testing batch effects file\n",
    "\n",
    "output_path = os.path.join(processing_dir, 'Models/')    #  output path, where the models will be written\n",
    "if not os.path.isdir(output_path):\n",
    "    os.mkdir(output_path)\n",
    "\n",
    "log_dir = os.path.join(processing_dir, 'log/')           #\n",
    "if not os.path.isdir(log_dir):\n",
    "    os.mkdir(log_dir)\n"
   ]
  },
  {
   "cell_type": "code",
   "execution_count": 10,
   "id": "03ee9f2e",
   "metadata": {},
   "outputs": [],
   "source": [
    "# Parameters shared by all models\n",
    "likelihood='SHASHb'\n",
    "model_type='bspline'\n",
    "linear_mu='True'\n",
    "linear_sigma='True'\n",
    "random_intercept_mu='True'\n",
    "random_intercept_sigma='True'\n",
    "random_intercept_epsilon='True'\n",
    "random_intercept_delta='True'\n",
    "\n",
    "centered_intercept_mu='False'\n",
    "inscaler_type='standardize'\n",
    "outscaler_type='standardize'\n",
    "sampler = 'NUTS'\n",
    "n_mcmc_samples = 1\n",
    "n_tuning_samples = 1\n",
    "n_chains = 1\n",
    "n_cores = 1\n",
    "target_accept = 0.99\n",
    "alg='hbr'\n",
    "saveoutput='True'\n",
    "savemodel='True'\n",
    "binary='True'"
   ]
  },
  {
   "cell_type": "code",
   "execution_count": 13,
   "id": "5082ed87-0817-4c4e-a31c-a14bec6d4e22",
   "metadata": {},
   "outputs": [
    {
     "name": "stdout",
     "output_type": "stream",
     "text": [
      "Processing data in /project_cephfs/3022017.02/projects/stijdboe/Data/10_folds_sexcov/fold_0/Right-Lateral-Ventricletrain.pkl\n",
      "Estimating model  1 of 1\n",
      "slope_mu <class 'pcntoolkit.model.hbr.FixedParameterization'>\n",
      "slope_mu\n",
      "dist='normal'\n",
      "params=(0.0, 10.0)\n",
      "intercept_mu <class 'pcntoolkit.model.hbr.NonCentralRandomFixedParameterization'>\n",
      "mu_intercept_mu\n",
      "dist='normal'\n",
      "params=(0.0, 10.0)\n",
      "sigma_intercept_mu\n",
      "dist='hcauchy'\n",
      "params=(3.0,)\n",
      "offset_intercept_mu\n",
      "dist='normal'\n",
      "params=(0.0, 1.0)\n",
      "mu <class 'pcntoolkit.model.hbr.LinearParameterization'>\n",
      "slope_sigma <class 'pcntoolkit.model.hbr.FixedParameterization'>\n",
      "slope_sigma\n",
      "dist='normal'\n",
      "params=(0.0, 10.0)\n",
      "intercept_sigma <class 'pcntoolkit.model.hbr.NonCentralRandomFixedParameterization'>\n",
      "mu_intercept_sigma\n",
      "dist='normal'\n",
      "params=(0.0, 1.0)\n",
      "sigma_intercept_sigma\n",
      "dist='hcauchy'\n",
      "params=(1.0,)\n",
      "offset_intercept_sigma\n",
      "dist='normal'\n",
      "params=(0.0, 1.0)\n",
      "sigma <class 'pcntoolkit.model.hbr.LinearParameterization'>\n",
      "epsilon <class 'pcntoolkit.model.hbr.FixedParameterization'>\n",
      "epsilon\n",
      "dist='normal'\n",
      "params=(0.0, 10.0)\n",
      "delta <class 'pcntoolkit.model.hbr.FixedParameterization'>\n",
      "delta\n",
      "dist='normal'\n",
      "params=(0.0, 2.0)\n"
     ]
    },
    {
     "name": "stderr",
     "output_type": "stream",
     "text": [
      "Only 1 samples in chain.\n",
      "Auto-assigning NUTS sampler...\n",
      "Initializing NUTS using jitter+adapt_diag...\n",
      "Sequential sampling (1 chains in 1 job)\n",
      "NUTS: [delta, epsilon, offset_intercept_sigma, sigma_intercept_sigma, mu_intercept_sigma, slope_sigma, offset_intercept_mu, sigma_intercept_mu, mu_intercept_mu, slope_mu]\n"
     ]
    },
    {
     "data": {
      "text/html": [
       "\n",
       "<style>\n",
       "    /* Turns off some styling */\n",
       "    progress {\n",
       "        /* gets rid of default border in Firefox and Opera. */\n",
       "        border: none;\n",
       "        /* Needs to be in here for Safari polyfill so background images work as expected. */\n",
       "        background-size: auto;\n",
       "    }\n",
       "    .progress-bar-interrupted, .progress-bar-interrupted::-webkit-progress-bar {\n",
       "        background: #F44336;\n",
       "    }\n",
       "</style>\n"
      ],
      "text/plain": [
       "<IPython.core.display.HTML object>"
      ]
     },
     "metadata": {},
     "output_type": "display_data"
    },
    {
     "data": {
      "text/html": [
       "\n",
       "    <div>\n",
       "      <progress value='2' class='' max='2' style='width:300px; height:20px; vertical-align: middle;'></progress>\n",
       "      100.00% [2/2 00:00<00:00 Sampling chain 0, 0 divergences]\n",
       "    </div>\n",
       "    "
      ],
      "text/plain": [
       "<IPython.core.display.HTML object>"
      ]
     },
     "metadata": {},
     "output_type": "display_data"
    },
    {
     "name": "stderr",
     "output_type": "stream",
     "text": [
      "Sampling 1 chain for 1 tune and 1 draw iterations (1 + 1 draws total) took 0 seconds.\n",
      "/home/preclineu/stijdboe/.conda/envs/stijn1/lib/python3.10/site-packages/pymc3-3.9.3-py3.10.egg/pymc3/sampling.py:628: UserWarning: The number of samples is too small to check convergence reliably.\n",
      "  warnings.warn(\n",
      "The chain contains only diverging samples. The model is probably misspecified.\n"
     ]
    },
    {
     "name": "stdout",
     "output_type": "stream",
     "text": [
      "Saving model meta-data...\n",
      "slope_mu <class 'pcntoolkit.model.hbr.FixedParameterization'>\n",
      "slope_mu\n",
      "dist='normal'\n",
      "params=(0.0, 10.0)\n",
      "intercept_mu <class 'pcntoolkit.model.hbr.NonCentralRandomFixedParameterization'>\n",
      "mu_intercept_mu\n",
      "dist='normal'\n",
      "params=(0.0, 10.0)\n",
      "sigma_intercept_mu\n",
      "dist='hcauchy'\n",
      "params=(3.0,)\n",
      "offset_intercept_mu\n",
      "dist='normal'\n",
      "params=(0.0, 1.0)\n",
      "mu <class 'pcntoolkit.model.hbr.LinearParameterization'>\n",
      "slope_sigma <class 'pcntoolkit.model.hbr.FixedParameterization'>\n",
      "slope_sigma\n",
      "dist='normal'\n",
      "params=(0.0, 10.0)\n",
      "intercept_sigma <class 'pcntoolkit.model.hbr.NonCentralRandomFixedParameterization'>\n",
      "mu_intercept_sigma\n",
      "dist='normal'\n",
      "params=(0.0, 1.0)\n",
      "sigma_intercept_sigma\n",
      "dist='hcauchy'\n",
      "params=(1.0,)\n",
      "offset_intercept_sigma\n",
      "dist='normal'\n",
      "params=(0.0, 1.0)\n",
      "sigma <class 'pcntoolkit.model.hbr.LinearParameterization'>\n",
      "epsilon <class 'pcntoolkit.model.hbr.FixedParameterization'>\n",
      "epsilon\n",
      "dist='normal'\n",
      "params=(0.0, 10.0)\n",
      "delta <class 'pcntoolkit.model.hbr.FixedParameterization'>\n",
      "delta\n",
      "dist='normal'\n",
      "params=(0.0, 2.0)\n"
     ]
    },
    {
     "data": {
      "text/html": [
       "\n",
       "<style>\n",
       "    /* Turns off some styling */\n",
       "    progress {\n",
       "        /* gets rid of default border in Firefox and Opera. */\n",
       "        border: none;\n",
       "        /* Needs to be in here for Safari polyfill so background images work as expected. */\n",
       "        background-size: auto;\n",
       "    }\n",
       "    .progress-bar-interrupted, .progress-bar-interrupted::-webkit-progress-bar {\n",
       "        background: #F44336;\n",
       "    }\n",
       "</style>\n"
      ],
      "text/plain": [
       "<IPython.core.display.HTML object>"
      ]
     },
     "metadata": {},
     "output_type": "display_data"
    },
    {
     "data": {
      "text/html": [
       "\n",
       "    <div>\n",
       "      <progress value='1883' class='' max='1883' style='width:300px; height:20px; vertical-align: middle;'></progress>\n",
       "      100.00% [1883/1883 03:21<00:00 logp = -42,095, ||grad|| = 9.3586]\n",
       "    </div>\n",
       "    "
      ],
      "text/plain": [
       "<IPython.core.display.HTML object>"
      ]
     },
     "metadata": {},
     "output_type": "display_data"
    },
    {
     "name": "stdout",
     "output_type": "stream",
     "text": [
      "\n",
      "Processing data in /project_cephfs/3022017.02/projects/stijdboe/Data/10_folds_sexcov/fold_0/Right-Lateral-Ventricletrain.pkl\n",
      "Estimating model  1 of 1\n",
      "slope_mu <class 'pcntoolkit.model.hbr.FixedParameterization'>\n",
      "slope_mu\n",
      "dist='normal'\n",
      "params=(0.0, 10.0)\n",
      "intercept_mu <class 'pcntoolkit.model.hbr.NonCentralRandomFixedParameterization'>\n",
      "mu_intercept_mu\n",
      "dist='normal'\n",
      "params=(0.0, 10.0)\n",
      "sigma_intercept_mu\n",
      "dist='hcauchy'\n",
      "params=(3.0,)\n",
      "offset_intercept_mu\n",
      "dist='normal'\n",
      "params=(0.0, 1.0)\n",
      "mu <class 'pcntoolkit.model.hbr.LinearParameterization'>\n",
      "slope_sigma <class 'pcntoolkit.model.hbr.FixedParameterization'>\n",
      "slope_sigma\n",
      "dist='normal'\n",
      "params=(0.0, 10.0)\n",
      "intercept_sigma <class 'pcntoolkit.model.hbr.NonCentralRandomFixedParameterization'>\n",
      "mu_intercept_sigma\n",
      "dist='normal'\n",
      "params=(0.0, 1.0)\n",
      "sigma_intercept_sigma\n",
      "dist='hcauchy'\n",
      "params=(1.0,)\n",
      "offset_intercept_sigma\n",
      "dist='normal'\n",
      "params=(0.0, 1.0)\n",
      "sigma <class 'pcntoolkit.model.hbr.LinearParameterization'>\n",
      "slope_epsilon <class 'pcntoolkit.model.hbr.FixedParameterization'>\n",
      "slope_epsilon\n",
      "dist='normal'\n",
      "params=(0.0, 10.0)\n",
      "intercept_epsilon <class 'pcntoolkit.model.hbr.NonCentralRandomFixedParameterization'>\n",
      "mu_intercept_epsilon\n",
      "dist='normal'\n",
      "params=(0.0, 1.0)\n",
      "sigma_intercept_epsilon\n",
      "dist='hcauchy'\n",
      "params=(1.0,)\n",
      "offset_intercept_epsilon\n",
      "dist='normal'\n",
      "params=(0.0, 1.0)\n",
      "epsilon <class 'pcntoolkit.model.hbr.LinearParameterization'>\n",
      "delta <class 'pcntoolkit.model.hbr.FixedParameterization'>\n",
      "delta\n",
      "dist='normal'\n",
      "params=(0.0, 2.0)\n"
     ]
    },
    {
     "name": "stderr",
     "output_type": "stream",
     "text": [
      "Only 1 samples in chain.\n",
      "Auto-assigning NUTS sampler...\n",
      "Initializing NUTS using jitter+adapt_diag...\n",
      "Sequential sampling (1 chains in 1 job)\n",
      "NUTS: [delta, offset_intercept_epsilon, sigma_intercept_epsilon, mu_intercept_epsilon, slope_epsilon, offset_intercept_sigma, sigma_intercept_sigma, mu_intercept_sigma, slope_sigma, offset_intercept_mu, sigma_intercept_mu, mu_intercept_mu, slope_mu]\n"
     ]
    },
    {
     "data": {
      "text/html": [
       "\n",
       "<style>\n",
       "    /* Turns off some styling */\n",
       "    progress {\n",
       "        /* gets rid of default border in Firefox and Opera. */\n",
       "        border: none;\n",
       "        /* Needs to be in here for Safari polyfill so background images work as expected. */\n",
       "        background-size: auto;\n",
       "    }\n",
       "    .progress-bar-interrupted, .progress-bar-interrupted::-webkit-progress-bar {\n",
       "        background: #F44336;\n",
       "    }\n",
       "</style>\n"
      ],
      "text/plain": [
       "<IPython.core.display.HTML object>"
      ]
     },
     "metadata": {},
     "output_type": "display_data"
    },
    {
     "data": {
      "text/html": [
       "\n",
       "    <div>\n",
       "      <progress value='2' class='' max='2' style='width:300px; height:20px; vertical-align: middle;'></progress>\n",
       "      100.00% [2/2 00:00<00:00 Sampling chain 0, 0 divergences]\n",
       "    </div>\n",
       "    "
      ],
      "text/plain": [
       "<IPython.core.display.HTML object>"
      ]
     },
     "metadata": {},
     "output_type": "display_data"
    },
    {
     "name": "stderr",
     "output_type": "stream",
     "text": [
      "Sampling 1 chain for 1 tune and 1 draw iterations (1 + 1 draws total) took 0 seconds.\n",
      "/home/preclineu/stijdboe/.conda/envs/stijn1/lib/python3.10/site-packages/pymc3-3.9.3-py3.10.egg/pymc3/sampling.py:628: UserWarning: The number of samples is too small to check convergence reliably.\n",
      "  warnings.warn(\n",
      "The chain contains only diverging samples. The model is probably misspecified.\n"
     ]
    },
    {
     "name": "stdout",
     "output_type": "stream",
     "text": [
      "Saving model meta-data...\n",
      "slope_mu <class 'pcntoolkit.model.hbr.FixedParameterization'>\n",
      "slope_mu\n",
      "dist='normal'\n",
      "params=(0.0, 10.0)\n",
      "intercept_mu <class 'pcntoolkit.model.hbr.NonCentralRandomFixedParameterization'>\n",
      "mu_intercept_mu\n",
      "dist='normal'\n",
      "params=(0.0, 10.0)\n",
      "sigma_intercept_mu\n",
      "dist='hcauchy'\n",
      "params=(3.0,)\n",
      "offset_intercept_mu\n",
      "dist='normal'\n",
      "params=(0.0, 1.0)\n",
      "mu <class 'pcntoolkit.model.hbr.LinearParameterization'>\n",
      "slope_sigma <class 'pcntoolkit.model.hbr.FixedParameterization'>\n",
      "slope_sigma\n",
      "dist='normal'\n",
      "params=(0.0, 10.0)\n",
      "intercept_sigma <class 'pcntoolkit.model.hbr.NonCentralRandomFixedParameterization'>\n",
      "mu_intercept_sigma\n",
      "dist='normal'\n",
      "params=(0.0, 1.0)\n",
      "sigma_intercept_sigma\n",
      "dist='hcauchy'\n",
      "params=(1.0,)\n",
      "offset_intercept_sigma\n",
      "dist='normal'\n",
      "params=(0.0, 1.0)\n",
      "sigma <class 'pcntoolkit.model.hbr.LinearParameterization'>\n",
      "slope_epsilon <class 'pcntoolkit.model.hbr.FixedParameterization'>\n",
      "slope_epsilon\n",
      "dist='normal'\n",
      "params=(0.0, 10.0)\n",
      "intercept_epsilon <class 'pcntoolkit.model.hbr.NonCentralRandomFixedParameterization'>\n",
      "mu_intercept_epsilon\n",
      "dist='normal'\n",
      "params=(0.0, 1.0)\n",
      "sigma_intercept_epsilon\n",
      "dist='hcauchy'\n",
      "params=(1.0,)\n",
      "offset_intercept_epsilon\n",
      "dist='normal'\n",
      "params=(0.0, 1.0)\n",
      "epsilon <class 'pcntoolkit.model.hbr.LinearParameterization'>\n",
      "delta <class 'pcntoolkit.model.hbr.FixedParameterization'>\n",
      "delta\n",
      "dist='normal'\n",
      "params=(0.0, 2.0)\n"
     ]
    },
    {
     "data": {
      "text/html": [
       "\n",
       "<style>\n",
       "    /* Turns off some styling */\n",
       "    progress {\n",
       "        /* gets rid of default border in Firefox and Opera. */\n",
       "        border: none;\n",
       "        /* Needs to be in here for Safari polyfill so background images work as expected. */\n",
       "        background-size: auto;\n",
       "    }\n",
       "    .progress-bar-interrupted, .progress-bar-interrupted::-webkit-progress-bar {\n",
       "        background: #F44336;\n",
       "    }\n",
       "</style>\n"
      ],
      "text/plain": [
       "<IPython.core.display.HTML object>"
      ]
     },
     "metadata": {},
     "output_type": "display_data"
    },
    {
     "data": {
      "text/html": [
       "\n",
       "    <div>\n",
       "      <progress value='2552' class='' max='2552' style='width:300px; height:20px; vertical-align: middle;'></progress>\n",
       "      100.00% [2552/2552 04:59<00:00 logp = -41,894, ||grad|| = 26.844]\n",
       "    </div>\n",
       "    "
      ],
      "text/plain": [
       "<IPython.core.display.HTML object>"
      ]
     },
     "metadata": {},
     "output_type": "display_data"
    },
    {
     "name": "stdout",
     "output_type": "stream",
     "text": [
      "\n",
      "Processing data in /project_cephfs/3022017.02/projects/stijdboe/Data/10_folds_sexcov/fold_0/Right-Lateral-Ventricletrain.pkl\n",
      "Estimating model  1 of 1\n",
      "slope_mu <class 'pcntoolkit.model.hbr.FixedParameterization'>\n",
      "slope_mu\n",
      "dist='normal'\n",
      "params=(0.0, 10.0)\n",
      "intercept_mu <class 'pcntoolkit.model.hbr.NonCentralRandomFixedParameterization'>\n",
      "mu_intercept_mu\n",
      "dist='normal'\n",
      "params=(0.0, 10.0)\n",
      "sigma_intercept_mu\n",
      "dist='hcauchy'\n",
      "params=(3.0,)\n",
      "offset_intercept_mu\n",
      "dist='normal'\n",
      "params=(0.0, 1.0)\n",
      "mu <class 'pcntoolkit.model.hbr.LinearParameterization'>\n",
      "slope_sigma <class 'pcntoolkit.model.hbr.FixedParameterization'>\n",
      "slope_sigma\n",
      "dist='normal'\n",
      "params=(0.0, 10.0)\n",
      "intercept_sigma <class 'pcntoolkit.model.hbr.NonCentralRandomFixedParameterization'>\n",
      "mu_intercept_sigma\n",
      "dist='normal'\n",
      "params=(0.0, 1.0)\n",
      "sigma_intercept_sigma\n",
      "dist='hcauchy'\n",
      "params=(1.0,)\n",
      "offset_intercept_sigma\n",
      "dist='normal'\n",
      "params=(0.0, 1.0)\n",
      "sigma <class 'pcntoolkit.model.hbr.LinearParameterization'>\n",
      "slope_epsilon <class 'pcntoolkit.model.hbr.FixedParameterization'>\n",
      "slope_epsilon\n",
      "dist='normal'\n",
      "params=(0.0, 10.0)\n",
      "intercept_epsilon <class 'pcntoolkit.model.hbr.NonCentralRandomFixedParameterization'>\n",
      "mu_intercept_epsilon\n",
      "dist='normal'\n",
      "params=(0.0, 1.0)\n",
      "sigma_intercept_epsilon\n",
      "dist='hcauchy'\n",
      "params=(1.0,)\n",
      "offset_intercept_epsilon\n",
      "dist='normal'\n",
      "params=(0.0, 1.0)\n",
      "epsilon <class 'pcntoolkit.model.hbr.LinearParameterization'>\n",
      "slope_delta <class 'pcntoolkit.model.hbr.FixedParameterization'>\n",
      "slope_delta\n",
      "dist='normal'\n",
      "params=(0.0, 10.0)\n",
      "intercept_delta <class 'pcntoolkit.model.hbr.NonCentralRandomFixedParameterization'>\n",
      "mu_intercept_delta\n",
      "dist='normal'\n",
      "params=(0.0, 1.0)\n",
      "sigma_intercept_delta\n",
      "dist='hcauchy'\n",
      "params=(1.0,)\n",
      "offset_intercept_delta\n",
      "dist='normal'\n",
      "params=(0.0, 1.0)\n",
      "delta <class 'pcntoolkit.model.hbr.LinearParameterization'>\n"
     ]
    },
    {
     "name": "stderr",
     "output_type": "stream",
     "text": [
      "Only 1 samples in chain.\n",
      "Auto-assigning NUTS sampler...\n",
      "Initializing NUTS using jitter+adapt_diag...\n",
      "Sequential sampling (1 chains in 1 job)\n",
      "NUTS: [offset_intercept_delta, sigma_intercept_delta, mu_intercept_delta, slope_delta, offset_intercept_epsilon, sigma_intercept_epsilon, mu_intercept_epsilon, slope_epsilon, offset_intercept_sigma, sigma_intercept_sigma, mu_intercept_sigma, slope_sigma, offset_intercept_mu, sigma_intercept_mu, mu_intercept_mu, slope_mu]\n"
     ]
    },
    {
     "data": {
      "text/html": [
       "\n",
       "<style>\n",
       "    /* Turns off some styling */\n",
       "    progress {\n",
       "        /* gets rid of default border in Firefox and Opera. */\n",
       "        border: none;\n",
       "        /* Needs to be in here for Safari polyfill so background images work as expected. */\n",
       "        background-size: auto;\n",
       "    }\n",
       "    .progress-bar-interrupted, .progress-bar-interrupted::-webkit-progress-bar {\n",
       "        background: #F44336;\n",
       "    }\n",
       "</style>\n"
      ],
      "text/plain": [
       "<IPython.core.display.HTML object>"
      ]
     },
     "metadata": {},
     "output_type": "display_data"
    },
    {
     "data": {
      "text/html": [
       "\n",
       "    <div>\n",
       "      <progress value='2' class='' max='2' style='width:300px; height:20px; vertical-align: middle;'></progress>\n",
       "      100.00% [2/2 00:00<00:00 Sampling chain 0, 0 divergences]\n",
       "    </div>\n",
       "    "
      ],
      "text/plain": [
       "<IPython.core.display.HTML object>"
      ]
     },
     "metadata": {},
     "output_type": "display_data"
    },
    {
     "name": "stderr",
     "output_type": "stream",
     "text": [
      "Sampling 1 chain for 1 tune and 1 draw iterations (1 + 1 draws total) took 0 seconds.\n",
      "/home/preclineu/stijdboe/.conda/envs/stijn1/lib/python3.10/site-packages/pymc3-3.9.3-py3.10.egg/pymc3/sampling.py:628: UserWarning: The number of samples is too small to check convergence reliably.\n",
      "  warnings.warn(\n",
      "The chain contains only diverging samples. The model is probably misspecified.\n"
     ]
    },
    {
     "name": "stdout",
     "output_type": "stream",
     "text": [
      "Saving model meta-data...\n",
      "slope_mu <class 'pcntoolkit.model.hbr.FixedParameterization'>\n",
      "slope_mu\n",
      "dist='normal'\n",
      "params=(0.0, 10.0)\n",
      "intercept_mu <class 'pcntoolkit.model.hbr.NonCentralRandomFixedParameterization'>\n",
      "mu_intercept_mu\n",
      "dist='normal'\n",
      "params=(0.0, 10.0)\n",
      "sigma_intercept_mu\n",
      "dist='hcauchy'\n",
      "params=(3.0,)\n",
      "offset_intercept_mu\n",
      "dist='normal'\n",
      "params=(0.0, 1.0)\n",
      "mu <class 'pcntoolkit.model.hbr.LinearParameterization'>\n",
      "slope_sigma <class 'pcntoolkit.model.hbr.FixedParameterization'>\n",
      "slope_sigma\n",
      "dist='normal'\n",
      "params=(0.0, 10.0)\n",
      "intercept_sigma <class 'pcntoolkit.model.hbr.NonCentralRandomFixedParameterization'>\n",
      "mu_intercept_sigma\n",
      "dist='normal'\n",
      "params=(0.0, 1.0)\n",
      "sigma_intercept_sigma\n",
      "dist='hcauchy'\n",
      "params=(1.0,)\n",
      "offset_intercept_sigma\n",
      "dist='normal'\n",
      "params=(0.0, 1.0)\n",
      "sigma <class 'pcntoolkit.model.hbr.LinearParameterization'>\n",
      "slope_epsilon <class 'pcntoolkit.model.hbr.FixedParameterization'>\n",
      "slope_epsilon\n",
      "dist='normal'\n",
      "params=(0.0, 10.0)\n",
      "intercept_epsilon <class 'pcntoolkit.model.hbr.NonCentralRandomFixedParameterization'>\n",
      "mu_intercept_epsilon\n",
      "dist='normal'\n",
      "params=(0.0, 1.0)\n",
      "sigma_intercept_epsilon\n",
      "dist='hcauchy'\n",
      "params=(1.0,)\n",
      "offset_intercept_epsilon\n",
      "dist='normal'\n",
      "params=(0.0, 1.0)\n",
      "epsilon <class 'pcntoolkit.model.hbr.LinearParameterization'>\n",
      "slope_delta <class 'pcntoolkit.model.hbr.FixedParameterization'>\n",
      "slope_delta\n",
      "dist='normal'\n",
      "params=(0.0, 10.0)\n",
      "intercept_delta <class 'pcntoolkit.model.hbr.NonCentralRandomFixedParameterization'>\n",
      "mu_intercept_delta\n",
      "dist='normal'\n",
      "params=(0.0, 1.0)\n",
      "sigma_intercept_delta\n",
      "dist='hcauchy'\n",
      "params=(1.0,)\n",
      "offset_intercept_delta\n",
      "dist='normal'\n",
      "params=(0.0, 1.0)\n",
      "delta <class 'pcntoolkit.model.hbr.LinearParameterization'>\n"
     ]
    },
    {
     "data": {
      "text/html": [
       "\n",
       "<style>\n",
       "    /* Turns off some styling */\n",
       "    progress {\n",
       "        /* gets rid of default border in Firefox and Opera. */\n",
       "        border: none;\n",
       "        /* Needs to be in here for Safari polyfill so background images work as expected. */\n",
       "        background-size: auto;\n",
       "    }\n",
       "    .progress-bar-interrupted, .progress-bar-interrupted::-webkit-progress-bar {\n",
       "        background: #F44336;\n",
       "    }\n",
       "</style>\n"
      ],
      "text/plain": [
       "<IPython.core.display.HTML object>"
      ]
     },
     "metadata": {},
     "output_type": "display_data"
    },
    {
     "data": {
      "text/html": [
       "\n",
       "    <div>\n",
       "      <progress value='3815' class='' max='3815' style='width:300px; height:20px; vertical-align: middle;'></progress>\n",
       "      100.00% [3815/3815 12:15<00:00 logp = -41,841, ||grad|| = 32.387]\n",
       "    </div>\n",
       "    "
      ],
      "text/plain": [
       "<IPython.core.display.HTML object>"
      ]
     },
     "metadata": {},
     "output_type": "display_data"
    },
    {
     "name": "stdout",
     "output_type": "stream",
     "text": [
      "\n",
      "Processing data in /project_cephfs/3022017.02/projects/stijdboe/Data/10_folds_sexcov/fold_0/WM-hypointensitiestrain.pkl\n",
      "Estimating model  1 of 1\n",
      "slope_mu <class 'pcntoolkit.model.hbr.FixedParameterization'>\n",
      "slope_mu\n",
      "dist='normal'\n",
      "params=(0.0, 10.0)\n",
      "intercept_mu <class 'pcntoolkit.model.hbr.NonCentralRandomFixedParameterization'>\n",
      "mu_intercept_mu\n",
      "dist='normal'\n",
      "params=(0.0, 10.0)\n",
      "sigma_intercept_mu\n",
      "dist='hcauchy'\n",
      "params=(3.0,)\n",
      "offset_intercept_mu\n",
      "dist='normal'\n",
      "params=(0.0, 1.0)\n",
      "mu <class 'pcntoolkit.model.hbr.LinearParameterization'>\n",
      "slope_sigma <class 'pcntoolkit.model.hbr.FixedParameterization'>\n",
      "slope_sigma\n",
      "dist='normal'\n",
      "params=(0.0, 10.0)\n",
      "intercept_sigma <class 'pcntoolkit.model.hbr.NonCentralRandomFixedParameterization'>\n",
      "mu_intercept_sigma\n",
      "dist='normal'\n",
      "params=(0.0, 1.0)\n",
      "sigma_intercept_sigma\n",
      "dist='hcauchy'\n",
      "params=(1.0,)\n",
      "offset_intercept_sigma\n",
      "dist='normal'\n",
      "params=(0.0, 1.0)\n",
      "sigma <class 'pcntoolkit.model.hbr.LinearParameterization'>\n",
      "epsilon <class 'pcntoolkit.model.hbr.FixedParameterization'>\n",
      "epsilon\n",
      "dist='normal'\n",
      "params=(0.0, 10.0)\n",
      "delta <class 'pcntoolkit.model.hbr.FixedParameterization'>\n",
      "delta\n",
      "dist='normal'\n",
      "params=(0.0, 2.0)\n"
     ]
    },
    {
     "name": "stderr",
     "output_type": "stream",
     "text": [
      "Only 1 samples in chain.\n",
      "Auto-assigning NUTS sampler...\n",
      "Initializing NUTS using jitter+adapt_diag...\n",
      "Sequential sampling (1 chains in 1 job)\n",
      "NUTS: [delta, epsilon, offset_intercept_sigma, sigma_intercept_sigma, mu_intercept_sigma, slope_sigma, offset_intercept_mu, sigma_intercept_mu, mu_intercept_mu, slope_mu]\n"
     ]
    },
    {
     "data": {
      "text/html": [
       "\n",
       "<style>\n",
       "    /* Turns off some styling */\n",
       "    progress {\n",
       "        /* gets rid of default border in Firefox and Opera. */\n",
       "        border: none;\n",
       "        /* Needs to be in here for Safari polyfill so background images work as expected. */\n",
       "        background-size: auto;\n",
       "    }\n",
       "    .progress-bar-interrupted, .progress-bar-interrupted::-webkit-progress-bar {\n",
       "        background: #F44336;\n",
       "    }\n",
       "</style>\n"
      ],
      "text/plain": [
       "<IPython.core.display.HTML object>"
      ]
     },
     "metadata": {},
     "output_type": "display_data"
    },
    {
     "data": {
      "text/html": [
       "\n",
       "    <div>\n",
       "      <progress value='2' class='' max='2' style='width:300px; height:20px; vertical-align: middle;'></progress>\n",
       "      100.00% [2/2 00:00<00:00 Sampling chain 0, 0 divergences]\n",
       "    </div>\n",
       "    "
      ],
      "text/plain": [
       "<IPython.core.display.HTML object>"
      ]
     },
     "metadata": {},
     "output_type": "display_data"
    },
    {
     "name": "stderr",
     "output_type": "stream",
     "text": [
      "Sampling 1 chain for 1 tune and 1 draw iterations (1 + 1 draws total) took 0 seconds.\n",
      "/home/preclineu/stijdboe/.conda/envs/stijn1/lib/python3.10/site-packages/pymc3-3.9.3-py3.10.egg/pymc3/sampling.py:628: UserWarning: The number of samples is too small to check convergence reliably.\n",
      "  warnings.warn(\n",
      "The chain contains only diverging samples. The model is probably misspecified.\n"
     ]
    },
    {
     "name": "stdout",
     "output_type": "stream",
     "text": [
      "Saving model meta-data...\n",
      "slope_mu <class 'pcntoolkit.model.hbr.FixedParameterization'>\n",
      "slope_mu\n",
      "dist='normal'\n",
      "params=(0.0, 10.0)\n",
      "intercept_mu <class 'pcntoolkit.model.hbr.NonCentralRandomFixedParameterization'>\n",
      "mu_intercept_mu\n",
      "dist='normal'\n",
      "params=(0.0, 10.0)\n",
      "sigma_intercept_mu\n",
      "dist='hcauchy'\n",
      "params=(3.0,)\n",
      "offset_intercept_mu\n",
      "dist='normal'\n",
      "params=(0.0, 1.0)\n",
      "mu <class 'pcntoolkit.model.hbr.LinearParameterization'>\n",
      "slope_sigma <class 'pcntoolkit.model.hbr.FixedParameterization'>\n",
      "slope_sigma\n",
      "dist='normal'\n",
      "params=(0.0, 10.0)\n",
      "intercept_sigma <class 'pcntoolkit.model.hbr.NonCentralRandomFixedParameterization'>\n",
      "mu_intercept_sigma\n",
      "dist='normal'\n",
      "params=(0.0, 1.0)\n",
      "sigma_intercept_sigma\n",
      "dist='hcauchy'\n",
      "params=(1.0,)\n",
      "offset_intercept_sigma\n",
      "dist='normal'\n",
      "params=(0.0, 1.0)\n",
      "sigma <class 'pcntoolkit.model.hbr.LinearParameterization'>\n",
      "epsilon <class 'pcntoolkit.model.hbr.FixedParameterization'>\n",
      "epsilon\n",
      "dist='normal'\n",
      "params=(0.0, 10.0)\n",
      "delta <class 'pcntoolkit.model.hbr.FixedParameterization'>\n",
      "delta\n",
      "dist='normal'\n",
      "params=(0.0, 2.0)\n"
     ]
    },
    {
     "data": {
      "text/html": [
       "\n",
       "<style>\n",
       "    /* Turns off some styling */\n",
       "    progress {\n",
       "        /* gets rid of default border in Firefox and Opera. */\n",
       "        border: none;\n",
       "        /* Needs to be in here for Safari polyfill so background images work as expected. */\n",
       "        background-size: auto;\n",
       "    }\n",
       "    .progress-bar-interrupted, .progress-bar-interrupted::-webkit-progress-bar {\n",
       "        background: #F44336;\n",
       "    }\n",
       "</style>\n"
      ],
      "text/plain": [
       "<IPython.core.display.HTML object>"
      ]
     },
     "metadata": {},
     "output_type": "display_data"
    },
    {
     "data": {
      "text/html": [
       "\n",
       "    <div>\n",
       "      <progress value='4176' class='' max='4176' style='width:300px; height:20px; vertical-align: middle;'></progress>\n",
       "      100.00% [4176/4176 07:44<00:00 logp = -6,484, ||grad|| = 11.101]\n",
       "    </div>\n",
       "    "
      ],
      "text/plain": [
       "<IPython.core.display.HTML object>"
      ]
     },
     "metadata": {},
     "output_type": "display_data"
    },
    {
     "name": "stdout",
     "output_type": "stream",
     "text": [
      "\n",
      "Processing data in /project_cephfs/3022017.02/projects/stijdboe/Data/10_folds_sexcov/fold_0/WM-hypointensitiestrain.pkl\n",
      "Estimating model  1 of 1\n",
      "slope_mu <class 'pcntoolkit.model.hbr.FixedParameterization'>\n",
      "slope_mu\n",
      "dist='normal'\n",
      "params=(0.0, 10.0)\n",
      "intercept_mu <class 'pcntoolkit.model.hbr.NonCentralRandomFixedParameterization'>\n",
      "mu_intercept_mu\n",
      "dist='normal'\n",
      "params=(0.0, 10.0)\n",
      "sigma_intercept_mu\n",
      "dist='hcauchy'\n",
      "params=(3.0,)\n",
      "offset_intercept_mu\n",
      "dist='normal'\n",
      "params=(0.0, 1.0)\n",
      "mu <class 'pcntoolkit.model.hbr.LinearParameterization'>\n",
      "slope_sigma <class 'pcntoolkit.model.hbr.FixedParameterization'>\n",
      "slope_sigma\n",
      "dist='normal'\n",
      "params=(0.0, 10.0)\n",
      "intercept_sigma <class 'pcntoolkit.model.hbr.NonCentralRandomFixedParameterization'>\n",
      "mu_intercept_sigma\n",
      "dist='normal'\n",
      "params=(0.0, 1.0)\n",
      "sigma_intercept_sigma\n",
      "dist='hcauchy'\n",
      "params=(1.0,)\n",
      "offset_intercept_sigma\n",
      "dist='normal'\n",
      "params=(0.0, 1.0)\n",
      "sigma <class 'pcntoolkit.model.hbr.LinearParameterization'>\n",
      "slope_epsilon <class 'pcntoolkit.model.hbr.FixedParameterization'>\n",
      "slope_epsilon\n",
      "dist='normal'\n",
      "params=(0.0, 10.0)\n",
      "intercept_epsilon <class 'pcntoolkit.model.hbr.NonCentralRandomFixedParameterization'>\n",
      "mu_intercept_epsilon\n",
      "dist='normal'\n",
      "params=(0.0, 1.0)\n",
      "sigma_intercept_epsilon\n",
      "dist='hcauchy'\n",
      "params=(1.0,)\n",
      "offset_intercept_epsilon\n",
      "dist='normal'\n",
      "params=(0.0, 1.0)\n",
      "epsilon <class 'pcntoolkit.model.hbr.LinearParameterization'>\n",
      "delta <class 'pcntoolkit.model.hbr.FixedParameterization'>\n",
      "delta\n",
      "dist='normal'\n",
      "params=(0.0, 2.0)\n"
     ]
    },
    {
     "name": "stderr",
     "output_type": "stream",
     "text": [
      "Only 1 samples in chain.\n",
      "Auto-assigning NUTS sampler...\n",
      "Initializing NUTS using jitter+adapt_diag...\n",
      "Sequential sampling (1 chains in 1 job)\n",
      "NUTS: [delta, offset_intercept_epsilon, sigma_intercept_epsilon, mu_intercept_epsilon, slope_epsilon, offset_intercept_sigma, sigma_intercept_sigma, mu_intercept_sigma, slope_sigma, offset_intercept_mu, sigma_intercept_mu, mu_intercept_mu, slope_mu]\n"
     ]
    },
    {
     "data": {
      "text/html": [
       "\n",
       "<style>\n",
       "    /* Turns off some styling */\n",
       "    progress {\n",
       "        /* gets rid of default border in Firefox and Opera. */\n",
       "        border: none;\n",
       "        /* Needs to be in here for Safari polyfill so background images work as expected. */\n",
       "        background-size: auto;\n",
       "    }\n",
       "    .progress-bar-interrupted, .progress-bar-interrupted::-webkit-progress-bar {\n",
       "        background: #F44336;\n",
       "    }\n",
       "</style>\n"
      ],
      "text/plain": [
       "<IPython.core.display.HTML object>"
      ]
     },
     "metadata": {},
     "output_type": "display_data"
    },
    {
     "data": {
      "text/html": [
       "\n",
       "    <div>\n",
       "      <progress value='2' class='' max='2' style='width:300px; height:20px; vertical-align: middle;'></progress>\n",
       "      100.00% [2/2 00:00<00:00 Sampling chain 0, 0 divergences]\n",
       "    </div>\n",
       "    "
      ],
      "text/plain": [
       "<IPython.core.display.HTML object>"
      ]
     },
     "metadata": {},
     "output_type": "display_data"
    },
    {
     "name": "stderr",
     "output_type": "stream",
     "text": [
      "Sampling 1 chain for 1 tune and 1 draw iterations (1 + 1 draws total) took 0 seconds.\n",
      "/home/preclineu/stijdboe/.conda/envs/stijn1/lib/python3.10/site-packages/pymc3-3.9.3-py3.10.egg/pymc3/sampling.py:628: UserWarning: The number of samples is too small to check convergence reliably.\n",
      "  warnings.warn(\n",
      "The chain contains only diverging samples. The model is probably misspecified.\n"
     ]
    },
    {
     "name": "stdout",
     "output_type": "stream",
     "text": [
      "Saving model meta-data...\n",
      "slope_mu <class 'pcntoolkit.model.hbr.FixedParameterization'>\n",
      "slope_mu\n",
      "dist='normal'\n",
      "params=(0.0, 10.0)\n",
      "intercept_mu <class 'pcntoolkit.model.hbr.NonCentralRandomFixedParameterization'>\n",
      "mu_intercept_mu\n",
      "dist='normal'\n",
      "params=(0.0, 10.0)\n",
      "sigma_intercept_mu\n",
      "dist='hcauchy'\n",
      "params=(3.0,)\n",
      "offset_intercept_mu\n",
      "dist='normal'\n",
      "params=(0.0, 1.0)\n",
      "mu <class 'pcntoolkit.model.hbr.LinearParameterization'>\n",
      "slope_sigma <class 'pcntoolkit.model.hbr.FixedParameterization'>\n",
      "slope_sigma\n",
      "dist='normal'\n",
      "params=(0.0, 10.0)\n",
      "intercept_sigma <class 'pcntoolkit.model.hbr.NonCentralRandomFixedParameterization'>\n",
      "mu_intercept_sigma\n",
      "dist='normal'\n",
      "params=(0.0, 1.0)\n",
      "sigma_intercept_sigma\n",
      "dist='hcauchy'\n",
      "params=(1.0,)\n",
      "offset_intercept_sigma\n",
      "dist='normal'\n",
      "params=(0.0, 1.0)\n",
      "sigma <class 'pcntoolkit.model.hbr.LinearParameterization'>\n",
      "slope_epsilon <class 'pcntoolkit.model.hbr.FixedParameterization'>\n",
      "slope_epsilon\n",
      "dist='normal'\n",
      "params=(0.0, 10.0)\n",
      "intercept_epsilon <class 'pcntoolkit.model.hbr.NonCentralRandomFixedParameterization'>\n",
      "mu_intercept_epsilon\n",
      "dist='normal'\n",
      "params=(0.0, 1.0)\n",
      "sigma_intercept_epsilon\n",
      "dist='hcauchy'\n",
      "params=(1.0,)\n",
      "offset_intercept_epsilon\n",
      "dist='normal'\n",
      "params=(0.0, 1.0)\n",
      "epsilon <class 'pcntoolkit.model.hbr.LinearParameterization'>\n",
      "delta <class 'pcntoolkit.model.hbr.FixedParameterization'>\n",
      "delta\n",
      "dist='normal'\n",
      "params=(0.0, 2.0)\n"
     ]
    },
    {
     "data": {
      "text/html": [
       "\n",
       "<style>\n",
       "    /* Turns off some styling */\n",
       "    progress {\n",
       "        /* gets rid of default border in Firefox and Opera. */\n",
       "        border: none;\n",
       "        /* Needs to be in here for Safari polyfill so background images work as expected. */\n",
       "        background-size: auto;\n",
       "    }\n",
       "    .progress-bar-interrupted, .progress-bar-interrupted::-webkit-progress-bar {\n",
       "        background: #F44336;\n",
       "    }\n",
       "</style>\n"
      ],
      "text/plain": [
       "<IPython.core.display.HTML object>"
      ]
     },
     "metadata": {},
     "output_type": "display_data"
    },
    {
     "data": {
      "text/html": [
       "\n",
       "    <div>\n",
       "      <progress value='5001' class='' max='5001' style='width:300px; height:20px; vertical-align: middle;'></progress>\n",
       "      100.00% [5001/5001 10:08<00:00 logp = -5,717.4, ||grad|| = 27.506]\n",
       "    </div>\n",
       "    "
      ],
      "text/plain": [
       "<IPython.core.display.HTML object>"
      ]
     },
     "metadata": {},
     "output_type": "display_data"
    },
    {
     "name": "stderr",
     "output_type": "stream",
     "text": [
      "\n"
     ]
    },
    {
     "name": "stdout",
     "output_type": "stream",
     "text": [
      "\n",
      "Processing data in /project_cephfs/3022017.02/projects/stijdboe/Data/10_folds_sexcov/fold_0/WM-hypointensitiestrain.pkl\n",
      "Estimating model  1 of 1\n",
      "slope_mu <class 'pcntoolkit.model.hbr.FixedParameterization'>\n",
      "slope_mu\n",
      "dist='normal'\n",
      "params=(0.0, 10.0)\n",
      "intercept_mu <class 'pcntoolkit.model.hbr.NonCentralRandomFixedParameterization'>\n",
      "mu_intercept_mu\n",
      "dist='normal'\n",
      "params=(0.0, 10.0)\n",
      "sigma_intercept_mu\n",
      "dist='hcauchy'\n",
      "params=(3.0,)\n",
      "offset_intercept_mu\n",
      "dist='normal'\n",
      "params=(0.0, 1.0)\n",
      "mu <class 'pcntoolkit.model.hbr.LinearParameterization'>\n",
      "slope_sigma <class 'pcntoolkit.model.hbr.FixedParameterization'>\n",
      "slope_sigma\n",
      "dist='normal'\n",
      "params=(0.0, 10.0)\n",
      "intercept_sigma <class 'pcntoolkit.model.hbr.NonCentralRandomFixedParameterization'>\n",
      "mu_intercept_sigma\n",
      "dist='normal'\n",
      "params=(0.0, 1.0)\n",
      "sigma_intercept_sigma\n",
      "dist='hcauchy'\n",
      "params=(1.0,)\n",
      "offset_intercept_sigma\n",
      "dist='normal'\n",
      "params=(0.0, 1.0)\n",
      "sigma <class 'pcntoolkit.model.hbr.LinearParameterization'>\n",
      "slope_epsilon <class 'pcntoolkit.model.hbr.FixedParameterization'>\n",
      "slope_epsilon\n",
      "dist='normal'\n",
      "params=(0.0, 10.0)\n",
      "intercept_epsilon <class 'pcntoolkit.model.hbr.NonCentralRandomFixedParameterization'>\n",
      "mu_intercept_epsilon\n",
      "dist='normal'\n",
      "params=(0.0, 1.0)\n",
      "sigma_intercept_epsilon\n",
      "dist='hcauchy'\n",
      "params=(1.0,)\n",
      "offset_intercept_epsilon\n",
      "dist='normal'\n",
      "params=(0.0, 1.0)\n",
      "epsilon <class 'pcntoolkit.model.hbr.LinearParameterization'>\n",
      "slope_delta <class 'pcntoolkit.model.hbr.FixedParameterization'>\n",
      "slope_delta\n",
      "dist='normal'\n",
      "params=(0.0, 10.0)\n",
      "intercept_delta <class 'pcntoolkit.model.hbr.NonCentralRandomFixedParameterization'>\n",
      "mu_intercept_delta\n",
      "dist='normal'\n",
      "params=(0.0, 1.0)\n",
      "sigma_intercept_delta\n",
      "dist='hcauchy'\n",
      "params=(1.0,)\n",
      "offset_intercept_delta\n",
      "dist='normal'\n",
      "params=(0.0, 1.0)\n",
      "delta <class 'pcntoolkit.model.hbr.LinearParameterization'>\n"
     ]
    },
    {
     "name": "stderr",
     "output_type": "stream",
     "text": [
      "Only 1 samples in chain.\n",
      "Auto-assigning NUTS sampler...\n",
      "Initializing NUTS using jitter+adapt_diag...\n",
      "Sequential sampling (1 chains in 1 job)\n",
      "NUTS: [offset_intercept_delta, sigma_intercept_delta, mu_intercept_delta, slope_delta, offset_intercept_epsilon, sigma_intercept_epsilon, mu_intercept_epsilon, slope_epsilon, offset_intercept_sigma, sigma_intercept_sigma, mu_intercept_sigma, slope_sigma, offset_intercept_mu, sigma_intercept_mu, mu_intercept_mu, slope_mu]\n"
     ]
    },
    {
     "data": {
      "text/html": [
       "\n",
       "<style>\n",
       "    /* Turns off some styling */\n",
       "    progress {\n",
       "        /* gets rid of default border in Firefox and Opera. */\n",
       "        border: none;\n",
       "        /* Needs to be in here for Safari polyfill so background images work as expected. */\n",
       "        background-size: auto;\n",
       "    }\n",
       "    .progress-bar-interrupted, .progress-bar-interrupted::-webkit-progress-bar {\n",
       "        background: #F44336;\n",
       "    }\n",
       "</style>\n"
      ],
      "text/plain": [
       "<IPython.core.display.HTML object>"
      ]
     },
     "metadata": {},
     "output_type": "display_data"
    },
    {
     "data": {
      "text/html": [
       "\n",
       "    <div>\n",
       "      <progress value='2' class='' max='2' style='width:300px; height:20px; vertical-align: middle;'></progress>\n",
       "      100.00% [2/2 00:00<00:00 Sampling chain 0, 0 divergences]\n",
       "    </div>\n",
       "    "
      ],
      "text/plain": [
       "<IPython.core.display.HTML object>"
      ]
     },
     "metadata": {},
     "output_type": "display_data"
    },
    {
     "name": "stderr",
     "output_type": "stream",
     "text": [
      "Sampling 1 chain for 1 tune and 1 draw iterations (1 + 1 draws total) took 1 seconds.\n",
      "/home/preclineu/stijdboe/.conda/envs/stijn1/lib/python3.10/site-packages/pymc3-3.9.3-py3.10.egg/pymc3/sampling.py:628: UserWarning: The number of samples is too small to check convergence reliably.\n",
      "  warnings.warn(\n",
      "The chain contains only diverging samples. The model is probably misspecified.\n"
     ]
    },
    {
     "name": "stdout",
     "output_type": "stream",
     "text": [
      "Saving model meta-data...\n",
      "slope_mu <class 'pcntoolkit.model.hbr.FixedParameterization'>\n",
      "slope_mu\n",
      "dist='normal'\n",
      "params=(0.0, 10.0)\n",
      "intercept_mu <class 'pcntoolkit.model.hbr.NonCentralRandomFixedParameterization'>\n",
      "mu_intercept_mu\n",
      "dist='normal'\n",
      "params=(0.0, 10.0)\n",
      "sigma_intercept_mu\n",
      "dist='hcauchy'\n",
      "params=(3.0,)\n",
      "offset_intercept_mu\n",
      "dist='normal'\n",
      "params=(0.0, 1.0)\n",
      "mu <class 'pcntoolkit.model.hbr.LinearParameterization'>\n",
      "slope_sigma <class 'pcntoolkit.model.hbr.FixedParameterization'>\n",
      "slope_sigma\n",
      "dist='normal'\n",
      "params=(0.0, 10.0)\n",
      "intercept_sigma <class 'pcntoolkit.model.hbr.NonCentralRandomFixedParameterization'>\n",
      "mu_intercept_sigma\n",
      "dist='normal'\n",
      "params=(0.0, 1.0)\n",
      "sigma_intercept_sigma\n",
      "dist='hcauchy'\n",
      "params=(1.0,)\n",
      "offset_intercept_sigma\n",
      "dist='normal'\n",
      "params=(0.0, 1.0)\n",
      "sigma <class 'pcntoolkit.model.hbr.LinearParameterization'>\n",
      "slope_epsilon <class 'pcntoolkit.model.hbr.FixedParameterization'>\n",
      "slope_epsilon\n",
      "dist='normal'\n",
      "params=(0.0, 10.0)\n",
      "intercept_epsilon <class 'pcntoolkit.model.hbr.NonCentralRandomFixedParameterization'>\n",
      "mu_intercept_epsilon\n",
      "dist='normal'\n",
      "params=(0.0, 1.0)\n",
      "sigma_intercept_epsilon\n",
      "dist='hcauchy'\n",
      "params=(1.0,)\n",
      "offset_intercept_epsilon\n",
      "dist='normal'\n",
      "params=(0.0, 1.0)\n",
      "epsilon <class 'pcntoolkit.model.hbr.LinearParameterization'>\n",
      "slope_delta <class 'pcntoolkit.model.hbr.FixedParameterization'>\n",
      "slope_delta\n",
      "dist='normal'\n",
      "params=(0.0, 10.0)\n",
      "intercept_delta <class 'pcntoolkit.model.hbr.NonCentralRandomFixedParameterization'>\n",
      "mu_intercept_delta\n",
      "dist='normal'\n",
      "params=(0.0, 1.0)\n",
      "sigma_intercept_delta\n",
      "dist='hcauchy'\n",
      "params=(1.0,)\n",
      "offset_intercept_delta\n",
      "dist='normal'\n",
      "params=(0.0, 1.0)\n",
      "delta <class 'pcntoolkit.model.hbr.LinearParameterization'>\n"
     ]
    },
    {
     "data": {
      "text/html": [
       "\n",
       "<style>\n",
       "    /* Turns off some styling */\n",
       "    progress {\n",
       "        /* gets rid of default border in Firefox and Opera. */\n",
       "        border: none;\n",
       "        /* Needs to be in here for Safari polyfill so background images work as expected. */\n",
       "        background-size: auto;\n",
       "    }\n",
       "    .progress-bar-interrupted, .progress-bar-interrupted::-webkit-progress-bar {\n",
       "        background: #F44336;\n",
       "    }\n",
       "</style>\n"
      ],
      "text/plain": [
       "<IPython.core.display.HTML object>"
      ]
     },
     "metadata": {},
     "output_type": "display_data"
    },
    {
     "data": {
      "text/html": [
       "\n",
       "    <div>\n",
       "      <progress value='5001' class='' max='5001' style='width:300px; height:20px; vertical-align: middle;'></progress>\n",
       "      100.00% [5001/5001 16:16<00:00 logp = -5,493.7, ||grad|| = 127.49]\n",
       "    </div>\n",
       "    "
      ],
      "text/plain": [
       "<IPython.core.display.HTML object>"
      ]
     },
     "metadata": {},
     "output_type": "display_data"
    },
    {
     "name": "stderr",
     "output_type": "stream",
     "text": [
      "\n"
     ]
    },
    {
     "name": "stdout",
     "output_type": "stream",
     "text": [
      "\n"
     ]
    }
   ],
   "source": [
    "# Make a list of features\n",
    "features = ['Right-Cerebellum-White-Matter',\n",
    "                'EstimatedTotalIntraCranialVol',\n",
    "                'Right-Lateral-Ventricle',\n",
    "                'WM-hypointensities',\n",
    "                'rh_S_interm_prim-Jensen_thickness', \n",
    "                'Brain-Stem']\n",
    "selectedfeatures = features[2:4]\n",
    "\n",
    "# Load common data\n",
    "with open(testcovfile_path,'rb') as file:\n",
    "    testX = np.array(pickle.load(file))\n",
    "with open(covfile,'rb') as file:\n",
    "    X = np.array(pickle.load(file))\n",
    "with open(testbefile,'rb') as file:\n",
    "    testZ = np.array(pickle.load(file),dtype=int)\n",
    "with open(befile,'rb') as file:\n",
    "    Z = np.array(pickle.load(file),dtype=int)\n",
    "\n",
    "inscaler_type='standardize'\n",
    "outscaler_type='standardize'\n",
    "\n",
    "inscaler = ptk.util.utils.scaler(inscaler_type)\n",
    "X_train_standardized = inscaler.fit_transform(X)\n",
    "X_test_standardized = inscaler.transform(testX)\n",
    "\n",
    "for feature in selectedfeatures:\n",
    "        \n",
    "    # For each feature\n",
    "    # Extract and store the data in a fitting location\n",
    "    with open(respfile,'rb') as file:\n",
    "        Y = pickle.load(file)[feature]\n",
    "    with open(testrespfile_path,'rb') as file:\n",
    "        testY = pickle.load(file)[feature]\n",
    "    trainselect = os.path.join(datadir,f'{feature}train.pkl')\n",
    "    with open(trainselect,'wb') as file:\n",
    "        pickle.dump(Y, file)\n",
    "    testselect = os.path.join(datadir,f'{feature}test.pkl')\n",
    "    with open(testselect,'wb') as file:\n",
    "        pickle.dump(testY,file)\n",
    "    Y = np.array(Y)\n",
    "    testY = np.array(testY)\n",
    "    outscaler = ptk.util.utils.scaler(outscaler_type)\n",
    "    Y_train_standardized = np.squeeze(outscaler.fit_transform(Y))\n",
    "    Y_test_standardized = np.squeeze(outscaler.transform(testY))\n",
    "\n",
    "    # Make a list of configs\n",
    "    epsilon_confs = ['False', 'True', 'True']\n",
    "    delta_confs = ['False', 'False', 'True']\n",
    "    \n",
    "#     epsilon_confs = ['True']\n",
    "#     delta_confs = ['True']\n",
    "    # For each config\n",
    "    for c in range(3):\n",
    "        outputsuffix = f'{feature}_SHASHb_{epsilon_confs[c]}_{delta_confs[c]}_offsets'\n",
    "        nm = ptk.normative.fit(covfile=covfile,\n",
    "                               respfile=trainselect,\n",
    "                               trbefile= befile,\n",
    "                               log_path=log_dir,\n",
    "                               saveoutput=saveoutput,\n",
    "                               output_path=output_path, \n",
    "                               savemodel=savemodel,\n",
    "                               binary=binary,\n",
    "                               outputsuffix=outputsuffix,\n",
    "                               alg=alg,\n",
    "                               sampler=sampler,\n",
    "                               n_samples=n_mcmc_samples,\n",
    "                               n_tuning=n_tuning_samples,\n",
    "                               n_chains=n_chains,\n",
    "                               cores=n_cores,\n",
    "                               target_accept=target_accept,\n",
    "                               inscaler=inscaler_type,\n",
    "                               outscaler=outscaler_type,\n",
    "                               likelihood=likelihood,\n",
    "                               model_type=model_type,\n",
    "                               linear_mu=linear_mu,\n",
    "                               random_intercept_mu=random_intercept_mu,\n",
    "                               centered_intercept_mu=centered_intercept_mu,\n",
    "                               linear_sigma=linear_sigma,\n",
    "                               random_intercept_sigma=random_intercept_sigma,\n",
    "                               linear_epsilon=epsilon_confs[c],\n",
    "                               random_intercept_epsilon=random_intercept_epsilon,\n",
    "                               linear_delta = delta_confs[c],\n",
    "                               random_intercept_delta=random_intercept_delta\n",
    "                         )\n",
    "        MAP = nm.hbr.find_map(X_train_standardized, Y_train_standardized, Z)\n",
    "        with open(os.path.join(processing_dir, f'MAP_{outputsuffix}.pkl'),'wb') as file:\n",
    "            pickle.dump(MAP, file)\n",
    "        # Find and store the MAP\n"
   ]
  },
  {
   "cell_type": "code",
   "execution_count": null,
   "id": "e64b78d1-1a80-4010-b207-cb2f4e2654d9",
   "metadata": {},
   "outputs": [],
   "source": [
    "with open(os.path.join(processing_dir, f'Models/NM_0_0_lifespanRight-Lateral-VentricleSHASHbTrueTrue.pkl'),'rb') as file:\n",
    "    model = pickle.load(file)"
   ]
  }
 ],
 "metadata": {
  "kernelspec": {
   "display_name": "stijn1",
   "language": "python",
   "name": "stijn1"
  },
  "language_info": {
   "codemirror_mode": {
    "name": "ipython",
    "version": 3
   },
   "file_extension": ".py",
   "mimetype": "text/x-python",
   "name": "python",
   "nbconvert_exporter": "python",
   "pygments_lexer": "ipython3",
   "version": "3.10.4"
  }
 },
 "nbformat": 4,
 "nbformat_minor": 5
}
